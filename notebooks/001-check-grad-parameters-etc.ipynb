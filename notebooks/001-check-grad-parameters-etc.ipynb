{
 "cells": [
  {
   "cell_type": "code",
   "execution_count": 3,
   "metadata": {},
   "outputs": [],
   "source": [
    "import mlflow\n",
    "import torch\n",
    "\n",
    "name = \"track-gradients\"\n",
    "mlflow.set_tracking_uri(\"/Users/tanguanyu/UCC-DRN-Pytorch/mnist/mlruns\")\n",
    "experiment_id = \"511211072178994368\"\n",
    "runs = mlflow.search_runs(experiment_names=[\"track-gradients\"], output_format=\"list\")"
   ]
  },
  {
   "cell_type": "code",
   "execution_count": 7,
   "metadata": {},
   "outputs": [],
   "source": [
    "run = runs[0].to_dictionary()"
   ]
  },
  {
   "cell_type": "code",
   "execution_count": 3,
   "metadata": {},
   "outputs": [
    {
     "name": "stderr",
     "output_type": "stream",
     "text": [
      "/var/folders/s_/yqk13gjs6b786w1dzl2sv9580000gn/T/ipykernel_935/2456577292.py:4: FutureWarning: You are using `torch.load` with `weights_only=False` (the current default value), which uses the default pickle module implicitly. It is possible to construct malicious pickle data which will execute arbitrary code during unpickling (See https://github.com/pytorch/pytorch/blob/main/SECURITY.md#untrusted-models for more details). In a future release, the default value for `weights_only` will be flipped to `True`. This limits the functions that could be executed during unpickling. Arbitrary objects will no longer be allowed to be loaded via this mode unless they are explicitly allowlisted by the user via `torch.serialization.add_safe_globals`. We recommend you start setting `weights_only=True` for any use case where you don't have full control of the loaded file. Please open an issue on GitHub for any issues related to this experimental feature.\n",
      "  model = torch.load(\"/Users/tanguanyu/UCC-DRN-Pytorch/mnist/mlruns/511211072178994368/a7bb8db4ddb84ca7b1a7cc593971ed02/artifacts/best_model.pth/data/model.pth\")\n"
     ]
    }
   ],
   "source": [
    "\n",
    "import torch\n",
    "import sys\n",
    "sys.path.append(\"../mnist\")\n",
    "model = torch.load(\"/Users/tanguanyu/UCC-DRN-Pytorch/mnist/mlruns/511211072178994368/a7bb8db4ddb84ca7b1a7cc593971ed02/artifacts/best_model.pth/data/model.pth\")"
   ]
  },
  {
   "cell_type": "code",
   "execution_count": 4,
   "metadata": {},
   "outputs": [
    {
     "data": {
      "text/plain": [
       "DRNOnlyModel(\n",
       "  (drn): Sequential(\n",
       "    (0): DRN(in_features=10, in_bins=11, out_features=10, out_bins=100)\n",
       "    (1): DRN(in_features=10, in_bins=100, out_features=1, out_bins=4)\n",
       "    (2): Flatten(start_dim=1, end_dim=-1)\n",
       "  )\n",
       ")"
      ]
     },
     "execution_count": 4,
     "metadata": {},
     "output_type": "execute_result"
    }
   ],
   "source": [
    "model"
   ]
  },
  {
   "cell_type": "code",
   "execution_count": 6,
   "metadata": {},
   "outputs": [
    {
     "name": "stdout",
     "output_type": "stream",
     "text": [
      "Sequential(\n",
      "  (0): DRN(in_features=10, in_bins=11, out_features=10, out_bins=100)\n",
      "  (1): DRN(in_features=10, in_bins=100, out_features=1, out_bins=4)\n",
      "  (2): Flatten(start_dim=1, end_dim=-1)\n",
      ")\n"
     ]
    }
   ],
   "source": [
    "print(model.drn)"
   ]
  },
  {
   "cell_type": "code",
   "execution_count": 8,
   "metadata": {},
   "outputs": [
    {
     "data": {
      "text/plain": [
       "'/Users/tanguanyu/UCC-DRN-Pytorch/notebooks'"
      ]
     },
     "execution_count": 8,
     "metadata": {},
     "output_type": "execute_result"
    }
   ],
   "source": [
    "import os\n",
    "os.getcwd()"
   ]
  },
  {
   "cell_type": "code",
   "execution_count": null,
   "metadata": {},
   "outputs": [
    {
     "name": "stderr",
     "output_type": "stream",
     "text": [
      "/var/folders/s_/yqk13gjs6b786w1dzl2sv9580000gn/T/ipykernel_935/529976608.py:1: FutureWarning: You are using `torch.load` with `weights_only=False` (the current default value), which uses the default pickle module implicitly. It is possible to construct malicious pickle data which will execute arbitrary code during unpickling (See https://github.com/pytorch/pytorch/blob/main/SECURITY.md#untrusted-models for more details). In a future release, the default value for `weights_only` will be flipped to `True`. This limits the functions that could be executed during unpickling. Arbitrary objects will no longer be allowed to be loaded via this mode unless they are explicitly allowlisted by the user via `torch.serialization.add_safe_globals`. We recommend you start setting `weights_only=True` for any use case where you don't have full control of the loaded file. Please open an issue on GitHub for any issues related to this experimental feature.\n",
      "  loaded_model = torch.load(\"../mnist/drn_only.pth\")\n"
     ]
    }
   ],
   "source": []
  },
  {
   "cell_type": "code",
   "execution_count": 14,
   "metadata": {},
   "outputs": [],
   "source": [
    "from mnist.model import DRNOnlyModel\n",
    "from hydra import compose, initialize"
   ]
  },
  {
   "cell_type": "code",
   "execution_count": 16,
   "metadata": {},
   "outputs": [],
   "source": [
    "initial_params = {\n",
    "        \"hidden_q\": 10,\n",
    "        \"num_bins\": 11,\n",
    "        \"lr\": 0.0498,\n",
    "        \"num_layers\": 1,\n",
    "        \"num_nodes\": 10\n",
    "    }\n",
    "\n",
    "defaults = {\n",
    "                    \"num_bins\": {\n",
    "                        \"type\": \"int\",\n",
    "                        \"range\": [5,100],\n",
    "                        \"aliases\": [\n",
    "                            \"model.drn.num_bins\",\n",
    "                            \"args.num_bins\",\n",
    "                            \"model.kde_model.num_bins\"\n",
    "                        ]\n",
    "                    },\n",
    "                    \"lr\": {\n",
    "                        \"type\": \"float\",\n",
    "                        \"range\": [0.0001, 0.1],\n",
    "                        \"aliases\": [\"args.learning_rate\"]\n",
    "                    },\n",
    "                    \"hidden_q\": {\n",
    "                        \"type\": \"int\",\n",
    "                        \"range\": [4, 100],\n",
    "                        \"aliases\": [\"model.drn.hidden_q\"]\n",
    "                    },\n",
    "                    \"num_layers\": {\n",
    "                        \"type\": \"int\",\n",
    "                        \"range\": [1, 10],\n",
    "                        \"aliases\": [\"model.drn.num_layers\"]\n",
    "                    },\n",
    "                    \"num_nodes\": {\n",
    "                        \"type\": \"int\",\n",
    "                        \"range\": [1, 10],\n",
    "                        \"aliases\": [\"model.drn.num_nodes\"]\n",
    "                    }\n",
    "                }\n",
    "                \n",
    "with initialize(version_base=None, config_path=\"../configs\"):\n",
    "    cfg = compose(config_name=\"train_drn\")\n",
    "for key, value in defaults.items():\n",
    "    v = initial_params[key]\n",
    "    for a in value[\"aliases\"]:\n",
    "        exec(f\"cfg.{a} = {v}\")\n",
    "model = DRNOnlyModel(cfg)"
   ]
  },
  {
   "cell_type": "code",
   "execution_count": 17,
   "metadata": {},
   "outputs": [
    {
     "data": {
      "text/plain": [
       "Sequential(\n",
       "  (0): DRN(in_features=10, in_bins=11, out_features=10, out_bins=10)\n",
       "  (1): DRN(in_features=10, in_bins=10, out_features=1, out_bins=4)\n",
       "  (2): Flatten(start_dim=1, end_dim=-1)\n",
       ")"
      ]
     },
     "execution_count": 17,
     "metadata": {},
     "output_type": "execute_result"
    }
   ],
   "source": [
    "model.drn"
   ]
  },
  {
   "cell_type": "code",
   "execution_count": 32,
   "metadata": {},
   "outputs": [
    {
     "data": {
      "text/plain": [
       "DRNOnlyModel(\n",
       "  (drn): Sequential(\n",
       "    (0): DRN(in_features=10, in_bins=11, out_features=10, out_bins=10)\n",
       "    (1): DRN(in_features=10, in_bins=10, out_features=1, out_bins=4)\n",
       "    (2): Flatten(start_dim=1, end_dim=-1)\n",
       "  )\n",
       ")"
      ]
     },
     "execution_count": 32,
     "metadata": {},
     "output_type": "execute_result"
    }
   ],
   "source": [
    "model"
   ]
  },
  {
   "cell_type": "code",
   "execution_count": 3,
   "metadata": {},
   "outputs": [],
   "source": [
    "import os\n",
    "\n",
    "os.chdir(\"../mnist\")"
   ]
  },
  {
   "cell_type": "code",
   "execution_count": 4,
   "metadata": {},
   "outputs": [
    {
     "data": {
      "text/plain": [
       "'/Users/tanguanyu/UCC-DRN-Pytorch/mnist'"
      ]
     },
     "execution_count": 4,
     "metadata": {},
     "output_type": "execute_result"
    }
   ],
   "source": [
    "os.getcwd()"
   ]
  },
  {
   "cell_type": "code",
   "execution_count": 12,
   "metadata": {},
   "outputs": [],
   "source": [
    "from collections import defaultdict\n",
    "\n",
    "import mlflow\n",
    "import torch\n",
    "import numpy as np\n",
    "\n",
    "experiment_name = \"ucc_drn_goated_init\"\n",
    "mlflow.set_tracking_uri(\"/Users/tanguanyu/UCC-DRN-Pytorch/mnist/mlruns\")\n",
    "runs = mlflow.search_runs(experiment_names=[experiment_name], output_format=\"list\")\n",
    "experiment = mlflow.set_experiment(experiment_name=experiment_name)\n",
    "experiment_id = experiment.experiment_id\n",
    "run_ids = [\n",
    "    run.info.run_id for run in runs\n",
    "]\n",
    "for id in run_ids:\n",
    "    prefix = f\"mlruns/{experiment_id}/{id}\"\n",
    "    try:\n",
    "        with open(f\"{prefix}/metrics/eval_ucc_acc\") as file:\n",
    "            eval_ucc = file.readlines()\n",
    "\n",
    "        init_model = torch.load(f\"{prefix}/artifacts/init_model/data/model.pth\", weights_only=False)\n",
    "        trained_model = torch.load(f\"{prefix}/artifacts/best_model/data/model.pth\", weights_only=False)\n",
    "        drn_model = init_model.ucc_classifier\n",
    "        print(id)\n",
    "        print(\"\".join(eval_ucc))\n",
    "        param_dict = defaultdict(list)\n",
    "        n_list = [\"W\", \"bq\", \"ba\", \"lama\", \"lamq\"]\n",
    "        for name, param in drn_model.named_parameters():\n",
    "            for n in n_list:\n",
    "                if n in name:\n",
    "                    param_dict[f\"{n}_max\"].append(param.max().detach().cpu().numpy())\n",
    "                    param_dict[f\"{n}_min\"].append(param.min().detach().cpu().numpy())\n",
    "        for p, value in param_dict.items():\n",
    "            print(f\"{p}: {np.mean(value)}\")\n",
    "    except:\n",
    "        continue"
   ]
  },
  {
   "cell_type": "code",
   "execution_count": null,
   "metadata": {},
   "outputs": [
    {
     "data": {
      "text/plain": [
       "[]"
      ]
     },
     "execution_count": 14,
     "metadata": {},
     "output_type": "execute_result"
    }
   ],
   "source": [
    "run_id"
   ]
  },
  {
   "cell_type": "code",
   "execution_count": null,
   "metadata": {},
   "outputs": [],
   "source": []
  }
 ],
 "metadata": {
  "kernelspec": {
   "display_name": ".venv (3.12.2)",
   "language": "python",
   "name": "python3"
  },
  "language_info": {
   "codemirror_mode": {
    "name": "ipython",
    "version": 3
   },
   "file_extension": ".py",
   "mimetype": "text/x-python",
   "name": "python",
   "nbconvert_exporter": "python",
   "pygments_lexer": "ipython3",
   "version": "3.12.2"
  }
 },
 "nbformat": 4,
 "nbformat_minor": 2
}
