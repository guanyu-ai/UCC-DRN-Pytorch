{
 "cells": [
  {
   "cell_type": "code",
   "execution_count": 12,
   "id": "f986df91",
   "metadata": {},
   "outputs": [],
   "source": [
    "import mlflow\n",
    "import torch\n",
    "\n",
    "name = \"ucc-drn-goated-init\"\n",
    "mlflow.set_tracking_uri(\"/Users/tanguanyu/UCC-DRN-Pytorch/mnist/mlruns\")\n",
    "# experiment_id = \"511211072178994368\"\n",
    "runs = mlflow.search_runs(experiment_names=[name,], output_format=\"list\")\n",
    "experiment = mlflow.set_experiment(experiment_name=name)\n",
    "\n"
   ]
  },
  {
   "cell_type": "code",
   "execution_count": 14,
   "id": "ea30ce2f",
   "metadata": {},
   "outputs": [
    {
     "data": {
      "text/plain": [
       "'189454739472380536'"
      ]
     },
     "execution_count": 14,
     "metadata": {},
     "output_type": "execute_result"
    }
   ],
   "source": [
    "experiment.experiment_id"
   ]
  },
  {
   "cell_type": "code",
   "execution_count": 9,
   "id": "8a2fe20a",
   "metadata": {},
   "outputs": [
    {
     "name": "stdout",
     "output_type": "stream",
     "text": [
      "/Users/tanguanyu/UCC-DRN-Pytorch/mnist/mlruns\n"
     ]
    }
   ],
   "source": [
    "print(mlflow.get_tracking_uri())"
   ]
  },
  {
   "cell_type": "code",
   "execution_count": null,
   "id": "fb004131",
   "metadata": {},
   "outputs": [
    {
     "name": "stderr",
     "output_type": "stream",
     "text": [
      "2025/07/13 03:56:41 INFO mlflow.tracking.fluent: Experiment with name 'illustrious-jay-799' does not exist. Creating a new experiment.\n"
     ]
    },
    {
     "name": "stdout",
     "output_type": "stream",
     "text": [
      "[Errno 2] No such file or directory: 'mlruns/115621702645841168/98d0cca708cc4f5ba40314aa134af4cd/metrics/eval_ucc_acc'\n",
      "[Errno 2] No such file or directory: 'mlruns/115621702645841168/48ebf24973744164844891aa7584ff54/metrics/eval_ucc_acc'\n",
      "[Errno 2] No such file or directory: 'mlruns/115621702645841168/9b11dfed39634b7a8d189a7a7d48a01c/metrics/eval_ucc_acc'\n",
      "[Errno 2] No such file or directory: 'mlruns/115621702645841168/12b7ddc6958a41abac57c19cd880ddbc/metrics/eval_ucc_acc'\n",
      "[Errno 2] No such file or directory: 'mlruns/115621702645841168/bd38be0bb6e44ecd847213fc461126f5/metrics/eval_ucc_acc'\n",
      "[Errno 2] No such file or directory: 'mlruns/115621702645841168/2d0bd46d7fce440cab84ebbad3112bd8/metrics/eval_ucc_acc'\n",
      "[Errno 2] No such file or directory: 'mlruns/115621702645841168/177c0e09c36442bc8cd9af4ab0e58660/metrics/eval_ucc_acc'\n",
      "[Errno 2] No such file or directory: 'mlruns/115621702645841168/c7c6e956dc2c4b93b6079c9311bbbe79/metrics/eval_ucc_acc'\n",
      "[Errno 2] No such file or directory: 'mlruns/115621702645841168/f47d86fa34ab4526b75c4d8525baa366/metrics/eval_ucc_acc'\n",
      "[Errno 2] No such file or directory: 'mlruns/115621702645841168/b86f7895c11747519d5ad7fb9ab54323/metrics/eval_ucc_acc'\n",
      "[Errno 2] No such file or directory: 'mlruns/115621702645841168/ecc56be9eda64587a638fa9314c8d6e8/metrics/eval_ucc_acc'\n",
      "[Errno 2] No such file or directory: 'mlruns/115621702645841168/b53d1f1d895645899116e3a6832786e9/metrics/eval_ucc_acc'\n",
      "[Errno 2] No such file or directory: 'mlruns/115621702645841168/439ed7c180e645bab036bb4c00bcafcd/metrics/eval_ucc_acc'\n",
      "[Errno 2] No such file or directory: 'mlruns/115621702645841168/4896b77191694d3585b65ea8a9a28df4/metrics/eval_ucc_acc'\n",
      "[Errno 2] No such file or directory: 'mlruns/115621702645841168/4d2f6b34d5f14599a6569c6f43b44037/metrics/eval_ucc_acc'\n",
      "[Errno 2] No such file or directory: 'mlruns/115621702645841168/db4adb552769484283b2c1fac28c7035/metrics/eval_ucc_acc'\n",
      "[Errno 2] No such file or directory: 'mlruns/115621702645841168/7de65d09a7f345e39c6c38cfae914225/metrics/eval_ucc_acc'\n",
      "[Errno 2] No such file or directory: 'mlruns/115621702645841168/560d99b416a9433689875c140449c807/metrics/eval_ucc_acc'\n",
      "[Errno 2] No such file or directory: 'mlruns/115621702645841168/b83683db887747e3aa416a74001f355a/metrics/eval_ucc_acc'\n",
      "[Errno 2] No such file or directory: 'mlruns/115621702645841168/0850d68a287c43eb94fb9b4a92e5f27f/metrics/eval_ucc_acc'\n",
      "[Errno 2] No such file or directory: 'mlruns/115621702645841168/4af9ea69d0d842628e7b5a19b53edfb0/metrics/eval_ucc_acc'\n",
      "[Errno 2] No such file or directory: 'mlruns/115621702645841168/79f73b9140ff4a0ea5b8b6a668cc85d1/metrics/eval_ucc_acc'\n",
      "[Errno 2] No such file or directory: 'mlruns/115621702645841168/b76e52db991c4b90a51eb9b8da9fc6ab/metrics/eval_ucc_acc'\n",
      "[Errno 2] No such file or directory: 'mlruns/115621702645841168/8ec569f2177e4f658ac227fc034a5ca5/metrics/eval_ucc_acc'\n"
     ]
    }
   ],
   "source": [
    "experiment_id = experiment.experiment_id\n",
    "run_ids = [\n",
    "    run.info.run_id for run in runs\n",
    "]\n",
    "run_names = [\n",
    "    run.info.run_name for run in runs\n",
    "]\n",
    "for id, name in zip(run_ids, run_names):\n",
    "    prefix = f\"mlruns/{experiment_id}/{id}\"\n",
    "    try:\n",
    "        with open(f\"{prefix}/metrics/eval_ucc_acc\") as file:\n",
    "            eval_ucc = file.readlines()\n",
    "        final_eval_acc = float(eval_ucc[-1].split(\" \")[1])\n",
    "        if final_eval_acc>0.9:\n",
    "            \n",
    "\n",
    "            # init_model = torch.load(f\"{prefix}/artifacts/init_model/data/model.pth\", weights_only=False)\n",
    "            trained_model = torch.load(f\"{prefix}/artifacts/best_model/data/model.pth\", weights_only=False)\n",
    "            drn_model = trained_model.ucc_classifier\n",
    "            print(id)\n",
    "            print(name)\n",
    "            print(final_eval_acc)\n",
    "            # print(\"\".join(eval_ucc))\n",
    "            param_dict = defaultdict(list)\n",
    "            n_list = [\"W\", \"bq\", \"ba\", \"lama\", \"lamq\"]\n",
    "            for name, param in drn_model.named_parameters():\n",
    "                for n in n_list:\n",
    "                    if n in name:\n",
    "                        param_dict[f\"{n}_max\"].append(param.max().detach().cpu().numpy())\n",
    "                        param_dict[f\"{n}_min\"].append(param.min().detach().cpu().numpy())\n",
    "                        param_dict[f\"{n}_mean\"].append(param.mean().detach().cpu().numpy())\n",
    "            for p, value in param_dict.items():\n",
    "                print(f\"{p}: {np.mean(value)}\")\n",
    "    except Exception as e:\n",
    "        print(e)"
   ]
  },
  {
   "cell_type": "code",
   "execution_count": 23,
   "id": "c34b7820",
   "metadata": {},
   "outputs": [],
   "source": [
    "import sys\n",
    "sys.path.append(\"..\")\n",
    "from mnist import model"
   ]
  },
  {
   "cell_type": "code",
   "execution_count": null,
   "id": "e1687c6c",
   "metadata": {},
   "outputs": [
    {
     "ename": "ModuleNotFoundError",
     "evalue": "No module named 'model'",
     "output_type": "error",
     "traceback": [
      "\u001b[0;31m---------------------------------------------------------------------------\u001b[0m",
      "\u001b[0;31mModuleNotFoundError\u001b[0m                       Traceback (most recent call last)",
      "Cell \u001b[0;32mIn[24], line 4\u001b[0m\n\u001b[1;32m      1\u001b[0m run_id \u001b[38;5;241m=\u001b[39m \u001b[38;5;124m\"\u001b[39m\u001b[38;5;124m98d0cca708cc4f5ba40314aa134af4cd\u001b[39m\u001b[38;5;124m\"\u001b[39m\n\u001b[1;32m      2\u001b[0m prefix \u001b[38;5;241m=\u001b[39m \u001b[38;5;124mf\u001b[39m\u001b[38;5;124m\"\u001b[39m\u001b[38;5;124m/Users/tanguanyu/UCC-DRN-Pytorch/mnist/mlruns/\u001b[39m\u001b[38;5;132;01m{\u001b[39;00mexperiment\u001b[38;5;241m.\u001b[39mexperiment_id\u001b[38;5;132;01m}\u001b[39;00m\u001b[38;5;124m/\u001b[39m\u001b[38;5;132;01m{\u001b[39;00mrun_id\u001b[38;5;132;01m}\u001b[39;00m\u001b[38;5;124m\"\u001b[39m\n\u001b[0;32m----> 4\u001b[0m trained_model \u001b[38;5;241m=\u001b[39m \u001b[43mtorch\u001b[49m\u001b[38;5;241;43m.\u001b[39;49m\u001b[43mload\u001b[49m\u001b[43m(\u001b[49m\u001b[38;5;124;43mf\u001b[39;49m\u001b[38;5;124;43m\"\u001b[39;49m\u001b[38;5;132;43;01m{\u001b[39;49;00m\u001b[43mprefix\u001b[49m\u001b[38;5;132;43;01m}\u001b[39;49;00m\u001b[38;5;124;43m/artifacts/best_model/data/model.pth\u001b[39;49m\u001b[38;5;124;43m\"\u001b[39;49m\u001b[43m,\u001b[49m\u001b[43m \u001b[49m\u001b[43mweights_only\u001b[49m\u001b[38;5;241;43m=\u001b[39;49m\u001b[38;5;28;43;01mFalse\u001b[39;49;00m\u001b[43m)\u001b[49m\n",
      "File \u001b[0;32m~/UCC-DRN-Pytorch/.venv/lib/python3.12/site-packages/torch/serialization.py:1360\u001b[0m, in \u001b[0;36mload\u001b[0;34m(f, map_location, pickle_module, weights_only, mmap, **pickle_load_args)\u001b[0m\n\u001b[1;32m   1358\u001b[0m             \u001b[38;5;28;01mexcept\u001b[39;00m pickle\u001b[38;5;241m.\u001b[39mUnpicklingError \u001b[38;5;28;01mas\u001b[39;00m e:\n\u001b[1;32m   1359\u001b[0m                 \u001b[38;5;28;01mraise\u001b[39;00m pickle\u001b[38;5;241m.\u001b[39mUnpicklingError(_get_wo_message(\u001b[38;5;28mstr\u001b[39m(e))) \u001b[38;5;28;01mfrom\u001b[39;00m \u001b[38;5;28;01mNone\u001b[39;00m\n\u001b[0;32m-> 1360\u001b[0m         \u001b[38;5;28;01mreturn\u001b[39;00m \u001b[43m_load\u001b[49m\u001b[43m(\u001b[49m\n\u001b[1;32m   1361\u001b[0m \u001b[43m            \u001b[49m\u001b[43mopened_zipfile\u001b[49m\u001b[43m,\u001b[49m\n\u001b[1;32m   1362\u001b[0m \u001b[43m            \u001b[49m\u001b[43mmap_location\u001b[49m\u001b[43m,\u001b[49m\n\u001b[1;32m   1363\u001b[0m \u001b[43m            \u001b[49m\u001b[43mpickle_module\u001b[49m\u001b[43m,\u001b[49m\n\u001b[1;32m   1364\u001b[0m \u001b[43m            \u001b[49m\u001b[43moverall_storage\u001b[49m\u001b[38;5;241;43m=\u001b[39;49m\u001b[43moverall_storage\u001b[49m\u001b[43m,\u001b[49m\n\u001b[1;32m   1365\u001b[0m \u001b[43m            \u001b[49m\u001b[38;5;241;43m*\u001b[39;49m\u001b[38;5;241;43m*\u001b[39;49m\u001b[43mpickle_load_args\u001b[49m\u001b[43m,\u001b[49m\n\u001b[1;32m   1366\u001b[0m \u001b[43m        \u001b[49m\u001b[43m)\u001b[49m\n\u001b[1;32m   1367\u001b[0m \u001b[38;5;28;01mif\u001b[39;00m mmap:\n\u001b[1;32m   1368\u001b[0m     f_name \u001b[38;5;241m=\u001b[39m \u001b[38;5;124m\"\u001b[39m\u001b[38;5;124m\"\u001b[39m \u001b[38;5;28;01mif\u001b[39;00m \u001b[38;5;129;01mnot\u001b[39;00m \u001b[38;5;28misinstance\u001b[39m(f, \u001b[38;5;28mstr\u001b[39m) \u001b[38;5;28;01melse\u001b[39;00m \u001b[38;5;124mf\u001b[39m\u001b[38;5;124m\"\u001b[39m\u001b[38;5;132;01m{\u001b[39;00mf\u001b[38;5;132;01m}\u001b[39;00m\u001b[38;5;124m, \u001b[39m\u001b[38;5;124m\"\u001b[39m\n",
      "File \u001b[0;32m~/UCC-DRN-Pytorch/.venv/lib/python3.12/site-packages/torch/serialization.py:1848\u001b[0m, in \u001b[0;36m_load\u001b[0;34m(zip_file, map_location, pickle_module, pickle_file, overall_storage, **pickle_load_args)\u001b[0m\n\u001b[1;32m   1846\u001b[0m \u001b[38;5;28;01mglobal\u001b[39;00m _serialization_tls\n\u001b[1;32m   1847\u001b[0m _serialization_tls\u001b[38;5;241m.\u001b[39mmap_location \u001b[38;5;241m=\u001b[39m map_location\n\u001b[0;32m-> 1848\u001b[0m result \u001b[38;5;241m=\u001b[39m \u001b[43munpickler\u001b[49m\u001b[38;5;241;43m.\u001b[39;49m\u001b[43mload\u001b[49m\u001b[43m(\u001b[49m\u001b[43m)\u001b[49m\n\u001b[1;32m   1849\u001b[0m _serialization_tls\u001b[38;5;241m.\u001b[39mmap_location \u001b[38;5;241m=\u001b[39m \u001b[38;5;28;01mNone\u001b[39;00m\n\u001b[1;32m   1851\u001b[0m torch\u001b[38;5;241m.\u001b[39m_utils\u001b[38;5;241m.\u001b[39m_validate_loaded_sparse_tensors()\n",
      "File \u001b[0;32m~/UCC-DRN-Pytorch/.venv/lib/python3.12/site-packages/torch/serialization.py:1837\u001b[0m, in \u001b[0;36m_load.<locals>.UnpicklerWrapper.find_class\u001b[0;34m(self, mod_name, name)\u001b[0m\n\u001b[1;32m   1835\u001b[0m         \u001b[38;5;28;01mpass\u001b[39;00m\n\u001b[1;32m   1836\u001b[0m mod_name \u001b[38;5;241m=\u001b[39m load_module_mapping\u001b[38;5;241m.\u001b[39mget(mod_name, mod_name)\n\u001b[0;32m-> 1837\u001b[0m \u001b[38;5;28;01mreturn\u001b[39;00m \u001b[38;5;28;43msuper\u001b[39;49m\u001b[43m(\u001b[49m\u001b[43m)\u001b[49m\u001b[38;5;241;43m.\u001b[39;49m\u001b[43mfind_class\u001b[49m\u001b[43m(\u001b[49m\u001b[43mmod_name\u001b[49m\u001b[43m,\u001b[49m\u001b[43m \u001b[49m\u001b[43mname\u001b[49m\u001b[43m)\u001b[49m\n",
      "\u001b[0;31mModuleNotFoundError\u001b[0m: No module named 'model'"
     ]
    }
   ],
   "source": [
    "run_id = \"98d0cca708cc4f5ba40314aa134af4cd\"\n",
    "prefix = f\"/Users/tanguanyu/UCC-DRN-Pytorch/mnist/mlruns/{experiment.experiment_id}/{run_id}\"\n",
    "trained_model = torch.load(f\"{prefix}/artifacts/best_model/data/model.pth\", weights_only=False)\n"
   ]
  },
  {
   "cell_type": "code",
   "execution_count": null,
   "id": "d59eadfb",
   "metadata": {},
   "outputs": [],
   "source": []
  }
 ],
 "metadata": {
  "kernelspec": {
   "display_name": ".venv (3.12.2)",
   "language": "python",
   "name": "python3"
  },
  "language_info": {
   "codemirror_mode": {
    "name": "ipython",
    "version": 3
   },
   "file_extension": ".py",
   "mimetype": "text/x-python",
   "name": "python",
   "nbconvert_exporter": "python",
   "pygments_lexer": "ipython3",
   "version": "3.12.2"
  }
 },
 "nbformat": 4,
 "nbformat_minor": 5
}
