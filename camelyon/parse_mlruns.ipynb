{
 "cells": [
  {
   "cell_type": "code",
   "execution_count": 18,
   "id": "d15b0543",
   "metadata": {},
   "outputs": [
    {
     "name": "stdout",
     "output_type": "stream",
     "text": [
      "d:\\UCC-DRN-Pytorch\\camelyon\n",
      "./mlruns/152105657986962541\\26ee9af0f4d94c70ab8ddce46fd90539\n",
      "{'hidden_q': 100, 'init_lower_bound': -0.5, 'init_method': 'uniform', 'init_upper_bound': 0.5, 'num_bins': 11, 'num_layers': 2, 'num_nodes': 9, 'output_bins': 2, 'alpha': 0.5}\n"
     ]
    }
   ],
   "source": [
    "import os\n",
    "import mlflow\n",
    "from omegaconf import OmegaConf\n",
    "\n",
    "print(os.getcwd())\n",
    "for root, dirs, files in os.walk(\"./mlruns/152105657986962541\"):\n",
    "    if dirs:\n",
    "        if len(dirs[0])==32:\n",
    "            for d in dirs:\n",
    "                print(os.path.join(root, d))\n",
    "                \n",
    "                # run experiment\n",
    "                with mlflow.start_run(run_id=d) as run:\n",
    "                    cfg = OmegaConf.load(os.path.join(root, d, \"artifacts/config.yaml\"))\n",
    "                    params = cfg.model.drn\n",
    "                    params.alpha = cfg.model.loss.alpha\n",
    "                    mlflow.log_params(params=params)\n",
    "                    print(params)\n",
    "                    break\n",
    "                # get config\n",
    "                # log params\n",
    "                "
   ]
  },
  {
   "cell_type": "code",
   "execution_count": null,
   "id": "c7696b67",
   "metadata": {},
   "outputs": [],
   "source": []
  }
 ],
 "metadata": {
  "kernelspec": {
   "display_name": ".venv",
   "language": "python",
   "name": "python3"
  },
  "language_info": {
   "codemirror_mode": {
    "name": "ipython",
    "version": 3
   },
   "file_extension": ".py",
   "mimetype": "text/x-python",
   "name": "python",
   "nbconvert_exporter": "python",
   "pygments_lexer": "ipython3",
   "version": "3.9.18"
  }
 },
 "nbformat": 4,
 "nbformat_minor": 5
}
