{
 "cells": [
  {
   "cell_type": "code",
   "execution_count": 8,
   "id": "62706e3e",
   "metadata": {},
   "outputs": [],
   "source": [
    "import os\n",
    "\n",
    "prefix_to_replace = \"/content/gdrive/MyDrive/UCCDRNPytorch/\"\n",
    "prefix_replacement = \"/Users/tanguanyu/UCC-DRN-Pytorch/\"\n",
    "for root, dirs, files in  os.walk(\"mlruns-drive/716864409634968402\"):\n",
    "    for d in dirs:\n",
    "        if d==\"models\":\n",
    "            for rt, ds, _ in os.walk(f\"{root}/models\"):\n",
    "                for d_ in ds:\n",
    "                    with open(f\"{rt}/{d_}/meta.yaml\", \"r\") as file:\n",
    "                        string = file.read()\n",
    "                        string = string.replace(prefix_to_replace, prefix_replacement)\n",
    "                    with open(f\"{rt}/{d_}/meta.yaml\", \"w\") as file:\n",
    "                        file.write(string)\n",
    "                break\n",
    "        else:\n",
    "            with open(f\"{root}/{d}/meta.yaml\", \"r\") as file:\n",
    "                string = file.read()\n",
    "                string = string.replace(prefix_to_replace, prefix_replacement)\n",
    "            with open(f\"{root}/{d}/meta.yaml\", \"w\") as file:\n",
    "                file.write(string)\n",
    "    break"
   ]
  },
  {
   "cell_type": "code",
   "execution_count": 4,
   "id": "5bc611ba",
   "metadata": {},
   "outputs": [],
   "source": [
    "import os\n",
    "filess = []\n",
    "for root, dirs, files in  os.walk(\"mlruns-drive/716864409634968402\"):\n",
    "    for d in dirs:\n",
    "        if d==\"models\":\n",
    "            pass\n",
    "        else:\n",
    "            loss_file_path = f\"{root}/{d}/metrics/loss\"\n",
    "            if os.path.exists(loss_file_path):\n",
    "                with open(loss_file_path, \"r\") as file:\n",
    "                    string = file.read()\n",
    "                if len(string)==0:\n",
    "                    filess.append(f\"{root}/{d}\")\n",
    "            else:\n",
    "                filess.append(f\"{root}/{d}\")\n",
    "    break"
   ]
  },
  {
   "cell_type": "code",
   "execution_count": 6,
   "id": "7b914b64",
   "metadata": {},
   "outputs": [],
   "source": [
    "import shutil\n",
    "\n",
    "for file in filess:\n",
    "    shutil.rmtree(file)"
   ]
  },
  {
   "cell_type": "code",
   "execution_count": 9,
   "id": "bff770bb",
   "metadata": {},
   "outputs": [],
   "source": [
    "import yaml\n",
    "for root, dirs, files in  os.walk(\"mlruns-drive/716864409634968402\"):\n",
    "    for d in dirs:\n",
    "        if d==\"models\":\n",
    "            pass\n",
    "        else:\n",
    "            with open(f\"{root}/{d}/meta.yaml\", \"r\") as file:\n",
    "                obj = yaml.safe_load(file)\n",
    "            if \"run_uuid\" not in obj:\n",
    "                obj[\"run_uuid\"] = obj[\"run_id\"]\n",
    "                with open(f\"{root}/{d}/meta.yaml\", \"w\") as file:\n",
    "                    file.write(yaml.safe_dump(obj))\n",
    "    break"
   ]
  },
  {
   "cell_type": "code",
   "execution_count": null,
   "id": "e97d1d3a",
   "metadata": {},
   "outputs": [],
   "source": []
  }
 ],
 "metadata": {
  "kernelspec": {
   "display_name": ".venv (3.12.2)",
   "language": "python",
   "name": "python3"
  },
  "language_info": {
   "codemirror_mode": {
    "name": "ipython",
    "version": 3
   },
   "file_extension": ".py",
   "mimetype": "text/x-python",
   "name": "python",
   "nbconvert_exporter": "python",
   "pygments_lexer": "ipython3",
   "version": "3.12.2"
  }
 },
 "nbformat": 4,
 "nbformat_minor": 5
}
