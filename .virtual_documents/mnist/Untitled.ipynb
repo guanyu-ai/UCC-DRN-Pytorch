from dataset import MnistDataset


from torch.utils.data import DataLoader

train_dataset = MnistDataset(
    num_instances=2,
    num_samples_per_class=16,
    digit_arr=list(range(0,10)),
    ucc_start=1,
    ucc_end=4,
    mode="train",
    length = 80000
)
train_loader = DataLoader(train_dataset)


for a,b in train_loader:
    print(a)
    print(b)



