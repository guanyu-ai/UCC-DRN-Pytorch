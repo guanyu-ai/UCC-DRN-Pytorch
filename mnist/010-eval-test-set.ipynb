{
 "cells": [
  {
   "cell_type": "code",
   "execution_count": 1,
   "id": "715aa126",
   "metadata": {},
   "outputs": [],
   "source": [
    "from dataset import MnistDataset\n",
    "from torch.utils.data import DataLoader"
   ]
  },
  {
   "cell_type": "code",
   "execution_count": 8,
   "id": "a0e29a63",
   "metadata": {},
   "outputs": [
    {
     "name": "stdout",
     "output_type": "stream",
     "text": [
      "x_train shape: torch.Size([50000, 1, 28, 28])\n",
      "50000 train samples\n",
      "10000 val samples\n"
     ]
    }
   ],
   "source": [
    "test_config = {\n",
    "    \"num_instances\":32,\n",
    "    \"num_samples_per_class\":5,\n",
    "    \"digit_arr\":list(range(0,10)),\n",
    "    \"ucc_start\":1,\n",
    "    \"ucc_end\":4,\n",
    "    \"mode\":\"train\"\n",
    "}\n",
    "\n",
    "dataset = MnistDataset(**test_config)\n",
    "dataloader = DataLoader(\n",
    "    dataset,\n",
    "    batch_size=30,\n",
    "    num_workers=2,\n",
    "    shuffle=True)"
   ]
  },
  {
   "cell_type": "code",
   "execution_count": null,
   "id": "731290aa",
   "metadata": {},
   "outputs": [
    {
     "name": "stderr",
     "output_type": "stream",
     "text": [
      "C:\\Users\\progu\\AppData\\Local\\Temp\\ipykernel_25820\\3982462224.py:6: FutureWarning: You are using `torch.load` with `weights_only=False` (the current default value), which uses the default pickle module implicitly. It is possible to construct malicious pickle data which will execute arbitrary code during unpickling (See https://github.com/pytorch/pytorch/blob/main/SECURITY.md#untrusted-models for more details). In a future release, the default value for `weights_only` will be flipped to `True`. This limits the functions that could be executed during unpickling. Arbitrary objects will no longer be allowed to be loaded via this mode unless they are explicitly allowlisted by the user via `torch.serialization.add_safe_globals`. We recommend you start setting `weights_only=True` for any use case where you don't have full control of the loaded file. Please open an issue on GitHub for any issues related to this experimental feature.\n",
      "  model = torch.load(best_model_path)\n"
     ]
    }
   ],
   "source": [
    "import os\n",
    "import torch\n",
    "experiment_id = \"596058430714561042\"\n",
    "run_id = \"e3121af0528945cc9d310bd29c714b68\"\n",
    "best_model_path = f\"../mlruns/{experiment_id}/{run_id}/artifacts/best_model.pth/data/model.pth\"\n",
    "model = torch.load(best_model_path)"
   ]
  },
  {
   "cell_type": "code",
   "execution_count": 10,
   "id": "0d27a3a2",
   "metadata": {},
   "outputs": [],
   "source": [
    "from torch.nn import functional as F\n",
    "device = torch.device(\"cuda:0\")\n",
    "model.eval()\n",
    "val_loss_list = []\n",
    "val_acc_list = []\n",
    "with torch.no_grad():\n",
    "    for batch_samples, batch_labels in dataloader:\n",
    "        batch_samples = batch_samples.to(device)\n",
    "        batch_labels = batch_labels.to(device)\n",
    "        ucc_logits, _ = model(batch_samples)\n",
    "        ucc_val_loss = F.cross_entropy(ucc_logits, batch_labels)\n",
    "        # acculate accuracy\n",
    "        _, ucc_predicts = torch.max(ucc_logits, dim=1)\n",
    "        acc = torch.sum(\n",
    "            ucc_predicts == batch_labels).item() / len(batch_labels)\n",
    "        val_acc_list.append(acc)\n",
    "        val_loss_list.append(ucc_val_loss.item())\n",
    "# return np.mean(val_loss_list), np.mean(val_acc_list)"
   ]
  },
  {
   "cell_type": "code",
   "execution_count": null,
   "id": "d7a4e201",
   "metadata": {},
   "outputs": [],
   "source": [
    "model"
   ]
  },
  {
   "cell_type": "code",
   "execution_count": null,
   "id": "2af619c6",
   "metadata": {},
   "outputs": [
    {
     "data": {
      "text/plain": [
       "0.24848143982002252"
      ]
     },
     "execution_count": 12,
     "metadata": {},
     "output_type": "execute_result"
    },
    {
     "ename": "",
     "evalue": "",
     "output_type": "error",
     "traceback": [
      "\u001b[1;31mThe Kernel crashed while executing code in the current cell or a previous cell. \n",
      "\u001b[1;31mPlease review the code in the cell(s) to identify a possible cause of the failure. \n",
      "\u001b[1;31mClick <a href='https://aka.ms/vscodeJupyterKernelCrash'>here</a> for more info. \n",
      "\u001b[1;31mView Jupyter <a href='command:jupyter.viewOutput'>log</a> for further details."
     ]
    }
   ],
   "source": [
    "import numpy as np\n",
    "np.mean(val_acc_list)"
   ]
  },
  {
   "cell_type": "code",
   "execution_count": 11,
   "id": "696e6126",
   "metadata": {},
   "outputs": [
    {
     "data": {
      "text/plain": [
       "1.4538328621688745"
      ]
     },
     "execution_count": 11,
     "metadata": {},
     "output_type": "execute_result"
    }
   ],
   "source": [
    "np.mean(val_loss_list)"
   ]
  },
  {
   "cell_type": "code",
   "execution_count": null,
   "id": "329ec6a5",
   "metadata": {},
   "outputs": [],
   "source": [
    "print(ucc_logits[1])"
   ]
  },
  {
   "cell_type": "code",
   "execution_count": null,
   "id": "258683e4",
   "metadata": {},
   "outputs": [],
   "source": []
  }
 ],
 "metadata": {
  "kernelspec": {
   "display_name": ".venv",
   "language": "python",
   "name": "python3"
  },
  "language_info": {
   "codemirror_mode": {
    "name": "ipython",
    "version": 3
   },
   "file_extension": ".py",
   "mimetype": "text/x-python",
   "name": "python",
   "nbconvert_exporter": "python",
   "pygments_lexer": "ipython3",
   "version": "3.9.18"
  }
 },
 "nbformat": 4,
 "nbformat_minor": 5
}
