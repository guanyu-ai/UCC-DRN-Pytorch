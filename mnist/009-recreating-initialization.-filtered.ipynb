{
 "cells": [
  {
   "cell_type": "code",
   "execution_count": 1,
   "id": "53c31f07",
   "metadata": {},
   "outputs": [
    {
     "data": {
      "text/plain": [
       "'d:\\\\UCC-DRN-Pytorch\\\\mnist'"
      ]
     },
     "execution_count": 1,
     "metadata": {},
     "output_type": "execute_result"
    }
   ],
   "source": [
    "import os\n",
    "os.getcwd()"
   ]
  },
  {
   "cell_type": "code",
   "execution_count": 2,
   "id": "dca35b6a",
   "metadata": {},
   "outputs": [],
   "source": [
    "import mlflow\n",
    "\n",
    "original_mlflow_path = \"../mlruns\"\n",
    "experiment_id  = \"529607927597925604\"\n",
    "mlflow.set_tracking_uri(original_mlflow_path)"
   ]
  },
  {
   "cell_type": "code",
   "execution_count": 3,
   "id": "d1d17956",
   "metadata": {},
   "outputs": [],
   "source": [
    "runs = mlflow.search_runs(experiment_ids=[experiment_id,], filter_string=\"metrics.best_eval_ucc_loss>0.6\", output_format=\"list\")"
   ]
  },
  {
   "cell_type": "code",
   "execution_count": 11,
   "id": "828930ae",
   "metadata": {},
   "outputs": [],
   "source": [
    "runs = mlflow.search_runs(experiment_ids=[experiment_id,], filter_string=\"metrics.eval_ucc_acc>0.6\", output_format=\"list\")"
   ]
  },
  {
   "cell_type": "code",
   "execution_count": 13,
   "id": "38b622b7",
   "metadata": {},
   "outputs": [],
   "source": [
    "run_names = [run.info.run_name for run in runs]"
   ]
  },
  {
   "cell_type": "code",
   "execution_count": 18,
   "id": "50bc61a9",
   "metadata": {},
   "outputs": [],
   "source": [
    "run_ids = [run.info.run_id for run in runs]\n"
   ]
  },
  {
   "cell_type": "code",
   "execution_count": null,
   "id": "4a4d3c71",
   "metadata": {},
   "outputs": [
    {
     "data": {
      "text/plain": [
       "['8a5912b922954faf8e349a8da0d81bef',\n",
       " 'aa68b29a43ad4082bc47d2cf19bf167b',\n",
       " '6692d6704fbb421aa08b0a1f8c518d6d',\n",
       " 'cdfeb7b4c07444849e11183fcd725145',\n",
       " '68f2c6ad54da43a992ae9e44fed54d2c',\n",
       " '3dc768a5eb5c4bb1bbab0ea658548062',\n",
       " 'f4de65859a7c4220aa9410e413f8a967',\n",
       " '72843fceb7dd40b1960d9f56b642fd5f',\n",
       " '39986eadc5d94acc8ddc6efafe236cd4',\n",
       " 'b64de9eeaf464c3583955a5d0cccf663',\n",
       " '42f80c9c2d51405fbc73980b21bfcb7b',\n",
       " 'a29b60a86b4d41a2a50db48d687d077a',\n",
       " '76a1099a49494907b46f97de3407d690',\n",
       " '0a5c2bbf92da4d7a94ccc8bc7eda22f7',\n",
       " 'c66b11275c2d406c9f098ffa471fe29a',\n",
       " 'c79256a9799a49ed8f9b6523d201a319',\n",
       " '9dee5d713d46482baff70a02ca68b619',\n",
       " '25dddfe7a2b2428591bb98fef28c726c',\n",
       " 'd10827feaaae4b40a86a7feb6ab38d72',\n",
       " '943fb195f1e9487eabd6a9718d59efd4',\n",
       " '84ea1d220dd14c9bb7aae32f81dcd777',\n",
       " '9b48fdbf77fc438da8d37b5b7b4962dc']"
      ]
     },
     "execution_count": 19,
     "metadata": {},
     "output_type": "execute_result"
    },
    {
     "ename": "",
     "evalue": "",
     "output_type": "error",
     "traceback": [
      "\u001b[1;31mThe Kernel crashed while executing code in the current cell or a previous cell. \n",
      "\u001b[1;31mPlease review the code in the cell(s) to identify a possible cause of the failure. \n",
      "\u001b[1;31mClick <a href='https://aka.ms/vscodeJupyterKernelCrash'>here</a> for more info. \n",
      "\u001b[1;31mView Jupyter <a href='command:jupyter.viewOutput'>log</a> for further details."
     ]
    }
   ],
   "source": [
    "run_ids"
   ]
  },
  {
   "cell_type": "code",
   "execution_count": null,
   "id": "cf2943d3",
   "metadata": {},
   "outputs": [],
   "source": []
  }
 ],
 "metadata": {
  "kernelspec": {
   "display_name": ".venv",
   "language": "python",
   "name": "python3"
  },
  "language_info": {
   "codemirror_mode": {
    "name": "ipython",
    "version": 3
   },
   "file_extension": ".py",
   "mimetype": "text/x-python",
   "name": "python",
   "nbconvert_exporter": "python",
   "pygments_lexer": "ipython3",
   "version": "3.9.18"
  }
 },
 "nbformat": 4,
 "nbformat_minor": 5
}
