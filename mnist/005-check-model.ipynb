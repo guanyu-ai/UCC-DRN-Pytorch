{
 "cells": [
  {
   "cell_type": "code",
   "execution_count": null,
   "id": "eee66b4e",
   "metadata": {},
   "outputs": [],
   "source": [
    "from model import UCCDRNHybridModel\n",
    "from hydra import initialize, compose\n",
    "from omegaconf import OmegaConf\n",
    "\n",
    "with initialize(version_base=None, config_path=\"../configs\"):\n",
    "    cfg = compose(config_name=\"train_drn_hybrid_exp\")\n",
    "# cfg = OmegaConf.load(\"../configs/train_drn_hybrid_exp.yaml\")"
   ]
  },
  {
   "cell_type": "code",
   "execution_count": null,
   "id": "4ee411d4",
   "metadata": {},
   "outputs": [],
   "source": [
    "cfg.model = cfg.experiments"
   ]
  },
  {
   "cell_type": "code",
   "execution_count": null,
   "id": "d1462477",
   "metadata": {},
   "outputs": [],
   "source": [
    "cfg.model"
   ]
  },
  {
   "cell_type": "code",
   "execution_count": null,
   "id": "fa1d7ef9",
   "metadata": {},
   "outputs": [],
   "source": [
    "import os\n",
    "import ast\n",
    "import json\n",
    "import hydra\n",
    "from hydra import compose, initialize\n",
    "import torch\n",
    "import torch.nn.functional as F\n",
    "import mlflow\n",
    "import optuna\n",
    "import numpy as np\n",
    "from tqdm import tqdm\n",
    "from typing import List, Tuple\n",
    "from omegaconf.omegaconf import OmegaConf\n",
    "from torch.utils.data import DataLoader\n",
    "from torch.optim.lr_scheduler import CosineAnnealingLR, OneCycleLR\n",
    "\n",
    "from model import UCCDRNModel\n",
    "from dataset import MnistDataset\n",
    "from omegaconf import DictConfig\n",
    "from utils import get_or_create_experiment, parse_experiment_runs_to_optuna_study\n",
    "from optimizers import SGLD\n",
    "torch.autograd.set_detect_anomaly(True)\n",
    "\n",
    "def set_random_seed(seed):\n",
    "    torch.manual_seed(seed)\n",
    "    torch.cuda.manual_seed(seed)\n",
    "    np.random.seed(seed)\n",
    "    torch.backends.cudnn.deterministic = True\n",
    "\n",
    "\n",
    "def init_model_and_optimizer(args, model_cfg, device):\n",
    "    model = UCCDRNModel(model_cfg).to(device)\n",
    "    # optimizer = torch.optim.Adam(model.parameters(), lr=args.learning_rate)\n",
    "    param_group_names = [name for name, _ in model.named_parameters()]\n",
    "    optimizer = torch.optim.Adam(model.parameters(), lr=args.learning_rate, amsgrad=True)\n",
    "    # for name, param_group in zip(param_group_names, optimizer.param_groups):\n",
    "    #     if \"encoder\" in name:\n",
    "    #         param_group['lr'] = args.learning_rate*args.lr_multiplier\n",
    "    #     print(f'    {name}: {param_group[\"lr\"]}')\n",
    "    return model, optimizer\n",
    "\n",
    "\n",
    "def init_dataloader(args):\n",
    "    # assert args.dataset in [\n",
    "    #     \"mnist\",\n",
    "    #     \"camelyon\",\n",
    "    # ], \"Mode should be either mnist or camelyon\"\n",
    "    # if args.dataset == \"mnist\":\n",
    "    train_dataset_len = args.train_num_steps * args.batch_size\n",
    "    train_dataset = MnistDataset(\n",
    "        mode=\"train\",\n",
    "        num_instances=args.num_instances,\n",
    "        num_samples_per_class=args.num_samples_per_class,\n",
    "        digit_arr=list(range(args.ucc_end-args.ucc_start+1)),\n",
    "        ucc_start=args.ucc_start,\n",
    "        ucc_end=args.ucc_end,\n",
    "        length=train_dataset_len,\n",
    "    )\n",
    "    val_dataset_len = args.val_num_steps * args.batch_size\n",
    "    val_dataset = MnistDataset(\n",
    "        mode=\"val\",\n",
    "        num_instances=args.num_instances,\n",
    "        num_samples_per_class=args.num_samples_per_class,\n",
    "        digit_arr=list(range(args.ucc_end-args.ucc_start+1)),\n",
    "        ucc_start=args.ucc_start,\n",
    "        ucc_end=args.ucc_end,\n",
    "        length=val_dataset_len,\n",
    "    )\n",
    "    train_loader = DataLoader(\n",
    "        train_dataset,\n",
    "        batch_size=args.batch_size,\n",
    "        num_workers=args.num_workers,\n",
    "        shuffle=True,\n",
    "    )\n",
    "    val_loader = DataLoader(\n",
    "        val_dataset,\n",
    "        batch_size=args.batch_size,\n",
    "        num_workers=args.num_workers,\n",
    "        shuffle=False,\n",
    "    )\n",
    "    return train_loader, val_loader\n",
    "\n",
    "def evaluate(model, val_loader, device) -> Tuple[np.float32, np.float32]:\n",
    "    model.eval()\n",
    "    val_loss_list = []\n",
    "    val_acc_list = []\n",
    "    with torch.no_grad():\n",
    "        for batch_samples, batch_labels in val_loader:\n",
    "            batch_samples = batch_samples.to(device)\n",
    "            batch_labels = batch_labels.to(device)\n",
    "            if model.alpha == 1:\n",
    "                ucc_logits = model(batch_samples)\n",
    "                ucc_val_loss = F.cross_entropy(ucc_logits, batch_labels)\n",
    "                # acculate accuracy\n",
    "                _, ucc_predicts = torch.max(ucc_logits, dim=1)\n",
    "                acc = torch.sum(\n",
    "                    ucc_predicts == batch_labels).item() / len(batch_labels)\n",
    "                val_acc_list.append(acc)\n",
    "                val_loss_list.append(ucc_val_loss.item())\n",
    "            else:\n",
    "                ucc_logits, _ = model(batch_samples)\n",
    "                ucc_val_loss = F.cross_entropy(ucc_logits, batch_labels)\n",
    "                # acculate accuracy\n",
    "                _, ucc_predicts = torch.max(ucc_logits, dim=1)\n",
    "                acc = torch.sum(\n",
    "                    ucc_predicts == batch_labels).item() / len(batch_labels)\n",
    "                val_acc_list.append(acc)\n",
    "                val_loss_list.append(ucc_val_loss.item())\n",
    "    return np.mean(val_loss_list), np.mean(val_acc_list)\n",
    "\n",
    "\n",
    "def train(args, model, optimizer, lr_scheduler, train_loader, val_loader, device):\n",
    "    param_group_names = [name for name, _ in model.named_parameters()]\n",
    "    # output_dir = hydra.core.hydra_config.HydraConfig.get().runtime.output_dir\n",
    "    model.train()\n",
    "    step = 0\n",
    "    best_eval_acc = 0\n",
    "    patience = 10\n",
    "    for batch_samples, batch_labels in tqdm(train_loader):\n",
    "        batch_samples = batch_samples.to(device)\n",
    "        batch_labels = batch_labels.to(device)\n",
    "        optimizer.zero_grad()\n",
    "\n",
    "        if model.alpha == 1:\n",
    "            ucc_logits = model(batch_samples, batch_labels)\n",
    "            loss: torch.Tensor = model.compute_loss(\n",
    "                labels=batch_labels,\n",
    "                output=ucc_logits\n",
    "            )\n",
    "        else:\n",
    "            ucc_logits, reconstruction = model(batch_samples, batch_labels)\n",
    "            loss = model.compute_loss(\n",
    "                inputs=batch_samples,\n",
    "                labels=batch_labels,\n",
    "                output=ucc_logits,\n",
    "                reconstruction=reconstruction\n",
    "            )\n",
    "\n",
    "        loss.backward()\n",
    "\n",
    "        optimizer.step()\n",
    "        step += 1\n",
    "\n",
    "        if step % 10 == 0:\n",
    "            # lr_scheduler.step()\n",
    "            with torch.no_grad():\n",
    "                _, pred = torch.max(ucc_logits, dim=1)\n",
    "                accuracy = torch.sum(\n",
    "                    pred.flatten() == batch_labels.flatten())/len(batch_labels)\n",
    "            mlflow.log_metrics({\"train_ucc_loss\": loss.detach(\n",
    "            ).item(), \"train_ucc_acc\": float(accuracy)}, step=step)\n",
    "\n",
    "        if step % args.save_interval == 0:\n",
    "            eval_loss, eval_acc = evaluate(model, val_loader, device)\n",
    "            print(\n",
    "                f\"step: {step}, eval loss: {eval_loss}, eval acc: {eval_acc}\")\n",
    "            mlflow.log_metrics(\n",
    "                {\"eval_ucc_loss\": eval_loss.item(), \"eval_ucc_acc\": float(eval_acc)}, step=step)\n",
    "            # early stop\n",
    "            if eval_acc > best_eval_acc:\n",
    "                patience = 2\n",
    "                best_eval_acc = eval_acc\n",
    "                # save model\n",
    "                # save_path = os.path.join(output_dir, f\"{args.model_name}_best.pth\")\n",
    "                # put eval loss and acc in model state dict\n",
    "                # save_dict = {\n",
    "                #     \"model_state_dict\": model.state_dict(),\n",
    "                #     \"optimizer_state_dict\": optimizer.state_dict(),\n",
    "                #     \"eval_loss\": eval_loss,\n",
    "                #     \"eval_acc\": eval_acc,\n",
    "                #     \"step\": step,\n",
    "                # }\n",
    "                mlflow.pytorch.log_model(\n",
    "                    model,\n",
    "                    \"best_model.pth\"\n",
    "                )\n",
    "                # torch.save(save_dict, save_path)\n",
    "            else:\n",
    "                patience -= 1\n",
    "\n",
    "            if patience <= 0:\n",
    "                break\n",
    "            if step==10000:\n",
    "                break\n",
    "            model.train()\n",
    "\n",
    "    print(\"Training finished!!!\")\n",
    "    return best_eval_acc\n",
    "\n"
   ]
  },
  {
   "cell_type": "code",
   "execution_count": 3,
   "id": "da081810",
   "metadata": {},
   "outputs": [
    {
     "name": "stderr",
     "output_type": "stream",
     "text": [
      "[I 2025-04-13 13:33:00,443] A new study created in memory with name: ucc-drn-hybrid\n",
      "  0%|          | 0/100 [00:00<?, ?it/s]"
     ]
    },
    {
     "name": "stdout",
     "output_type": "stream",
     "text": [
      "{'args': {'dataset': 'mnist', 'model_dir': 'saved_models/', 'model_name': 'mnist_ucc_drn', 'num_instances': 32, 'ucc_start': 1, 'ucc_end': 4, 'batch_size': 20, 'num_samples_per_class': 5, 'num_workers': 4, 'learning_rate': 0.05141469736708725, 'num_bins': 10, 'num_features': 10, 'train_num_steps': 100000, 'val_num_steps': 200, 'save_interval': 1000, 'seed': 22}, 'model': {'num_channels': 1, 'input_shape': [28, 28, 1], 'kde_model': {'num_bins': 10, 'sigma': 0.1}, 'encoder': {'conv_input_channel': 1, 'conv_output_channel': 16, 'block1_output_channel': 321, 'block1_num_layer': 1, 'block2_output_channel': 64, 'block2_num_layer': 1, 'block3_output_channel': 128, 'block3_num_layer': 1, 'flatten_size': 6272, 'num_features': 10}, 'decoder': 'None', 'drn': {'num_bins': 10, 'hidden_q': 10, 'num_layers': 2, 'num_nodes': 9, 'output_bins': 4, 'output_nodes': 3}, 'ucc_classifier': {'dropout_rate': 0.0, 'num_classes': 4}, 'loss': {'alpha': 1}}, 'experiments': {'num_channels': 1, 'input_shape': [28, 28, 1], 'kde_model': {'num_bins': 11, 'sigma': 0.1}, 'encoder': {'conv_input_channel': 1, 'conv_output_channel': 16, 'block1_output_channel': 321, 'block1_num_layer': 1, 'block2_output_channel': 64, 'block2_num_layer': 1, 'block3_output_channel': 128, 'block3_num_layer': 1, 'flatten_size': 6272, 'num_features': 10}, 'decoder': 'None', 'drn': {'num_bins': 11, 'hidden_q': 100, 'num_layers': 1, 'num_nodes': 10, 'output_bins': 4, 'output_nodes': 3}, 'ucc_classifier': {'dropout_rate': 0.0, 'num_classes': 4}, 'loss': {'alpha': 1}}}\n",
      "(10, 10)\n",
      "(10, 10)\n",
      "(4, 10)\n",
      "x_train shape: torch.Size([50000, 1, 28, 28])\n",
      "50000 train samples\n",
      "10000 val samples\n",
      "x_train shape: torch.Size([50000, 1, 28, 28])\n",
      "50000 train samples\n",
      "10000 val samples\n",
      "{'args': {'dataset': 'mnist', 'model_dir': 'saved_models/', 'model_name': 'mnist_ucc_drn', 'num_instances': 32, 'ucc_start': 1, 'ucc_end': 4, 'batch_size': 20, 'num_samples_per_class': 5, 'num_workers': 4, 'learning_rate': 0.05141469736708725, 'num_bins': 10, 'num_features': 10, 'train_num_steps': 100000, 'val_num_steps': 200, 'save_interval': 1000, 'seed': 22}, 'model': {'num_channels': 1, 'input_shape': [28, 28, 1], 'kde_model': {'num_bins': 10, 'sigma': 0.1}, 'encoder': {'conv_input_channel': 1, 'conv_output_channel': 16, 'block1_output_channel': 321, 'block1_num_layer': 1, 'block2_output_channel': 64, 'block2_num_layer': 1, 'block3_output_channel': 128, 'block3_num_layer': 1, 'flatten_size': 6272, 'num_features': 10}, 'decoder': 'None', 'drn': {'num_bins': 10, 'hidden_q': 10, 'num_layers': 2, 'num_nodes': 9, 'output_bins': 4, 'output_nodes': 3}, 'ucc_classifier': {'dropout_rate': 0.0, 'num_classes': 4}, 'loss': {'alpha': 1}}, 'experiments': {'num_channels': 1, 'input_shape': [28, 28, 1], 'kde_model': {'num_bins': 11, 'sigma': 0.1}, 'encoder': {'conv_input_channel': 1, 'conv_output_channel': 16, 'block1_output_channel': 321, 'block1_num_layer': 1, 'block2_output_channel': 64, 'block2_num_layer': 1, 'block3_output_channel': 128, 'block3_num_layer': 1, 'flatten_size': 6272, 'num_features': 10}, 'decoder': 'None', 'drn': {'num_bins': 11, 'hidden_q': 100, 'num_layers': 1, 'num_nodes': 10, 'output_bins': 4, 'output_nodes': 3}, 'ucc_classifier': {'dropout_rate': 0.0, 'num_classes': 4}, 'loss': {'alpha': 1}}}\n"
     ]
    },
    {
     "name": "stderr",
     "output_type": "stream",
     "text": []
    },
    {
     "name": "stdout",
     "output_type": "stream",
     "text": [
      "step: 1000, eval loss: 2.487985610961914, eval acc: 0.25\n"
     ]
    },
    {
     "name": "stderr",
     "output_type": "stream",
     "text": [
      "2025/04/13 13:37:11 WARNING mlflow.utils.requirements_utils: Found torch version (2.5.1+cu124) contains a local version label (+cu124). MLflow logged a pip requirement for this package as 'torch==2.5.1' without the local version label to make it installable from PyPI. To specify pip requirements containing local version labels, please use `conda_env` or `pip_requirements`.\n",
      "2025/04/13 13:37:18 WARNING mlflow.utils.requirements_utils: Found torch version (2.5.1+cu124) contains a local version label (+cu124). MLflow logged a pip requirement for this package as 'torch==2.5.1' without the local version label to make it installable from PyPI. To specify pip requirements containing local version labels, please use `conda_env` or `pip_requirements`.\n",
      "2025/04/13 13:37:18 WARNING mlflow.models.model: Model logged without a signature and input example. Please set `input_example` parameter when logging the model to auto infer the model signature.\n"
     ]
    },
    {
     "name": "stdout",
     "output_type": "stream",
     "text": [
      "step: 2000, eval loss: 2.4874467849731445, eval acc: 0.25\n"
     ]
    },
    {
     "name": "stderr",
     "output_type": "stream",
     "text": []
    },
    {
     "name": "stdout",
     "output_type": "stream",
     "text": [
      "step: 3000, eval loss: 2.4864888191223145, eval acc: 0.25\n"
     ]
    },
    {
     "name": "stderr",
     "output_type": "stream",
     "text": [
      "  3%|▎         | 2999/100000 [12:30<6:44:35,  4.00it/s]\n",
      "  1%|          | 1/100 [12:33<20:42:48, 753.22s/it]"
     ]
    },
    {
     "name": "stdout",
     "output_type": "stream",
     "text": [
      "Training finished!!!\n",
      "[W 2025-04-13 13:45:33,870] Trial 0 failed with parameters: {'lr': 0.05141469736708725} because of the following error: The value None could not be cast to float..\n",
      "[W 2025-04-13 13:45:33,873] Trial 0 failed with value None.\n",
      "{'args': {'dataset': 'mnist', 'model_dir': 'saved_models/', 'model_name': 'mnist_ucc_drn', 'num_instances': 32, 'ucc_start': 1, 'ucc_end': 4, 'batch_size': 20, 'num_samples_per_class': 5, 'num_workers': 4, 'learning_rate': 0.022382517347765474, 'num_bins': 10, 'num_features': 10, 'train_num_steps': 100000, 'val_num_steps': 200, 'save_interval': 1000, 'seed': 22}, 'model': {'num_channels': 1, 'input_shape': [28, 28, 1], 'kde_model': {'num_bins': 10, 'sigma': 0.1}, 'encoder': {'conv_input_channel': 1, 'conv_output_channel': 16, 'block1_output_channel': 321, 'block1_num_layer': 1, 'block2_output_channel': 64, 'block2_num_layer': 1, 'block3_output_channel': 128, 'block3_num_layer': 1, 'flatten_size': 6272, 'num_features': 10}, 'decoder': 'None', 'drn': {'num_bins': 10, 'hidden_q': 10, 'num_layers': 2, 'num_nodes': 9, 'output_bins': 4, 'output_nodes': 3}, 'ucc_classifier': {'dropout_rate': 0.0, 'num_classes': 4}, 'loss': {'alpha': 1}}, 'experiments': {'num_channels': 1, 'input_shape': [28, 28, 1], 'kde_model': {'num_bins': 11, 'sigma': 0.1}, 'encoder': {'conv_input_channel': 1, 'conv_output_channel': 16, 'block1_output_channel': 321, 'block1_num_layer': 1, 'block2_output_channel': 64, 'block2_num_layer': 1, 'block3_output_channel': 128, 'block3_num_layer': 1, 'flatten_size': 6272, 'num_features': 10}, 'decoder': 'None', 'drn': {'num_bins': 11, 'hidden_q': 100, 'num_layers': 1, 'num_nodes': 10, 'output_bins': 4, 'output_nodes': 3}, 'ucc_classifier': {'dropout_rate': 0.0, 'num_classes': 4}, 'loss': {'alpha': 1}}}\n",
      "(10, 10)\n",
      "(10, 10)\n",
      "(4, 10)\n",
      "x_train shape: torch.Size([50000, 1, 28, 28])\n",
      "50000 train samples\n",
      "10000 val samples\n",
      "x_train shape: torch.Size([50000, 1, 28, 28])\n",
      "50000 train samples\n",
      "10000 val samples\n",
      "{'args': {'dataset': 'mnist', 'model_dir': 'saved_models/', 'model_name': 'mnist_ucc_drn', 'num_instances': 32, 'ucc_start': 1, 'ucc_end': 4, 'batch_size': 20, 'num_samples_per_class': 5, 'num_workers': 4, 'learning_rate': 0.022382517347765474, 'num_bins': 10, 'num_features': 10, 'train_num_steps': 100000, 'val_num_steps': 200, 'save_interval': 1000, 'seed': 22}, 'model': {'num_channels': 1, 'input_shape': [28, 28, 1], 'kde_model': {'num_bins': 10, 'sigma': 0.1}, 'encoder': {'conv_input_channel': 1, 'conv_output_channel': 16, 'block1_output_channel': 321, 'block1_num_layer': 1, 'block2_output_channel': 64, 'block2_num_layer': 1, 'block3_output_channel': 128, 'block3_num_layer': 1, 'flatten_size': 6272, 'num_features': 10}, 'decoder': 'None', 'drn': {'num_bins': 10, 'hidden_q': 10, 'num_layers': 2, 'num_nodes': 9, 'output_bins': 4, 'output_nodes': 3}, 'ucc_classifier': {'dropout_rate': 0.0, 'num_classes': 4}, 'loss': {'alpha': 1}}, 'experiments': {'num_channels': 1, 'input_shape': [28, 28, 1], 'kde_model': {'num_bins': 11, 'sigma': 0.1}, 'encoder': {'conv_input_channel': 1, 'conv_output_channel': 16, 'block1_output_channel': 321, 'block1_num_layer': 1, 'block2_output_channel': 64, 'block2_num_layer': 1, 'block3_output_channel': 128, 'block3_num_layer': 1, 'flatten_size': 6272, 'num_features': 10}, 'decoder': 'None', 'drn': {'num_bins': 11, 'hidden_q': 100, 'num_layers': 1, 'num_nodes': 10, 'output_bins': 4, 'output_nodes': 3}, 'ucc_classifier': {'dropout_rate': 0.0, 'num_classes': 4}, 'loss': {'alpha': 1}}}\n"
     ]
    },
    {
     "name": "stderr",
     "output_type": "stream",
     "text": [
      "2025/04/13 13:49:50 WARNING mlflow.utils.requirements_utils: Found torch version (2.5.1+cu124) contains a local version label (+cu124). MLflow logged a pip requirement for this package as 'torch==2.5.1' without the local version label to make it installable from PyPI. To specify pip requirements containing local version labels, please use `conda_env` or `pip_requirements`.\n"
     ]
    },
    {
     "name": "stdout",
     "output_type": "stream",
     "text": [
      "step: 1000, eval loss: 2.4850142002105713, eval acc: 0.25\n"
     ]
    },
    {
     "name": "stderr",
     "output_type": "stream",
     "text": [
      "2025/04/13 13:49:56 WARNING mlflow.utils.requirements_utils: Found torch version (2.5.1+cu124) contains a local version label (+cu124). MLflow logged a pip requirement for this package as 'torch==2.5.1' without the local version label to make it installable from PyPI. To specify pip requirements containing local version labels, please use `conda_env` or `pip_requirements`.\n",
      "2025/04/13 13:49:56 WARNING mlflow.models.model: Model logged without a signature and input example. Please set `input_example` parameter when logging the model to auto infer the model signature.\n"
     ]
    },
    {
     "name": "stdout",
     "output_type": "stream",
     "text": [
      "step: 2000, eval loss: 2.484919786453247, eval acc: 0.0\n"
     ]
    },
    {
     "name": "stderr",
     "output_type": "stream",
     "text": []
    },
    {
     "name": "stdout",
     "output_type": "stream",
     "text": [
      "step: 3000, eval loss: 2.485076427459717, eval acc: 0.25\n"
     ]
    },
    {
     "name": "stderr",
     "output_type": "stream",
     "text": [
      "  3%|▎         | 2999/100000 [12:35<6:47:00,  3.97it/s]\n",
      "  2%|▏         | 2/100 [25:09<20:32:53, 754.83s/it]"
     ]
    },
    {
     "name": "stdout",
     "output_type": "stream",
     "text": [
      "Training finished!!!\n",
      "[W 2025-04-13 13:58:09,820] Trial 1 failed with parameters: {'lr': 0.022382517347765474} because of the following error: The value None could not be cast to float..\n",
      "[W 2025-04-13 13:58:09,823] Trial 1 failed with value None.\n",
      "{'args': {'dataset': 'mnist', 'model_dir': 'saved_models/', 'model_name': 'mnist_ucc_drn', 'num_instances': 32, 'ucc_start': 1, 'ucc_end': 4, 'batch_size': 20, 'num_samples_per_class': 5, 'num_workers': 4, 'learning_rate': 0.060617121232342586, 'num_bins': 10, 'num_features': 10, 'train_num_steps': 100000, 'val_num_steps': 200, 'save_interval': 1000, 'seed': 22}, 'model': {'num_channels': 1, 'input_shape': [28, 28, 1], 'kde_model': {'num_bins': 10, 'sigma': 0.1}, 'encoder': {'conv_input_channel': 1, 'conv_output_channel': 16, 'block1_output_channel': 321, 'block1_num_layer': 1, 'block2_output_channel': 64, 'block2_num_layer': 1, 'block3_output_channel': 128, 'block3_num_layer': 1, 'flatten_size': 6272, 'num_features': 10}, 'decoder': 'None', 'drn': {'num_bins': 10, 'hidden_q': 10, 'num_layers': 2, 'num_nodes': 9, 'output_bins': 4, 'output_nodes': 3}, 'ucc_classifier': {'dropout_rate': 0.0, 'num_classes': 4}, 'loss': {'alpha': 1}}, 'experiments': {'num_channels': 1, 'input_shape': [28, 28, 1], 'kde_model': {'num_bins': 11, 'sigma': 0.1}, 'encoder': {'conv_input_channel': 1, 'conv_output_channel': 16, 'block1_output_channel': 321, 'block1_num_layer': 1, 'block2_output_channel': 64, 'block2_num_layer': 1, 'block3_output_channel': 128, 'block3_num_layer': 1, 'flatten_size': 6272, 'num_features': 10}, 'decoder': 'None', 'drn': {'num_bins': 11, 'hidden_q': 100, 'num_layers': 1, 'num_nodes': 10, 'output_bins': 4, 'output_nodes': 3}, 'ucc_classifier': {'dropout_rate': 0.0, 'num_classes': 4}, 'loss': {'alpha': 1}}}\n",
      "(10, 10)\n",
      "(10, 10)\n",
      "(4, 10)\n",
      "x_train shape: torch.Size([50000, 1, 28, 28])\n",
      "50000 train samples\n",
      "10000 val samples\n",
      "x_train shape: torch.Size([50000, 1, 28, 28])\n",
      "50000 train samples\n",
      "10000 val samples\n",
      "{'args': {'dataset': 'mnist', 'model_dir': 'saved_models/', 'model_name': 'mnist_ucc_drn', 'num_instances': 32, 'ucc_start': 1, 'ucc_end': 4, 'batch_size': 20, 'num_samples_per_class': 5, 'num_workers': 4, 'learning_rate': 0.060617121232342586, 'num_bins': 10, 'num_features': 10, 'train_num_steps': 100000, 'val_num_steps': 200, 'save_interval': 1000, 'seed': 22}, 'model': {'num_channels': 1, 'input_shape': [28, 28, 1], 'kde_model': {'num_bins': 10, 'sigma': 0.1}, 'encoder': {'conv_input_channel': 1, 'conv_output_channel': 16, 'block1_output_channel': 321, 'block1_num_layer': 1, 'block2_output_channel': 64, 'block2_num_layer': 1, 'block3_output_channel': 128, 'block3_num_layer': 1, 'flatten_size': 6272, 'num_features': 10}, 'decoder': 'None', 'drn': {'num_bins': 10, 'hidden_q': 10, 'num_layers': 2, 'num_nodes': 9, 'output_bins': 4, 'output_nodes': 3}, 'ucc_classifier': {'dropout_rate': 0.0, 'num_classes': 4}, 'loss': {'alpha': 1}}, 'experiments': {'num_channels': 1, 'input_shape': [28, 28, 1], 'kde_model': {'num_bins': 11, 'sigma': 0.1}, 'encoder': {'conv_input_channel': 1, 'conv_output_channel': 16, 'block1_output_channel': 321, 'block1_num_layer': 1, 'block2_output_channel': 64, 'block2_num_layer': 1, 'block3_output_channel': 128, 'block3_num_layer': 1, 'flatten_size': 6272, 'num_features': 10}, 'decoder': 'None', 'drn': {'num_bins': 11, 'hidden_q': 100, 'num_layers': 1, 'num_nodes': 10, 'output_bins': 4, 'output_nodes': 3}, 'ucc_classifier': {'dropout_rate': 0.0, 'num_classes': 4}, 'loss': {'alpha': 1}}}\n"
     ]
    },
    {
     "name": "stderr",
     "output_type": "stream",
     "text": [
      "2025/04/13 14:02:17 WARNING mlflow.utils.requirements_utils: Found torch version (2.5.1+cu124) contains a local version label (+cu124). MLflow logged a pip requirement for this package as 'torch==2.5.1' without the local version label to make it installable from PyPI. To specify pip requirements containing local version labels, please use `conda_env` or `pip_requirements`.\n"
     ]
    },
    {
     "name": "stdout",
     "output_type": "stream",
     "text": [
      "step: 1000, eval loss: 2.5113048553466797, eval acc: 0.25\n"
     ]
    },
    {
     "name": "stderr",
     "output_type": "stream",
     "text": [
      "2025/04/13 14:02:22 WARNING mlflow.utils.requirements_utils: Found torch version (2.5.1+cu124) contains a local version label (+cu124). MLflow logged a pip requirement for this package as 'torch==2.5.1' without the local version label to make it installable from PyPI. To specify pip requirements containing local version labels, please use `conda_env` or `pip_requirements`.\n",
      "2025/04/13 14:02:23 WARNING mlflow.models.model: Model logged without a signature and input example. Please set `input_example` parameter when logging the model to auto infer the model signature.\n",
      "\n"
     ]
    },
    {
     "name": "stdout",
     "output_type": "stream",
     "text": [
      "step: 2000, eval loss: 2.494413137435913, eval acc: 0.25\n"
     ]
    },
    {
     "name": "stderr",
     "output_type": "stream",
     "text": [
      "  2%|▏         | 2001/100000 [08:10<70:24:07,  2.59s/it]\u001b[A"
     ]
    },
    {
     "name": "stdout",
     "output_type": "stream",
     "text": [
      "step: 3000, eval loss: 2.4880597591400146, eval acc: 0.25\n"
     ]
    },
    {
     "name": "stderr",
     "output_type": "stream",
     "text": [
      "  3%|▎         | 2999/100000 [12:09<6:33:05,  4.11it/s]\n",
      "  3%|▎         | 3/100 [37:19<20:02:02, 743.53s/it]"
     ]
    },
    {
     "name": "stdout",
     "output_type": "stream",
     "text": [
      "Training finished!!!\n",
      "[W 2025-04-13 14:10:19,901] Trial 2 failed with parameters: {'lr': 0.060617121232342586} because of the following error: The value None could not be cast to float..\n",
      "[W 2025-04-13 14:10:19,904] Trial 2 failed with value None.\n",
      "{'args': {'dataset': 'mnist', 'model_dir': 'saved_models/', 'model_name': 'mnist_ucc_drn', 'num_instances': 32, 'ucc_start': 1, 'ucc_end': 4, 'batch_size': 20, 'num_samples_per_class': 5, 'num_workers': 4, 'learning_rate': 0.013997629033848569, 'num_bins': 10, 'num_features': 10, 'train_num_steps': 100000, 'val_num_steps': 200, 'save_interval': 1000, 'seed': 22}, 'model': {'num_channels': 1, 'input_shape': [28, 28, 1], 'kde_model': {'num_bins': 10, 'sigma': 0.1}, 'encoder': {'conv_input_channel': 1, 'conv_output_channel': 16, 'block1_output_channel': 321, 'block1_num_layer': 1, 'block2_output_channel': 64, 'block2_num_layer': 1, 'block3_output_channel': 128, 'block3_num_layer': 1, 'flatten_size': 6272, 'num_features': 10}, 'decoder': 'None', 'drn': {'num_bins': 10, 'hidden_q': 10, 'num_layers': 2, 'num_nodes': 9, 'output_bins': 4, 'output_nodes': 3}, 'ucc_classifier': {'dropout_rate': 0.0, 'num_classes': 4}, 'loss': {'alpha': 1}}, 'experiments': {'num_channels': 1, 'input_shape': [28, 28, 1], 'kde_model': {'num_bins': 11, 'sigma': 0.1}, 'encoder': {'conv_input_channel': 1, 'conv_output_channel': 16, 'block1_output_channel': 321, 'block1_num_layer': 1, 'block2_output_channel': 64, 'block2_num_layer': 1, 'block3_output_channel': 128, 'block3_num_layer': 1, 'flatten_size': 6272, 'num_features': 10}, 'decoder': 'None', 'drn': {'num_bins': 11, 'hidden_q': 100, 'num_layers': 1, 'num_nodes': 10, 'output_bins': 4, 'output_nodes': 3}, 'ucc_classifier': {'dropout_rate': 0.0, 'num_classes': 4}, 'loss': {'alpha': 1}}}\n",
      "(10, 10)\n",
      "(10, 10)\n",
      "(4, 10)\n",
      "x_train shape: torch.Size([50000, 1, 28, 28])\n",
      "50000 train samples\n",
      "10000 val samples\n",
      "x_train shape: torch.Size([50000, 1, 28, 28])\n",
      "50000 train samples\n",
      "10000 val samples\n",
      "{'args': {'dataset': 'mnist', 'model_dir': 'saved_models/', 'model_name': 'mnist_ucc_drn', 'num_instances': 32, 'ucc_start': 1, 'ucc_end': 4, 'batch_size': 20, 'num_samples_per_class': 5, 'num_workers': 4, 'learning_rate': 0.013997629033848569, 'num_bins': 10, 'num_features': 10, 'train_num_steps': 100000, 'val_num_steps': 200, 'save_interval': 1000, 'seed': 22}, 'model': {'num_channels': 1, 'input_shape': [28, 28, 1], 'kde_model': {'num_bins': 10, 'sigma': 0.1}, 'encoder': {'conv_input_channel': 1, 'conv_output_channel': 16, 'block1_output_channel': 321, 'block1_num_layer': 1, 'block2_output_channel': 64, 'block2_num_layer': 1, 'block3_output_channel': 128, 'block3_num_layer': 1, 'flatten_size': 6272, 'num_features': 10}, 'decoder': 'None', 'drn': {'num_bins': 10, 'hidden_q': 10, 'num_layers': 2, 'num_nodes': 9, 'output_bins': 4, 'output_nodes': 3}, 'ucc_classifier': {'dropout_rate': 0.0, 'num_classes': 4}, 'loss': {'alpha': 1}}, 'experiments': {'num_channels': 1, 'input_shape': [28, 28, 1], 'kde_model': {'num_bins': 11, 'sigma': 0.1}, 'encoder': {'conv_input_channel': 1, 'conv_output_channel': 16, 'block1_output_channel': 321, 'block1_num_layer': 1, 'block2_output_channel': 64, 'block2_num_layer': 1, 'block3_output_channel': 128, 'block3_num_layer': 1, 'flatten_size': 6272, 'num_features': 10}, 'decoder': 'None', 'drn': {'num_bins': 11, 'hidden_q': 100, 'num_layers': 1, 'num_nodes': 10, 'output_bins': 4, 'output_nodes': 3}, 'ucc_classifier': {'dropout_rate': 0.0, 'num_classes': 4}, 'loss': {'alpha': 1}}}\n"
     ]
    },
    {
     "name": "stderr",
     "output_type": "stream",
     "text": [
      "2025/04/13 14:14:26 WARNING mlflow.utils.requirements_utils: Found torch version (2.5.1+cu124) contains a local version label (+cu124). MLflow logged a pip requirement for this package as 'torch==2.5.1' without the local version label to make it installable from PyPI. To specify pip requirements containing local version labels, please use `conda_env` or `pip_requirements`.\n"
     ]
    },
    {
     "name": "stdout",
     "output_type": "stream",
     "text": [
      "step: 1000, eval loss: 2.4877591133117676, eval acc: 0.25\n"
     ]
    },
    {
     "name": "stderr",
     "output_type": "stream",
     "text": [
      "2025/04/13 14:14:31 WARNING mlflow.utils.requirements_utils: Found torch version (2.5.1+cu124) contains a local version label (+cu124). MLflow logged a pip requirement for this package as 'torch==2.5.1' without the local version label to make it installable from PyPI. To specify pip requirements containing local version labels, please use `conda_env` or `pip_requirements`.\n",
      "2025/04/13 14:14:31 WARNING mlflow.models.model: Model logged without a signature and input example. Please set `input_example` parameter when logging the model to auto infer the model signature.\n"
     ]
    },
    {
     "name": "stdout",
     "output_type": "stream",
     "text": [
      "step: 2000, eval loss: 2.4880142211914062, eval acc: 0.25\n"
     ]
    },
    {
     "name": "stderr",
     "output_type": "stream",
     "text": []
    },
    {
     "name": "stdout",
     "output_type": "stream",
     "text": [
      "step: 3000, eval loss: 2.4886999130249023, eval acc: 0.25\n"
     ]
    },
    {
     "name": "stderr",
     "output_type": "stream",
     "text": [
      "  3%|▎         | 2999/100000 [12:09<6:33:11,  4.11it/s]\n",
      "  4%|▍         | 4/100 [49:29<19:41:15, 738.29s/it]"
     ]
    },
    {
     "name": "stdout",
     "output_type": "stream",
     "text": [
      "Training finished!!!\n",
      "[W 2025-04-13 14:22:30,160] Trial 3 failed with parameters: {'lr': 0.013997629033848569} because of the following error: The value None could not be cast to float..\n",
      "[W 2025-04-13 14:22:30,163] Trial 3 failed with value None.\n",
      "{'args': {'dataset': 'mnist', 'model_dir': 'saved_models/', 'model_name': 'mnist_ucc_drn', 'num_instances': 32, 'ucc_start': 1, 'ucc_end': 4, 'batch_size': 20, 'num_samples_per_class': 5, 'num_workers': 4, 'learning_rate': 0.014830704164577765, 'num_bins': 10, 'num_features': 10, 'train_num_steps': 100000, 'val_num_steps': 200, 'save_interval': 1000, 'seed': 22}, 'model': {'num_channels': 1, 'input_shape': [28, 28, 1], 'kde_model': {'num_bins': 10, 'sigma': 0.1}, 'encoder': {'conv_input_channel': 1, 'conv_output_channel': 16, 'block1_output_channel': 321, 'block1_num_layer': 1, 'block2_output_channel': 64, 'block2_num_layer': 1, 'block3_output_channel': 128, 'block3_num_layer': 1, 'flatten_size': 6272, 'num_features': 10}, 'decoder': 'None', 'drn': {'num_bins': 10, 'hidden_q': 10, 'num_layers': 2, 'num_nodes': 9, 'output_bins': 4, 'output_nodes': 3}, 'ucc_classifier': {'dropout_rate': 0.0, 'num_classes': 4}, 'loss': {'alpha': 1}}, 'experiments': {'num_channels': 1, 'input_shape': [28, 28, 1], 'kde_model': {'num_bins': 11, 'sigma': 0.1}, 'encoder': {'conv_input_channel': 1, 'conv_output_channel': 16, 'block1_output_channel': 321, 'block1_num_layer': 1, 'block2_output_channel': 64, 'block2_num_layer': 1, 'block3_output_channel': 128, 'block3_num_layer': 1, 'flatten_size': 6272, 'num_features': 10}, 'decoder': 'None', 'drn': {'num_bins': 11, 'hidden_q': 100, 'num_layers': 1, 'num_nodes': 10, 'output_bins': 4, 'output_nodes': 3}, 'ucc_classifier': {'dropout_rate': 0.0, 'num_classes': 4}, 'loss': {'alpha': 1}}}\n",
      "(10, 10)\n",
      "(10, 10)\n",
      "(4, 10)\n",
      "x_train shape: torch.Size([50000, 1, 28, 28])\n",
      "50000 train samples\n",
      "10000 val samples\n",
      "x_train shape: torch.Size([50000, 1, 28, 28])\n",
      "50000 train samples\n",
      "10000 val samples\n",
      "{'args': {'dataset': 'mnist', 'model_dir': 'saved_models/', 'model_name': 'mnist_ucc_drn', 'num_instances': 32, 'ucc_start': 1, 'ucc_end': 4, 'batch_size': 20, 'num_samples_per_class': 5, 'num_workers': 4, 'learning_rate': 0.014830704164577765, 'num_bins': 10, 'num_features': 10, 'train_num_steps': 100000, 'val_num_steps': 200, 'save_interval': 1000, 'seed': 22}, 'model': {'num_channels': 1, 'input_shape': [28, 28, 1], 'kde_model': {'num_bins': 10, 'sigma': 0.1}, 'encoder': {'conv_input_channel': 1, 'conv_output_channel': 16, 'block1_output_channel': 321, 'block1_num_layer': 1, 'block2_output_channel': 64, 'block2_num_layer': 1, 'block3_output_channel': 128, 'block3_num_layer': 1, 'flatten_size': 6272, 'num_features': 10}, 'decoder': 'None', 'drn': {'num_bins': 10, 'hidden_q': 10, 'num_layers': 2, 'num_nodes': 9, 'output_bins': 4, 'output_nodes': 3}, 'ucc_classifier': {'dropout_rate': 0.0, 'num_classes': 4}, 'loss': {'alpha': 1}}, 'experiments': {'num_channels': 1, 'input_shape': [28, 28, 1], 'kde_model': {'num_bins': 11, 'sigma': 0.1}, 'encoder': {'conv_input_channel': 1, 'conv_output_channel': 16, 'block1_output_channel': 321, 'block1_num_layer': 1, 'block2_output_channel': 64, 'block2_num_layer': 1, 'block3_output_channel': 128, 'block3_num_layer': 1, 'flatten_size': 6272, 'num_features': 10}, 'decoder': 'None', 'drn': {'num_bins': 11, 'hidden_q': 100, 'num_layers': 1, 'num_nodes': 10, 'output_bins': 4, 'output_nodes': 3}, 'ucc_classifier': {'dropout_rate': 0.0, 'num_classes': 4}, 'loss': {'alpha': 1}}}\n"
     ]
    },
    {
     "name": "stderr",
     "output_type": "stream",
     "text": []
    },
    {
     "name": "stdout",
     "output_type": "stream",
     "text": [
      "step: 1000, eval loss: 2.4851558208465576, eval acc: 0.0\n"
     ]
    },
    {
     "name": "stderr",
     "output_type": "stream",
     "text": [
      "2025/04/13 14:30:37 WARNING mlflow.utils.requirements_utils: Found torch version (2.5.1+cu124) contains a local version label (+cu124). MLflow logged a pip requirement for this package as 'torch==2.5.1' without the local version label to make it installable from PyPI. To specify pip requirements containing local version labels, please use `conda_env` or `pip_requirements`.\n"
     ]
    },
    {
     "name": "stdout",
     "output_type": "stream",
     "text": [
      "step: 2000, eval loss: 2.4876034259796143, eval acc: 0.25\n"
     ]
    },
    {
     "name": "stderr",
     "output_type": "stream",
     "text": [
      "2025/04/13 14:30:42 WARNING mlflow.utils.requirements_utils: Found torch version (2.5.1+cu124) contains a local version label (+cu124). MLflow logged a pip requirement for this package as 'torch==2.5.1' without the local version label to make it installable from PyPI. To specify pip requirements containing local version labels, please use `conda_env` or `pip_requirements`.\n",
      "2025/04/13 14:30:42 WARNING mlflow.models.model: Model logged without a signature and input example. Please set `input_example` parameter when logging the model to auto infer the model signature.\n"
     ]
    },
    {
     "name": "stdout",
     "output_type": "stream",
     "text": [
      "step: 3000, eval loss: 2.485507011413574, eval acc: 0.25\n"
     ]
    },
    {
     "name": "stderr",
     "output_type": "stream",
     "text": []
    },
    {
     "name": "stdout",
     "output_type": "stream",
     "text": [
      "step: 4000, eval loss: 2.485729694366455, eval acc: 0.25\n"
     ]
    },
    {
     "name": "stderr",
     "output_type": "stream",
     "text": [
      "  4%|▍         | 3999/100000 [16:10<6:28:21,  4.12it/s]\n",
      "  5%|▌         | 5/100 [1:05:41<21:42:08, 822.41s/it]"
     ]
    },
    {
     "name": "stdout",
     "output_type": "stream",
     "text": [
      "Training finished!!!\n",
      "[W 2025-04-13 14:38:41,711] Trial 4 failed with parameters: {'lr': 0.014830704164577765} because of the following error: The value None could not be cast to float..\n",
      "[W 2025-04-13 14:38:41,714] Trial 4 failed with value None.\n",
      "{'args': {'dataset': 'mnist', 'model_dir': 'saved_models/', 'model_name': 'mnist_ucc_drn', 'num_instances': 32, 'ucc_start': 1, 'ucc_end': 4, 'batch_size': 20, 'num_samples_per_class': 5, 'num_workers': 4, 'learning_rate': 0.030513332465904038, 'num_bins': 10, 'num_features': 10, 'train_num_steps': 100000, 'val_num_steps': 200, 'save_interval': 1000, 'seed': 22}, 'model': {'num_channels': 1, 'input_shape': [28, 28, 1], 'kde_model': {'num_bins': 10, 'sigma': 0.1}, 'encoder': {'conv_input_channel': 1, 'conv_output_channel': 16, 'block1_output_channel': 321, 'block1_num_layer': 1, 'block2_output_channel': 64, 'block2_num_layer': 1, 'block3_output_channel': 128, 'block3_num_layer': 1, 'flatten_size': 6272, 'num_features': 10}, 'decoder': 'None', 'drn': {'num_bins': 10, 'hidden_q': 10, 'num_layers': 2, 'num_nodes': 9, 'output_bins': 4, 'output_nodes': 3}, 'ucc_classifier': {'dropout_rate': 0.0, 'num_classes': 4}, 'loss': {'alpha': 1}}, 'experiments': {'num_channels': 1, 'input_shape': [28, 28, 1], 'kde_model': {'num_bins': 11, 'sigma': 0.1}, 'encoder': {'conv_input_channel': 1, 'conv_output_channel': 16, 'block1_output_channel': 321, 'block1_num_layer': 1, 'block2_output_channel': 64, 'block2_num_layer': 1, 'block3_output_channel': 128, 'block3_num_layer': 1, 'flatten_size': 6272, 'num_features': 10}, 'decoder': 'None', 'drn': {'num_bins': 11, 'hidden_q': 100, 'num_layers': 1, 'num_nodes': 10, 'output_bins': 4, 'output_nodes': 3}, 'ucc_classifier': {'dropout_rate': 0.0, 'num_classes': 4}, 'loss': {'alpha': 1}}}\n",
      "(10, 10)\n",
      "(10, 10)\n",
      "(4, 10)\n",
      "x_train shape: torch.Size([50000, 1, 28, 28])\n",
      "50000 train samples\n",
      "10000 val samples\n",
      "x_train shape: torch.Size([50000, 1, 28, 28])\n",
      "50000 train samples\n",
      "10000 val samples\n",
      "{'args': {'dataset': 'mnist', 'model_dir': 'saved_models/', 'model_name': 'mnist_ucc_drn', 'num_instances': 32, 'ucc_start': 1, 'ucc_end': 4, 'batch_size': 20, 'num_samples_per_class': 5, 'num_workers': 4, 'learning_rate': 0.030513332465904038, 'num_bins': 10, 'num_features': 10, 'train_num_steps': 100000, 'val_num_steps': 200, 'save_interval': 1000, 'seed': 22}, 'model': {'num_channels': 1, 'input_shape': [28, 28, 1], 'kde_model': {'num_bins': 10, 'sigma': 0.1}, 'encoder': {'conv_input_channel': 1, 'conv_output_channel': 16, 'block1_output_channel': 321, 'block1_num_layer': 1, 'block2_output_channel': 64, 'block2_num_layer': 1, 'block3_output_channel': 128, 'block3_num_layer': 1, 'flatten_size': 6272, 'num_features': 10}, 'decoder': 'None', 'drn': {'num_bins': 10, 'hidden_q': 10, 'num_layers': 2, 'num_nodes': 9, 'output_bins': 4, 'output_nodes': 3}, 'ucc_classifier': {'dropout_rate': 0.0, 'num_classes': 4}, 'loss': {'alpha': 1}}, 'experiments': {'num_channels': 1, 'input_shape': [28, 28, 1], 'kde_model': {'num_bins': 11, 'sigma': 0.1}, 'encoder': {'conv_input_channel': 1, 'conv_output_channel': 16, 'block1_output_channel': 321, 'block1_num_layer': 1, 'block2_output_channel': 64, 'block2_num_layer': 1, 'block3_output_channel': 128, 'block3_num_layer': 1, 'flatten_size': 6272, 'num_features': 10}, 'decoder': 'None', 'drn': {'num_bins': 11, 'hidden_q': 100, 'num_layers': 1, 'num_nodes': 10, 'output_bins': 4, 'output_nodes': 3}, 'ucc_classifier': {'dropout_rate': 0.0, 'num_classes': 4}, 'loss': {'alpha': 1}}}\n"
     ]
    },
    {
     "name": "stderr",
     "output_type": "stream",
     "text": [
      "2025/04/13 14:42:50 WARNING mlflow.utils.requirements_utils: Found torch version (2.5.1+cu124) contains a local version label (+cu124). MLflow logged a pip requirement for this package as 'torch==2.5.1' without the local version label to make it installable from PyPI. To specify pip requirements containing local version labels, please use `conda_env` or `pip_requirements`.\n"
     ]
    },
    {
     "name": "stdout",
     "output_type": "stream",
     "text": [
      "step: 1000, eval loss: 2.4925200939178467, eval acc: 0.25\n"
     ]
    },
    {
     "name": "stderr",
     "output_type": "stream",
     "text": [
      "2025/04/13 14:42:56 WARNING mlflow.utils.requirements_utils: Found torch version (2.5.1+cu124) contains a local version label (+cu124). MLflow logged a pip requirement for this package as 'torch==2.5.1' without the local version label to make it installable from PyPI. To specify pip requirements containing local version labels, please use `conda_env` or `pip_requirements`.\n",
      "2025/04/13 14:42:56 WARNING mlflow.models.model: Model logged without a signature and input example. Please set `input_example` parameter when logging the model to auto infer the model signature.\n",
      "\n"
     ]
    },
    {
     "name": "stdout",
     "output_type": "stream",
     "text": [
      "step: 2000, eval loss: 2.487121105194092, eval acc: 0.25\n"
     ]
    },
    {
     "name": "stderr",
     "output_type": "stream",
     "text": [
      "  2%|▏         | 2001/100000 [08:14<71:33:28,  2.63s/it]\u001b[A"
     ]
    },
    {
     "name": "stdout",
     "output_type": "stream",
     "text": [
      "step: 3000, eval loss: 2.4863502979278564, eval acc: 0.25\n"
     ]
    },
    {
     "name": "stderr",
     "output_type": "stream",
     "text": [
      "  3%|▎         | 2999/100000 [12:13<6:35:28,  4.09it/s]\n",
      "  6%|▌         | 6/100 [1:17:55<20:41:37, 792.53s/it]"
     ]
    },
    {
     "name": "stdout",
     "output_type": "stream",
     "text": [
      "Training finished!!!\n",
      "[W 2025-04-13 14:50:56,247] Trial 5 failed with parameters: {'lr': 0.030513332465904038} because of the following error: The value None could not be cast to float..\n",
      "[W 2025-04-13 14:50:56,250] Trial 5 failed with value None.\n",
      "{'args': {'dataset': 'mnist', 'model_dir': 'saved_models/', 'model_name': 'mnist_ucc_drn', 'num_instances': 32, 'ucc_start': 1, 'ucc_end': 4, 'batch_size': 20, 'num_samples_per_class': 5, 'num_workers': 4, 'learning_rate': 0.04183310388069699, 'num_bins': 10, 'num_features': 10, 'train_num_steps': 100000, 'val_num_steps': 200, 'save_interval': 1000, 'seed': 22}, 'model': {'num_channels': 1, 'input_shape': [28, 28, 1], 'kde_model': {'num_bins': 10, 'sigma': 0.1}, 'encoder': {'conv_input_channel': 1, 'conv_output_channel': 16, 'block1_output_channel': 321, 'block1_num_layer': 1, 'block2_output_channel': 64, 'block2_num_layer': 1, 'block3_output_channel': 128, 'block3_num_layer': 1, 'flatten_size': 6272, 'num_features': 10}, 'decoder': 'None', 'drn': {'num_bins': 10, 'hidden_q': 10, 'num_layers': 2, 'num_nodes': 9, 'output_bins': 4, 'output_nodes': 3}, 'ucc_classifier': {'dropout_rate': 0.0, 'num_classes': 4}, 'loss': {'alpha': 1}}, 'experiments': {'num_channels': 1, 'input_shape': [28, 28, 1], 'kde_model': {'num_bins': 11, 'sigma': 0.1}, 'encoder': {'conv_input_channel': 1, 'conv_output_channel': 16, 'block1_output_channel': 321, 'block1_num_layer': 1, 'block2_output_channel': 64, 'block2_num_layer': 1, 'block3_output_channel': 128, 'block3_num_layer': 1, 'flatten_size': 6272, 'num_features': 10}, 'decoder': 'None', 'drn': {'num_bins': 11, 'hidden_q': 100, 'num_layers': 1, 'num_nodes': 10, 'output_bins': 4, 'output_nodes': 3}, 'ucc_classifier': {'dropout_rate': 0.0, 'num_classes': 4}, 'loss': {'alpha': 1}}}\n",
      "(10, 10)\n",
      "(10, 10)\n",
      "(4, 10)\n",
      "x_train shape: torch.Size([50000, 1, 28, 28])\n",
      "50000 train samples\n",
      "10000 val samples\n",
      "x_train shape: torch.Size([50000, 1, 28, 28])\n",
      "50000 train samples\n",
      "10000 val samples\n",
      "{'args': {'dataset': 'mnist', 'model_dir': 'saved_models/', 'model_name': 'mnist_ucc_drn', 'num_instances': 32, 'ucc_start': 1, 'ucc_end': 4, 'batch_size': 20, 'num_samples_per_class': 5, 'num_workers': 4, 'learning_rate': 0.04183310388069699, 'num_bins': 10, 'num_features': 10, 'train_num_steps': 100000, 'val_num_steps': 200, 'save_interval': 1000, 'seed': 22}, 'model': {'num_channels': 1, 'input_shape': [28, 28, 1], 'kde_model': {'num_bins': 10, 'sigma': 0.1}, 'encoder': {'conv_input_channel': 1, 'conv_output_channel': 16, 'block1_output_channel': 321, 'block1_num_layer': 1, 'block2_output_channel': 64, 'block2_num_layer': 1, 'block3_output_channel': 128, 'block3_num_layer': 1, 'flatten_size': 6272, 'num_features': 10}, 'decoder': 'None', 'drn': {'num_bins': 10, 'hidden_q': 10, 'num_layers': 2, 'num_nodes': 9, 'output_bins': 4, 'output_nodes': 3}, 'ucc_classifier': {'dropout_rate': 0.0, 'num_classes': 4}, 'loss': {'alpha': 1}}, 'experiments': {'num_channels': 1, 'input_shape': [28, 28, 1], 'kde_model': {'num_bins': 11, 'sigma': 0.1}, 'encoder': {'conv_input_channel': 1, 'conv_output_channel': 16, 'block1_output_channel': 321, 'block1_num_layer': 1, 'block2_output_channel': 64, 'block2_num_layer': 1, 'block3_output_channel': 128, 'block3_num_layer': 1, 'flatten_size': 6272, 'num_features': 10}, 'decoder': 'None', 'drn': {'num_bins': 11, 'hidden_q': 100, 'num_layers': 1, 'num_nodes': 10, 'output_bins': 4, 'output_nodes': 3}, 'ucc_classifier': {'dropout_rate': 0.0, 'num_classes': 4}, 'loss': {'alpha': 1}}}\n"
     ]
    },
    {
     "name": "stderr",
     "output_type": "stream",
     "text": [
      "2025/04/13 14:55:04 WARNING mlflow.utils.requirements_utils: Found torch version (2.5.1+cu124) contains a local version label (+cu124). MLflow logged a pip requirement for this package as 'torch==2.5.1' without the local version label to make it installable from PyPI. To specify pip requirements containing local version labels, please use `conda_env` or `pip_requirements`.\n"
     ]
    },
    {
     "name": "stdout",
     "output_type": "stream",
     "text": [
      "step: 1000, eval loss: 2.485135078430176, eval acc: 0.25\n"
     ]
    },
    {
     "name": "stderr",
     "output_type": "stream",
     "text": [
      "2025/04/13 14:55:09 WARNING mlflow.utils.requirements_utils: Found torch version (2.5.1+cu124) contains a local version label (+cu124). MLflow logged a pip requirement for this package as 'torch==2.5.1' without the local version label to make it installable from PyPI. To specify pip requirements containing local version labels, please use `conda_env` or `pip_requirements`.\n",
      "2025/04/13 14:55:09 WARNING mlflow.models.model: Model logged without a signature and input example. Please set `input_example` parameter when logging the model to auto infer the model signature.\n"
     ]
    },
    {
     "name": "stdout",
     "output_type": "stream",
     "text": [
      "step: 2000, eval loss: 2.485454559326172, eval acc: 0.25\n"
     ]
    },
    {
     "name": "stderr",
     "output_type": "stream",
     "text": []
    },
    {
     "name": "stdout",
     "output_type": "stream",
     "text": [
      "step: 3000, eval loss: 2.485581636428833, eval acc: 0.25\n"
     ]
    },
    {
     "name": "stderr",
     "output_type": "stream",
     "text": [
      "  3%|▎         | 2999/100000 [12:12<6:34:36,  4.10it/s]\n",
      "  7%|▋         | 7/100 [1:30:08<19:58:13, 773.05s/it]"
     ]
    },
    {
     "name": "stdout",
     "output_type": "stream",
     "text": [
      "Training finished!!!\n",
      "[W 2025-04-13 15:03:09,184] Trial 6 failed with parameters: {'lr': 0.04183310388069699} because of the following error: The value None could not be cast to float..\n",
      "[W 2025-04-13 15:03:09,186] Trial 6 failed with value None.\n",
      "{'args': {'dataset': 'mnist', 'model_dir': 'saved_models/', 'model_name': 'mnist_ucc_drn', 'num_instances': 32, 'ucc_start': 1, 'ucc_end': 4, 'batch_size': 20, 'num_samples_per_class': 5, 'num_workers': 4, 'learning_rate': 0.06086877384780619, 'num_bins': 10, 'num_features': 10, 'train_num_steps': 100000, 'val_num_steps': 200, 'save_interval': 1000, 'seed': 22}, 'model': {'num_channels': 1, 'input_shape': [28, 28, 1], 'kde_model': {'num_bins': 10, 'sigma': 0.1}, 'encoder': {'conv_input_channel': 1, 'conv_output_channel': 16, 'block1_output_channel': 321, 'block1_num_layer': 1, 'block2_output_channel': 64, 'block2_num_layer': 1, 'block3_output_channel': 128, 'block3_num_layer': 1, 'flatten_size': 6272, 'num_features': 10}, 'decoder': 'None', 'drn': {'num_bins': 10, 'hidden_q': 10, 'num_layers': 2, 'num_nodes': 9, 'output_bins': 4, 'output_nodes': 3}, 'ucc_classifier': {'dropout_rate': 0.0, 'num_classes': 4}, 'loss': {'alpha': 1}}, 'experiments': {'num_channels': 1, 'input_shape': [28, 28, 1], 'kde_model': {'num_bins': 11, 'sigma': 0.1}, 'encoder': {'conv_input_channel': 1, 'conv_output_channel': 16, 'block1_output_channel': 321, 'block1_num_layer': 1, 'block2_output_channel': 64, 'block2_num_layer': 1, 'block3_output_channel': 128, 'block3_num_layer': 1, 'flatten_size': 6272, 'num_features': 10}, 'decoder': 'None', 'drn': {'num_bins': 11, 'hidden_q': 100, 'num_layers': 1, 'num_nodes': 10, 'output_bins': 4, 'output_nodes': 3}, 'ucc_classifier': {'dropout_rate': 0.0, 'num_classes': 4}, 'loss': {'alpha': 1}}}\n",
      "(10, 10)\n",
      "(10, 10)\n",
      "(4, 10)\n",
      "x_train shape: torch.Size([50000, 1, 28, 28])\n",
      "50000 train samples\n",
      "10000 val samples\n",
      "x_train shape: torch.Size([50000, 1, 28, 28])\n",
      "50000 train samples\n",
      "10000 val samples\n",
      "{'args': {'dataset': 'mnist', 'model_dir': 'saved_models/', 'model_name': 'mnist_ucc_drn', 'num_instances': 32, 'ucc_start': 1, 'ucc_end': 4, 'batch_size': 20, 'num_samples_per_class': 5, 'num_workers': 4, 'learning_rate': 0.06086877384780619, 'num_bins': 10, 'num_features': 10, 'train_num_steps': 100000, 'val_num_steps': 200, 'save_interval': 1000, 'seed': 22}, 'model': {'num_channels': 1, 'input_shape': [28, 28, 1], 'kde_model': {'num_bins': 10, 'sigma': 0.1}, 'encoder': {'conv_input_channel': 1, 'conv_output_channel': 16, 'block1_output_channel': 321, 'block1_num_layer': 1, 'block2_output_channel': 64, 'block2_num_layer': 1, 'block3_output_channel': 128, 'block3_num_layer': 1, 'flatten_size': 6272, 'num_features': 10}, 'decoder': 'None', 'drn': {'num_bins': 10, 'hidden_q': 10, 'num_layers': 2, 'num_nodes': 9, 'output_bins': 4, 'output_nodes': 3}, 'ucc_classifier': {'dropout_rate': 0.0, 'num_classes': 4}, 'loss': {'alpha': 1}}, 'experiments': {'num_channels': 1, 'input_shape': [28, 28, 1], 'kde_model': {'num_bins': 11, 'sigma': 0.1}, 'encoder': {'conv_input_channel': 1, 'conv_output_channel': 16, 'block1_output_channel': 321, 'block1_num_layer': 1, 'block2_output_channel': 64, 'block2_num_layer': 1, 'block3_output_channel': 128, 'block3_num_layer': 1, 'flatten_size': 6272, 'num_features': 10}, 'decoder': 'None', 'drn': {'num_bins': 11, 'hidden_q': 100, 'num_layers': 1, 'num_nodes': 10, 'output_bins': 4, 'output_nodes': 3}, 'ucc_classifier': {'dropout_rate': 0.0, 'num_classes': 4}, 'loss': {'alpha': 1}}}\n"
     ]
    },
    {
     "name": "stderr",
     "output_type": "stream",
     "text": [
      "2025/04/13 15:07:17 WARNING mlflow.utils.requirements_utils: Found torch version (2.5.1+cu124) contains a local version label (+cu124). MLflow logged a pip requirement for this package as 'torch==2.5.1' without the local version label to make it installable from PyPI. To specify pip requirements containing local version labels, please use `conda_env` or `pip_requirements`.\n"
     ]
    },
    {
     "name": "stdout",
     "output_type": "stream",
     "text": [
      "step: 1000, eval loss: 2.4852640628814697, eval acc: 0.25\n"
     ]
    },
    {
     "name": "stderr",
     "output_type": "stream",
     "text": [
      "2025/04/13 15:07:23 WARNING mlflow.utils.requirements_utils: Found torch version (2.5.1+cu124) contains a local version label (+cu124). MLflow logged a pip requirement for this package as 'torch==2.5.1' without the local version label to make it installable from PyPI. To specify pip requirements containing local version labels, please use `conda_env` or `pip_requirements`.\n",
      "2025/04/13 15:07:23 WARNING mlflow.models.model: Model logged without a signature and input example. Please set `input_example` parameter when logging the model to auto infer the model signature.\n"
     ]
    },
    {
     "name": "stdout",
     "output_type": "stream",
     "text": [
      "step: 2000, eval loss: 2.4863224029541016, eval acc: 0.25\n"
     ]
    },
    {
     "name": "stderr",
     "output_type": "stream",
     "text": []
    },
    {
     "name": "stdout",
     "output_type": "stream",
     "text": [
      "step: 3000, eval loss: 2.4871020317077637, eval acc: 0.25\n"
     ]
    },
    {
     "name": "stderr",
     "output_type": "stream",
     "text": [
      "  3%|▎         | 2999/100000 [12:15<6:36:18,  4.08it/s]\n",
      "  8%|▊         | 8/100 [1:42:24<19:27:17, 761.28s/it]"
     ]
    },
    {
     "name": "stdout",
     "output_type": "stream",
     "text": [
      "Training finished!!!\n",
      "[W 2025-04-13 15:15:25,251] Trial 7 failed with parameters: {'lr': 0.06086877384780619} because of the following error: The value None could not be cast to float..\n",
      "[W 2025-04-13 15:15:25,255] Trial 7 failed with value None.\n",
      "{'args': {'dataset': 'mnist', 'model_dir': 'saved_models/', 'model_name': 'mnist_ucc_drn', 'num_instances': 32, 'ucc_start': 1, 'ucc_end': 4, 'batch_size': 20, 'num_samples_per_class': 5, 'num_workers': 4, 'learning_rate': 0.06388274741897157, 'num_bins': 10, 'num_features': 10, 'train_num_steps': 100000, 'val_num_steps': 200, 'save_interval': 1000, 'seed': 22}, 'model': {'num_channels': 1, 'input_shape': [28, 28, 1], 'kde_model': {'num_bins': 10, 'sigma': 0.1}, 'encoder': {'conv_input_channel': 1, 'conv_output_channel': 16, 'block1_output_channel': 321, 'block1_num_layer': 1, 'block2_output_channel': 64, 'block2_num_layer': 1, 'block3_output_channel': 128, 'block3_num_layer': 1, 'flatten_size': 6272, 'num_features': 10}, 'decoder': 'None', 'drn': {'num_bins': 10, 'hidden_q': 10, 'num_layers': 2, 'num_nodes': 9, 'output_bins': 4, 'output_nodes': 3}, 'ucc_classifier': {'dropout_rate': 0.0, 'num_classes': 4}, 'loss': {'alpha': 1}}, 'experiments': {'num_channels': 1, 'input_shape': [28, 28, 1], 'kde_model': {'num_bins': 11, 'sigma': 0.1}, 'encoder': {'conv_input_channel': 1, 'conv_output_channel': 16, 'block1_output_channel': 321, 'block1_num_layer': 1, 'block2_output_channel': 64, 'block2_num_layer': 1, 'block3_output_channel': 128, 'block3_num_layer': 1, 'flatten_size': 6272, 'num_features': 10}, 'decoder': 'None', 'drn': {'num_bins': 11, 'hidden_q': 100, 'num_layers': 1, 'num_nodes': 10, 'output_bins': 4, 'output_nodes': 3}, 'ucc_classifier': {'dropout_rate': 0.0, 'num_classes': 4}, 'loss': {'alpha': 1}}}\n",
      "(10, 10)\n",
      "(10, 10)\n",
      "(4, 10)\n",
      "x_train shape: torch.Size([50000, 1, 28, 28])\n",
      "50000 train samples\n",
      "10000 val samples\n",
      "x_train shape: torch.Size([50000, 1, 28, 28])\n",
      "50000 train samples\n",
      "10000 val samples\n",
      "{'args': {'dataset': 'mnist', 'model_dir': 'saved_models/', 'model_name': 'mnist_ucc_drn', 'num_instances': 32, 'ucc_start': 1, 'ucc_end': 4, 'batch_size': 20, 'num_samples_per_class': 5, 'num_workers': 4, 'learning_rate': 0.06388274741897157, 'num_bins': 10, 'num_features': 10, 'train_num_steps': 100000, 'val_num_steps': 200, 'save_interval': 1000, 'seed': 22}, 'model': {'num_channels': 1, 'input_shape': [28, 28, 1], 'kde_model': {'num_bins': 10, 'sigma': 0.1}, 'encoder': {'conv_input_channel': 1, 'conv_output_channel': 16, 'block1_output_channel': 321, 'block1_num_layer': 1, 'block2_output_channel': 64, 'block2_num_layer': 1, 'block3_output_channel': 128, 'block3_num_layer': 1, 'flatten_size': 6272, 'num_features': 10}, 'decoder': 'None', 'drn': {'num_bins': 10, 'hidden_q': 10, 'num_layers': 2, 'num_nodes': 9, 'output_bins': 4, 'output_nodes': 3}, 'ucc_classifier': {'dropout_rate': 0.0, 'num_classes': 4}, 'loss': {'alpha': 1}}, 'experiments': {'num_channels': 1, 'input_shape': [28, 28, 1], 'kde_model': {'num_bins': 11, 'sigma': 0.1}, 'encoder': {'conv_input_channel': 1, 'conv_output_channel': 16, 'block1_output_channel': 321, 'block1_num_layer': 1, 'block2_output_channel': 64, 'block2_num_layer': 1, 'block3_output_channel': 128, 'block3_num_layer': 1, 'flatten_size': 6272, 'num_features': 10}, 'decoder': 'None', 'drn': {'num_bins': 11, 'hidden_q': 100, 'num_layers': 1, 'num_nodes': 10, 'output_bins': 4, 'output_nodes': 3}, 'ucc_classifier': {'dropout_rate': 0.0, 'num_classes': 4}, 'loss': {'alpha': 1}}}\n"
     ]
    },
    {
     "name": "stderr",
     "output_type": "stream",
     "text": [
      "2025/04/13 15:19:34 WARNING mlflow.utils.requirements_utils: Found torch version (2.5.1+cu124) contains a local version label (+cu124). MLflow logged a pip requirement for this package as 'torch==2.5.1' without the local version label to make it installable from PyPI. To specify pip requirements containing local version labels, please use `conda_env` or `pip_requirements`.\n"
     ]
    },
    {
     "name": "stdout",
     "output_type": "stream",
     "text": [
      "step: 1000, eval loss: 2.4854049682617188, eval acc: 0.25\n"
     ]
    },
    {
     "name": "stderr",
     "output_type": "stream",
     "text": [
      "2025/04/13 15:19:40 WARNING mlflow.utils.requirements_utils: Found torch version (2.5.1+cu124) contains a local version label (+cu124). MLflow logged a pip requirement for this package as 'torch==2.5.1' without the local version label to make it installable from PyPI. To specify pip requirements containing local version labels, please use `conda_env` or `pip_requirements`.\n",
      "2025/04/13 15:19:40 WARNING mlflow.models.model: Model logged without a signature and input example. Please set `input_example` parameter when logging the model to auto infer the model signature.\n"
     ]
    },
    {
     "name": "stdout",
     "output_type": "stream",
     "text": [
      "step: 2000, eval loss: 2.4894237518310547, eval acc: 0.25\n"
     ]
    },
    {
     "name": "stderr",
     "output_type": "stream",
     "text": []
    },
    {
     "name": "stdout",
     "output_type": "stream",
     "text": [
      "step: 3000, eval loss: 2.485335111618042, eval acc: 0.25\n"
     ]
    },
    {
     "name": "stderr",
     "output_type": "stream",
     "text": [
      "  3%|▎         | 2999/100000 [12:15<6:36:32,  4.08it/s]\n",
      "  9%|▉         | 9/100 [1:54:41<19:02:53, 753.55s/it]"
     ]
    },
    {
     "name": "stdout",
     "output_type": "stream",
     "text": [
      "Training finished!!!\n",
      "[W 2025-04-13 15:27:41,821] Trial 8 failed with parameters: {'lr': 0.06388274741897157} because of the following error: The value None could not be cast to float..\n",
      "[W 2025-04-13 15:27:41,825] Trial 8 failed with value None.\n",
      "{'args': {'dataset': 'mnist', 'model_dir': 'saved_models/', 'model_name': 'mnist_ucc_drn', 'num_instances': 32, 'ucc_start': 1, 'ucc_end': 4, 'batch_size': 20, 'num_samples_per_class': 5, 'num_workers': 4, 'learning_rate': 0.06181500799632994, 'num_bins': 10, 'num_features': 10, 'train_num_steps': 100000, 'val_num_steps': 200, 'save_interval': 1000, 'seed': 22}, 'model': {'num_channels': 1, 'input_shape': [28, 28, 1], 'kde_model': {'num_bins': 10, 'sigma': 0.1}, 'encoder': {'conv_input_channel': 1, 'conv_output_channel': 16, 'block1_output_channel': 321, 'block1_num_layer': 1, 'block2_output_channel': 64, 'block2_num_layer': 1, 'block3_output_channel': 128, 'block3_num_layer': 1, 'flatten_size': 6272, 'num_features': 10}, 'decoder': 'None', 'drn': {'num_bins': 10, 'hidden_q': 10, 'num_layers': 2, 'num_nodes': 9, 'output_bins': 4, 'output_nodes': 3}, 'ucc_classifier': {'dropout_rate': 0.0, 'num_classes': 4}, 'loss': {'alpha': 1}}, 'experiments': {'num_channels': 1, 'input_shape': [28, 28, 1], 'kde_model': {'num_bins': 11, 'sigma': 0.1}, 'encoder': {'conv_input_channel': 1, 'conv_output_channel': 16, 'block1_output_channel': 321, 'block1_num_layer': 1, 'block2_output_channel': 64, 'block2_num_layer': 1, 'block3_output_channel': 128, 'block3_num_layer': 1, 'flatten_size': 6272, 'num_features': 10}, 'decoder': 'None', 'drn': {'num_bins': 11, 'hidden_q': 100, 'num_layers': 1, 'num_nodes': 10, 'output_bins': 4, 'output_nodes': 3}, 'ucc_classifier': {'dropout_rate': 0.0, 'num_classes': 4}, 'loss': {'alpha': 1}}}\n",
      "(10, 10)\n",
      "(10, 10)\n",
      "(4, 10)\n",
      "x_train shape: torch.Size([50000, 1, 28, 28])\n",
      "50000 train samples\n",
      "10000 val samples\n",
      "x_train shape: torch.Size([50000, 1, 28, 28])\n",
      "50000 train samples\n",
      "10000 val samples\n",
      "{'args': {'dataset': 'mnist', 'model_dir': 'saved_models/', 'model_name': 'mnist_ucc_drn', 'num_instances': 32, 'ucc_start': 1, 'ucc_end': 4, 'batch_size': 20, 'num_samples_per_class': 5, 'num_workers': 4, 'learning_rate': 0.06181500799632994, 'num_bins': 10, 'num_features': 10, 'train_num_steps': 100000, 'val_num_steps': 200, 'save_interval': 1000, 'seed': 22}, 'model': {'num_channels': 1, 'input_shape': [28, 28, 1], 'kde_model': {'num_bins': 10, 'sigma': 0.1}, 'encoder': {'conv_input_channel': 1, 'conv_output_channel': 16, 'block1_output_channel': 321, 'block1_num_layer': 1, 'block2_output_channel': 64, 'block2_num_layer': 1, 'block3_output_channel': 128, 'block3_num_layer': 1, 'flatten_size': 6272, 'num_features': 10}, 'decoder': 'None', 'drn': {'num_bins': 10, 'hidden_q': 10, 'num_layers': 2, 'num_nodes': 9, 'output_bins': 4, 'output_nodes': 3}, 'ucc_classifier': {'dropout_rate': 0.0, 'num_classes': 4}, 'loss': {'alpha': 1}}, 'experiments': {'num_channels': 1, 'input_shape': [28, 28, 1], 'kde_model': {'num_bins': 11, 'sigma': 0.1}, 'encoder': {'conv_input_channel': 1, 'conv_output_channel': 16, 'block1_output_channel': 321, 'block1_num_layer': 1, 'block2_output_channel': 64, 'block2_num_layer': 1, 'block3_output_channel': 128, 'block3_num_layer': 1, 'flatten_size': 6272, 'num_features': 10}, 'decoder': 'None', 'drn': {'num_bins': 11, 'hidden_q': 100, 'num_layers': 1, 'num_nodes': 10, 'output_bins': 4, 'output_nodes': 3}, 'ucc_classifier': {'dropout_rate': 0.0, 'num_classes': 4}, 'loss': {'alpha': 1}}}\n"
     ]
    },
    {
     "name": "stderr",
     "output_type": "stream",
     "text": [
      "2025/04/13 15:31:52 WARNING mlflow.utils.requirements_utils: Found torch version (2.5.1+cu124) contains a local version label (+cu124). MLflow logged a pip requirement for this package as 'torch==2.5.1' without the local version label to make it installable from PyPI. To specify pip requirements containing local version labels, please use `conda_env` or `pip_requirements`.\n"
     ]
    },
    {
     "name": "stdout",
     "output_type": "stream",
     "text": [
      "step: 1000, eval loss: 2.4858152866363525, eval acc: 0.25\n"
     ]
    },
    {
     "name": "stderr",
     "output_type": "stream",
     "text": [
      "2025/04/13 15:31:57 WARNING mlflow.utils.requirements_utils: Found torch version (2.5.1+cu124) contains a local version label (+cu124). MLflow logged a pip requirement for this package as 'torch==2.5.1' without the local version label to make it installable from PyPI. To specify pip requirements containing local version labels, please use `conda_env` or `pip_requirements`.\n",
      "2025/04/13 15:31:57 WARNING mlflow.models.model: Model logged without a signature and input example. Please set `input_example` parameter when logging the model to auto infer the model signature.\n"
     ]
    },
    {
     "name": "stdout",
     "output_type": "stream",
     "text": [
      "step: 2000, eval loss: 2.4871373176574707, eval acc: 0.25\n"
     ]
    },
    {
     "name": "stderr",
     "output_type": "stream",
     "text": []
    },
    {
     "name": "stdout",
     "output_type": "stream",
     "text": [
      "step: 3000, eval loss: 2.4856090545654297, eval acc: 0.25\n"
     ]
    },
    {
     "name": "stderr",
     "output_type": "stream",
     "text": [
      "  3%|▎         | 2999/100000 [12:18<6:37:54,  4.06it/s]\n",
      " 10%|█         | 10/100 [2:07:00<18:43:37, 749.08s/it]"
     ]
    },
    {
     "name": "stdout",
     "output_type": "stream",
     "text": [
      "Training finished!!!\n",
      "[W 2025-04-13 15:40:00,905] Trial 9 failed with parameters: {'lr': 0.06181500799632994} because of the following error: The value None could not be cast to float..\n",
      "[W 2025-04-13 15:40:00,907] Trial 9 failed with value None.\n",
      "{'args': {'dataset': 'mnist', 'model_dir': 'saved_models/', 'model_name': 'mnist_ucc_drn', 'num_instances': 32, 'ucc_start': 1, 'ucc_end': 4, 'batch_size': 20, 'num_samples_per_class': 5, 'num_workers': 4, 'learning_rate': 0.059662131954414784, 'num_bins': 10, 'num_features': 10, 'train_num_steps': 100000, 'val_num_steps': 200, 'save_interval': 1000, 'seed': 22}, 'model': {'num_channels': 1, 'input_shape': [28, 28, 1], 'kde_model': {'num_bins': 10, 'sigma': 0.1}, 'encoder': {'conv_input_channel': 1, 'conv_output_channel': 16, 'block1_output_channel': 321, 'block1_num_layer': 1, 'block2_output_channel': 64, 'block2_num_layer': 1, 'block3_output_channel': 128, 'block3_num_layer': 1, 'flatten_size': 6272, 'num_features': 10}, 'decoder': 'None', 'drn': {'num_bins': 10, 'hidden_q': 10, 'num_layers': 2, 'num_nodes': 9, 'output_bins': 4, 'output_nodes': 3}, 'ucc_classifier': {'dropout_rate': 0.0, 'num_classes': 4}, 'loss': {'alpha': 1}}, 'experiments': {'num_channels': 1, 'input_shape': [28, 28, 1], 'kde_model': {'num_bins': 11, 'sigma': 0.1}, 'encoder': {'conv_input_channel': 1, 'conv_output_channel': 16, 'block1_output_channel': 321, 'block1_num_layer': 1, 'block2_output_channel': 64, 'block2_num_layer': 1, 'block3_output_channel': 128, 'block3_num_layer': 1, 'flatten_size': 6272, 'num_features': 10}, 'decoder': 'None', 'drn': {'num_bins': 11, 'hidden_q': 100, 'num_layers': 1, 'num_nodes': 10, 'output_bins': 4, 'output_nodes': 3}, 'ucc_classifier': {'dropout_rate': 0.0, 'num_classes': 4}, 'loss': {'alpha': 1}}}\n",
      "(10, 10)\n",
      "(10, 10)\n",
      "(4, 10)\n",
      "x_train shape: torch.Size([50000, 1, 28, 28])\n",
      "50000 train samples\n",
      "10000 val samples\n",
      "x_train shape: torch.Size([50000, 1, 28, 28])\n",
      "50000 train samples\n",
      "10000 val samples\n",
      "{'args': {'dataset': 'mnist', 'model_dir': 'saved_models/', 'model_name': 'mnist_ucc_drn', 'num_instances': 32, 'ucc_start': 1, 'ucc_end': 4, 'batch_size': 20, 'num_samples_per_class': 5, 'num_workers': 4, 'learning_rate': 0.059662131954414784, 'num_bins': 10, 'num_features': 10, 'train_num_steps': 100000, 'val_num_steps': 200, 'save_interval': 1000, 'seed': 22}, 'model': {'num_channels': 1, 'input_shape': [28, 28, 1], 'kde_model': {'num_bins': 10, 'sigma': 0.1}, 'encoder': {'conv_input_channel': 1, 'conv_output_channel': 16, 'block1_output_channel': 321, 'block1_num_layer': 1, 'block2_output_channel': 64, 'block2_num_layer': 1, 'block3_output_channel': 128, 'block3_num_layer': 1, 'flatten_size': 6272, 'num_features': 10}, 'decoder': 'None', 'drn': {'num_bins': 10, 'hidden_q': 10, 'num_layers': 2, 'num_nodes': 9, 'output_bins': 4, 'output_nodes': 3}, 'ucc_classifier': {'dropout_rate': 0.0, 'num_classes': 4}, 'loss': {'alpha': 1}}, 'experiments': {'num_channels': 1, 'input_shape': [28, 28, 1], 'kde_model': {'num_bins': 11, 'sigma': 0.1}, 'encoder': {'conv_input_channel': 1, 'conv_output_channel': 16, 'block1_output_channel': 321, 'block1_num_layer': 1, 'block2_output_channel': 64, 'block2_num_layer': 1, 'block3_output_channel': 128, 'block3_num_layer': 1, 'flatten_size': 6272, 'num_features': 10}, 'decoder': 'None', 'drn': {'num_bins': 11, 'hidden_q': 100, 'num_layers': 1, 'num_nodes': 10, 'output_bins': 4, 'output_nodes': 3}, 'ucc_classifier': {'dropout_rate': 0.0, 'num_classes': 4}, 'loss': {'alpha': 1}}}\n"
     ]
    },
    {
     "name": "stderr",
     "output_type": "stream",
     "text": [
      "2025/04/13 15:44:11 WARNING mlflow.utils.requirements_utils: Found torch version (2.5.1+cu124) contains a local version label (+cu124). MLflow logged a pip requirement for this package as 'torch==2.5.1' without the local version label to make it installable from PyPI. To specify pip requirements containing local version labels, please use `conda_env` or `pip_requirements`.\n"
     ]
    },
    {
     "name": "stdout",
     "output_type": "stream",
     "text": [
      "step: 1000, eval loss: 2.4856247901916504, eval acc: 0.25\n"
     ]
    },
    {
     "name": "stderr",
     "output_type": "stream",
     "text": [
      "2025/04/13 15:44:17 WARNING mlflow.utils.requirements_utils: Found torch version (2.5.1+cu124) contains a local version label (+cu124). MLflow logged a pip requirement for this package as 'torch==2.5.1' without the local version label to make it installable from PyPI. To specify pip requirements containing local version labels, please use `conda_env` or `pip_requirements`.\n",
      "2025/04/13 15:44:17 WARNING mlflow.models.model: Model logged without a signature and input example. Please set `input_example` parameter when logging the model to auto infer the model signature.\n"
     ]
    },
    {
     "name": "stdout",
     "output_type": "stream",
     "text": [
      "step: 2000, eval loss: 2.486650228500366, eval acc: 0.25\n"
     ]
    },
    {
     "name": "stderr",
     "output_type": "stream",
     "text": []
    },
    {
     "name": "stdout",
     "output_type": "stream",
     "text": [
      "step: 3000, eval loss: 2.486341953277588, eval acc: 0.25\n"
     ]
    },
    {
     "name": "stderr",
     "output_type": "stream",
     "text": [
      "  3%|▎         | 2999/100000 [12:21<6:39:43,  4.04it/s]\n",
      " 11%|█         | 11/100 [2:19:22<18:28:07, 747.05s/it]"
     ]
    },
    {
     "name": "stdout",
     "output_type": "stream",
     "text": [
      "Training finished!!!\n",
      "[W 2025-04-13 15:52:23,327] Trial 10 failed with parameters: {'lr': 0.059662131954414784} because of the following error: The value None could not be cast to float..\n",
      "[W 2025-04-13 15:52:23,330] Trial 10 failed with value None.\n",
      "{'args': {'dataset': 'mnist', 'model_dir': 'saved_models/', 'model_name': 'mnist_ucc_drn', 'num_instances': 32, 'ucc_start': 1, 'ucc_end': 4, 'batch_size': 20, 'num_samples_per_class': 5, 'num_workers': 4, 'learning_rate': 0.04107411012070926, 'num_bins': 10, 'num_features': 10, 'train_num_steps': 100000, 'val_num_steps': 200, 'save_interval': 1000, 'seed': 22}, 'model': {'num_channels': 1, 'input_shape': [28, 28, 1], 'kde_model': {'num_bins': 10, 'sigma': 0.1}, 'encoder': {'conv_input_channel': 1, 'conv_output_channel': 16, 'block1_output_channel': 321, 'block1_num_layer': 1, 'block2_output_channel': 64, 'block2_num_layer': 1, 'block3_output_channel': 128, 'block3_num_layer': 1, 'flatten_size': 6272, 'num_features': 10}, 'decoder': 'None', 'drn': {'num_bins': 10, 'hidden_q': 10, 'num_layers': 2, 'num_nodes': 9, 'output_bins': 4, 'output_nodes': 3}, 'ucc_classifier': {'dropout_rate': 0.0, 'num_classes': 4}, 'loss': {'alpha': 1}}, 'experiments': {'num_channels': 1, 'input_shape': [28, 28, 1], 'kde_model': {'num_bins': 11, 'sigma': 0.1}, 'encoder': {'conv_input_channel': 1, 'conv_output_channel': 16, 'block1_output_channel': 321, 'block1_num_layer': 1, 'block2_output_channel': 64, 'block2_num_layer': 1, 'block3_output_channel': 128, 'block3_num_layer': 1, 'flatten_size': 6272, 'num_features': 10}, 'decoder': 'None', 'drn': {'num_bins': 11, 'hidden_q': 100, 'num_layers': 1, 'num_nodes': 10, 'output_bins': 4, 'output_nodes': 3}, 'ucc_classifier': {'dropout_rate': 0.0, 'num_classes': 4}, 'loss': {'alpha': 1}}}\n",
      "(10, 10)\n",
      "(10, 10)\n",
      "(4, 10)\n",
      "x_train shape: torch.Size([50000, 1, 28, 28])\n",
      "50000 train samples\n",
      "10000 val samples\n",
      "x_train shape: torch.Size([50000, 1, 28, 28])\n",
      "50000 train samples\n",
      "10000 val samples\n",
      "{'args': {'dataset': 'mnist', 'model_dir': 'saved_models/', 'model_name': 'mnist_ucc_drn', 'num_instances': 32, 'ucc_start': 1, 'ucc_end': 4, 'batch_size': 20, 'num_samples_per_class': 5, 'num_workers': 4, 'learning_rate': 0.04107411012070926, 'num_bins': 10, 'num_features': 10, 'train_num_steps': 100000, 'val_num_steps': 200, 'save_interval': 1000, 'seed': 22}, 'model': {'num_channels': 1, 'input_shape': [28, 28, 1], 'kde_model': {'num_bins': 10, 'sigma': 0.1}, 'encoder': {'conv_input_channel': 1, 'conv_output_channel': 16, 'block1_output_channel': 321, 'block1_num_layer': 1, 'block2_output_channel': 64, 'block2_num_layer': 1, 'block3_output_channel': 128, 'block3_num_layer': 1, 'flatten_size': 6272, 'num_features': 10}, 'decoder': 'None', 'drn': {'num_bins': 10, 'hidden_q': 10, 'num_layers': 2, 'num_nodes': 9, 'output_bins': 4, 'output_nodes': 3}, 'ucc_classifier': {'dropout_rate': 0.0, 'num_classes': 4}, 'loss': {'alpha': 1}}, 'experiments': {'num_channels': 1, 'input_shape': [28, 28, 1], 'kde_model': {'num_bins': 11, 'sigma': 0.1}, 'encoder': {'conv_input_channel': 1, 'conv_output_channel': 16, 'block1_output_channel': 321, 'block1_num_layer': 1, 'block2_output_channel': 64, 'block2_num_layer': 1, 'block3_output_channel': 128, 'block3_num_layer': 1, 'flatten_size': 6272, 'num_features': 10}, 'decoder': 'None', 'drn': {'num_bins': 11, 'hidden_q': 100, 'num_layers': 1, 'num_nodes': 10, 'output_bins': 4, 'output_nodes': 3}, 'ucc_classifier': {'dropout_rate': 0.0, 'num_classes': 4}, 'loss': {'alpha': 1}}}\n"
     ]
    },
    {
     "name": "stderr",
     "output_type": "stream",
     "text": [
      "2025/04/13 15:56:33 WARNING mlflow.utils.requirements_utils: Found torch version (2.5.1+cu124) contains a local version label (+cu124). MLflow logged a pip requirement for this package as 'torch==2.5.1' without the local version label to make it installable from PyPI. To specify pip requirements containing local version labels, please use `conda_env` or `pip_requirements`.\n"
     ]
    },
    {
     "name": "stdout",
     "output_type": "stream",
     "text": [
      "step: 1000, eval loss: 2.4865896701812744, eval acc: 0.25\n"
     ]
    },
    {
     "name": "stderr",
     "output_type": "stream",
     "text": [
      "2025/04/13 15:56:39 WARNING mlflow.utils.requirements_utils: Found torch version (2.5.1+cu124) contains a local version label (+cu124). MLflow logged a pip requirement for this package as 'torch==2.5.1' without the local version label to make it installable from PyPI. To specify pip requirements containing local version labels, please use `conda_env` or `pip_requirements`.\n",
      "2025/04/13 15:56:39 WARNING mlflow.models.model: Model logged without a signature and input example. Please set `input_example` parameter when logging the model to auto infer the model signature.\n"
     ]
    },
    {
     "name": "stdout",
     "output_type": "stream",
     "text": [
      "step: 2000, eval loss: 2.485630750656128, eval acc: 0.25\n"
     ]
    },
    {
     "name": "stderr",
     "output_type": "stream",
     "text": []
    },
    {
     "name": "stdout",
     "output_type": "stream",
     "text": [
      "step: 3000, eval loss: 2.4875683784484863, eval acc: 0.25\n"
     ]
    },
    {
     "name": "stderr",
     "output_type": "stream",
     "text": [
      "  3%|▎         | 2999/100000 [12:20<6:39:22,  4.05it/s]\n",
      " 12%|█▏        | 12/100 [2:31:44<18:13:21, 745.47s/it]"
     ]
    },
    {
     "name": "stdout",
     "output_type": "stream",
     "text": [
      "Training finished!!!\n",
      "[W 2025-04-13 16:04:45,206] Trial 11 failed with parameters: {'lr': 0.04107411012070926} because of the following error: The value None could not be cast to float..\n",
      "[W 2025-04-13 16:04:45,210] Trial 11 failed with value None.\n",
      "{'args': {'dataset': 'mnist', 'model_dir': 'saved_models/', 'model_name': 'mnist_ucc_drn', 'num_instances': 32, 'ucc_start': 1, 'ucc_end': 4, 'batch_size': 20, 'num_samples_per_class': 5, 'num_workers': 4, 'learning_rate': 0.06284154271950908, 'num_bins': 10, 'num_features': 10, 'train_num_steps': 100000, 'val_num_steps': 200, 'save_interval': 1000, 'seed': 22}, 'model': {'num_channels': 1, 'input_shape': [28, 28, 1], 'kde_model': {'num_bins': 10, 'sigma': 0.1}, 'encoder': {'conv_input_channel': 1, 'conv_output_channel': 16, 'block1_output_channel': 321, 'block1_num_layer': 1, 'block2_output_channel': 64, 'block2_num_layer': 1, 'block3_output_channel': 128, 'block3_num_layer': 1, 'flatten_size': 6272, 'num_features': 10}, 'decoder': 'None', 'drn': {'num_bins': 10, 'hidden_q': 10, 'num_layers': 2, 'num_nodes': 9, 'output_bins': 4, 'output_nodes': 3}, 'ucc_classifier': {'dropout_rate': 0.0, 'num_classes': 4}, 'loss': {'alpha': 1}}, 'experiments': {'num_channels': 1, 'input_shape': [28, 28, 1], 'kde_model': {'num_bins': 11, 'sigma': 0.1}, 'encoder': {'conv_input_channel': 1, 'conv_output_channel': 16, 'block1_output_channel': 321, 'block1_num_layer': 1, 'block2_output_channel': 64, 'block2_num_layer': 1, 'block3_output_channel': 128, 'block3_num_layer': 1, 'flatten_size': 6272, 'num_features': 10}, 'decoder': 'None', 'drn': {'num_bins': 11, 'hidden_q': 100, 'num_layers': 1, 'num_nodes': 10, 'output_bins': 4, 'output_nodes': 3}, 'ucc_classifier': {'dropout_rate': 0.0, 'num_classes': 4}, 'loss': {'alpha': 1}}}\n",
      "(10, 10)\n",
      "(10, 10)\n",
      "(4, 10)\n",
      "x_train shape: torch.Size([50000, 1, 28, 28])\n",
      "50000 train samples\n",
      "10000 val samples\n",
      "x_train shape: torch.Size([50000, 1, 28, 28])\n",
      "50000 train samples\n",
      "10000 val samples\n",
      "{'args': {'dataset': 'mnist', 'model_dir': 'saved_models/', 'model_name': 'mnist_ucc_drn', 'num_instances': 32, 'ucc_start': 1, 'ucc_end': 4, 'batch_size': 20, 'num_samples_per_class': 5, 'num_workers': 4, 'learning_rate': 0.06284154271950908, 'num_bins': 10, 'num_features': 10, 'train_num_steps': 100000, 'val_num_steps': 200, 'save_interval': 1000, 'seed': 22}, 'model': {'num_channels': 1, 'input_shape': [28, 28, 1], 'kde_model': {'num_bins': 10, 'sigma': 0.1}, 'encoder': {'conv_input_channel': 1, 'conv_output_channel': 16, 'block1_output_channel': 321, 'block1_num_layer': 1, 'block2_output_channel': 64, 'block2_num_layer': 1, 'block3_output_channel': 128, 'block3_num_layer': 1, 'flatten_size': 6272, 'num_features': 10}, 'decoder': 'None', 'drn': {'num_bins': 10, 'hidden_q': 10, 'num_layers': 2, 'num_nodes': 9, 'output_bins': 4, 'output_nodes': 3}, 'ucc_classifier': {'dropout_rate': 0.0, 'num_classes': 4}, 'loss': {'alpha': 1}}, 'experiments': {'num_channels': 1, 'input_shape': [28, 28, 1], 'kde_model': {'num_bins': 11, 'sigma': 0.1}, 'encoder': {'conv_input_channel': 1, 'conv_output_channel': 16, 'block1_output_channel': 321, 'block1_num_layer': 1, 'block2_output_channel': 64, 'block2_num_layer': 1, 'block3_output_channel': 128, 'block3_num_layer': 1, 'flatten_size': 6272, 'num_features': 10}, 'decoder': 'None', 'drn': {'num_bins': 11, 'hidden_q': 100, 'num_layers': 1, 'num_nodes': 10, 'output_bins': 4, 'output_nodes': 3}, 'ucc_classifier': {'dropout_rate': 0.0, 'num_classes': 4}, 'loss': {'alpha': 1}}}\n"
     ]
    },
    {
     "name": "stderr",
     "output_type": "stream",
     "text": [
      "2025/04/13 16:08:56 WARNING mlflow.utils.requirements_utils: Found torch version (2.5.1+cu124) contains a local version label (+cu124). MLflow logged a pip requirement for this package as 'torch==2.5.1' without the local version label to make it installable from PyPI. To specify pip requirements containing local version labels, please use `conda_env` or `pip_requirements`.\n"
     ]
    },
    {
     "name": "stdout",
     "output_type": "stream",
     "text": [
      "step: 1000, eval loss: 2.4861605167388916, eval acc: 0.25\n"
     ]
    },
    {
     "name": "stderr",
     "output_type": "stream",
     "text": [
      "2025/04/13 16:09:02 WARNING mlflow.utils.requirements_utils: Found torch version (2.5.1+cu124) contains a local version label (+cu124). MLflow logged a pip requirement for this package as 'torch==2.5.1' without the local version label to make it installable from PyPI. To specify pip requirements containing local version labels, please use `conda_env` or `pip_requirements`.\n",
      "2025/04/13 16:09:02 WARNING mlflow.models.model: Model logged without a signature and input example. Please set `input_example` parameter when logging the model to auto infer the model signature.\n"
     ]
    },
    {
     "name": "stdout",
     "output_type": "stream",
     "text": [
      "step: 2000, eval loss: 2.4853501319885254, eval acc: 0.25\n"
     ]
    },
    {
     "name": "stderr",
     "output_type": "stream",
     "text": []
    },
    {
     "name": "stdout",
     "output_type": "stream",
     "text": [
      "step: 3000, eval loss: 2.4919161796569824, eval acc: 0.25\n"
     ]
    },
    {
     "name": "stderr",
     "output_type": "stream",
     "text": [
      "  3%|▎         | 2999/100000 [12:22<6:40:16,  4.04it/s]\n",
      " 13%|█▎        | 13/100 [2:44:08<18:00:06, 744.90s/it]"
     ]
    },
    {
     "name": "stdout",
     "output_type": "stream",
     "text": [
      "Training finished!!!\n",
      "[W 2025-04-13 16:17:08,787] Trial 12 failed with parameters: {'lr': 0.06284154271950908} because of the following error: The value None could not be cast to float..\n",
      "[W 2025-04-13 16:17:08,791] Trial 12 failed with value None.\n",
      "{'args': {'dataset': 'mnist', 'model_dir': 'saved_models/', 'model_name': 'mnist_ucc_drn', 'num_instances': 32, 'ucc_start': 1, 'ucc_end': 4, 'batch_size': 20, 'num_samples_per_class': 5, 'num_workers': 4, 'learning_rate': 0.025044795182406494, 'num_bins': 10, 'num_features': 10, 'train_num_steps': 100000, 'val_num_steps': 200, 'save_interval': 1000, 'seed': 22}, 'model': {'num_channels': 1, 'input_shape': [28, 28, 1], 'kde_model': {'num_bins': 10, 'sigma': 0.1}, 'encoder': {'conv_input_channel': 1, 'conv_output_channel': 16, 'block1_output_channel': 321, 'block1_num_layer': 1, 'block2_output_channel': 64, 'block2_num_layer': 1, 'block3_output_channel': 128, 'block3_num_layer': 1, 'flatten_size': 6272, 'num_features': 10}, 'decoder': 'None', 'drn': {'num_bins': 10, 'hidden_q': 10, 'num_layers': 2, 'num_nodes': 9, 'output_bins': 4, 'output_nodes': 3}, 'ucc_classifier': {'dropout_rate': 0.0, 'num_classes': 4}, 'loss': {'alpha': 1}}, 'experiments': {'num_channels': 1, 'input_shape': [28, 28, 1], 'kde_model': {'num_bins': 11, 'sigma': 0.1}, 'encoder': {'conv_input_channel': 1, 'conv_output_channel': 16, 'block1_output_channel': 321, 'block1_num_layer': 1, 'block2_output_channel': 64, 'block2_num_layer': 1, 'block3_output_channel': 128, 'block3_num_layer': 1, 'flatten_size': 6272, 'num_features': 10}, 'decoder': 'None', 'drn': {'num_bins': 11, 'hidden_q': 100, 'num_layers': 1, 'num_nodes': 10, 'output_bins': 4, 'output_nodes': 3}, 'ucc_classifier': {'dropout_rate': 0.0, 'num_classes': 4}, 'loss': {'alpha': 1}}}\n",
      "(10, 10)\n",
      "(10, 10)\n",
      "(4, 10)\n",
      "x_train shape: torch.Size([50000, 1, 28, 28])\n",
      "50000 train samples\n",
      "10000 val samples\n",
      "x_train shape: torch.Size([50000, 1, 28, 28])\n",
      "50000 train samples\n",
      "10000 val samples\n",
      "{'args': {'dataset': 'mnist', 'model_dir': 'saved_models/', 'model_name': 'mnist_ucc_drn', 'num_instances': 32, 'ucc_start': 1, 'ucc_end': 4, 'batch_size': 20, 'num_samples_per_class': 5, 'num_workers': 4, 'learning_rate': 0.025044795182406494, 'num_bins': 10, 'num_features': 10, 'train_num_steps': 100000, 'val_num_steps': 200, 'save_interval': 1000, 'seed': 22}, 'model': {'num_channels': 1, 'input_shape': [28, 28, 1], 'kde_model': {'num_bins': 10, 'sigma': 0.1}, 'encoder': {'conv_input_channel': 1, 'conv_output_channel': 16, 'block1_output_channel': 321, 'block1_num_layer': 1, 'block2_output_channel': 64, 'block2_num_layer': 1, 'block3_output_channel': 128, 'block3_num_layer': 1, 'flatten_size': 6272, 'num_features': 10}, 'decoder': 'None', 'drn': {'num_bins': 10, 'hidden_q': 10, 'num_layers': 2, 'num_nodes': 9, 'output_bins': 4, 'output_nodes': 3}, 'ucc_classifier': {'dropout_rate': 0.0, 'num_classes': 4}, 'loss': {'alpha': 1}}, 'experiments': {'num_channels': 1, 'input_shape': [28, 28, 1], 'kde_model': {'num_bins': 11, 'sigma': 0.1}, 'encoder': {'conv_input_channel': 1, 'conv_output_channel': 16, 'block1_output_channel': 321, 'block1_num_layer': 1, 'block2_output_channel': 64, 'block2_num_layer': 1, 'block3_output_channel': 128, 'block3_num_layer': 1, 'flatten_size': 6272, 'num_features': 10}, 'decoder': 'None', 'drn': {'num_bins': 11, 'hidden_q': 100, 'num_layers': 1, 'num_nodes': 10, 'output_bins': 4, 'output_nodes': 3}, 'ucc_classifier': {'dropout_rate': 0.0, 'num_classes': 4}, 'loss': {'alpha': 1}}}\n"
     ]
    },
    {
     "name": "stderr",
     "output_type": "stream",
     "text": [
      "2025/04/13 16:21:20 WARNING mlflow.utils.requirements_utils: Found torch version (2.5.1+cu124) contains a local version label (+cu124). MLflow logged a pip requirement for this package as 'torch==2.5.1' without the local version label to make it installable from PyPI. To specify pip requirements containing local version labels, please use `conda_env` or `pip_requirements`.\n"
     ]
    },
    {
     "name": "stdout",
     "output_type": "stream",
     "text": [
      "step: 1000, eval loss: 2.4877820014953613, eval acc: 0.25\n"
     ]
    },
    {
     "name": "stderr",
     "output_type": "stream",
     "text": [
      "2025/04/13 16:21:26 WARNING mlflow.utils.requirements_utils: Found torch version (2.5.1+cu124) contains a local version label (+cu124). MLflow logged a pip requirement for this package as 'torch==2.5.1' without the local version label to make it installable from PyPI. To specify pip requirements containing local version labels, please use `conda_env` or `pip_requirements`.\n",
      "2025/04/13 16:21:26 WARNING mlflow.models.model: Model logged without a signature and input example. Please set `input_example` parameter when logging the model to auto infer the model signature.\n"
     ]
    },
    {
     "name": "stdout",
     "output_type": "stream",
     "text": [
      "step: 2000, eval loss: 2.4865190982818604, eval acc: 0.25\n"
     ]
    },
    {
     "name": "stderr",
     "output_type": "stream",
     "text": []
    },
    {
     "name": "stdout",
     "output_type": "stream",
     "text": [
      "step: 3000, eval loss: 2.485766887664795, eval acc: 0.25\n"
     ]
    },
    {
     "name": "stderr",
     "output_type": "stream",
     "text": [
      "  3%|▎         | 2999/100000 [12:23<6:40:50,  4.03it/s]\n",
      " 14%|█▍        | 14/100 [2:56:32<17:47:31, 744.79s/it]"
     ]
    },
    {
     "name": "stdout",
     "output_type": "stream",
     "text": [
      "Training finished!!!\n",
      "[W 2025-04-13 16:29:33,320] Trial 13 failed with parameters: {'lr': 0.025044795182406494} because of the following error: The value None could not be cast to float..\n",
      "[W 2025-04-13 16:29:33,323] Trial 13 failed with value None.\n",
      "{'args': {'dataset': 'mnist', 'model_dir': 'saved_models/', 'model_name': 'mnist_ucc_drn', 'num_instances': 32, 'ucc_start': 1, 'ucc_end': 4, 'batch_size': 20, 'num_samples_per_class': 5, 'num_workers': 4, 'learning_rate': 0.060122380072013044, 'num_bins': 10, 'num_features': 10, 'train_num_steps': 100000, 'val_num_steps': 200, 'save_interval': 1000, 'seed': 22}, 'model': {'num_channels': 1, 'input_shape': [28, 28, 1], 'kde_model': {'num_bins': 10, 'sigma': 0.1}, 'encoder': {'conv_input_channel': 1, 'conv_output_channel': 16, 'block1_output_channel': 321, 'block1_num_layer': 1, 'block2_output_channel': 64, 'block2_num_layer': 1, 'block3_output_channel': 128, 'block3_num_layer': 1, 'flatten_size': 6272, 'num_features': 10}, 'decoder': 'None', 'drn': {'num_bins': 10, 'hidden_q': 10, 'num_layers': 2, 'num_nodes': 9, 'output_bins': 4, 'output_nodes': 3}, 'ucc_classifier': {'dropout_rate': 0.0, 'num_classes': 4}, 'loss': {'alpha': 1}}, 'experiments': {'num_channels': 1, 'input_shape': [28, 28, 1], 'kde_model': {'num_bins': 11, 'sigma': 0.1}, 'encoder': {'conv_input_channel': 1, 'conv_output_channel': 16, 'block1_output_channel': 321, 'block1_num_layer': 1, 'block2_output_channel': 64, 'block2_num_layer': 1, 'block3_output_channel': 128, 'block3_num_layer': 1, 'flatten_size': 6272, 'num_features': 10}, 'decoder': 'None', 'drn': {'num_bins': 11, 'hidden_q': 100, 'num_layers': 1, 'num_nodes': 10, 'output_bins': 4, 'output_nodes': 3}, 'ucc_classifier': {'dropout_rate': 0.0, 'num_classes': 4}, 'loss': {'alpha': 1}}}\n",
      "(10, 10)\n",
      "(10, 10)\n",
      "(4, 10)\n",
      "x_train shape: torch.Size([50000, 1, 28, 28])\n",
      "50000 train samples\n",
      "10000 val samples\n",
      "x_train shape: torch.Size([50000, 1, 28, 28])\n",
      "50000 train samples\n",
      "10000 val samples\n",
      "{'args': {'dataset': 'mnist', 'model_dir': 'saved_models/', 'model_name': 'mnist_ucc_drn', 'num_instances': 32, 'ucc_start': 1, 'ucc_end': 4, 'batch_size': 20, 'num_samples_per_class': 5, 'num_workers': 4, 'learning_rate': 0.060122380072013044, 'num_bins': 10, 'num_features': 10, 'train_num_steps': 100000, 'val_num_steps': 200, 'save_interval': 1000, 'seed': 22}, 'model': {'num_channels': 1, 'input_shape': [28, 28, 1], 'kde_model': {'num_bins': 10, 'sigma': 0.1}, 'encoder': {'conv_input_channel': 1, 'conv_output_channel': 16, 'block1_output_channel': 321, 'block1_num_layer': 1, 'block2_output_channel': 64, 'block2_num_layer': 1, 'block3_output_channel': 128, 'block3_num_layer': 1, 'flatten_size': 6272, 'num_features': 10}, 'decoder': 'None', 'drn': {'num_bins': 10, 'hidden_q': 10, 'num_layers': 2, 'num_nodes': 9, 'output_bins': 4, 'output_nodes': 3}, 'ucc_classifier': {'dropout_rate': 0.0, 'num_classes': 4}, 'loss': {'alpha': 1}}, 'experiments': {'num_channels': 1, 'input_shape': [28, 28, 1], 'kde_model': {'num_bins': 11, 'sigma': 0.1}, 'encoder': {'conv_input_channel': 1, 'conv_output_channel': 16, 'block1_output_channel': 321, 'block1_num_layer': 1, 'block2_output_channel': 64, 'block2_num_layer': 1, 'block3_output_channel': 128, 'block3_num_layer': 1, 'flatten_size': 6272, 'num_features': 10}, 'decoder': 'None', 'drn': {'num_bins': 11, 'hidden_q': 100, 'num_layers': 1, 'num_nodes': 10, 'output_bins': 4, 'output_nodes': 3}, 'ucc_classifier': {'dropout_rate': 0.0, 'num_classes': 4}, 'loss': {'alpha': 1}}}\n"
     ]
    },
    {
     "name": "stderr",
     "output_type": "stream",
     "text": [
      "2025/04/13 16:33:46 WARNING mlflow.utils.requirements_utils: Found torch version (2.5.1+cu124) contains a local version label (+cu124). MLflow logged a pip requirement for this package as 'torch==2.5.1' without the local version label to make it installable from PyPI. To specify pip requirements containing local version labels, please use `conda_env` or `pip_requirements`.\n"
     ]
    },
    {
     "name": "stdout",
     "output_type": "stream",
     "text": [
      "step: 1000, eval loss: 2.4880216121673584, eval acc: 0.25\n"
     ]
    },
    {
     "name": "stderr",
     "output_type": "stream",
     "text": [
      "2025/04/13 16:33:52 WARNING mlflow.utils.requirements_utils: Found torch version (2.5.1+cu124) contains a local version label (+cu124). MLflow logged a pip requirement for this package as 'torch==2.5.1' without the local version label to make it installable from PyPI. To specify pip requirements containing local version labels, please use `conda_env` or `pip_requirements`.\n",
      "2025/04/13 16:33:52 WARNING mlflow.models.model: Model logged without a signature and input example. Please set `input_example` parameter when logging the model to auto infer the model signature.\n"
     ]
    },
    {
     "name": "stdout",
     "output_type": "stream",
     "text": [
      "step: 2000, eval loss: 2.4925200939178467, eval acc: 0.25\n"
     ]
    },
    {
     "name": "stderr",
     "output_type": "stream",
     "text": []
    },
    {
     "name": "stdout",
     "output_type": "stream",
     "text": [
      "step: 3000, eval loss: 2.4849774837493896, eval acc: 0.25\n"
     ]
    },
    {
     "name": "stderr",
     "output_type": "stream",
     "text": [
      "  3%|▎         | 2999/100000 [12:28<6:43:25,  4.01it/s]\n",
      " 15%|█▌        | 15/100 [3:09:01<17:37:03, 746.15s/it]"
     ]
    },
    {
     "name": "stdout",
     "output_type": "stream",
     "text": [
      "Training finished!!!\n",
      "[W 2025-04-13 16:42:02,639] Trial 14 failed with parameters: {'lr': 0.060122380072013044} because of the following error: The value None could not be cast to float..\n",
      "[W 2025-04-13 16:42:02,642] Trial 14 failed with value None.\n",
      "{'args': {'dataset': 'mnist', 'model_dir': 'saved_models/', 'model_name': 'mnist_ucc_drn', 'num_instances': 32, 'ucc_start': 1, 'ucc_end': 4, 'batch_size': 20, 'num_samples_per_class': 5, 'num_workers': 4, 'learning_rate': 0.009688350968888652, 'num_bins': 10, 'num_features': 10, 'train_num_steps': 100000, 'val_num_steps': 200, 'save_interval': 1000, 'seed': 22}, 'model': {'num_channels': 1, 'input_shape': [28, 28, 1], 'kde_model': {'num_bins': 10, 'sigma': 0.1}, 'encoder': {'conv_input_channel': 1, 'conv_output_channel': 16, 'block1_output_channel': 321, 'block1_num_layer': 1, 'block2_output_channel': 64, 'block2_num_layer': 1, 'block3_output_channel': 128, 'block3_num_layer': 1, 'flatten_size': 6272, 'num_features': 10}, 'decoder': 'None', 'drn': {'num_bins': 10, 'hidden_q': 10, 'num_layers': 2, 'num_nodes': 9, 'output_bins': 4, 'output_nodes': 3}, 'ucc_classifier': {'dropout_rate': 0.0, 'num_classes': 4}, 'loss': {'alpha': 1}}, 'experiments': {'num_channels': 1, 'input_shape': [28, 28, 1], 'kde_model': {'num_bins': 11, 'sigma': 0.1}, 'encoder': {'conv_input_channel': 1, 'conv_output_channel': 16, 'block1_output_channel': 321, 'block1_num_layer': 1, 'block2_output_channel': 64, 'block2_num_layer': 1, 'block3_output_channel': 128, 'block3_num_layer': 1, 'flatten_size': 6272, 'num_features': 10}, 'decoder': 'None', 'drn': {'num_bins': 11, 'hidden_q': 100, 'num_layers': 1, 'num_nodes': 10, 'output_bins': 4, 'output_nodes': 3}, 'ucc_classifier': {'dropout_rate': 0.0, 'num_classes': 4}, 'loss': {'alpha': 1}}}\n",
      "(10, 10)\n",
      "(10, 10)\n",
      "(4, 10)\n",
      "x_train shape: torch.Size([50000, 1, 28, 28])\n",
      "50000 train samples\n",
      "10000 val samples\n",
      "x_train shape: torch.Size([50000, 1, 28, 28])\n",
      "50000 train samples\n",
      "10000 val samples\n",
      "{'args': {'dataset': 'mnist', 'model_dir': 'saved_models/', 'model_name': 'mnist_ucc_drn', 'num_instances': 32, 'ucc_start': 1, 'ucc_end': 4, 'batch_size': 20, 'num_samples_per_class': 5, 'num_workers': 4, 'learning_rate': 0.009688350968888652, 'num_bins': 10, 'num_features': 10, 'train_num_steps': 100000, 'val_num_steps': 200, 'save_interval': 1000, 'seed': 22}, 'model': {'num_channels': 1, 'input_shape': [28, 28, 1], 'kde_model': {'num_bins': 10, 'sigma': 0.1}, 'encoder': {'conv_input_channel': 1, 'conv_output_channel': 16, 'block1_output_channel': 321, 'block1_num_layer': 1, 'block2_output_channel': 64, 'block2_num_layer': 1, 'block3_output_channel': 128, 'block3_num_layer': 1, 'flatten_size': 6272, 'num_features': 10}, 'decoder': 'None', 'drn': {'num_bins': 10, 'hidden_q': 10, 'num_layers': 2, 'num_nodes': 9, 'output_bins': 4, 'output_nodes': 3}, 'ucc_classifier': {'dropout_rate': 0.0, 'num_classes': 4}, 'loss': {'alpha': 1}}, 'experiments': {'num_channels': 1, 'input_shape': [28, 28, 1], 'kde_model': {'num_bins': 11, 'sigma': 0.1}, 'encoder': {'conv_input_channel': 1, 'conv_output_channel': 16, 'block1_output_channel': 321, 'block1_num_layer': 1, 'block2_output_channel': 64, 'block2_num_layer': 1, 'block3_output_channel': 128, 'block3_num_layer': 1, 'flatten_size': 6272, 'num_features': 10}, 'decoder': 'None', 'drn': {'num_bins': 11, 'hidden_q': 100, 'num_layers': 1, 'num_nodes': 10, 'output_bins': 4, 'output_nodes': 3}, 'ucc_classifier': {'dropout_rate': 0.0, 'num_classes': 4}, 'loss': {'alpha': 1}}}\n"
     ]
    },
    {
     "name": "stderr",
     "output_type": "stream",
     "text": [
      "2025/04/13 16:46:19 WARNING mlflow.utils.requirements_utils: Found torch version (2.5.1+cu124) contains a local version label (+cu124). MLflow logged a pip requirement for this package as 'torch==2.5.1' without the local version label to make it installable from PyPI. To specify pip requirements containing local version labels, please use `conda_env` or `pip_requirements`.\n"
     ]
    },
    {
     "name": "stdout",
     "output_type": "stream",
     "text": [
      "step: 1000, eval loss: 2.4882330894470215, eval acc: 0.25\n"
     ]
    },
    {
     "name": "stderr",
     "output_type": "stream",
     "text": [
      "2025/04/13 16:46:26 WARNING mlflow.utils.requirements_utils: Found torch version (2.5.1+cu124) contains a local version label (+cu124). MLflow logged a pip requirement for this package as 'torch==2.5.1' without the local version label to make it installable from PyPI. To specify pip requirements containing local version labels, please use `conda_env` or `pip_requirements`.\n",
      "2025/04/13 16:46:26 WARNING mlflow.models.model: Model logged without a signature and input example. Please set `input_example` parameter when logging the model to auto infer the model signature.\n"
     ]
    },
    {
     "name": "stdout",
     "output_type": "stream",
     "text": [
      "step: 2000, eval loss: 2.4850001335144043, eval acc: 0.25\n"
     ]
    },
    {
     "name": "stderr",
     "output_type": "stream",
     "text": []
    },
    {
     "name": "stdout",
     "output_type": "stream",
     "text": [
      "step: 3000, eval loss: 2.4851393699645996, eval acc: 0.25\n"
     ]
    },
    {
     "name": "stderr",
     "output_type": "stream",
     "text": [
      "  3%|▎         | 2999/100000 [12:11<6:34:34,  4.10it/s]\n",
      " 16%|█▌        | 16/100 [3:21:14<17:19:03, 742.18s/it]"
     ]
    },
    {
     "name": "stdout",
     "output_type": "stream",
     "text": [
      "Training finished!!!\n",
      "[W 2025-04-13 16:54:15,603] Trial 15 failed with parameters: {'lr': 0.009688350968888652} because of the following error: The value None could not be cast to float..\n",
      "[W 2025-04-13 16:54:15,606] Trial 15 failed with value None.\n",
      "{'args': {'dataset': 'mnist', 'model_dir': 'saved_models/', 'model_name': 'mnist_ucc_drn', 'num_instances': 32, 'ucc_start': 1, 'ucc_end': 4, 'batch_size': 20, 'num_samples_per_class': 5, 'num_workers': 4, 'learning_rate': 0.056222947825215336, 'num_bins': 10, 'num_features': 10, 'train_num_steps': 100000, 'val_num_steps': 200, 'save_interval': 1000, 'seed': 22}, 'model': {'num_channels': 1, 'input_shape': [28, 28, 1], 'kde_model': {'num_bins': 10, 'sigma': 0.1}, 'encoder': {'conv_input_channel': 1, 'conv_output_channel': 16, 'block1_output_channel': 321, 'block1_num_layer': 1, 'block2_output_channel': 64, 'block2_num_layer': 1, 'block3_output_channel': 128, 'block3_num_layer': 1, 'flatten_size': 6272, 'num_features': 10}, 'decoder': 'None', 'drn': {'num_bins': 10, 'hidden_q': 10, 'num_layers': 2, 'num_nodes': 9, 'output_bins': 4, 'output_nodes': 3}, 'ucc_classifier': {'dropout_rate': 0.0, 'num_classes': 4}, 'loss': {'alpha': 1}}, 'experiments': {'num_channels': 1, 'input_shape': [28, 28, 1], 'kde_model': {'num_bins': 11, 'sigma': 0.1}, 'encoder': {'conv_input_channel': 1, 'conv_output_channel': 16, 'block1_output_channel': 321, 'block1_num_layer': 1, 'block2_output_channel': 64, 'block2_num_layer': 1, 'block3_output_channel': 128, 'block3_num_layer': 1, 'flatten_size': 6272, 'num_features': 10}, 'decoder': 'None', 'drn': {'num_bins': 11, 'hidden_q': 100, 'num_layers': 1, 'num_nodes': 10, 'output_bins': 4, 'output_nodes': 3}, 'ucc_classifier': {'dropout_rate': 0.0, 'num_classes': 4}, 'loss': {'alpha': 1}}}\n",
      "(10, 10)\n",
      "(10, 10)\n",
      "(4, 10)\n",
      "x_train shape: torch.Size([50000, 1, 28, 28])\n",
      "50000 train samples\n",
      "10000 val samples\n",
      "x_train shape: torch.Size([50000, 1, 28, 28])\n",
      "50000 train samples\n",
      "10000 val samples\n",
      "{'args': {'dataset': 'mnist', 'model_dir': 'saved_models/', 'model_name': 'mnist_ucc_drn', 'num_instances': 32, 'ucc_start': 1, 'ucc_end': 4, 'batch_size': 20, 'num_samples_per_class': 5, 'num_workers': 4, 'learning_rate': 0.056222947825215336, 'num_bins': 10, 'num_features': 10, 'train_num_steps': 100000, 'val_num_steps': 200, 'save_interval': 1000, 'seed': 22}, 'model': {'num_channels': 1, 'input_shape': [28, 28, 1], 'kde_model': {'num_bins': 10, 'sigma': 0.1}, 'encoder': {'conv_input_channel': 1, 'conv_output_channel': 16, 'block1_output_channel': 321, 'block1_num_layer': 1, 'block2_output_channel': 64, 'block2_num_layer': 1, 'block3_output_channel': 128, 'block3_num_layer': 1, 'flatten_size': 6272, 'num_features': 10}, 'decoder': 'None', 'drn': {'num_bins': 10, 'hidden_q': 10, 'num_layers': 2, 'num_nodes': 9, 'output_bins': 4, 'output_nodes': 3}, 'ucc_classifier': {'dropout_rate': 0.0, 'num_classes': 4}, 'loss': {'alpha': 1}}, 'experiments': {'num_channels': 1, 'input_shape': [28, 28, 1], 'kde_model': {'num_bins': 11, 'sigma': 0.1}, 'encoder': {'conv_input_channel': 1, 'conv_output_channel': 16, 'block1_output_channel': 321, 'block1_num_layer': 1, 'block2_output_channel': 64, 'block2_num_layer': 1, 'block3_output_channel': 128, 'block3_num_layer': 1, 'flatten_size': 6272, 'num_features': 10}, 'decoder': 'None', 'drn': {'num_bins': 11, 'hidden_q': 100, 'num_layers': 1, 'num_nodes': 10, 'output_bins': 4, 'output_nodes': 3}, 'ucc_classifier': {'dropout_rate': 0.0, 'num_classes': 4}, 'loss': {'alpha': 1}}}\n"
     ]
    },
    {
     "name": "stderr",
     "output_type": "stream",
     "text": [
      "2025/04/13 16:58:16 WARNING mlflow.utils.requirements_utils: Found torch version (2.5.1+cu124) contains a local version label (+cu124). MLflow logged a pip requirement for this package as 'torch==2.5.1' without the local version label to make it installable from PyPI. To specify pip requirements containing local version labels, please use `conda_env` or `pip_requirements`.\n"
     ]
    },
    {
     "name": "stdout",
     "output_type": "stream",
     "text": [
      "step: 1000, eval loss: 2.484978199005127, eval acc: 0.25\n"
     ]
    },
    {
     "name": "stderr",
     "output_type": "stream",
     "text": [
      "2025/04/13 16:58:22 WARNING mlflow.utils.requirements_utils: Found torch version (2.5.1+cu124) contains a local version label (+cu124). MLflow logged a pip requirement for this package as 'torch==2.5.1' without the local version label to make it installable from PyPI. To specify pip requirements containing local version labels, please use `conda_env` or `pip_requirements`.\n",
      "2025/04/13 16:58:22 WARNING mlflow.models.model: Model logged without a signature and input example. Please set `input_example` parameter when logging the model to auto infer the model signature.\n",
      "\n"
     ]
    },
    {
     "name": "stdout",
     "output_type": "stream",
     "text": [
      "step: 2000, eval loss: 2.487220287322998, eval acc: 0.25\n"
     ]
    },
    {
     "name": "stderr",
     "output_type": "stream",
     "text": [
      "  2%|▏         | 2001/100000 [07:59<68:52:07,  2.53s/it]\u001b[A"
     ]
    },
    {
     "name": "stdout",
     "output_type": "stream",
     "text": [
      "step: 3000, eval loss: 2.48716402053833, eval acc: 0.25\n"
     ]
    },
    {
     "name": "stderr",
     "output_type": "stream",
     "text": [
      "  3%|▎         | 2999/100000 [11:53<6:24:42,  4.20it/s]\n",
      " 17%|█▋        | 17/100 [3:33:09<16:55:10, 733.86s/it]"
     ]
    },
    {
     "name": "stdout",
     "output_type": "stream",
     "text": [
      "Training finished!!!\n",
      "[W 2025-04-13 17:06:10,106] Trial 16 failed with parameters: {'lr': 0.056222947825215336} because of the following error: The value None could not be cast to float..\n",
      "[W 2025-04-13 17:06:10,110] Trial 16 failed with value None.\n",
      "{'args': {'dataset': 'mnist', 'model_dir': 'saved_models/', 'model_name': 'mnist_ucc_drn', 'num_instances': 32, 'ucc_start': 1, 'ucc_end': 4, 'batch_size': 20, 'num_samples_per_class': 5, 'num_workers': 4, 'learning_rate': 0.047865207265083504, 'num_bins': 10, 'num_features': 10, 'train_num_steps': 100000, 'val_num_steps': 200, 'save_interval': 1000, 'seed': 22}, 'model': {'num_channels': 1, 'input_shape': [28, 28, 1], 'kde_model': {'num_bins': 10, 'sigma': 0.1}, 'encoder': {'conv_input_channel': 1, 'conv_output_channel': 16, 'block1_output_channel': 321, 'block1_num_layer': 1, 'block2_output_channel': 64, 'block2_num_layer': 1, 'block3_output_channel': 128, 'block3_num_layer': 1, 'flatten_size': 6272, 'num_features': 10}, 'decoder': 'None', 'drn': {'num_bins': 10, 'hidden_q': 10, 'num_layers': 2, 'num_nodes': 9, 'output_bins': 4, 'output_nodes': 3}, 'ucc_classifier': {'dropout_rate': 0.0, 'num_classes': 4}, 'loss': {'alpha': 1}}, 'experiments': {'num_channels': 1, 'input_shape': [28, 28, 1], 'kde_model': {'num_bins': 11, 'sigma': 0.1}, 'encoder': {'conv_input_channel': 1, 'conv_output_channel': 16, 'block1_output_channel': 321, 'block1_num_layer': 1, 'block2_output_channel': 64, 'block2_num_layer': 1, 'block3_output_channel': 128, 'block3_num_layer': 1, 'flatten_size': 6272, 'num_features': 10}, 'decoder': 'None', 'drn': {'num_bins': 11, 'hidden_q': 100, 'num_layers': 1, 'num_nodes': 10, 'output_bins': 4, 'output_nodes': 3}, 'ucc_classifier': {'dropout_rate': 0.0, 'num_classes': 4}, 'loss': {'alpha': 1}}}\n",
      "(10, 10)\n",
      "(10, 10)\n",
      "(4, 10)\n",
      "x_train shape: torch.Size([50000, 1, 28, 28])\n",
      "50000 train samples\n",
      "10000 val samples\n",
      "x_train shape: torch.Size([50000, 1, 28, 28])\n",
      "50000 train samples\n",
      "10000 val samples\n",
      "{'args': {'dataset': 'mnist', 'model_dir': 'saved_models/', 'model_name': 'mnist_ucc_drn', 'num_instances': 32, 'ucc_start': 1, 'ucc_end': 4, 'batch_size': 20, 'num_samples_per_class': 5, 'num_workers': 4, 'learning_rate': 0.047865207265083504, 'num_bins': 10, 'num_features': 10, 'train_num_steps': 100000, 'val_num_steps': 200, 'save_interval': 1000, 'seed': 22}, 'model': {'num_channels': 1, 'input_shape': [28, 28, 1], 'kde_model': {'num_bins': 10, 'sigma': 0.1}, 'encoder': {'conv_input_channel': 1, 'conv_output_channel': 16, 'block1_output_channel': 321, 'block1_num_layer': 1, 'block2_output_channel': 64, 'block2_num_layer': 1, 'block3_output_channel': 128, 'block3_num_layer': 1, 'flatten_size': 6272, 'num_features': 10}, 'decoder': 'None', 'drn': {'num_bins': 10, 'hidden_q': 10, 'num_layers': 2, 'num_nodes': 9, 'output_bins': 4, 'output_nodes': 3}, 'ucc_classifier': {'dropout_rate': 0.0, 'num_classes': 4}, 'loss': {'alpha': 1}}, 'experiments': {'num_channels': 1, 'input_shape': [28, 28, 1], 'kde_model': {'num_bins': 11, 'sigma': 0.1}, 'encoder': {'conv_input_channel': 1, 'conv_output_channel': 16, 'block1_output_channel': 321, 'block1_num_layer': 1, 'block2_output_channel': 64, 'block2_num_layer': 1, 'block3_output_channel': 128, 'block3_num_layer': 1, 'flatten_size': 6272, 'num_features': 10}, 'decoder': 'None', 'drn': {'num_bins': 11, 'hidden_q': 100, 'num_layers': 1, 'num_nodes': 10, 'output_bins': 4, 'output_nodes': 3}, 'ucc_classifier': {'dropout_rate': 0.0, 'num_classes': 4}, 'loss': {'alpha': 1}}}\n"
     ]
    },
    {
     "name": "stderr",
     "output_type": "stream",
     "text": [
      "2025/04/13 17:10:11 WARNING mlflow.utils.requirements_utils: Found torch version (2.5.1+cu124) contains a local version label (+cu124). MLflow logged a pip requirement for this package as 'torch==2.5.1' without the local version label to make it installable from PyPI. To specify pip requirements containing local version labels, please use `conda_env` or `pip_requirements`.\n"
     ]
    },
    {
     "name": "stdout",
     "output_type": "stream",
     "text": [
      "step: 1000, eval loss: 2.487990140914917, eval acc: 0.25\n"
     ]
    },
    {
     "name": "stderr",
     "output_type": "stream",
     "text": [
      "2025/04/13 17:10:17 WARNING mlflow.utils.requirements_utils: Found torch version (2.5.1+cu124) contains a local version label (+cu124). MLflow logged a pip requirement for this package as 'torch==2.5.1' without the local version label to make it installable from PyPI. To specify pip requirements containing local version labels, please use `conda_env` or `pip_requirements`.\n",
      "2025/04/13 17:10:17 WARNING mlflow.models.model: Model logged without a signature and input example. Please set `input_example` parameter when logging the model to auto infer the model signature.\n",
      "\n"
     ]
    },
    {
     "name": "stdout",
     "output_type": "stream",
     "text": [
      "step: 2000, eval loss: 2.4854912757873535, eval acc: 0.25\n"
     ]
    },
    {
     "name": "stderr",
     "output_type": "stream",
     "text": [
      "  2%|▏         | 2001/100000 [08:00<69:06:41,  2.54s/it]\u001b[A"
     ]
    },
    {
     "name": "stdout",
     "output_type": "stream",
     "text": [
      "step: 3000, eval loss: 2.485930919647217, eval acc: 0.25\n"
     ]
    },
    {
     "name": "stderr",
     "output_type": "stream",
     "text": [
      "  3%|▎         | 2999/100000 [11:57<6:26:51,  4.18it/s]\n",
      " 18%|█▊        | 18/100 [3:45:07<16:36:37, 729.24s/it]"
     ]
    },
    {
     "name": "stdout",
     "output_type": "stream",
     "text": [
      "Training finished!!!\n",
      "[W 2025-04-13 17:18:08,594] Trial 17 failed with parameters: {'lr': 0.047865207265083504} because of the following error: The value None could not be cast to float..\n",
      "[W 2025-04-13 17:18:08,598] Trial 17 failed with value None.\n",
      "{'args': {'dataset': 'mnist', 'model_dir': 'saved_models/', 'model_name': 'mnist_ucc_drn', 'num_instances': 32, 'ucc_start': 1, 'ucc_end': 4, 'batch_size': 20, 'num_samples_per_class': 5, 'num_workers': 4, 'learning_rate': 0.066652356898563, 'num_bins': 10, 'num_features': 10, 'train_num_steps': 100000, 'val_num_steps': 200, 'save_interval': 1000, 'seed': 22}, 'model': {'num_channels': 1, 'input_shape': [28, 28, 1], 'kde_model': {'num_bins': 10, 'sigma': 0.1}, 'encoder': {'conv_input_channel': 1, 'conv_output_channel': 16, 'block1_output_channel': 321, 'block1_num_layer': 1, 'block2_output_channel': 64, 'block2_num_layer': 1, 'block3_output_channel': 128, 'block3_num_layer': 1, 'flatten_size': 6272, 'num_features': 10}, 'decoder': 'None', 'drn': {'num_bins': 10, 'hidden_q': 10, 'num_layers': 2, 'num_nodes': 9, 'output_bins': 4, 'output_nodes': 3}, 'ucc_classifier': {'dropout_rate': 0.0, 'num_classes': 4}, 'loss': {'alpha': 1}}, 'experiments': {'num_channels': 1, 'input_shape': [28, 28, 1], 'kde_model': {'num_bins': 11, 'sigma': 0.1}, 'encoder': {'conv_input_channel': 1, 'conv_output_channel': 16, 'block1_output_channel': 321, 'block1_num_layer': 1, 'block2_output_channel': 64, 'block2_num_layer': 1, 'block3_output_channel': 128, 'block3_num_layer': 1, 'flatten_size': 6272, 'num_features': 10}, 'decoder': 'None', 'drn': {'num_bins': 11, 'hidden_q': 100, 'num_layers': 1, 'num_nodes': 10, 'output_bins': 4, 'output_nodes': 3}, 'ucc_classifier': {'dropout_rate': 0.0, 'num_classes': 4}, 'loss': {'alpha': 1}}}\n",
      "(10, 10)\n",
      "(10, 10)\n",
      "(4, 10)\n",
      "x_train shape: torch.Size([50000, 1, 28, 28])\n",
      "50000 train samples\n",
      "10000 val samples\n",
      "x_train shape: torch.Size([50000, 1, 28, 28])\n",
      "50000 train samples\n",
      "10000 val samples\n",
      "{'args': {'dataset': 'mnist', 'model_dir': 'saved_models/', 'model_name': 'mnist_ucc_drn', 'num_instances': 32, 'ucc_start': 1, 'ucc_end': 4, 'batch_size': 20, 'num_samples_per_class': 5, 'num_workers': 4, 'learning_rate': 0.066652356898563, 'num_bins': 10, 'num_features': 10, 'train_num_steps': 100000, 'val_num_steps': 200, 'save_interval': 1000, 'seed': 22}, 'model': {'num_channels': 1, 'input_shape': [28, 28, 1], 'kde_model': {'num_bins': 10, 'sigma': 0.1}, 'encoder': {'conv_input_channel': 1, 'conv_output_channel': 16, 'block1_output_channel': 321, 'block1_num_layer': 1, 'block2_output_channel': 64, 'block2_num_layer': 1, 'block3_output_channel': 128, 'block3_num_layer': 1, 'flatten_size': 6272, 'num_features': 10}, 'decoder': 'None', 'drn': {'num_bins': 10, 'hidden_q': 10, 'num_layers': 2, 'num_nodes': 9, 'output_bins': 4, 'output_nodes': 3}, 'ucc_classifier': {'dropout_rate': 0.0, 'num_classes': 4}, 'loss': {'alpha': 1}}, 'experiments': {'num_channels': 1, 'input_shape': [28, 28, 1], 'kde_model': {'num_bins': 11, 'sigma': 0.1}, 'encoder': {'conv_input_channel': 1, 'conv_output_channel': 16, 'block1_output_channel': 321, 'block1_num_layer': 1, 'block2_output_channel': 64, 'block2_num_layer': 1, 'block3_output_channel': 128, 'block3_num_layer': 1, 'flatten_size': 6272, 'num_features': 10}, 'decoder': 'None', 'drn': {'num_bins': 11, 'hidden_q': 100, 'num_layers': 1, 'num_nodes': 10, 'output_bins': 4, 'output_nodes': 3}, 'ucc_classifier': {'dropout_rate': 0.0, 'num_classes': 4}, 'loss': {'alpha': 1}}}\n"
     ]
    },
    {
     "name": "stderr",
     "output_type": "stream",
     "text": [
      "2025/04/13 17:22:12 WARNING mlflow.utils.requirements_utils: Found torch version (2.5.1+cu124) contains a local version label (+cu124). MLflow logged a pip requirement for this package as 'torch==2.5.1' without the local version label to make it installable from PyPI. To specify pip requirements containing local version labels, please use `conda_env` or `pip_requirements`.\n"
     ]
    },
    {
     "name": "stdout",
     "output_type": "stream",
     "text": [
      "step: 1000, eval loss: 2.4856224060058594, eval acc: 0.25\n"
     ]
    },
    {
     "name": "stderr",
     "output_type": "stream",
     "text": [
      "2025/04/13 17:22:17 WARNING mlflow.utils.requirements_utils: Found torch version (2.5.1+cu124) contains a local version label (+cu124). MLflow logged a pip requirement for this package as 'torch==2.5.1' without the local version label to make it installable from PyPI. To specify pip requirements containing local version labels, please use `conda_env` or `pip_requirements`.\n",
      "2025/04/13 17:22:17 WARNING mlflow.models.model: Model logged without a signature and input example. Please set `input_example` parameter when logging the model to auto infer the model signature.\n",
      "\n"
     ]
    },
    {
     "name": "stdout",
     "output_type": "stream",
     "text": [
      "step: 2000, eval loss: 2.4927003383636475, eval acc: 0.25\n"
     ]
    },
    {
     "name": "stderr",
     "output_type": "stream",
     "text": [
      "  2%|▏         | 2001/100000 [08:05<70:43:11,  2.60s/it]\u001b[A"
     ]
    },
    {
     "name": "stdout",
     "output_type": "stream",
     "text": [
      "step: 3000, eval loss: 2.4910950660705566, eval acc: 0.25\n"
     ]
    },
    {
     "name": "stderr",
     "output_type": "stream",
     "text": [
      "  3%|▎         | 2999/100000 [12:02<6:29:22,  4.15it/s]\n",
      " 19%|█▉        | 19/100 [3:57:11<16:21:59, 727.41s/it]"
     ]
    },
    {
     "name": "stdout",
     "output_type": "stream",
     "text": [
      "Training finished!!!\n",
      "[W 2025-04-13 17:30:11,723] Trial 18 failed with parameters: {'lr': 0.066652356898563} because of the following error: The value None could not be cast to float..\n",
      "[W 2025-04-13 17:30:11,726] Trial 18 failed with value None.\n",
      "{'args': {'dataset': 'mnist', 'model_dir': 'saved_models/', 'model_name': 'mnist_ucc_drn', 'num_instances': 32, 'ucc_start': 1, 'ucc_end': 4, 'batch_size': 20, 'num_samples_per_class': 5, 'num_workers': 4, 'learning_rate': 0.01383026637403778, 'num_bins': 10, 'num_features': 10, 'train_num_steps': 100000, 'val_num_steps': 200, 'save_interval': 1000, 'seed': 22}, 'model': {'num_channels': 1, 'input_shape': [28, 28, 1], 'kde_model': {'num_bins': 10, 'sigma': 0.1}, 'encoder': {'conv_input_channel': 1, 'conv_output_channel': 16, 'block1_output_channel': 321, 'block1_num_layer': 1, 'block2_output_channel': 64, 'block2_num_layer': 1, 'block3_output_channel': 128, 'block3_num_layer': 1, 'flatten_size': 6272, 'num_features': 10}, 'decoder': 'None', 'drn': {'num_bins': 10, 'hidden_q': 10, 'num_layers': 2, 'num_nodes': 9, 'output_bins': 4, 'output_nodes': 3}, 'ucc_classifier': {'dropout_rate': 0.0, 'num_classes': 4}, 'loss': {'alpha': 1}}, 'experiments': {'num_channels': 1, 'input_shape': [28, 28, 1], 'kde_model': {'num_bins': 11, 'sigma': 0.1}, 'encoder': {'conv_input_channel': 1, 'conv_output_channel': 16, 'block1_output_channel': 321, 'block1_num_layer': 1, 'block2_output_channel': 64, 'block2_num_layer': 1, 'block3_output_channel': 128, 'block3_num_layer': 1, 'flatten_size': 6272, 'num_features': 10}, 'decoder': 'None', 'drn': {'num_bins': 11, 'hidden_q': 100, 'num_layers': 1, 'num_nodes': 10, 'output_bins': 4, 'output_nodes': 3}, 'ucc_classifier': {'dropout_rate': 0.0, 'num_classes': 4}, 'loss': {'alpha': 1}}}\n",
      "(10, 10)\n",
      "(10, 10)\n",
      "(4, 10)\n",
      "x_train shape: torch.Size([50000, 1, 28, 28])\n",
      "50000 train samples\n",
      "10000 val samples\n",
      "x_train shape: torch.Size([50000, 1, 28, 28])\n",
      "50000 train samples\n",
      "10000 val samples\n",
      "{'args': {'dataset': 'mnist', 'model_dir': 'saved_models/', 'model_name': 'mnist_ucc_drn', 'num_instances': 32, 'ucc_start': 1, 'ucc_end': 4, 'batch_size': 20, 'num_samples_per_class': 5, 'num_workers': 4, 'learning_rate': 0.01383026637403778, 'num_bins': 10, 'num_features': 10, 'train_num_steps': 100000, 'val_num_steps': 200, 'save_interval': 1000, 'seed': 22}, 'model': {'num_channels': 1, 'input_shape': [28, 28, 1], 'kde_model': {'num_bins': 10, 'sigma': 0.1}, 'encoder': {'conv_input_channel': 1, 'conv_output_channel': 16, 'block1_output_channel': 321, 'block1_num_layer': 1, 'block2_output_channel': 64, 'block2_num_layer': 1, 'block3_output_channel': 128, 'block3_num_layer': 1, 'flatten_size': 6272, 'num_features': 10}, 'decoder': 'None', 'drn': {'num_bins': 10, 'hidden_q': 10, 'num_layers': 2, 'num_nodes': 9, 'output_bins': 4, 'output_nodes': 3}, 'ucc_classifier': {'dropout_rate': 0.0, 'num_classes': 4}, 'loss': {'alpha': 1}}, 'experiments': {'num_channels': 1, 'input_shape': [28, 28, 1], 'kde_model': {'num_bins': 11, 'sigma': 0.1}, 'encoder': {'conv_input_channel': 1, 'conv_output_channel': 16, 'block1_output_channel': 321, 'block1_num_layer': 1, 'block2_output_channel': 64, 'block2_num_layer': 1, 'block3_output_channel': 128, 'block3_num_layer': 1, 'flatten_size': 6272, 'num_features': 10}, 'decoder': 'None', 'drn': {'num_bins': 11, 'hidden_q': 100, 'num_layers': 1, 'num_nodes': 10, 'output_bins': 4, 'output_nodes': 3}, 'ucc_classifier': {'dropout_rate': 0.0, 'num_classes': 4}, 'loss': {'alpha': 1}}}\n"
     ]
    },
    {
     "name": "stderr",
     "output_type": "stream",
     "text": []
    },
    {
     "name": "stdout",
     "output_type": "stream",
     "text": [
      "step: 1000, eval loss: 2.495898723602295, eval acc: 0.0\n"
     ]
    },
    {
     "name": "stderr",
     "output_type": "stream",
     "text": [
      "2025/04/13 17:38:13 WARNING mlflow.utils.requirements_utils: Found torch version (2.5.1+cu124) contains a local version label (+cu124). MLflow logged a pip requirement for this package as 'torch==2.5.1' without the local version label to make it installable from PyPI. To specify pip requirements containing local version labels, please use `conda_env` or `pip_requirements`.\n"
     ]
    },
    {
     "name": "stdout",
     "output_type": "stream",
     "text": [
      "step: 2000, eval loss: 2.485074520111084, eval acc: 0.25\n"
     ]
    },
    {
     "name": "stderr",
     "output_type": "stream",
     "text": [
      "2025/04/13 17:38:18 WARNING mlflow.utils.requirements_utils: Found torch version (2.5.1+cu124) contains a local version label (+cu124). MLflow logged a pip requirement for this package as 'torch==2.5.1' without the local version label to make it installable from PyPI. To specify pip requirements containing local version labels, please use `conda_env` or `pip_requirements`.\n",
      "2025/04/13 17:38:18 WARNING mlflow.models.model: Model logged without a signature and input example. Please set `input_example` parameter when logging the model to auto infer the model signature.\n"
     ]
    },
    {
     "name": "stdout",
     "output_type": "stream",
     "text": [
      "step: 3000, eval loss: 2.4853053092956543, eval acc: 0.25\n"
     ]
    },
    {
     "name": "stderr",
     "output_type": "stream",
     "text": []
    },
    {
     "name": "stdout",
     "output_type": "stream",
     "text": [
      "step: 4000, eval loss: 2.484987258911133, eval acc: 0.25\n"
     ]
    },
    {
     "name": "stderr",
     "output_type": "stream",
     "text": [
      "  4%|▍         | 3999/100000 [16:03<6:25:18,  4.15it/s]\n",
      " 20%|██        | 20/100 [4:13:14<17:44:33, 798.41s/it]"
     ]
    },
    {
     "name": "stdout",
     "output_type": "stream",
     "text": [
      "Training finished!!!\n",
      "[W 2025-04-13 17:46:15,634] Trial 19 failed with parameters: {'lr': 0.01383026637403778} because of the following error: The value None could not be cast to float..\n",
      "[W 2025-04-13 17:46:15,637] Trial 19 failed with value None.\n",
      "{'args': {'dataset': 'mnist', 'model_dir': 'saved_models/', 'model_name': 'mnist_ucc_drn', 'num_instances': 32, 'ucc_start': 1, 'ucc_end': 4, 'batch_size': 20, 'num_samples_per_class': 5, 'num_workers': 4, 'learning_rate': 0.07660696830681848, 'num_bins': 10, 'num_features': 10, 'train_num_steps': 100000, 'val_num_steps': 200, 'save_interval': 1000, 'seed': 22}, 'model': {'num_channels': 1, 'input_shape': [28, 28, 1], 'kde_model': {'num_bins': 10, 'sigma': 0.1}, 'encoder': {'conv_input_channel': 1, 'conv_output_channel': 16, 'block1_output_channel': 321, 'block1_num_layer': 1, 'block2_output_channel': 64, 'block2_num_layer': 1, 'block3_output_channel': 128, 'block3_num_layer': 1, 'flatten_size': 6272, 'num_features': 10}, 'decoder': 'None', 'drn': {'num_bins': 10, 'hidden_q': 10, 'num_layers': 2, 'num_nodes': 9, 'output_bins': 4, 'output_nodes': 3}, 'ucc_classifier': {'dropout_rate': 0.0, 'num_classes': 4}, 'loss': {'alpha': 1}}, 'experiments': {'num_channels': 1, 'input_shape': [28, 28, 1], 'kde_model': {'num_bins': 11, 'sigma': 0.1}, 'encoder': {'conv_input_channel': 1, 'conv_output_channel': 16, 'block1_output_channel': 321, 'block1_num_layer': 1, 'block2_output_channel': 64, 'block2_num_layer': 1, 'block3_output_channel': 128, 'block3_num_layer': 1, 'flatten_size': 6272, 'num_features': 10}, 'decoder': 'None', 'drn': {'num_bins': 11, 'hidden_q': 100, 'num_layers': 1, 'num_nodes': 10, 'output_bins': 4, 'output_nodes': 3}, 'ucc_classifier': {'dropout_rate': 0.0, 'num_classes': 4}, 'loss': {'alpha': 1}}}\n",
      "(10, 10)\n",
      "(10, 10)\n",
      "(4, 10)\n",
      "x_train shape: torch.Size([50000, 1, 28, 28])\n",
      "50000 train samples\n",
      "10000 val samples\n",
      "x_train shape: torch.Size([50000, 1, 28, 28])\n",
      "50000 train samples\n",
      "10000 val samples\n",
      "{'args': {'dataset': 'mnist', 'model_dir': 'saved_models/', 'model_name': 'mnist_ucc_drn', 'num_instances': 32, 'ucc_start': 1, 'ucc_end': 4, 'batch_size': 20, 'num_samples_per_class': 5, 'num_workers': 4, 'learning_rate': 0.07660696830681848, 'num_bins': 10, 'num_features': 10, 'train_num_steps': 100000, 'val_num_steps': 200, 'save_interval': 1000, 'seed': 22}, 'model': {'num_channels': 1, 'input_shape': [28, 28, 1], 'kde_model': {'num_bins': 10, 'sigma': 0.1}, 'encoder': {'conv_input_channel': 1, 'conv_output_channel': 16, 'block1_output_channel': 321, 'block1_num_layer': 1, 'block2_output_channel': 64, 'block2_num_layer': 1, 'block3_output_channel': 128, 'block3_num_layer': 1, 'flatten_size': 6272, 'num_features': 10}, 'decoder': 'None', 'drn': {'num_bins': 10, 'hidden_q': 10, 'num_layers': 2, 'num_nodes': 9, 'output_bins': 4, 'output_nodes': 3}, 'ucc_classifier': {'dropout_rate': 0.0, 'num_classes': 4}, 'loss': {'alpha': 1}}, 'experiments': {'num_channels': 1, 'input_shape': [28, 28, 1], 'kde_model': {'num_bins': 11, 'sigma': 0.1}, 'encoder': {'conv_input_channel': 1, 'conv_output_channel': 16, 'block1_output_channel': 321, 'block1_num_layer': 1, 'block2_output_channel': 64, 'block2_num_layer': 1, 'block3_output_channel': 128, 'block3_num_layer': 1, 'flatten_size': 6272, 'num_features': 10}, 'decoder': 'None', 'drn': {'num_bins': 11, 'hidden_q': 100, 'num_layers': 1, 'num_nodes': 10, 'output_bins': 4, 'output_nodes': 3}, 'ucc_classifier': {'dropout_rate': 0.0, 'num_classes': 4}, 'loss': {'alpha': 1}}}\n"
     ]
    },
    {
     "name": "stderr",
     "output_type": "stream",
     "text": [
      "2025/04/13 17:50:20 WARNING mlflow.utils.requirements_utils: Found torch version (2.5.1+cu124) contains a local version label (+cu124). MLflow logged a pip requirement for this package as 'torch==2.5.1' without the local version label to make it installable from PyPI. To specify pip requirements containing local version labels, please use `conda_env` or `pip_requirements`.\n"
     ]
    },
    {
     "name": "stdout",
     "output_type": "stream",
     "text": [
      "step: 1000, eval loss: 2.4862282276153564, eval acc: 0.25\n"
     ]
    },
    {
     "name": "stderr",
     "output_type": "stream",
     "text": [
      "2025/04/13 17:50:26 WARNING mlflow.utils.requirements_utils: Found torch version (2.5.1+cu124) contains a local version label (+cu124). MLflow logged a pip requirement for this package as 'torch==2.5.1' without the local version label to make it installable from PyPI. To specify pip requirements containing local version labels, please use `conda_env` or `pip_requirements`.\n",
      "2025/04/13 17:50:26 WARNING mlflow.models.model: Model logged without a signature and input example. Please set `input_example` parameter when logging the model to auto infer the model signature.\n"
     ]
    },
    {
     "name": "stdout",
     "output_type": "stream",
     "text": [
      "step: 2000, eval loss: 2.4863877296447754, eval acc: 0.25\n"
     ]
    },
    {
     "name": "stderr",
     "output_type": "stream",
     "text": []
    },
    {
     "name": "stdout",
     "output_type": "stream",
     "text": [
      "step: 3000, eval loss: 2.4854440689086914, eval acc: 0.25\n"
     ]
    },
    {
     "name": "stderr",
     "output_type": "stream",
     "text": [
      "  3%|▎         | 2999/100000 [12:05<6:31:02,  4.13it/s]\n",
      " 21%|██        | 21/100 [4:25:21<17:02:48, 776.82s/it]"
     ]
    },
    {
     "name": "stdout",
     "output_type": "stream",
     "text": [
      "Training finished!!!\n",
      "[W 2025-04-13 17:58:22,097] Trial 20 failed with parameters: {'lr': 0.07660696830681848} because of the following error: The value None could not be cast to float..\n",
      "[W 2025-04-13 17:58:22,100] Trial 20 failed with value None.\n",
      "{'args': {'dataset': 'mnist', 'model_dir': 'saved_models/', 'model_name': 'mnist_ucc_drn', 'num_instances': 32, 'ucc_start': 1, 'ucc_end': 4, 'batch_size': 20, 'num_samples_per_class': 5, 'num_workers': 4, 'learning_rate': 0.040860690080606596, 'num_bins': 10, 'num_features': 10, 'train_num_steps': 100000, 'val_num_steps': 200, 'save_interval': 1000, 'seed': 22}, 'model': {'num_channels': 1, 'input_shape': [28, 28, 1], 'kde_model': {'num_bins': 10, 'sigma': 0.1}, 'encoder': {'conv_input_channel': 1, 'conv_output_channel': 16, 'block1_output_channel': 321, 'block1_num_layer': 1, 'block2_output_channel': 64, 'block2_num_layer': 1, 'block3_output_channel': 128, 'block3_num_layer': 1, 'flatten_size': 6272, 'num_features': 10}, 'decoder': 'None', 'drn': {'num_bins': 10, 'hidden_q': 10, 'num_layers': 2, 'num_nodes': 9, 'output_bins': 4, 'output_nodes': 3}, 'ucc_classifier': {'dropout_rate': 0.0, 'num_classes': 4}, 'loss': {'alpha': 1}}, 'experiments': {'num_channels': 1, 'input_shape': [28, 28, 1], 'kde_model': {'num_bins': 11, 'sigma': 0.1}, 'encoder': {'conv_input_channel': 1, 'conv_output_channel': 16, 'block1_output_channel': 321, 'block1_num_layer': 1, 'block2_output_channel': 64, 'block2_num_layer': 1, 'block3_output_channel': 128, 'block3_num_layer': 1, 'flatten_size': 6272, 'num_features': 10}, 'decoder': 'None', 'drn': {'num_bins': 11, 'hidden_q': 100, 'num_layers': 1, 'num_nodes': 10, 'output_bins': 4, 'output_nodes': 3}, 'ucc_classifier': {'dropout_rate': 0.0, 'num_classes': 4}, 'loss': {'alpha': 1}}}\n",
      "(10, 10)\n",
      "(10, 10)\n",
      "(4, 10)\n",
      "x_train shape: torch.Size([50000, 1, 28, 28])\n",
      "50000 train samples\n",
      "10000 val samples\n",
      "x_train shape: torch.Size([50000, 1, 28, 28])\n",
      "50000 train samples\n",
      "10000 val samples\n",
      "{'args': {'dataset': 'mnist', 'model_dir': 'saved_models/', 'model_name': 'mnist_ucc_drn', 'num_instances': 32, 'ucc_start': 1, 'ucc_end': 4, 'batch_size': 20, 'num_samples_per_class': 5, 'num_workers': 4, 'learning_rate': 0.040860690080606596, 'num_bins': 10, 'num_features': 10, 'train_num_steps': 100000, 'val_num_steps': 200, 'save_interval': 1000, 'seed': 22}, 'model': {'num_channels': 1, 'input_shape': [28, 28, 1], 'kde_model': {'num_bins': 10, 'sigma': 0.1}, 'encoder': {'conv_input_channel': 1, 'conv_output_channel': 16, 'block1_output_channel': 321, 'block1_num_layer': 1, 'block2_output_channel': 64, 'block2_num_layer': 1, 'block3_output_channel': 128, 'block3_num_layer': 1, 'flatten_size': 6272, 'num_features': 10}, 'decoder': 'None', 'drn': {'num_bins': 10, 'hidden_q': 10, 'num_layers': 2, 'num_nodes': 9, 'output_bins': 4, 'output_nodes': 3}, 'ucc_classifier': {'dropout_rate': 0.0, 'num_classes': 4}, 'loss': {'alpha': 1}}, 'experiments': {'num_channels': 1, 'input_shape': [28, 28, 1], 'kde_model': {'num_bins': 11, 'sigma': 0.1}, 'encoder': {'conv_input_channel': 1, 'conv_output_channel': 16, 'block1_output_channel': 321, 'block1_num_layer': 1, 'block2_output_channel': 64, 'block2_num_layer': 1, 'block3_output_channel': 128, 'block3_num_layer': 1, 'flatten_size': 6272, 'num_features': 10}, 'decoder': 'None', 'drn': {'num_bins': 11, 'hidden_q': 100, 'num_layers': 1, 'num_nodes': 10, 'output_bins': 4, 'output_nodes': 3}, 'ucc_classifier': {'dropout_rate': 0.0, 'num_classes': 4}, 'loss': {'alpha': 1}}}\n"
     ]
    },
    {
     "name": "stderr",
     "output_type": "stream",
     "text": [
      "2025/04/13 18:02:28 WARNING mlflow.utils.requirements_utils: Found torch version (2.5.1+cu124) contains a local version label (+cu124). MLflow logged a pip requirement for this package as 'torch==2.5.1' without the local version label to make it installable from PyPI. To specify pip requirements containing local version labels, please use `conda_env` or `pip_requirements`.\n"
     ]
    },
    {
     "name": "stdout",
     "output_type": "stream",
     "text": [
      "step: 1000, eval loss: 2.4852960109710693, eval acc: 0.25\n"
     ]
    },
    {
     "name": "stderr",
     "output_type": "stream",
     "text": [
      "2025/04/13 18:02:33 WARNING mlflow.utils.requirements_utils: Found torch version (2.5.1+cu124) contains a local version label (+cu124). MLflow logged a pip requirement for this package as 'torch==2.5.1' without the local version label to make it installable from PyPI. To specify pip requirements containing local version labels, please use `conda_env` or `pip_requirements`.\n",
      "2025/04/13 18:02:33 WARNING mlflow.models.model: Model logged without a signature and input example. Please set `input_example` parameter when logging the model to auto infer the model signature.\n"
     ]
    },
    {
     "name": "stdout",
     "output_type": "stream",
     "text": [
      "step: 2000, eval loss: 2.4857187271118164, eval acc: 0.25\n"
     ]
    },
    {
     "name": "stderr",
     "output_type": "stream",
     "text": []
    },
    {
     "name": "stdout",
     "output_type": "stream",
     "text": [
      "step: 3000, eval loss: 2.4885520935058594, eval acc: 0.25\n"
     ]
    },
    {
     "name": "stderr",
     "output_type": "stream",
     "text": [
      "  3%|▎         | 2999/100000 [12:07<6:32:04,  4.12it/s]\n",
      " 22%|██▏       | 22/100 [4:37:29<16:30:54, 762.24s/it]"
     ]
    },
    {
     "name": "stdout",
     "output_type": "stream",
     "text": [
      "Training finished!!!\n",
      "[W 2025-04-13 18:10:30,340] Trial 21 failed with parameters: {'lr': 0.040860690080606596} because of the following error: The value None could not be cast to float..\n",
      "[W 2025-04-13 18:10:30,343] Trial 21 failed with value None.\n",
      "{'args': {'dataset': 'mnist', 'model_dir': 'saved_models/', 'model_name': 'mnist_ucc_drn', 'num_instances': 32, 'ucc_start': 1, 'ucc_end': 4, 'batch_size': 20, 'num_samples_per_class': 5, 'num_workers': 4, 'learning_rate': 0.050744970485310174, 'num_bins': 10, 'num_features': 10, 'train_num_steps': 100000, 'val_num_steps': 200, 'save_interval': 1000, 'seed': 22}, 'model': {'num_channels': 1, 'input_shape': [28, 28, 1], 'kde_model': {'num_bins': 10, 'sigma': 0.1}, 'encoder': {'conv_input_channel': 1, 'conv_output_channel': 16, 'block1_output_channel': 321, 'block1_num_layer': 1, 'block2_output_channel': 64, 'block2_num_layer': 1, 'block3_output_channel': 128, 'block3_num_layer': 1, 'flatten_size': 6272, 'num_features': 10}, 'decoder': 'None', 'drn': {'num_bins': 10, 'hidden_q': 10, 'num_layers': 2, 'num_nodes': 9, 'output_bins': 4, 'output_nodes': 3}, 'ucc_classifier': {'dropout_rate': 0.0, 'num_classes': 4}, 'loss': {'alpha': 1}}, 'experiments': {'num_channels': 1, 'input_shape': [28, 28, 1], 'kde_model': {'num_bins': 11, 'sigma': 0.1}, 'encoder': {'conv_input_channel': 1, 'conv_output_channel': 16, 'block1_output_channel': 321, 'block1_num_layer': 1, 'block2_output_channel': 64, 'block2_num_layer': 1, 'block3_output_channel': 128, 'block3_num_layer': 1, 'flatten_size': 6272, 'num_features': 10}, 'decoder': 'None', 'drn': {'num_bins': 11, 'hidden_q': 100, 'num_layers': 1, 'num_nodes': 10, 'output_bins': 4, 'output_nodes': 3}, 'ucc_classifier': {'dropout_rate': 0.0, 'num_classes': 4}, 'loss': {'alpha': 1}}}\n",
      "(10, 10)\n",
      "(10, 10)\n",
      "(4, 10)\n",
      "x_train shape: torch.Size([50000, 1, 28, 28])\n",
      "50000 train samples\n",
      "10000 val samples\n",
      "x_train shape: torch.Size([50000, 1, 28, 28])\n",
      "50000 train samples\n",
      "10000 val samples\n",
      "{'args': {'dataset': 'mnist', 'model_dir': 'saved_models/', 'model_name': 'mnist_ucc_drn', 'num_instances': 32, 'ucc_start': 1, 'ucc_end': 4, 'batch_size': 20, 'num_samples_per_class': 5, 'num_workers': 4, 'learning_rate': 0.050744970485310174, 'num_bins': 10, 'num_features': 10, 'train_num_steps': 100000, 'val_num_steps': 200, 'save_interval': 1000, 'seed': 22}, 'model': {'num_channels': 1, 'input_shape': [28, 28, 1], 'kde_model': {'num_bins': 10, 'sigma': 0.1}, 'encoder': {'conv_input_channel': 1, 'conv_output_channel': 16, 'block1_output_channel': 321, 'block1_num_layer': 1, 'block2_output_channel': 64, 'block2_num_layer': 1, 'block3_output_channel': 128, 'block3_num_layer': 1, 'flatten_size': 6272, 'num_features': 10}, 'decoder': 'None', 'drn': {'num_bins': 10, 'hidden_q': 10, 'num_layers': 2, 'num_nodes': 9, 'output_bins': 4, 'output_nodes': 3}, 'ucc_classifier': {'dropout_rate': 0.0, 'num_classes': 4}, 'loss': {'alpha': 1}}, 'experiments': {'num_channels': 1, 'input_shape': [28, 28, 1], 'kde_model': {'num_bins': 11, 'sigma': 0.1}, 'encoder': {'conv_input_channel': 1, 'conv_output_channel': 16, 'block1_output_channel': 321, 'block1_num_layer': 1, 'block2_output_channel': 64, 'block2_num_layer': 1, 'block3_output_channel': 128, 'block3_num_layer': 1, 'flatten_size': 6272, 'num_features': 10}, 'decoder': 'None', 'drn': {'num_bins': 11, 'hidden_q': 100, 'num_layers': 1, 'num_nodes': 10, 'output_bins': 4, 'output_nodes': 3}, 'ucc_classifier': {'dropout_rate': 0.0, 'num_classes': 4}, 'loss': {'alpha': 1}}}\n"
     ]
    },
    {
     "name": "stderr",
     "output_type": "stream",
     "text": [
      "2025/04/13 18:14:36 WARNING mlflow.utils.requirements_utils: Found torch version (2.5.1+cu124) contains a local version label (+cu124). MLflow logged a pip requirement for this package as 'torch==2.5.1' without the local version label to make it installable from PyPI. To specify pip requirements containing local version labels, please use `conda_env` or `pip_requirements`.\n"
     ]
    },
    {
     "name": "stdout",
     "output_type": "stream",
     "text": [
      "step: 1000, eval loss: 2.4850752353668213, eval acc: 0.25\n"
     ]
    },
    {
     "name": "stderr",
     "output_type": "stream",
     "text": [
      "2025/04/13 18:14:41 WARNING mlflow.utils.requirements_utils: Found torch version (2.5.1+cu124) contains a local version label (+cu124). MLflow logged a pip requirement for this package as 'torch==2.5.1' without the local version label to make it installable from PyPI. To specify pip requirements containing local version labels, please use `conda_env` or `pip_requirements`.\n",
      "2025/04/13 18:14:41 WARNING mlflow.models.model: Model logged without a signature and input example. Please set `input_example` parameter when logging the model to auto infer the model signature.\n"
     ]
    },
    {
     "name": "stdout",
     "output_type": "stream",
     "text": [
      "step: 2000, eval loss: 2.4859063625335693, eval acc: 0.25\n"
     ]
    },
    {
     "name": "stderr",
     "output_type": "stream",
     "text": []
    },
    {
     "name": "stdout",
     "output_type": "stream",
     "text": [
      "step: 3000, eval loss: 2.4851837158203125, eval acc: 0.25\n"
     ]
    },
    {
     "name": "stderr",
     "output_type": "stream",
     "text": [
      "  3%|▎         | 2999/100000 [12:06<6:31:53,  4.13it/s]\n",
      " 23%|██▎       | 23/100 [4:49:37<16:04:58, 751.92s/it]"
     ]
    },
    {
     "name": "stdout",
     "output_type": "stream",
     "text": [
      "Training finished!!!\n",
      "[W 2025-04-13 18:22:38,202] Trial 22 failed with parameters: {'lr': 0.050744970485310174} because of the following error: The value None could not be cast to float..\n",
      "[W 2025-04-13 18:22:38,204] Trial 22 failed with value None.\n",
      "{'args': {'dataset': 'mnist', 'model_dir': 'saved_models/', 'model_name': 'mnist_ucc_drn', 'num_instances': 32, 'ucc_start': 1, 'ucc_end': 4, 'batch_size': 20, 'num_samples_per_class': 5, 'num_workers': 4, 'learning_rate': 0.06867746549813808, 'num_bins': 10, 'num_features': 10, 'train_num_steps': 100000, 'val_num_steps': 200, 'save_interval': 1000, 'seed': 22}, 'model': {'num_channels': 1, 'input_shape': [28, 28, 1], 'kde_model': {'num_bins': 10, 'sigma': 0.1}, 'encoder': {'conv_input_channel': 1, 'conv_output_channel': 16, 'block1_output_channel': 321, 'block1_num_layer': 1, 'block2_output_channel': 64, 'block2_num_layer': 1, 'block3_output_channel': 128, 'block3_num_layer': 1, 'flatten_size': 6272, 'num_features': 10}, 'decoder': 'None', 'drn': {'num_bins': 10, 'hidden_q': 10, 'num_layers': 2, 'num_nodes': 9, 'output_bins': 4, 'output_nodes': 3}, 'ucc_classifier': {'dropout_rate': 0.0, 'num_classes': 4}, 'loss': {'alpha': 1}}, 'experiments': {'num_channels': 1, 'input_shape': [28, 28, 1], 'kde_model': {'num_bins': 11, 'sigma': 0.1}, 'encoder': {'conv_input_channel': 1, 'conv_output_channel': 16, 'block1_output_channel': 321, 'block1_num_layer': 1, 'block2_output_channel': 64, 'block2_num_layer': 1, 'block3_output_channel': 128, 'block3_num_layer': 1, 'flatten_size': 6272, 'num_features': 10}, 'decoder': 'None', 'drn': {'num_bins': 11, 'hidden_q': 100, 'num_layers': 1, 'num_nodes': 10, 'output_bins': 4, 'output_nodes': 3}, 'ucc_classifier': {'dropout_rate': 0.0, 'num_classes': 4}, 'loss': {'alpha': 1}}}\n",
      "(10, 10)\n",
      "(10, 10)\n",
      "(4, 10)\n",
      "x_train shape: torch.Size([50000, 1, 28, 28])\n",
      "50000 train samples\n",
      "10000 val samples\n",
      "x_train shape: torch.Size([50000, 1, 28, 28])\n",
      "50000 train samples\n",
      "10000 val samples\n",
      "{'args': {'dataset': 'mnist', 'model_dir': 'saved_models/', 'model_name': 'mnist_ucc_drn', 'num_instances': 32, 'ucc_start': 1, 'ucc_end': 4, 'batch_size': 20, 'num_samples_per_class': 5, 'num_workers': 4, 'learning_rate': 0.06867746549813808, 'num_bins': 10, 'num_features': 10, 'train_num_steps': 100000, 'val_num_steps': 200, 'save_interval': 1000, 'seed': 22}, 'model': {'num_channels': 1, 'input_shape': [28, 28, 1], 'kde_model': {'num_bins': 10, 'sigma': 0.1}, 'encoder': {'conv_input_channel': 1, 'conv_output_channel': 16, 'block1_output_channel': 321, 'block1_num_layer': 1, 'block2_output_channel': 64, 'block2_num_layer': 1, 'block3_output_channel': 128, 'block3_num_layer': 1, 'flatten_size': 6272, 'num_features': 10}, 'decoder': 'None', 'drn': {'num_bins': 10, 'hidden_q': 10, 'num_layers': 2, 'num_nodes': 9, 'output_bins': 4, 'output_nodes': 3}, 'ucc_classifier': {'dropout_rate': 0.0, 'num_classes': 4}, 'loss': {'alpha': 1}}, 'experiments': {'num_channels': 1, 'input_shape': [28, 28, 1], 'kde_model': {'num_bins': 11, 'sigma': 0.1}, 'encoder': {'conv_input_channel': 1, 'conv_output_channel': 16, 'block1_output_channel': 321, 'block1_num_layer': 1, 'block2_output_channel': 64, 'block2_num_layer': 1, 'block3_output_channel': 128, 'block3_num_layer': 1, 'flatten_size': 6272, 'num_features': 10}, 'decoder': 'None', 'drn': {'num_bins': 11, 'hidden_q': 100, 'num_layers': 1, 'num_nodes': 10, 'output_bins': 4, 'output_nodes': 3}, 'ucc_classifier': {'dropout_rate': 0.0, 'num_classes': 4}, 'loss': {'alpha': 1}}}\n"
     ]
    },
    {
     "name": "stderr",
     "output_type": "stream",
     "text": [
      "2025/04/13 18:26:43 WARNING mlflow.utils.requirements_utils: Found torch version (2.5.1+cu124) contains a local version label (+cu124). MLflow logged a pip requirement for this package as 'torch==2.5.1' without the local version label to make it installable from PyPI. To specify pip requirements containing local version labels, please use `conda_env` or `pip_requirements`.\n"
     ]
    },
    {
     "name": "stdout",
     "output_type": "stream",
     "text": [
      "step: 1000, eval loss: 2.4863085746765137, eval acc: 0.25\n"
     ]
    },
    {
     "name": "stderr",
     "output_type": "stream",
     "text": [
      "2025/04/13 18:26:49 WARNING mlflow.utils.requirements_utils: Found torch version (2.5.1+cu124) contains a local version label (+cu124). MLflow logged a pip requirement for this package as 'torch==2.5.1' without the local version label to make it installable from PyPI. To specify pip requirements containing local version labels, please use `conda_env` or `pip_requirements`.\n",
      "2025/04/13 18:26:49 WARNING mlflow.models.model: Model logged without a signature and input example. Please set `input_example` parameter when logging the model to auto infer the model signature.\n"
     ]
    },
    {
     "name": "stdout",
     "output_type": "stream",
     "text": [
      "step: 2000, eval loss: 2.487602710723877, eval acc: 0.25\n"
     ]
    },
    {
     "name": "stderr",
     "output_type": "stream",
     "text": []
    },
    {
     "name": "stdout",
     "output_type": "stream",
     "text": [
      "step: 3000, eval loss: 2.4932689666748047, eval acc: 0.25\n"
     ]
    },
    {
     "name": "stderr",
     "output_type": "stream",
     "text": [
      "  3%|▎         | 2999/100000 [12:06<6:31:35,  4.13it/s]\n",
      " 24%|██▍       | 24/100 [5:01:44<15:43:03, 744.52s/it]"
     ]
    },
    {
     "name": "stdout",
     "output_type": "stream",
     "text": [
      "Training finished!!!\n",
      "[W 2025-04-13 18:34:45,445] Trial 23 failed with parameters: {'lr': 0.06867746549813808} because of the following error: The value None could not be cast to float..\n",
      "[W 2025-04-13 18:34:45,449] Trial 23 failed with value None.\n",
      "{'args': {'dataset': 'mnist', 'model_dir': 'saved_models/', 'model_name': 'mnist_ucc_drn', 'num_instances': 32, 'ucc_start': 1, 'ucc_end': 4, 'batch_size': 20, 'num_samples_per_class': 5, 'num_workers': 4, 'learning_rate': 0.014319180553692645, 'num_bins': 10, 'num_features': 10, 'train_num_steps': 100000, 'val_num_steps': 200, 'save_interval': 1000, 'seed': 22}, 'model': {'num_channels': 1, 'input_shape': [28, 28, 1], 'kde_model': {'num_bins': 10, 'sigma': 0.1}, 'encoder': {'conv_input_channel': 1, 'conv_output_channel': 16, 'block1_output_channel': 321, 'block1_num_layer': 1, 'block2_output_channel': 64, 'block2_num_layer': 1, 'block3_output_channel': 128, 'block3_num_layer': 1, 'flatten_size': 6272, 'num_features': 10}, 'decoder': 'None', 'drn': {'num_bins': 10, 'hidden_q': 10, 'num_layers': 2, 'num_nodes': 9, 'output_bins': 4, 'output_nodes': 3}, 'ucc_classifier': {'dropout_rate': 0.0, 'num_classes': 4}, 'loss': {'alpha': 1}}, 'experiments': {'num_channels': 1, 'input_shape': [28, 28, 1], 'kde_model': {'num_bins': 11, 'sigma': 0.1}, 'encoder': {'conv_input_channel': 1, 'conv_output_channel': 16, 'block1_output_channel': 321, 'block1_num_layer': 1, 'block2_output_channel': 64, 'block2_num_layer': 1, 'block3_output_channel': 128, 'block3_num_layer': 1, 'flatten_size': 6272, 'num_features': 10}, 'decoder': 'None', 'drn': {'num_bins': 11, 'hidden_q': 100, 'num_layers': 1, 'num_nodes': 10, 'output_bins': 4, 'output_nodes': 3}, 'ucc_classifier': {'dropout_rate': 0.0, 'num_classes': 4}, 'loss': {'alpha': 1}}}\n",
      "(10, 10)\n",
      "(10, 10)\n",
      "(4, 10)\n",
      "x_train shape: torch.Size([50000, 1, 28, 28])\n",
      "50000 train samples\n",
      "10000 val samples\n",
      "x_train shape: torch.Size([50000, 1, 28, 28])\n",
      "50000 train samples\n",
      "10000 val samples\n",
      "{'args': {'dataset': 'mnist', 'model_dir': 'saved_models/', 'model_name': 'mnist_ucc_drn', 'num_instances': 32, 'ucc_start': 1, 'ucc_end': 4, 'batch_size': 20, 'num_samples_per_class': 5, 'num_workers': 4, 'learning_rate': 0.014319180553692645, 'num_bins': 10, 'num_features': 10, 'train_num_steps': 100000, 'val_num_steps': 200, 'save_interval': 1000, 'seed': 22}, 'model': {'num_channels': 1, 'input_shape': [28, 28, 1], 'kde_model': {'num_bins': 10, 'sigma': 0.1}, 'encoder': {'conv_input_channel': 1, 'conv_output_channel': 16, 'block1_output_channel': 321, 'block1_num_layer': 1, 'block2_output_channel': 64, 'block2_num_layer': 1, 'block3_output_channel': 128, 'block3_num_layer': 1, 'flatten_size': 6272, 'num_features': 10}, 'decoder': 'None', 'drn': {'num_bins': 10, 'hidden_q': 10, 'num_layers': 2, 'num_nodes': 9, 'output_bins': 4, 'output_nodes': 3}, 'ucc_classifier': {'dropout_rate': 0.0, 'num_classes': 4}, 'loss': {'alpha': 1}}, 'experiments': {'num_channels': 1, 'input_shape': [28, 28, 1], 'kde_model': {'num_bins': 11, 'sigma': 0.1}, 'encoder': {'conv_input_channel': 1, 'conv_output_channel': 16, 'block1_output_channel': 321, 'block1_num_layer': 1, 'block2_output_channel': 64, 'block2_num_layer': 1, 'block3_output_channel': 128, 'block3_num_layer': 1, 'flatten_size': 6272, 'num_features': 10}, 'decoder': 'None', 'drn': {'num_bins': 11, 'hidden_q': 100, 'num_layers': 1, 'num_nodes': 10, 'output_bins': 4, 'output_nodes': 3}, 'ucc_classifier': {'dropout_rate': 0.0, 'num_classes': 4}, 'loss': {'alpha': 1}}}\n"
     ]
    },
    {
     "name": "stderr",
     "output_type": "stream",
     "text": [
      "2025/04/13 18:38:52 WARNING mlflow.utils.requirements_utils: Found torch version (2.5.1+cu124) contains a local version label (+cu124). MLflow logged a pip requirement for this package as 'torch==2.5.1' without the local version label to make it installable from PyPI. To specify pip requirements containing local version labels, please use `conda_env` or `pip_requirements`.\n"
     ]
    },
    {
     "name": "stdout",
     "output_type": "stream",
     "text": [
      "step: 1000, eval loss: 2.485309600830078, eval acc: 0.25\n"
     ]
    },
    {
     "name": "stderr",
     "output_type": "stream",
     "text": [
      "2025/04/13 18:38:57 WARNING mlflow.utils.requirements_utils: Found torch version (2.5.1+cu124) contains a local version label (+cu124). MLflow logged a pip requirement for this package as 'torch==2.5.1' without the local version label to make it installable from PyPI. To specify pip requirements containing local version labels, please use `conda_env` or `pip_requirements`.\n",
      "2025/04/13 18:38:57 WARNING mlflow.models.model: Model logged without a signature and input example. Please set `input_example` parameter when logging the model to auto infer the model signature.\n"
     ]
    },
    {
     "name": "stdout",
     "output_type": "stream",
     "text": [
      "step: 2000, eval loss: 2.4875683784484863, eval acc: 0.25\n"
     ]
    },
    {
     "name": "stderr",
     "output_type": "stream",
     "text": []
    },
    {
     "name": "stdout",
     "output_type": "stream",
     "text": [
      "step: 3000, eval loss: 2.487144708633423, eval acc: 0.25\n"
     ]
    },
    {
     "name": "stderr",
     "output_type": "stream",
     "text": [
      "  3%|▎         | 2999/100000 [12:12<6:34:36,  4.10it/s]\n",
      " 25%|██▌       | 25/100 [5:13:57<15:26:18, 741.04s/it]"
     ]
    },
    {
     "name": "stdout",
     "output_type": "stream",
     "text": [
      "Training finished!!!\n",
      "[W 2025-04-13 18:46:58,375] Trial 24 failed with parameters: {'lr': 0.014319180553692645} because of the following error: The value None could not be cast to float..\n",
      "[W 2025-04-13 18:46:58,380] Trial 24 failed with value None.\n",
      "{'args': {'dataset': 'mnist', 'model_dir': 'saved_models/', 'model_name': 'mnist_ucc_drn', 'num_instances': 32, 'ucc_start': 1, 'ucc_end': 4, 'batch_size': 20, 'num_samples_per_class': 5, 'num_workers': 4, 'learning_rate': 0.021538239666220624, 'num_bins': 10, 'num_features': 10, 'train_num_steps': 100000, 'val_num_steps': 200, 'save_interval': 1000, 'seed': 22}, 'model': {'num_channels': 1, 'input_shape': [28, 28, 1], 'kde_model': {'num_bins': 10, 'sigma': 0.1}, 'encoder': {'conv_input_channel': 1, 'conv_output_channel': 16, 'block1_output_channel': 321, 'block1_num_layer': 1, 'block2_output_channel': 64, 'block2_num_layer': 1, 'block3_output_channel': 128, 'block3_num_layer': 1, 'flatten_size': 6272, 'num_features': 10}, 'decoder': 'None', 'drn': {'num_bins': 10, 'hidden_q': 10, 'num_layers': 2, 'num_nodes': 9, 'output_bins': 4, 'output_nodes': 3}, 'ucc_classifier': {'dropout_rate': 0.0, 'num_classes': 4}, 'loss': {'alpha': 1}}, 'experiments': {'num_channels': 1, 'input_shape': [28, 28, 1], 'kde_model': {'num_bins': 11, 'sigma': 0.1}, 'encoder': {'conv_input_channel': 1, 'conv_output_channel': 16, 'block1_output_channel': 321, 'block1_num_layer': 1, 'block2_output_channel': 64, 'block2_num_layer': 1, 'block3_output_channel': 128, 'block3_num_layer': 1, 'flatten_size': 6272, 'num_features': 10}, 'decoder': 'None', 'drn': {'num_bins': 11, 'hidden_q': 100, 'num_layers': 1, 'num_nodes': 10, 'output_bins': 4, 'output_nodes': 3}, 'ucc_classifier': {'dropout_rate': 0.0, 'num_classes': 4}, 'loss': {'alpha': 1}}}\n",
      "(10, 10)\n",
      "(10, 10)\n",
      "(4, 10)\n",
      "x_train shape: torch.Size([50000, 1, 28, 28])\n",
      "50000 train samples\n",
      "10000 val samples\n",
      "x_train shape: torch.Size([50000, 1, 28, 28])\n",
      "50000 train samples\n",
      "10000 val samples\n",
      "{'args': {'dataset': 'mnist', 'model_dir': 'saved_models/', 'model_name': 'mnist_ucc_drn', 'num_instances': 32, 'ucc_start': 1, 'ucc_end': 4, 'batch_size': 20, 'num_samples_per_class': 5, 'num_workers': 4, 'learning_rate': 0.021538239666220624, 'num_bins': 10, 'num_features': 10, 'train_num_steps': 100000, 'val_num_steps': 200, 'save_interval': 1000, 'seed': 22}, 'model': {'num_channels': 1, 'input_shape': [28, 28, 1], 'kde_model': {'num_bins': 10, 'sigma': 0.1}, 'encoder': {'conv_input_channel': 1, 'conv_output_channel': 16, 'block1_output_channel': 321, 'block1_num_layer': 1, 'block2_output_channel': 64, 'block2_num_layer': 1, 'block3_output_channel': 128, 'block3_num_layer': 1, 'flatten_size': 6272, 'num_features': 10}, 'decoder': 'None', 'drn': {'num_bins': 10, 'hidden_q': 10, 'num_layers': 2, 'num_nodes': 9, 'output_bins': 4, 'output_nodes': 3}, 'ucc_classifier': {'dropout_rate': 0.0, 'num_classes': 4}, 'loss': {'alpha': 1}}, 'experiments': {'num_channels': 1, 'input_shape': [28, 28, 1], 'kde_model': {'num_bins': 11, 'sigma': 0.1}, 'encoder': {'conv_input_channel': 1, 'conv_output_channel': 16, 'block1_output_channel': 321, 'block1_num_layer': 1, 'block2_output_channel': 64, 'block2_num_layer': 1, 'block3_output_channel': 128, 'block3_num_layer': 1, 'flatten_size': 6272, 'num_features': 10}, 'decoder': 'None', 'drn': {'num_bins': 11, 'hidden_q': 100, 'num_layers': 1, 'num_nodes': 10, 'output_bins': 4, 'output_nodes': 3}, 'ucc_classifier': {'dropout_rate': 0.0, 'num_classes': 4}, 'loss': {'alpha': 1}}}\n"
     ]
    },
    {
     "name": "stderr",
     "output_type": "stream",
     "text": [
      "2025/04/13 18:51:05 WARNING mlflow.utils.requirements_utils: Found torch version (2.5.1+cu124) contains a local version label (+cu124). MLflow logged a pip requirement for this package as 'torch==2.5.1' without the local version label to make it installable from PyPI. To specify pip requirements containing local version labels, please use `conda_env` or `pip_requirements`.\n"
     ]
    },
    {
     "name": "stdout",
     "output_type": "stream",
     "text": [
      "step: 1000, eval loss: 2.491330146789551, eval acc: 0.25\n"
     ]
    },
    {
     "name": "stderr",
     "output_type": "stream",
     "text": [
      "2025/04/13 18:51:11 WARNING mlflow.utils.requirements_utils: Found torch version (2.5.1+cu124) contains a local version label (+cu124). MLflow logged a pip requirement for this package as 'torch==2.5.1' without the local version label to make it installable from PyPI. To specify pip requirements containing local version labels, please use `conda_env` or `pip_requirements`.\n",
      "2025/04/13 18:51:11 WARNING mlflow.models.model: Model logged without a signature and input example. Please set `input_example` parameter when logging the model to auto infer the model signature.\n"
     ]
    },
    {
     "name": "stdout",
     "output_type": "stream",
     "text": [
      "step: 2000, eval loss: 2.489737033843994, eval acc: 0.25\n"
     ]
    },
    {
     "name": "stderr",
     "output_type": "stream",
     "text": []
    },
    {
     "name": "stdout",
     "output_type": "stream",
     "text": [
      "step: 3000, eval loss: 2.4859402179718018, eval acc: 0.25\n"
     ]
    },
    {
     "name": "stderr",
     "output_type": "stream",
     "text": [
      "  3%|▎         | 2999/100000 [12:10<6:33:53,  4.10it/s]\n",
      " 26%|██▌       | 26/100 [5:26:09<15:10:25, 738.19s/it]"
     ]
    },
    {
     "name": "stdout",
     "output_type": "stream",
     "text": [
      "Training finished!!!\n",
      "[W 2025-04-13 18:59:09,907] Trial 25 failed with parameters: {'lr': 0.021538239666220624} because of the following error: The value None could not be cast to float..\n",
      "[W 2025-04-13 18:59:09,911] Trial 25 failed with value None.\n",
      "{'args': {'dataset': 'mnist', 'model_dir': 'saved_models/', 'model_name': 'mnist_ucc_drn', 'num_instances': 32, 'ucc_start': 1, 'ucc_end': 4, 'batch_size': 20, 'num_samples_per_class': 5, 'num_workers': 4, 'learning_rate': 0.014900972291373351, 'num_bins': 10, 'num_features': 10, 'train_num_steps': 100000, 'val_num_steps': 200, 'save_interval': 1000, 'seed': 22}, 'model': {'num_channels': 1, 'input_shape': [28, 28, 1], 'kde_model': {'num_bins': 10, 'sigma': 0.1}, 'encoder': {'conv_input_channel': 1, 'conv_output_channel': 16, 'block1_output_channel': 321, 'block1_num_layer': 1, 'block2_output_channel': 64, 'block2_num_layer': 1, 'block3_output_channel': 128, 'block3_num_layer': 1, 'flatten_size': 6272, 'num_features': 10}, 'decoder': 'None', 'drn': {'num_bins': 10, 'hidden_q': 10, 'num_layers': 2, 'num_nodes': 9, 'output_bins': 4, 'output_nodes': 3}, 'ucc_classifier': {'dropout_rate': 0.0, 'num_classes': 4}, 'loss': {'alpha': 1}}, 'experiments': {'num_channels': 1, 'input_shape': [28, 28, 1], 'kde_model': {'num_bins': 11, 'sigma': 0.1}, 'encoder': {'conv_input_channel': 1, 'conv_output_channel': 16, 'block1_output_channel': 321, 'block1_num_layer': 1, 'block2_output_channel': 64, 'block2_num_layer': 1, 'block3_output_channel': 128, 'block3_num_layer': 1, 'flatten_size': 6272, 'num_features': 10}, 'decoder': 'None', 'drn': {'num_bins': 11, 'hidden_q': 100, 'num_layers': 1, 'num_nodes': 10, 'output_bins': 4, 'output_nodes': 3}, 'ucc_classifier': {'dropout_rate': 0.0, 'num_classes': 4}, 'loss': {'alpha': 1}}}\n",
      "(10, 10)\n",
      "(10, 10)\n",
      "(4, 10)\n",
      "x_train shape: torch.Size([50000, 1, 28, 28])\n",
      "50000 train samples\n",
      "10000 val samples\n",
      "x_train shape: torch.Size([50000, 1, 28, 28])\n",
      "50000 train samples\n",
      "10000 val samples\n",
      "{'args': {'dataset': 'mnist', 'model_dir': 'saved_models/', 'model_name': 'mnist_ucc_drn', 'num_instances': 32, 'ucc_start': 1, 'ucc_end': 4, 'batch_size': 20, 'num_samples_per_class': 5, 'num_workers': 4, 'learning_rate': 0.014900972291373351, 'num_bins': 10, 'num_features': 10, 'train_num_steps': 100000, 'val_num_steps': 200, 'save_interval': 1000, 'seed': 22}, 'model': {'num_channels': 1, 'input_shape': [28, 28, 1], 'kde_model': {'num_bins': 10, 'sigma': 0.1}, 'encoder': {'conv_input_channel': 1, 'conv_output_channel': 16, 'block1_output_channel': 321, 'block1_num_layer': 1, 'block2_output_channel': 64, 'block2_num_layer': 1, 'block3_output_channel': 128, 'block3_num_layer': 1, 'flatten_size': 6272, 'num_features': 10}, 'decoder': 'None', 'drn': {'num_bins': 10, 'hidden_q': 10, 'num_layers': 2, 'num_nodes': 9, 'output_bins': 4, 'output_nodes': 3}, 'ucc_classifier': {'dropout_rate': 0.0, 'num_classes': 4}, 'loss': {'alpha': 1}}, 'experiments': {'num_channels': 1, 'input_shape': [28, 28, 1], 'kde_model': {'num_bins': 11, 'sigma': 0.1}, 'encoder': {'conv_input_channel': 1, 'conv_output_channel': 16, 'block1_output_channel': 321, 'block1_num_layer': 1, 'block2_output_channel': 64, 'block2_num_layer': 1, 'block3_output_channel': 128, 'block3_num_layer': 1, 'flatten_size': 6272, 'num_features': 10}, 'decoder': 'None', 'drn': {'num_bins': 11, 'hidden_q': 100, 'num_layers': 1, 'num_nodes': 10, 'output_bins': 4, 'output_nodes': 3}, 'ucc_classifier': {'dropout_rate': 0.0, 'num_classes': 4}, 'loss': {'alpha': 1}}}\n"
     ]
    },
    {
     "name": "stderr",
     "output_type": "stream",
     "text": [
      "2025/04/13 19:03:17 WARNING mlflow.utils.requirements_utils: Found torch version (2.5.1+cu124) contains a local version label (+cu124). MLflow logged a pip requirement for this package as 'torch==2.5.1' without the local version label to make it installable from PyPI. To specify pip requirements containing local version labels, please use `conda_env` or `pip_requirements`.\n"
     ]
    },
    {
     "name": "stdout",
     "output_type": "stream",
     "text": [
      "step: 1000, eval loss: 2.48506498336792, eval acc: 0.25\n"
     ]
    },
    {
     "name": "stderr",
     "output_type": "stream",
     "text": [
      "2025/04/13 19:03:23 WARNING mlflow.utils.requirements_utils: Found torch version (2.5.1+cu124) contains a local version label (+cu124). MLflow logged a pip requirement for this package as 'torch==2.5.1' without the local version label to make it installable from PyPI. To specify pip requirements containing local version labels, please use `conda_env` or `pip_requirements`.\n",
      "2025/04/13 19:03:23 WARNING mlflow.models.model: Model logged without a signature and input example. Please set `input_example` parameter when logging the model to auto infer the model signature.\n"
     ]
    },
    {
     "name": "stdout",
     "output_type": "stream",
     "text": [
      "step: 2000, eval loss: 2.4854252338409424, eval acc: 0.25\n"
     ]
    },
    {
     "name": "stderr",
     "output_type": "stream",
     "text": []
    },
    {
     "name": "stdout",
     "output_type": "stream",
     "text": [
      "step: 3000, eval loss: 2.4854605197906494, eval acc: 0.25\n"
     ]
    },
    {
     "name": "stderr",
     "output_type": "stream",
     "text": [
      "  3%|▎         | 2999/100000 [12:11<6:34:26,  4.10it/s]\n",
      " 27%|██▋       | 27/100 [5:38:21<14:56:06, 736.52s/it]"
     ]
    },
    {
     "name": "stdout",
     "output_type": "stream",
     "text": [
      "Training finished!!!\n",
      "[W 2025-04-13 19:11:22,544] Trial 26 failed with parameters: {'lr': 0.014900972291373351} because of the following error: The value None could not be cast to float..\n",
      "[W 2025-04-13 19:11:22,548] Trial 26 failed with value None.\n",
      "{'args': {'dataset': 'mnist', 'model_dir': 'saved_models/', 'model_name': 'mnist_ucc_drn', 'num_instances': 32, 'ucc_start': 1, 'ucc_end': 4, 'batch_size': 20, 'num_samples_per_class': 5, 'num_workers': 4, 'learning_rate': 0.06969294898367748, 'num_bins': 10, 'num_features': 10, 'train_num_steps': 100000, 'val_num_steps': 200, 'save_interval': 1000, 'seed': 22}, 'model': {'num_channels': 1, 'input_shape': [28, 28, 1], 'kde_model': {'num_bins': 10, 'sigma': 0.1}, 'encoder': {'conv_input_channel': 1, 'conv_output_channel': 16, 'block1_output_channel': 321, 'block1_num_layer': 1, 'block2_output_channel': 64, 'block2_num_layer': 1, 'block3_output_channel': 128, 'block3_num_layer': 1, 'flatten_size': 6272, 'num_features': 10}, 'decoder': 'None', 'drn': {'num_bins': 10, 'hidden_q': 10, 'num_layers': 2, 'num_nodes': 9, 'output_bins': 4, 'output_nodes': 3}, 'ucc_classifier': {'dropout_rate': 0.0, 'num_classes': 4}, 'loss': {'alpha': 1}}, 'experiments': {'num_channels': 1, 'input_shape': [28, 28, 1], 'kde_model': {'num_bins': 11, 'sigma': 0.1}, 'encoder': {'conv_input_channel': 1, 'conv_output_channel': 16, 'block1_output_channel': 321, 'block1_num_layer': 1, 'block2_output_channel': 64, 'block2_num_layer': 1, 'block3_output_channel': 128, 'block3_num_layer': 1, 'flatten_size': 6272, 'num_features': 10}, 'decoder': 'None', 'drn': {'num_bins': 11, 'hidden_q': 100, 'num_layers': 1, 'num_nodes': 10, 'output_bins': 4, 'output_nodes': 3}, 'ucc_classifier': {'dropout_rate': 0.0, 'num_classes': 4}, 'loss': {'alpha': 1}}}\n",
      "(10, 10)\n",
      "(10, 10)\n",
      "(4, 10)\n",
      "x_train shape: torch.Size([50000, 1, 28, 28])\n",
      "50000 train samples\n",
      "10000 val samples\n",
      "x_train shape: torch.Size([50000, 1, 28, 28])\n",
      "50000 train samples\n",
      "10000 val samples\n",
      "{'args': {'dataset': 'mnist', 'model_dir': 'saved_models/', 'model_name': 'mnist_ucc_drn', 'num_instances': 32, 'ucc_start': 1, 'ucc_end': 4, 'batch_size': 20, 'num_samples_per_class': 5, 'num_workers': 4, 'learning_rate': 0.06969294898367748, 'num_bins': 10, 'num_features': 10, 'train_num_steps': 100000, 'val_num_steps': 200, 'save_interval': 1000, 'seed': 22}, 'model': {'num_channels': 1, 'input_shape': [28, 28, 1], 'kde_model': {'num_bins': 10, 'sigma': 0.1}, 'encoder': {'conv_input_channel': 1, 'conv_output_channel': 16, 'block1_output_channel': 321, 'block1_num_layer': 1, 'block2_output_channel': 64, 'block2_num_layer': 1, 'block3_output_channel': 128, 'block3_num_layer': 1, 'flatten_size': 6272, 'num_features': 10}, 'decoder': 'None', 'drn': {'num_bins': 10, 'hidden_q': 10, 'num_layers': 2, 'num_nodes': 9, 'output_bins': 4, 'output_nodes': 3}, 'ucc_classifier': {'dropout_rate': 0.0, 'num_classes': 4}, 'loss': {'alpha': 1}}, 'experiments': {'num_channels': 1, 'input_shape': [28, 28, 1], 'kde_model': {'num_bins': 11, 'sigma': 0.1}, 'encoder': {'conv_input_channel': 1, 'conv_output_channel': 16, 'block1_output_channel': 321, 'block1_num_layer': 1, 'block2_output_channel': 64, 'block2_num_layer': 1, 'block3_output_channel': 128, 'block3_num_layer': 1, 'flatten_size': 6272, 'num_features': 10}, 'decoder': 'None', 'drn': {'num_bins': 11, 'hidden_q': 100, 'num_layers': 1, 'num_nodes': 10, 'output_bins': 4, 'output_nodes': 3}, 'ucc_classifier': {'dropout_rate': 0.0, 'num_classes': 4}, 'loss': {'alpha': 1}}}\n"
     ]
    },
    {
     "name": "stderr",
     "output_type": "stream",
     "text": [
      "2025/04/13 19:15:30 WARNING mlflow.utils.requirements_utils: Found torch version (2.5.1+cu124) contains a local version label (+cu124). MLflow logged a pip requirement for this package as 'torch==2.5.1' without the local version label to make it installable from PyPI. To specify pip requirements containing local version labels, please use `conda_env` or `pip_requirements`.\n"
     ]
    },
    {
     "name": "stdout",
     "output_type": "stream",
     "text": [
      "step: 1000, eval loss: 2.4924938678741455, eval acc: 0.25\n"
     ]
    },
    {
     "name": "stderr",
     "output_type": "stream",
     "text": [
      "2025/04/13 19:15:36 WARNING mlflow.utils.requirements_utils: Found torch version (2.5.1+cu124) contains a local version label (+cu124). MLflow logged a pip requirement for this package as 'torch==2.5.1' without the local version label to make it installable from PyPI. To specify pip requirements containing local version labels, please use `conda_env` or `pip_requirements`.\n",
      "2025/04/13 19:15:36 WARNING mlflow.models.model: Model logged without a signature and input example. Please set `input_example` parameter when logging the model to auto infer the model signature.\n"
     ]
    },
    {
     "name": "stdout",
     "output_type": "stream",
     "text": [
      "step: 2000, eval loss: 2.4862544536590576, eval acc: 0.25\n"
     ]
    },
    {
     "name": "stderr",
     "output_type": "stream",
     "text": []
    },
    {
     "name": "stdout",
     "output_type": "stream",
     "text": [
      "step: 3000, eval loss: 2.486696481704712, eval acc: 0.25\n"
     ]
    },
    {
     "name": "stderr",
     "output_type": "stream",
     "text": [
      "  3%|▎         | 2999/100000 [12:12<6:34:51,  4.09it/s]\n",
      " 28%|██▊       | 28/100 [5:50:35<14:42:41, 735.57s/it]"
     ]
    },
    {
     "name": "stdout",
     "output_type": "stream",
     "text": [
      "Training finished!!!\n",
      "[W 2025-04-13 19:23:35,890] Trial 27 failed with parameters: {'lr': 0.06969294898367748} because of the following error: The value None could not be cast to float..\n",
      "[W 2025-04-13 19:23:35,894] Trial 27 failed with value None.\n",
      "{'args': {'dataset': 'mnist', 'model_dir': 'saved_models/', 'model_name': 'mnist_ucc_drn', 'num_instances': 32, 'ucc_start': 1, 'ucc_end': 4, 'batch_size': 20, 'num_samples_per_class': 5, 'num_workers': 4, 'learning_rate': 0.07894167865294677, 'num_bins': 10, 'num_features': 10, 'train_num_steps': 100000, 'val_num_steps': 200, 'save_interval': 1000, 'seed': 22}, 'model': {'num_channels': 1, 'input_shape': [28, 28, 1], 'kde_model': {'num_bins': 10, 'sigma': 0.1}, 'encoder': {'conv_input_channel': 1, 'conv_output_channel': 16, 'block1_output_channel': 321, 'block1_num_layer': 1, 'block2_output_channel': 64, 'block2_num_layer': 1, 'block3_output_channel': 128, 'block3_num_layer': 1, 'flatten_size': 6272, 'num_features': 10}, 'decoder': 'None', 'drn': {'num_bins': 10, 'hidden_q': 10, 'num_layers': 2, 'num_nodes': 9, 'output_bins': 4, 'output_nodes': 3}, 'ucc_classifier': {'dropout_rate': 0.0, 'num_classes': 4}, 'loss': {'alpha': 1}}, 'experiments': {'num_channels': 1, 'input_shape': [28, 28, 1], 'kde_model': {'num_bins': 11, 'sigma': 0.1}, 'encoder': {'conv_input_channel': 1, 'conv_output_channel': 16, 'block1_output_channel': 321, 'block1_num_layer': 1, 'block2_output_channel': 64, 'block2_num_layer': 1, 'block3_output_channel': 128, 'block3_num_layer': 1, 'flatten_size': 6272, 'num_features': 10}, 'decoder': 'None', 'drn': {'num_bins': 11, 'hidden_q': 100, 'num_layers': 1, 'num_nodes': 10, 'output_bins': 4, 'output_nodes': 3}, 'ucc_classifier': {'dropout_rate': 0.0, 'num_classes': 4}, 'loss': {'alpha': 1}}}\n",
      "(10, 10)\n",
      "(10, 10)\n",
      "(4, 10)\n",
      "x_train shape: torch.Size([50000, 1, 28, 28])\n",
      "50000 train samples\n",
      "10000 val samples\n",
      "x_train shape: torch.Size([50000, 1, 28, 28])\n",
      "50000 train samples\n",
      "10000 val samples\n",
      "{'args': {'dataset': 'mnist', 'model_dir': 'saved_models/', 'model_name': 'mnist_ucc_drn', 'num_instances': 32, 'ucc_start': 1, 'ucc_end': 4, 'batch_size': 20, 'num_samples_per_class': 5, 'num_workers': 4, 'learning_rate': 0.07894167865294677, 'num_bins': 10, 'num_features': 10, 'train_num_steps': 100000, 'val_num_steps': 200, 'save_interval': 1000, 'seed': 22}, 'model': {'num_channels': 1, 'input_shape': [28, 28, 1], 'kde_model': {'num_bins': 10, 'sigma': 0.1}, 'encoder': {'conv_input_channel': 1, 'conv_output_channel': 16, 'block1_output_channel': 321, 'block1_num_layer': 1, 'block2_output_channel': 64, 'block2_num_layer': 1, 'block3_output_channel': 128, 'block3_num_layer': 1, 'flatten_size': 6272, 'num_features': 10}, 'decoder': 'None', 'drn': {'num_bins': 10, 'hidden_q': 10, 'num_layers': 2, 'num_nodes': 9, 'output_bins': 4, 'output_nodes': 3}, 'ucc_classifier': {'dropout_rate': 0.0, 'num_classes': 4}, 'loss': {'alpha': 1}}, 'experiments': {'num_channels': 1, 'input_shape': [28, 28, 1], 'kde_model': {'num_bins': 11, 'sigma': 0.1}, 'encoder': {'conv_input_channel': 1, 'conv_output_channel': 16, 'block1_output_channel': 321, 'block1_num_layer': 1, 'block2_output_channel': 64, 'block2_num_layer': 1, 'block3_output_channel': 128, 'block3_num_layer': 1, 'flatten_size': 6272, 'num_features': 10}, 'decoder': 'None', 'drn': {'num_bins': 11, 'hidden_q': 100, 'num_layers': 1, 'num_nodes': 10, 'output_bins': 4, 'output_nodes': 3}, 'ucc_classifier': {'dropout_rate': 0.0, 'num_classes': 4}, 'loss': {'alpha': 1}}}\n"
     ]
    },
    {
     "name": "stderr",
     "output_type": "stream",
     "text": [
      "2025/04/13 19:27:44 WARNING mlflow.utils.requirements_utils: Found torch version (2.5.1+cu124) contains a local version label (+cu124). MLflow logged a pip requirement for this package as 'torch==2.5.1' without the local version label to make it installable from PyPI. To specify pip requirements containing local version labels, please use `conda_env` or `pip_requirements`.\n"
     ]
    },
    {
     "name": "stdout",
     "output_type": "stream",
     "text": [
      "step: 1000, eval loss: 2.486647605895996, eval acc: 0.25\n"
     ]
    },
    {
     "name": "stderr",
     "output_type": "stream",
     "text": [
      "2025/04/13 19:27:50 WARNING mlflow.utils.requirements_utils: Found torch version (2.5.1+cu124) contains a local version label (+cu124). MLflow logged a pip requirement for this package as 'torch==2.5.1' without the local version label to make it installable from PyPI. To specify pip requirements containing local version labels, please use `conda_env` or `pip_requirements`.\n",
      "2025/04/13 19:27:50 WARNING mlflow.models.model: Model logged without a signature and input example. Please set `input_example` parameter when logging the model to auto infer the model signature.\n"
     ]
    },
    {
     "name": "stdout",
     "output_type": "stream",
     "text": [
      "step: 2000, eval loss: 2.4849133491516113, eval acc: 0.0\n"
     ]
    },
    {
     "name": "stderr",
     "output_type": "stream",
     "text": []
    },
    {
     "name": "stdout",
     "output_type": "stream",
     "text": [
      "step: 3000, eval loss: 2.485910177230835, eval acc: 0.25\n"
     ]
    },
    {
     "name": "stderr",
     "output_type": "stream",
     "text": [
      "  3%|▎         | 2999/100000 [12:13<6:35:32,  4.09it/s]\n",
      " 29%|██▉       | 29/100 [6:02:49<14:30:06, 735.30s/it]"
     ]
    },
    {
     "name": "stdout",
     "output_type": "stream",
     "text": [
      "Training finished!!!\n",
      "[W 2025-04-13 19:35:50,551] Trial 28 failed with parameters: {'lr': 0.07894167865294677} because of the following error: The value None could not be cast to float..\n",
      "[W 2025-04-13 19:35:50,554] Trial 28 failed with value None.\n",
      "{'args': {'dataset': 'mnist', 'model_dir': 'saved_models/', 'model_name': 'mnist_ucc_drn', 'num_instances': 32, 'ucc_start': 1, 'ucc_end': 4, 'batch_size': 20, 'num_samples_per_class': 5, 'num_workers': 4, 'learning_rate': 0.06344964412765688, 'num_bins': 10, 'num_features': 10, 'train_num_steps': 100000, 'val_num_steps': 200, 'save_interval': 1000, 'seed': 22}, 'model': {'num_channels': 1, 'input_shape': [28, 28, 1], 'kde_model': {'num_bins': 10, 'sigma': 0.1}, 'encoder': {'conv_input_channel': 1, 'conv_output_channel': 16, 'block1_output_channel': 321, 'block1_num_layer': 1, 'block2_output_channel': 64, 'block2_num_layer': 1, 'block3_output_channel': 128, 'block3_num_layer': 1, 'flatten_size': 6272, 'num_features': 10}, 'decoder': 'None', 'drn': {'num_bins': 10, 'hidden_q': 10, 'num_layers': 2, 'num_nodes': 9, 'output_bins': 4, 'output_nodes': 3}, 'ucc_classifier': {'dropout_rate': 0.0, 'num_classes': 4}, 'loss': {'alpha': 1}}, 'experiments': {'num_channels': 1, 'input_shape': [28, 28, 1], 'kde_model': {'num_bins': 11, 'sigma': 0.1}, 'encoder': {'conv_input_channel': 1, 'conv_output_channel': 16, 'block1_output_channel': 321, 'block1_num_layer': 1, 'block2_output_channel': 64, 'block2_num_layer': 1, 'block3_output_channel': 128, 'block3_num_layer': 1, 'flatten_size': 6272, 'num_features': 10}, 'decoder': 'None', 'drn': {'num_bins': 11, 'hidden_q': 100, 'num_layers': 1, 'num_nodes': 10, 'output_bins': 4, 'output_nodes': 3}, 'ucc_classifier': {'dropout_rate': 0.0, 'num_classes': 4}, 'loss': {'alpha': 1}}}\n",
      "(10, 10)\n",
      "(10, 10)\n",
      "(4, 10)\n",
      "x_train shape: torch.Size([50000, 1, 28, 28])\n",
      "50000 train samples\n",
      "10000 val samples\n",
      "x_train shape: torch.Size([50000, 1, 28, 28])\n",
      "50000 train samples\n",
      "10000 val samples\n",
      "{'args': {'dataset': 'mnist', 'model_dir': 'saved_models/', 'model_name': 'mnist_ucc_drn', 'num_instances': 32, 'ucc_start': 1, 'ucc_end': 4, 'batch_size': 20, 'num_samples_per_class': 5, 'num_workers': 4, 'learning_rate': 0.06344964412765688, 'num_bins': 10, 'num_features': 10, 'train_num_steps': 100000, 'val_num_steps': 200, 'save_interval': 1000, 'seed': 22}, 'model': {'num_channels': 1, 'input_shape': [28, 28, 1], 'kde_model': {'num_bins': 10, 'sigma': 0.1}, 'encoder': {'conv_input_channel': 1, 'conv_output_channel': 16, 'block1_output_channel': 321, 'block1_num_layer': 1, 'block2_output_channel': 64, 'block2_num_layer': 1, 'block3_output_channel': 128, 'block3_num_layer': 1, 'flatten_size': 6272, 'num_features': 10}, 'decoder': 'None', 'drn': {'num_bins': 10, 'hidden_q': 10, 'num_layers': 2, 'num_nodes': 9, 'output_bins': 4, 'output_nodes': 3}, 'ucc_classifier': {'dropout_rate': 0.0, 'num_classes': 4}, 'loss': {'alpha': 1}}, 'experiments': {'num_channels': 1, 'input_shape': [28, 28, 1], 'kde_model': {'num_bins': 11, 'sigma': 0.1}, 'encoder': {'conv_input_channel': 1, 'conv_output_channel': 16, 'block1_output_channel': 321, 'block1_num_layer': 1, 'block2_output_channel': 64, 'block2_num_layer': 1, 'block3_output_channel': 128, 'block3_num_layer': 1, 'flatten_size': 6272, 'num_features': 10}, 'decoder': 'None', 'drn': {'num_bins': 11, 'hidden_q': 100, 'num_layers': 1, 'num_nodes': 10, 'output_bins': 4, 'output_nodes': 3}, 'ucc_classifier': {'dropout_rate': 0.0, 'num_classes': 4}, 'loss': {'alpha': 1}}}\n"
     ]
    },
    {
     "name": "stderr",
     "output_type": "stream",
     "text": [
      "2025/04/13 19:39:59 WARNING mlflow.utils.requirements_utils: Found torch version (2.5.1+cu124) contains a local version label (+cu124). MLflow logged a pip requirement for this package as 'torch==2.5.1' without the local version label to make it installable from PyPI. To specify pip requirements containing local version labels, please use `conda_env` or `pip_requirements`.\n"
     ]
    },
    {
     "name": "stdout",
     "output_type": "stream",
     "text": [
      "step: 1000, eval loss: 2.5219955444335938, eval acc: 0.25\n"
     ]
    },
    {
     "name": "stderr",
     "output_type": "stream",
     "text": [
      "2025/04/13 19:40:05 WARNING mlflow.utils.requirements_utils: Found torch version (2.5.1+cu124) contains a local version label (+cu124). MLflow logged a pip requirement for this package as 'torch==2.5.1' without the local version label to make it installable from PyPI. To specify pip requirements containing local version labels, please use `conda_env` or `pip_requirements`.\n",
      "2025/04/13 19:40:05 WARNING mlflow.models.model: Model logged without a signature and input example. Please set `input_example` parameter when logging the model to auto infer the model signature.\n"
     ]
    },
    {
     "name": "stdout",
     "output_type": "stream",
     "text": [
      "step: 2000, eval loss: 2.5219943523406982, eval acc: 0.25\n"
     ]
    },
    {
     "name": "stderr",
     "output_type": "stream",
     "text": []
    },
    {
     "name": "stdout",
     "output_type": "stream",
     "text": [
      "step: 3000, eval loss: 2.5219943523406982, eval acc: 0.25\n"
     ]
    },
    {
     "name": "stderr",
     "output_type": "stream",
     "text": [
      "  3%|▎         | 2999/100000 [12:16<6:37:07,  4.07it/s]\n",
      " 30%|███       | 30/100 [6:15:07<14:18:38, 735.98s/it]"
     ]
    },
    {
     "name": "stdout",
     "output_type": "stream",
     "text": [
      "Training finished!!!\n",
      "[W 2025-04-13 19:48:08,118] Trial 29 failed with parameters: {'lr': 0.06344964412765688} because of the following error: The value None could not be cast to float..\n",
      "[W 2025-04-13 19:48:08,121] Trial 29 failed with value None.\n",
      "{'args': {'dataset': 'mnist', 'model_dir': 'saved_models/', 'model_name': 'mnist_ucc_drn', 'num_instances': 32, 'ucc_start': 1, 'ucc_end': 4, 'batch_size': 20, 'num_samples_per_class': 5, 'num_workers': 4, 'learning_rate': 0.029682290847300116, 'num_bins': 10, 'num_features': 10, 'train_num_steps': 100000, 'val_num_steps': 200, 'save_interval': 1000, 'seed': 22}, 'model': {'num_channels': 1, 'input_shape': [28, 28, 1], 'kde_model': {'num_bins': 10, 'sigma': 0.1}, 'encoder': {'conv_input_channel': 1, 'conv_output_channel': 16, 'block1_output_channel': 321, 'block1_num_layer': 1, 'block2_output_channel': 64, 'block2_num_layer': 1, 'block3_output_channel': 128, 'block3_num_layer': 1, 'flatten_size': 6272, 'num_features': 10}, 'decoder': 'None', 'drn': {'num_bins': 10, 'hidden_q': 10, 'num_layers': 2, 'num_nodes': 9, 'output_bins': 4, 'output_nodes': 3}, 'ucc_classifier': {'dropout_rate': 0.0, 'num_classes': 4}, 'loss': {'alpha': 1}}, 'experiments': {'num_channels': 1, 'input_shape': [28, 28, 1], 'kde_model': {'num_bins': 11, 'sigma': 0.1}, 'encoder': {'conv_input_channel': 1, 'conv_output_channel': 16, 'block1_output_channel': 321, 'block1_num_layer': 1, 'block2_output_channel': 64, 'block2_num_layer': 1, 'block3_output_channel': 128, 'block3_num_layer': 1, 'flatten_size': 6272, 'num_features': 10}, 'decoder': 'None', 'drn': {'num_bins': 11, 'hidden_q': 100, 'num_layers': 1, 'num_nodes': 10, 'output_bins': 4, 'output_nodes': 3}, 'ucc_classifier': {'dropout_rate': 0.0, 'num_classes': 4}, 'loss': {'alpha': 1}}}\n",
      "(10, 10)\n",
      "(10, 10)\n",
      "(4, 10)\n",
      "x_train shape: torch.Size([50000, 1, 28, 28])\n",
      "50000 train samples\n",
      "10000 val samples\n",
      "x_train shape: torch.Size([50000, 1, 28, 28])\n",
      "50000 train samples\n",
      "10000 val samples\n",
      "{'args': {'dataset': 'mnist', 'model_dir': 'saved_models/', 'model_name': 'mnist_ucc_drn', 'num_instances': 32, 'ucc_start': 1, 'ucc_end': 4, 'batch_size': 20, 'num_samples_per_class': 5, 'num_workers': 4, 'learning_rate': 0.029682290847300116, 'num_bins': 10, 'num_features': 10, 'train_num_steps': 100000, 'val_num_steps': 200, 'save_interval': 1000, 'seed': 22}, 'model': {'num_channels': 1, 'input_shape': [28, 28, 1], 'kde_model': {'num_bins': 10, 'sigma': 0.1}, 'encoder': {'conv_input_channel': 1, 'conv_output_channel': 16, 'block1_output_channel': 321, 'block1_num_layer': 1, 'block2_output_channel': 64, 'block2_num_layer': 1, 'block3_output_channel': 128, 'block3_num_layer': 1, 'flatten_size': 6272, 'num_features': 10}, 'decoder': 'None', 'drn': {'num_bins': 10, 'hidden_q': 10, 'num_layers': 2, 'num_nodes': 9, 'output_bins': 4, 'output_nodes': 3}, 'ucc_classifier': {'dropout_rate': 0.0, 'num_classes': 4}, 'loss': {'alpha': 1}}, 'experiments': {'num_channels': 1, 'input_shape': [28, 28, 1], 'kde_model': {'num_bins': 11, 'sigma': 0.1}, 'encoder': {'conv_input_channel': 1, 'conv_output_channel': 16, 'block1_output_channel': 321, 'block1_num_layer': 1, 'block2_output_channel': 64, 'block2_num_layer': 1, 'block3_output_channel': 128, 'block3_num_layer': 1, 'flatten_size': 6272, 'num_features': 10}, 'decoder': 'None', 'drn': {'num_bins': 11, 'hidden_q': 100, 'num_layers': 1, 'num_nodes': 10, 'output_bins': 4, 'output_nodes': 3}, 'ucc_classifier': {'dropout_rate': 0.0, 'num_classes': 4}, 'loss': {'alpha': 1}}}\n"
     ]
    },
    {
     "name": "stderr",
     "output_type": "stream",
     "text": [
      "2025/04/13 19:52:16 WARNING mlflow.utils.requirements_utils: Found torch version (2.5.1+cu124) contains a local version label (+cu124). MLflow logged a pip requirement for this package as 'torch==2.5.1' without the local version label to make it installable from PyPI. To specify pip requirements containing local version labels, please use `conda_env` or `pip_requirements`.\n"
     ]
    },
    {
     "name": "stdout",
     "output_type": "stream",
     "text": [
      "step: 1000, eval loss: 2.48685884475708, eval acc: 0.25\n"
     ]
    },
    {
     "name": "stderr",
     "output_type": "stream",
     "text": [
      "2025/04/13 19:52:22 WARNING mlflow.utils.requirements_utils: Found torch version (2.5.1+cu124) contains a local version label (+cu124). MLflow logged a pip requirement for this package as 'torch==2.5.1' without the local version label to make it installable from PyPI. To specify pip requirements containing local version labels, please use `conda_env` or `pip_requirements`.\n",
      "2025/04/13 19:52:22 WARNING mlflow.models.model: Model logged without a signature and input example. Please set `input_example` parameter when logging the model to auto infer the model signature.\n"
     ]
    },
    {
     "name": "stdout",
     "output_type": "stream",
     "text": [
      "step: 2000, eval loss: 2.4892632961273193, eval acc: 0.25\n"
     ]
    },
    {
     "name": "stderr",
     "output_type": "stream",
     "text": []
    },
    {
     "name": "stdout",
     "output_type": "stream",
     "text": [
      "step: 3000, eval loss: 2.485731840133667, eval acc: 0.25\n"
     ]
    },
    {
     "name": "stderr",
     "output_type": "stream",
     "text": [
      "  3%|▎         | 2999/100000 [12:13<6:35:13,  4.09it/s]\n",
      " 31%|███       | 31/100 [6:27:21<14:05:43, 735.41s/it]"
     ]
    },
    {
     "name": "stdout",
     "output_type": "stream",
     "text": [
      "Training finished!!!\n",
      "[W 2025-04-13 20:00:22,197] Trial 30 failed with parameters: {'lr': 0.029682290847300116} because of the following error: The value None could not be cast to float..\n",
      "[W 2025-04-13 20:00:22,201] Trial 30 failed with value None.\n",
      "{'args': {'dataset': 'mnist', 'model_dir': 'saved_models/', 'model_name': 'mnist_ucc_drn', 'num_instances': 32, 'ucc_start': 1, 'ucc_end': 4, 'batch_size': 20, 'num_samples_per_class': 5, 'num_workers': 4, 'learning_rate': 0.04486670052876193, 'num_bins': 10, 'num_features': 10, 'train_num_steps': 100000, 'val_num_steps': 200, 'save_interval': 1000, 'seed': 22}, 'model': {'num_channels': 1, 'input_shape': [28, 28, 1], 'kde_model': {'num_bins': 10, 'sigma': 0.1}, 'encoder': {'conv_input_channel': 1, 'conv_output_channel': 16, 'block1_output_channel': 321, 'block1_num_layer': 1, 'block2_output_channel': 64, 'block2_num_layer': 1, 'block3_output_channel': 128, 'block3_num_layer': 1, 'flatten_size': 6272, 'num_features': 10}, 'decoder': 'None', 'drn': {'num_bins': 10, 'hidden_q': 10, 'num_layers': 2, 'num_nodes': 9, 'output_bins': 4, 'output_nodes': 3}, 'ucc_classifier': {'dropout_rate': 0.0, 'num_classes': 4}, 'loss': {'alpha': 1}}, 'experiments': {'num_channels': 1, 'input_shape': [28, 28, 1], 'kde_model': {'num_bins': 11, 'sigma': 0.1}, 'encoder': {'conv_input_channel': 1, 'conv_output_channel': 16, 'block1_output_channel': 321, 'block1_num_layer': 1, 'block2_output_channel': 64, 'block2_num_layer': 1, 'block3_output_channel': 128, 'block3_num_layer': 1, 'flatten_size': 6272, 'num_features': 10}, 'decoder': 'None', 'drn': {'num_bins': 11, 'hidden_q': 100, 'num_layers': 1, 'num_nodes': 10, 'output_bins': 4, 'output_nodes': 3}, 'ucc_classifier': {'dropout_rate': 0.0, 'num_classes': 4}, 'loss': {'alpha': 1}}}\n",
      "(10, 10)\n",
      "(10, 10)\n",
      "(4, 10)\n",
      "x_train shape: torch.Size([50000, 1, 28, 28])\n",
      "50000 train samples\n",
      "10000 val samples\n",
      "x_train shape: torch.Size([50000, 1, 28, 28])\n",
      "50000 train samples\n",
      "10000 val samples\n",
      "{'args': {'dataset': 'mnist', 'model_dir': 'saved_models/', 'model_name': 'mnist_ucc_drn', 'num_instances': 32, 'ucc_start': 1, 'ucc_end': 4, 'batch_size': 20, 'num_samples_per_class': 5, 'num_workers': 4, 'learning_rate': 0.04486670052876193, 'num_bins': 10, 'num_features': 10, 'train_num_steps': 100000, 'val_num_steps': 200, 'save_interval': 1000, 'seed': 22}, 'model': {'num_channels': 1, 'input_shape': [28, 28, 1], 'kde_model': {'num_bins': 10, 'sigma': 0.1}, 'encoder': {'conv_input_channel': 1, 'conv_output_channel': 16, 'block1_output_channel': 321, 'block1_num_layer': 1, 'block2_output_channel': 64, 'block2_num_layer': 1, 'block3_output_channel': 128, 'block3_num_layer': 1, 'flatten_size': 6272, 'num_features': 10}, 'decoder': 'None', 'drn': {'num_bins': 10, 'hidden_q': 10, 'num_layers': 2, 'num_nodes': 9, 'output_bins': 4, 'output_nodes': 3}, 'ucc_classifier': {'dropout_rate': 0.0, 'num_classes': 4}, 'loss': {'alpha': 1}}, 'experiments': {'num_channels': 1, 'input_shape': [28, 28, 1], 'kde_model': {'num_bins': 11, 'sigma': 0.1}, 'encoder': {'conv_input_channel': 1, 'conv_output_channel': 16, 'block1_output_channel': 321, 'block1_num_layer': 1, 'block2_output_channel': 64, 'block2_num_layer': 1, 'block3_output_channel': 128, 'block3_num_layer': 1, 'flatten_size': 6272, 'num_features': 10}, 'decoder': 'None', 'drn': {'num_bins': 11, 'hidden_q': 100, 'num_layers': 1, 'num_nodes': 10, 'output_bins': 4, 'output_nodes': 3}, 'ucc_classifier': {'dropout_rate': 0.0, 'num_classes': 4}, 'loss': {'alpha': 1}}}\n"
     ]
    },
    {
     "name": "stderr",
     "output_type": "stream",
     "text": [
      "2025/04/13 20:04:30 WARNING mlflow.utils.requirements_utils: Found torch version (2.5.1+cu124) contains a local version label (+cu124). MLflow logged a pip requirement for this package as 'torch==2.5.1' without the local version label to make it installable from PyPI. To specify pip requirements containing local version labels, please use `conda_env` or `pip_requirements`.\n"
     ]
    },
    {
     "name": "stdout",
     "output_type": "stream",
     "text": [
      "step: 1000, eval loss: 2.486870765686035, eval acc: 0.25\n"
     ]
    },
    {
     "name": "stderr",
     "output_type": "stream",
     "text": [
      "2025/04/13 20:04:36 WARNING mlflow.utils.requirements_utils: Found torch version (2.5.1+cu124) contains a local version label (+cu124). MLflow logged a pip requirement for this package as 'torch==2.5.1' without the local version label to make it installable from PyPI. To specify pip requirements containing local version labels, please use `conda_env` or `pip_requirements`.\n",
      "2025/04/13 20:04:36 WARNING mlflow.models.model: Model logged without a signature and input example. Please set `input_example` parameter when logging the model to auto infer the model signature.\n"
     ]
    },
    {
     "name": "stdout",
     "output_type": "stream",
     "text": [
      "step: 2000, eval loss: 2.4854750633239746, eval acc: 0.25\n"
     ]
    },
    {
     "name": "stderr",
     "output_type": "stream",
     "text": []
    },
    {
     "name": "stdout",
     "output_type": "stream",
     "text": [
      "step: 3000, eval loss: 2.485372543334961, eval acc: 0.25\n"
     ]
    },
    {
     "name": "stderr",
     "output_type": "stream",
     "text": [
      "  3%|▎         | 2999/100000 [12:12<6:34:52,  4.09it/s]\n",
      " 32%|███▏      | 32/100 [6:39:34<13:52:46, 734.80s/it]"
     ]
    },
    {
     "name": "stdout",
     "output_type": "stream",
     "text": [
      "Training finished!!!\n",
      "[W 2025-04-13 20:12:35,572] Trial 31 failed with parameters: {'lr': 0.04486670052876193} because of the following error: The value None could not be cast to float..\n",
      "[W 2025-04-13 20:12:35,575] Trial 31 failed with value None.\n",
      "{'args': {'dataset': 'mnist', 'model_dir': 'saved_models/', 'model_name': 'mnist_ucc_drn', 'num_instances': 32, 'ucc_start': 1, 'ucc_end': 4, 'batch_size': 20, 'num_samples_per_class': 5, 'num_workers': 4, 'learning_rate': 0.01122380634785142, 'num_bins': 10, 'num_features': 10, 'train_num_steps': 100000, 'val_num_steps': 200, 'save_interval': 1000, 'seed': 22}, 'model': {'num_channels': 1, 'input_shape': [28, 28, 1], 'kde_model': {'num_bins': 10, 'sigma': 0.1}, 'encoder': {'conv_input_channel': 1, 'conv_output_channel': 16, 'block1_output_channel': 321, 'block1_num_layer': 1, 'block2_output_channel': 64, 'block2_num_layer': 1, 'block3_output_channel': 128, 'block3_num_layer': 1, 'flatten_size': 6272, 'num_features': 10}, 'decoder': 'None', 'drn': {'num_bins': 10, 'hidden_q': 10, 'num_layers': 2, 'num_nodes': 9, 'output_bins': 4, 'output_nodes': 3}, 'ucc_classifier': {'dropout_rate': 0.0, 'num_classes': 4}, 'loss': {'alpha': 1}}, 'experiments': {'num_channels': 1, 'input_shape': [28, 28, 1], 'kde_model': {'num_bins': 11, 'sigma': 0.1}, 'encoder': {'conv_input_channel': 1, 'conv_output_channel': 16, 'block1_output_channel': 321, 'block1_num_layer': 1, 'block2_output_channel': 64, 'block2_num_layer': 1, 'block3_output_channel': 128, 'block3_num_layer': 1, 'flatten_size': 6272, 'num_features': 10}, 'decoder': 'None', 'drn': {'num_bins': 11, 'hidden_q': 100, 'num_layers': 1, 'num_nodes': 10, 'output_bins': 4, 'output_nodes': 3}, 'ucc_classifier': {'dropout_rate': 0.0, 'num_classes': 4}, 'loss': {'alpha': 1}}}\n",
      "(10, 10)\n",
      "(10, 10)\n",
      "(4, 10)\n",
      "x_train shape: torch.Size([50000, 1, 28, 28])\n",
      "50000 train samples\n",
      "10000 val samples\n",
      "x_train shape: torch.Size([50000, 1, 28, 28])\n",
      "50000 train samples\n",
      "10000 val samples\n",
      "{'args': {'dataset': 'mnist', 'model_dir': 'saved_models/', 'model_name': 'mnist_ucc_drn', 'num_instances': 32, 'ucc_start': 1, 'ucc_end': 4, 'batch_size': 20, 'num_samples_per_class': 5, 'num_workers': 4, 'learning_rate': 0.01122380634785142, 'num_bins': 10, 'num_features': 10, 'train_num_steps': 100000, 'val_num_steps': 200, 'save_interval': 1000, 'seed': 22}, 'model': {'num_channels': 1, 'input_shape': [28, 28, 1], 'kde_model': {'num_bins': 10, 'sigma': 0.1}, 'encoder': {'conv_input_channel': 1, 'conv_output_channel': 16, 'block1_output_channel': 321, 'block1_num_layer': 1, 'block2_output_channel': 64, 'block2_num_layer': 1, 'block3_output_channel': 128, 'block3_num_layer': 1, 'flatten_size': 6272, 'num_features': 10}, 'decoder': 'None', 'drn': {'num_bins': 10, 'hidden_q': 10, 'num_layers': 2, 'num_nodes': 9, 'output_bins': 4, 'output_nodes': 3}, 'ucc_classifier': {'dropout_rate': 0.0, 'num_classes': 4}, 'loss': {'alpha': 1}}, 'experiments': {'num_channels': 1, 'input_shape': [28, 28, 1], 'kde_model': {'num_bins': 11, 'sigma': 0.1}, 'encoder': {'conv_input_channel': 1, 'conv_output_channel': 16, 'block1_output_channel': 321, 'block1_num_layer': 1, 'block2_output_channel': 64, 'block2_num_layer': 1, 'block3_output_channel': 128, 'block3_num_layer': 1, 'flatten_size': 6272, 'num_features': 10}, 'decoder': 'None', 'drn': {'num_bins': 11, 'hidden_q': 100, 'num_layers': 1, 'num_nodes': 10, 'output_bins': 4, 'output_nodes': 3}, 'ucc_classifier': {'dropout_rate': 0.0, 'num_classes': 4}, 'loss': {'alpha': 1}}}\n"
     ]
    },
    {
     "name": "stderr",
     "output_type": "stream",
     "text": [
      "2025/04/13 20:16:44 WARNING mlflow.utils.requirements_utils: Found torch version (2.5.1+cu124) contains a local version label (+cu124). MLflow logged a pip requirement for this package as 'torch==2.5.1' without the local version label to make it installable from PyPI. To specify pip requirements containing local version labels, please use `conda_env` or `pip_requirements`.\n"
     ]
    },
    {
     "name": "stdout",
     "output_type": "stream",
     "text": [
      "step: 1000, eval loss: 2.4873175621032715, eval acc: 0.25\n"
     ]
    },
    {
     "name": "stderr",
     "output_type": "stream",
     "text": [
      "2025/04/13 20:16:49 WARNING mlflow.utils.requirements_utils: Found torch version (2.5.1+cu124) contains a local version label (+cu124). MLflow logged a pip requirement for this package as 'torch==2.5.1' without the local version label to make it installable from PyPI. To specify pip requirements containing local version labels, please use `conda_env` or `pip_requirements`.\n",
      "2025/04/13 20:16:49 WARNING mlflow.models.model: Model logged without a signature and input example. Please set `input_example` parameter when logging the model to auto infer the model signature.\n"
     ]
    },
    {
     "name": "stdout",
     "output_type": "stream",
     "text": [
      "step: 2000, eval loss: 2.4857983589172363, eval acc: 0.25\n"
     ]
    },
    {
     "name": "stderr",
     "output_type": "stream",
     "text": []
    },
    {
     "name": "stdout",
     "output_type": "stream",
     "text": [
      "step: 3000, eval loss: 2.4858946800231934, eval acc: 0.25\n"
     ]
    },
    {
     "name": "stderr",
     "output_type": "stream",
     "text": [
      "  3%|▎         | 2999/100000 [12:12<6:35:06,  4.09it/s]\n",
      " 33%|███▎      | 33/100 [6:51:48<13:40:11, 734.50s/it]"
     ]
    },
    {
     "name": "stdout",
     "output_type": "stream",
     "text": [
      "Training finished!!!\n",
      "[W 2025-04-13 20:24:49,360] Trial 32 failed with parameters: {'lr': 0.01122380634785142} because of the following error: The value None could not be cast to float..\n",
      "[W 2025-04-13 20:24:49,363] Trial 32 failed with value None.\n",
      "{'args': {'dataset': 'mnist', 'model_dir': 'saved_models/', 'model_name': 'mnist_ucc_drn', 'num_instances': 32, 'ucc_start': 1, 'ucc_end': 4, 'batch_size': 20, 'num_samples_per_class': 5, 'num_workers': 4, 'learning_rate': 0.06033463141776011, 'num_bins': 10, 'num_features': 10, 'train_num_steps': 100000, 'val_num_steps': 200, 'save_interval': 1000, 'seed': 22}, 'model': {'num_channels': 1, 'input_shape': [28, 28, 1], 'kde_model': {'num_bins': 10, 'sigma': 0.1}, 'encoder': {'conv_input_channel': 1, 'conv_output_channel': 16, 'block1_output_channel': 321, 'block1_num_layer': 1, 'block2_output_channel': 64, 'block2_num_layer': 1, 'block3_output_channel': 128, 'block3_num_layer': 1, 'flatten_size': 6272, 'num_features': 10}, 'decoder': 'None', 'drn': {'num_bins': 10, 'hidden_q': 10, 'num_layers': 2, 'num_nodes': 9, 'output_bins': 4, 'output_nodes': 3}, 'ucc_classifier': {'dropout_rate': 0.0, 'num_classes': 4}, 'loss': {'alpha': 1}}, 'experiments': {'num_channels': 1, 'input_shape': [28, 28, 1], 'kde_model': {'num_bins': 11, 'sigma': 0.1}, 'encoder': {'conv_input_channel': 1, 'conv_output_channel': 16, 'block1_output_channel': 321, 'block1_num_layer': 1, 'block2_output_channel': 64, 'block2_num_layer': 1, 'block3_output_channel': 128, 'block3_num_layer': 1, 'flatten_size': 6272, 'num_features': 10}, 'decoder': 'None', 'drn': {'num_bins': 11, 'hidden_q': 100, 'num_layers': 1, 'num_nodes': 10, 'output_bins': 4, 'output_nodes': 3}, 'ucc_classifier': {'dropout_rate': 0.0, 'num_classes': 4}, 'loss': {'alpha': 1}}}\n",
      "(10, 10)\n",
      "(10, 10)\n",
      "(4, 10)\n",
      "x_train shape: torch.Size([50000, 1, 28, 28])\n",
      "50000 train samples\n",
      "10000 val samples\n",
      "x_train shape: torch.Size([50000, 1, 28, 28])\n",
      "50000 train samples\n",
      "10000 val samples\n",
      "{'args': {'dataset': 'mnist', 'model_dir': 'saved_models/', 'model_name': 'mnist_ucc_drn', 'num_instances': 32, 'ucc_start': 1, 'ucc_end': 4, 'batch_size': 20, 'num_samples_per_class': 5, 'num_workers': 4, 'learning_rate': 0.06033463141776011, 'num_bins': 10, 'num_features': 10, 'train_num_steps': 100000, 'val_num_steps': 200, 'save_interval': 1000, 'seed': 22}, 'model': {'num_channels': 1, 'input_shape': [28, 28, 1], 'kde_model': {'num_bins': 10, 'sigma': 0.1}, 'encoder': {'conv_input_channel': 1, 'conv_output_channel': 16, 'block1_output_channel': 321, 'block1_num_layer': 1, 'block2_output_channel': 64, 'block2_num_layer': 1, 'block3_output_channel': 128, 'block3_num_layer': 1, 'flatten_size': 6272, 'num_features': 10}, 'decoder': 'None', 'drn': {'num_bins': 10, 'hidden_q': 10, 'num_layers': 2, 'num_nodes': 9, 'output_bins': 4, 'output_nodes': 3}, 'ucc_classifier': {'dropout_rate': 0.0, 'num_classes': 4}, 'loss': {'alpha': 1}}, 'experiments': {'num_channels': 1, 'input_shape': [28, 28, 1], 'kde_model': {'num_bins': 11, 'sigma': 0.1}, 'encoder': {'conv_input_channel': 1, 'conv_output_channel': 16, 'block1_output_channel': 321, 'block1_num_layer': 1, 'block2_output_channel': 64, 'block2_num_layer': 1, 'block3_output_channel': 128, 'block3_num_layer': 1, 'flatten_size': 6272, 'num_features': 10}, 'decoder': 'None', 'drn': {'num_bins': 11, 'hidden_q': 100, 'num_layers': 1, 'num_nodes': 10, 'output_bins': 4, 'output_nodes': 3}, 'ucc_classifier': {'dropout_rate': 0.0, 'num_classes': 4}, 'loss': {'alpha': 1}}}\n"
     ]
    },
    {
     "name": "stderr",
     "output_type": "stream",
     "text": [
      "2025/04/13 20:28:57 WARNING mlflow.utils.requirements_utils: Found torch version (2.5.1+cu124) contains a local version label (+cu124). MLflow logged a pip requirement for this package as 'torch==2.5.1' without the local version label to make it installable from PyPI. To specify pip requirements containing local version labels, please use `conda_env` or `pip_requirements`.\n"
     ]
    },
    {
     "name": "stdout",
     "output_type": "stream",
     "text": [
      "step: 1000, eval loss: 2.4853594303131104, eval acc: 0.25\n"
     ]
    },
    {
     "name": "stderr",
     "output_type": "stream",
     "text": [
      "2025/04/13 20:29:03 WARNING mlflow.utils.requirements_utils: Found torch version (2.5.1+cu124) contains a local version label (+cu124). MLflow logged a pip requirement for this package as 'torch==2.5.1' without the local version label to make it installable from PyPI. To specify pip requirements containing local version labels, please use `conda_env` or `pip_requirements`.\n",
      "2025/04/13 20:29:03 WARNING mlflow.models.model: Model logged without a signature and input example. Please set `input_example` parameter when logging the model to auto infer the model signature.\n"
     ]
    },
    {
     "name": "stdout",
     "output_type": "stream",
     "text": [
      "step: 2000, eval loss: 2.491048574447632, eval acc: 0.25\n"
     ]
    },
    {
     "name": "stderr",
     "output_type": "stream",
     "text": []
    },
    {
     "name": "stdout",
     "output_type": "stream",
     "text": [
      "step: 3000, eval loss: 2.4859213829040527, eval acc: 0.25\n"
     ]
    },
    {
     "name": "stderr",
     "output_type": "stream",
     "text": [
      "  3%|▎         | 2999/100000 [12:10<6:33:53,  4.10it/s]\n",
      " 34%|███▍      | 34/100 [7:04:00<13:26:58, 733.61s/it]"
     ]
    },
    {
     "name": "stdout",
     "output_type": "stream",
     "text": [
      "Training finished!!!\n",
      "[W 2025-04-13 20:37:00,893] Trial 33 failed with parameters: {'lr': 0.06033463141776011} because of the following error: The value None could not be cast to float..\n",
      "[W 2025-04-13 20:37:00,897] Trial 33 failed with value None.\n",
      "{'args': {'dataset': 'mnist', 'model_dir': 'saved_models/', 'model_name': 'mnist_ucc_drn', 'num_instances': 32, 'ucc_start': 1, 'ucc_end': 4, 'batch_size': 20, 'num_samples_per_class': 5, 'num_workers': 4, 'learning_rate': 0.07083379477762045, 'num_bins': 10, 'num_features': 10, 'train_num_steps': 100000, 'val_num_steps': 200, 'save_interval': 1000, 'seed': 22}, 'model': {'num_channels': 1, 'input_shape': [28, 28, 1], 'kde_model': {'num_bins': 10, 'sigma': 0.1}, 'encoder': {'conv_input_channel': 1, 'conv_output_channel': 16, 'block1_output_channel': 321, 'block1_num_layer': 1, 'block2_output_channel': 64, 'block2_num_layer': 1, 'block3_output_channel': 128, 'block3_num_layer': 1, 'flatten_size': 6272, 'num_features': 10}, 'decoder': 'None', 'drn': {'num_bins': 10, 'hidden_q': 10, 'num_layers': 2, 'num_nodes': 9, 'output_bins': 4, 'output_nodes': 3}, 'ucc_classifier': {'dropout_rate': 0.0, 'num_classes': 4}, 'loss': {'alpha': 1}}, 'experiments': {'num_channels': 1, 'input_shape': [28, 28, 1], 'kde_model': {'num_bins': 11, 'sigma': 0.1}, 'encoder': {'conv_input_channel': 1, 'conv_output_channel': 16, 'block1_output_channel': 321, 'block1_num_layer': 1, 'block2_output_channel': 64, 'block2_num_layer': 1, 'block3_output_channel': 128, 'block3_num_layer': 1, 'flatten_size': 6272, 'num_features': 10}, 'decoder': 'None', 'drn': {'num_bins': 11, 'hidden_q': 100, 'num_layers': 1, 'num_nodes': 10, 'output_bins': 4, 'output_nodes': 3}, 'ucc_classifier': {'dropout_rate': 0.0, 'num_classes': 4}, 'loss': {'alpha': 1}}}\n",
      "(10, 10)\n",
      "(10, 10)\n",
      "(4, 10)\n",
      "x_train shape: torch.Size([50000, 1, 28, 28])\n",
      "50000 train samples\n",
      "10000 val samples\n",
      "x_train shape: torch.Size([50000, 1, 28, 28])\n",
      "50000 train samples\n",
      "10000 val samples\n",
      "{'args': {'dataset': 'mnist', 'model_dir': 'saved_models/', 'model_name': 'mnist_ucc_drn', 'num_instances': 32, 'ucc_start': 1, 'ucc_end': 4, 'batch_size': 20, 'num_samples_per_class': 5, 'num_workers': 4, 'learning_rate': 0.07083379477762045, 'num_bins': 10, 'num_features': 10, 'train_num_steps': 100000, 'val_num_steps': 200, 'save_interval': 1000, 'seed': 22}, 'model': {'num_channels': 1, 'input_shape': [28, 28, 1], 'kde_model': {'num_bins': 10, 'sigma': 0.1}, 'encoder': {'conv_input_channel': 1, 'conv_output_channel': 16, 'block1_output_channel': 321, 'block1_num_layer': 1, 'block2_output_channel': 64, 'block2_num_layer': 1, 'block3_output_channel': 128, 'block3_num_layer': 1, 'flatten_size': 6272, 'num_features': 10}, 'decoder': 'None', 'drn': {'num_bins': 10, 'hidden_q': 10, 'num_layers': 2, 'num_nodes': 9, 'output_bins': 4, 'output_nodes': 3}, 'ucc_classifier': {'dropout_rate': 0.0, 'num_classes': 4}, 'loss': {'alpha': 1}}, 'experiments': {'num_channels': 1, 'input_shape': [28, 28, 1], 'kde_model': {'num_bins': 11, 'sigma': 0.1}, 'encoder': {'conv_input_channel': 1, 'conv_output_channel': 16, 'block1_output_channel': 321, 'block1_num_layer': 1, 'block2_output_channel': 64, 'block2_num_layer': 1, 'block3_output_channel': 128, 'block3_num_layer': 1, 'flatten_size': 6272, 'num_features': 10}, 'decoder': 'None', 'drn': {'num_bins': 11, 'hidden_q': 100, 'num_layers': 1, 'num_nodes': 10, 'output_bins': 4, 'output_nodes': 3}, 'ucc_classifier': {'dropout_rate': 0.0, 'num_classes': 4}, 'loss': {'alpha': 1}}}\n"
     ]
    },
    {
     "name": "stderr",
     "output_type": "stream",
     "text": [
      "2025/04/13 20:41:09 WARNING mlflow.utils.requirements_utils: Found torch version (2.5.1+cu124) contains a local version label (+cu124). MLflow logged a pip requirement for this package as 'torch==2.5.1' without the local version label to make it installable from PyPI. To specify pip requirements containing local version labels, please use `conda_env` or `pip_requirements`.\n"
     ]
    },
    {
     "name": "stdout",
     "output_type": "stream",
     "text": [
      "step: 1000, eval loss: 2.5034234523773193, eval acc: 0.25\n"
     ]
    },
    {
     "name": "stderr",
     "output_type": "stream",
     "text": [
      "2025/04/13 20:41:15 WARNING mlflow.utils.requirements_utils: Found torch version (2.5.1+cu124) contains a local version label (+cu124). MLflow logged a pip requirement for this package as 'torch==2.5.1' without the local version label to make it installable from PyPI. To specify pip requirements containing local version labels, please use `conda_env` or `pip_requirements`.\n",
      "2025/04/13 20:41:15 WARNING mlflow.models.model: Model logged without a signature and input example. Please set `input_example` parameter when logging the model to auto infer the model signature.\n",
      "\n"
     ]
    },
    {
     "name": "stdout",
     "output_type": "stream",
     "text": [
      "step: 2000, eval loss: 2.4924912452697754, eval acc: 0.25\n"
     ]
    },
    {
     "name": "stderr",
     "output_type": "stream",
     "text": [
      "  2%|▏         | 2001/100000 [08:14<75:33:39,  2.78s/it] \u001b[A"
     ]
    },
    {
     "name": "stdout",
     "output_type": "stream",
     "text": [
      "step: 3000, eval loss: 2.4950807094573975, eval acc: 0.25\n"
     ]
    },
    {
     "name": "stderr",
     "output_type": "stream",
     "text": [
      "  3%|▎         | 2999/100000 [12:15<6:36:37,  4.08it/s]\n",
      " 35%|███▌      | 35/100 [7:16:16<13:15:43, 734.51s/it]"
     ]
    },
    {
     "name": "stdout",
     "output_type": "stream",
     "text": [
      "Training finished!!!\n",
      "[W 2025-04-13 20:49:17,523] Trial 34 failed with parameters: {'lr': 0.07083379477762045} because of the following error: The value None could not be cast to float..\n",
      "[W 2025-04-13 20:49:17,526] Trial 34 failed with value None.\n",
      "{'args': {'dataset': 'mnist', 'model_dir': 'saved_models/', 'model_name': 'mnist_ucc_drn', 'num_instances': 32, 'ucc_start': 1, 'ucc_end': 4, 'batch_size': 20, 'num_samples_per_class': 5, 'num_workers': 4, 'learning_rate': 0.010804734445637357, 'num_bins': 10, 'num_features': 10, 'train_num_steps': 100000, 'val_num_steps': 200, 'save_interval': 1000, 'seed': 22}, 'model': {'num_channels': 1, 'input_shape': [28, 28, 1], 'kde_model': {'num_bins': 10, 'sigma': 0.1}, 'encoder': {'conv_input_channel': 1, 'conv_output_channel': 16, 'block1_output_channel': 321, 'block1_num_layer': 1, 'block2_output_channel': 64, 'block2_num_layer': 1, 'block3_output_channel': 128, 'block3_num_layer': 1, 'flatten_size': 6272, 'num_features': 10}, 'decoder': 'None', 'drn': {'num_bins': 10, 'hidden_q': 10, 'num_layers': 2, 'num_nodes': 9, 'output_bins': 4, 'output_nodes': 3}, 'ucc_classifier': {'dropout_rate': 0.0, 'num_classes': 4}, 'loss': {'alpha': 1}}, 'experiments': {'num_channels': 1, 'input_shape': [28, 28, 1], 'kde_model': {'num_bins': 11, 'sigma': 0.1}, 'encoder': {'conv_input_channel': 1, 'conv_output_channel': 16, 'block1_output_channel': 321, 'block1_num_layer': 1, 'block2_output_channel': 64, 'block2_num_layer': 1, 'block3_output_channel': 128, 'block3_num_layer': 1, 'flatten_size': 6272, 'num_features': 10}, 'decoder': 'None', 'drn': {'num_bins': 11, 'hidden_q': 100, 'num_layers': 1, 'num_nodes': 10, 'output_bins': 4, 'output_nodes': 3}, 'ucc_classifier': {'dropout_rate': 0.0, 'num_classes': 4}, 'loss': {'alpha': 1}}}\n",
      "(10, 10)\n",
      "(10, 10)\n",
      "(4, 10)\n",
      "x_train shape: torch.Size([50000, 1, 28, 28])\n",
      "50000 train samples\n",
      "10000 val samples\n",
      "x_train shape: torch.Size([50000, 1, 28, 28])\n",
      "50000 train samples\n",
      "10000 val samples\n",
      "{'args': {'dataset': 'mnist', 'model_dir': 'saved_models/', 'model_name': 'mnist_ucc_drn', 'num_instances': 32, 'ucc_start': 1, 'ucc_end': 4, 'batch_size': 20, 'num_samples_per_class': 5, 'num_workers': 4, 'learning_rate': 0.010804734445637357, 'num_bins': 10, 'num_features': 10, 'train_num_steps': 100000, 'val_num_steps': 200, 'save_interval': 1000, 'seed': 22}, 'model': {'num_channels': 1, 'input_shape': [28, 28, 1], 'kde_model': {'num_bins': 10, 'sigma': 0.1}, 'encoder': {'conv_input_channel': 1, 'conv_output_channel': 16, 'block1_output_channel': 321, 'block1_num_layer': 1, 'block2_output_channel': 64, 'block2_num_layer': 1, 'block3_output_channel': 128, 'block3_num_layer': 1, 'flatten_size': 6272, 'num_features': 10}, 'decoder': 'None', 'drn': {'num_bins': 10, 'hidden_q': 10, 'num_layers': 2, 'num_nodes': 9, 'output_bins': 4, 'output_nodes': 3}, 'ucc_classifier': {'dropout_rate': 0.0, 'num_classes': 4}, 'loss': {'alpha': 1}}, 'experiments': {'num_channels': 1, 'input_shape': [28, 28, 1], 'kde_model': {'num_bins': 11, 'sigma': 0.1}, 'encoder': {'conv_input_channel': 1, 'conv_output_channel': 16, 'block1_output_channel': 321, 'block1_num_layer': 1, 'block2_output_channel': 64, 'block2_num_layer': 1, 'block3_output_channel': 128, 'block3_num_layer': 1, 'flatten_size': 6272, 'num_features': 10}, 'decoder': 'None', 'drn': {'num_bins': 11, 'hidden_q': 100, 'num_layers': 1, 'num_nodes': 10, 'output_bins': 4, 'output_nodes': 3}, 'ucc_classifier': {'dropout_rate': 0.0, 'num_classes': 4}, 'loss': {'alpha': 1}}}\n"
     ]
    },
    {
     "name": "stderr",
     "output_type": "stream",
     "text": [
      "2025/04/13 20:53:27 WARNING mlflow.utils.requirements_utils: Found torch version (2.5.1+cu124) contains a local version label (+cu124). MLflow logged a pip requirement for this package as 'torch==2.5.1' without the local version label to make it installable from PyPI. To specify pip requirements containing local version labels, please use `conda_env` or `pip_requirements`.\n"
     ]
    },
    {
     "name": "stdout",
     "output_type": "stream",
     "text": [
      "step: 1000, eval loss: 2.4963343143463135, eval acc: 0.25\n"
     ]
    },
    {
     "name": "stderr",
     "output_type": "stream",
     "text": [
      "2025/04/13 20:53:33 WARNING mlflow.utils.requirements_utils: Found torch version (2.5.1+cu124) contains a local version label (+cu124). MLflow logged a pip requirement for this package as 'torch==2.5.1' without the local version label to make it installable from PyPI. To specify pip requirements containing local version labels, please use `conda_env` or `pip_requirements`.\n",
      "2025/04/13 20:53:34 WARNING mlflow.models.model: Model logged without a signature and input example. Please set `input_example` parameter when logging the model to auto infer the model signature.\n"
     ]
    },
    {
     "name": "stdout",
     "output_type": "stream",
     "text": [
      "step: 2000, eval loss: 2.4952282905578613, eval acc: 0.25\n"
     ]
    },
    {
     "name": "stderr",
     "output_type": "stream",
     "text": []
    },
    {
     "name": "stdout",
     "output_type": "stream",
     "text": [
      "step: 3000, eval loss: 2.4976067543029785, eval acc: 0.25\n"
     ]
    },
    {
     "name": "stderr",
     "output_type": "stream",
     "text": [
      "  3%|▎         | 2999/100000 [12:15<6:36:33,  4.08it/s]\n",
      " 36%|███▌      | 36/100 [7:28:33<13:04:07, 735.12s/it]"
     ]
    },
    {
     "name": "stdout",
     "output_type": "stream",
     "text": [
      "Training finished!!!\n",
      "[W 2025-04-13 21:01:34,061] Trial 35 failed with parameters: {'lr': 0.010804734445637357} because of the following error: The value None could not be cast to float..\n",
      "[W 2025-04-13 21:01:34,065] Trial 35 failed with value None.\n",
      "{'args': {'dataset': 'mnist', 'model_dir': 'saved_models/', 'model_name': 'mnist_ucc_drn', 'num_instances': 32, 'ucc_start': 1, 'ucc_end': 4, 'batch_size': 20, 'num_samples_per_class': 5, 'num_workers': 4, 'learning_rate': 0.010504308895549708, 'num_bins': 10, 'num_features': 10, 'train_num_steps': 100000, 'val_num_steps': 200, 'save_interval': 1000, 'seed': 22}, 'model': {'num_channels': 1, 'input_shape': [28, 28, 1], 'kde_model': {'num_bins': 10, 'sigma': 0.1}, 'encoder': {'conv_input_channel': 1, 'conv_output_channel': 16, 'block1_output_channel': 321, 'block1_num_layer': 1, 'block2_output_channel': 64, 'block2_num_layer': 1, 'block3_output_channel': 128, 'block3_num_layer': 1, 'flatten_size': 6272, 'num_features': 10}, 'decoder': 'None', 'drn': {'num_bins': 10, 'hidden_q': 10, 'num_layers': 2, 'num_nodes': 9, 'output_bins': 4, 'output_nodes': 3}, 'ucc_classifier': {'dropout_rate': 0.0, 'num_classes': 4}, 'loss': {'alpha': 1}}, 'experiments': {'num_channels': 1, 'input_shape': [28, 28, 1], 'kde_model': {'num_bins': 11, 'sigma': 0.1}, 'encoder': {'conv_input_channel': 1, 'conv_output_channel': 16, 'block1_output_channel': 321, 'block1_num_layer': 1, 'block2_output_channel': 64, 'block2_num_layer': 1, 'block3_output_channel': 128, 'block3_num_layer': 1, 'flatten_size': 6272, 'num_features': 10}, 'decoder': 'None', 'drn': {'num_bins': 11, 'hidden_q': 100, 'num_layers': 1, 'num_nodes': 10, 'output_bins': 4, 'output_nodes': 3}, 'ucc_classifier': {'dropout_rate': 0.0, 'num_classes': 4}, 'loss': {'alpha': 1}}}\n",
      "(10, 10)\n",
      "(10, 10)\n",
      "(4, 10)\n",
      "x_train shape: torch.Size([50000, 1, 28, 28])\n",
      "50000 train samples\n",
      "10000 val samples\n",
      "x_train shape: torch.Size([50000, 1, 28, 28])\n",
      "50000 train samples\n",
      "10000 val samples\n",
      "{'args': {'dataset': 'mnist', 'model_dir': 'saved_models/', 'model_name': 'mnist_ucc_drn', 'num_instances': 32, 'ucc_start': 1, 'ucc_end': 4, 'batch_size': 20, 'num_samples_per_class': 5, 'num_workers': 4, 'learning_rate': 0.010504308895549708, 'num_bins': 10, 'num_features': 10, 'train_num_steps': 100000, 'val_num_steps': 200, 'save_interval': 1000, 'seed': 22}, 'model': {'num_channels': 1, 'input_shape': [28, 28, 1], 'kde_model': {'num_bins': 10, 'sigma': 0.1}, 'encoder': {'conv_input_channel': 1, 'conv_output_channel': 16, 'block1_output_channel': 321, 'block1_num_layer': 1, 'block2_output_channel': 64, 'block2_num_layer': 1, 'block3_output_channel': 128, 'block3_num_layer': 1, 'flatten_size': 6272, 'num_features': 10}, 'decoder': 'None', 'drn': {'num_bins': 10, 'hidden_q': 10, 'num_layers': 2, 'num_nodes': 9, 'output_bins': 4, 'output_nodes': 3}, 'ucc_classifier': {'dropout_rate': 0.0, 'num_classes': 4}, 'loss': {'alpha': 1}}, 'experiments': {'num_channels': 1, 'input_shape': [28, 28, 1], 'kde_model': {'num_bins': 11, 'sigma': 0.1}, 'encoder': {'conv_input_channel': 1, 'conv_output_channel': 16, 'block1_output_channel': 321, 'block1_num_layer': 1, 'block2_output_channel': 64, 'block2_num_layer': 1, 'block3_output_channel': 128, 'block3_num_layer': 1, 'flatten_size': 6272, 'num_features': 10}, 'decoder': 'None', 'drn': {'num_bins': 11, 'hidden_q': 100, 'num_layers': 1, 'num_nodes': 10, 'output_bins': 4, 'output_nodes': 3}, 'ucc_classifier': {'dropout_rate': 0.0, 'num_classes': 4}, 'loss': {'alpha': 1}}}\n"
     ]
    },
    {
     "name": "stderr",
     "output_type": "stream",
     "text": [
      "2025/04/13 21:05:43 WARNING mlflow.utils.requirements_utils: Found torch version (2.5.1+cu124) contains a local version label (+cu124). MLflow logged a pip requirement for this package as 'torch==2.5.1' without the local version label to make it installable from PyPI. To specify pip requirements containing local version labels, please use `conda_env` or `pip_requirements`.\n"
     ]
    },
    {
     "name": "stdout",
     "output_type": "stream",
     "text": [
      "step: 1000, eval loss: 2.48549485206604, eval acc: 0.25\n"
     ]
    },
    {
     "name": "stderr",
     "output_type": "stream",
     "text": [
      "2025/04/13 21:05:48 WARNING mlflow.utils.requirements_utils: Found torch version (2.5.1+cu124) contains a local version label (+cu124). MLflow logged a pip requirement for this package as 'torch==2.5.1' without the local version label to make it installable from PyPI. To specify pip requirements containing local version labels, please use `conda_env` or `pip_requirements`.\n",
      "2025/04/13 21:05:48 WARNING mlflow.models.model: Model logged without a signature and input example. Please set `input_example` parameter when logging the model to auto infer the model signature.\n"
     ]
    },
    {
     "name": "stdout",
     "output_type": "stream",
     "text": [
      "step: 2000, eval loss: 2.485553741455078, eval acc: 0.25\n"
     ]
    },
    {
     "name": "stderr",
     "output_type": "stream",
     "text": []
    },
    {
     "name": "stdout",
     "output_type": "stream",
     "text": [
      "step: 3000, eval loss: 2.4857678413391113, eval acc: 0.25\n"
     ]
    },
    {
     "name": "stderr",
     "output_type": "stream",
     "text": [
      "  3%|▎         | 2999/100000 [12:15<6:36:17,  4.08it/s]\n",
      " 37%|███▋      | 37/100 [7:40:49<12:52:08, 735.37s/it]"
     ]
    },
    {
     "name": "stdout",
     "output_type": "stream",
     "text": [
      "Training finished!!!\n",
      "[W 2025-04-13 21:13:50,025] Trial 36 failed with parameters: {'lr': 0.010504308895549708} because of the following error: The value None could not be cast to float..\n",
      "[W 2025-04-13 21:13:50,027] Trial 36 failed with value None.\n",
      "{'args': {'dataset': 'mnist', 'model_dir': 'saved_models/', 'model_name': 'mnist_ucc_drn', 'num_instances': 32, 'ucc_start': 1, 'ucc_end': 4, 'batch_size': 20, 'num_samples_per_class': 5, 'num_workers': 4, 'learning_rate': 0.026307414842273787, 'num_bins': 10, 'num_features': 10, 'train_num_steps': 100000, 'val_num_steps': 200, 'save_interval': 1000, 'seed': 22}, 'model': {'num_channels': 1, 'input_shape': [28, 28, 1], 'kde_model': {'num_bins': 10, 'sigma': 0.1}, 'encoder': {'conv_input_channel': 1, 'conv_output_channel': 16, 'block1_output_channel': 321, 'block1_num_layer': 1, 'block2_output_channel': 64, 'block2_num_layer': 1, 'block3_output_channel': 128, 'block3_num_layer': 1, 'flatten_size': 6272, 'num_features': 10}, 'decoder': 'None', 'drn': {'num_bins': 10, 'hidden_q': 10, 'num_layers': 2, 'num_nodes': 9, 'output_bins': 4, 'output_nodes': 3}, 'ucc_classifier': {'dropout_rate': 0.0, 'num_classes': 4}, 'loss': {'alpha': 1}}, 'experiments': {'num_channels': 1, 'input_shape': [28, 28, 1], 'kde_model': {'num_bins': 11, 'sigma': 0.1}, 'encoder': {'conv_input_channel': 1, 'conv_output_channel': 16, 'block1_output_channel': 321, 'block1_num_layer': 1, 'block2_output_channel': 64, 'block2_num_layer': 1, 'block3_output_channel': 128, 'block3_num_layer': 1, 'flatten_size': 6272, 'num_features': 10}, 'decoder': 'None', 'drn': {'num_bins': 11, 'hidden_q': 100, 'num_layers': 1, 'num_nodes': 10, 'output_bins': 4, 'output_nodes': 3}, 'ucc_classifier': {'dropout_rate': 0.0, 'num_classes': 4}, 'loss': {'alpha': 1}}}\n",
      "(10, 10)\n",
      "(10, 10)\n",
      "(4, 10)\n",
      "x_train shape: torch.Size([50000, 1, 28, 28])\n",
      "50000 train samples\n",
      "10000 val samples\n",
      "x_train shape: torch.Size([50000, 1, 28, 28])\n",
      "50000 train samples\n",
      "10000 val samples\n",
      "{'args': {'dataset': 'mnist', 'model_dir': 'saved_models/', 'model_name': 'mnist_ucc_drn', 'num_instances': 32, 'ucc_start': 1, 'ucc_end': 4, 'batch_size': 20, 'num_samples_per_class': 5, 'num_workers': 4, 'learning_rate': 0.026307414842273787, 'num_bins': 10, 'num_features': 10, 'train_num_steps': 100000, 'val_num_steps': 200, 'save_interval': 1000, 'seed': 22}, 'model': {'num_channels': 1, 'input_shape': [28, 28, 1], 'kde_model': {'num_bins': 10, 'sigma': 0.1}, 'encoder': {'conv_input_channel': 1, 'conv_output_channel': 16, 'block1_output_channel': 321, 'block1_num_layer': 1, 'block2_output_channel': 64, 'block2_num_layer': 1, 'block3_output_channel': 128, 'block3_num_layer': 1, 'flatten_size': 6272, 'num_features': 10}, 'decoder': 'None', 'drn': {'num_bins': 10, 'hidden_q': 10, 'num_layers': 2, 'num_nodes': 9, 'output_bins': 4, 'output_nodes': 3}, 'ucc_classifier': {'dropout_rate': 0.0, 'num_classes': 4}, 'loss': {'alpha': 1}}, 'experiments': {'num_channels': 1, 'input_shape': [28, 28, 1], 'kde_model': {'num_bins': 11, 'sigma': 0.1}, 'encoder': {'conv_input_channel': 1, 'conv_output_channel': 16, 'block1_output_channel': 321, 'block1_num_layer': 1, 'block2_output_channel': 64, 'block2_num_layer': 1, 'block3_output_channel': 128, 'block3_num_layer': 1, 'flatten_size': 6272, 'num_features': 10}, 'decoder': 'None', 'drn': {'num_bins': 11, 'hidden_q': 100, 'num_layers': 1, 'num_nodes': 10, 'output_bins': 4, 'output_nodes': 3}, 'ucc_classifier': {'dropout_rate': 0.0, 'num_classes': 4}, 'loss': {'alpha': 1}}}\n"
     ]
    },
    {
     "name": "stderr",
     "output_type": "stream",
     "text": [
      "2025/04/13 21:18:01 WARNING mlflow.utils.requirements_utils: Found torch version (2.5.1+cu124) contains a local version label (+cu124). MLflow logged a pip requirement for this package as 'torch==2.5.1' without the local version label to make it installable from PyPI. To specify pip requirements containing local version labels, please use `conda_env` or `pip_requirements`.\n"
     ]
    },
    {
     "name": "stdout",
     "output_type": "stream",
     "text": [
      "step: 1000, eval loss: 2.4854297637939453, eval acc: 0.25\n"
     ]
    },
    {
     "name": "stderr",
     "output_type": "stream",
     "text": [
      "2025/04/13 21:18:07 WARNING mlflow.utils.requirements_utils: Found torch version (2.5.1+cu124) contains a local version label (+cu124). MLflow logged a pip requirement for this package as 'torch==2.5.1' without the local version label to make it installable from PyPI. To specify pip requirements containing local version labels, please use `conda_env` or `pip_requirements`.\n",
      "2025/04/13 21:18:07 WARNING mlflow.models.model: Model logged without a signature and input example. Please set `input_example` parameter when logging the model to auto infer the model signature.\n"
     ]
    },
    {
     "name": "stdout",
     "output_type": "stream",
     "text": [
      "step: 2000, eval loss: 2.485936164855957, eval acc: 0.25\n"
     ]
    },
    {
     "name": "stderr",
     "output_type": "stream",
     "text": []
    },
    {
     "name": "stdout",
     "output_type": "stream",
     "text": [
      "step: 3000, eval loss: 2.4858055114746094, eval acc: 0.25\n"
     ]
    },
    {
     "name": "stderr",
     "output_type": "stream",
     "text": [
      "  3%|▎         | 2999/100000 [12:20<6:38:59,  4.05it/s]\n",
      " 38%|███▊      | 38/100 [7:53:10<12:41:39, 737.09s/it]"
     ]
    },
    {
     "name": "stdout",
     "output_type": "stream",
     "text": [
      "Training finished!!!\n",
      "[W 2025-04-13 21:26:11,103] Trial 37 failed with parameters: {'lr': 0.026307414842273787} because of the following error: The value None could not be cast to float..\n",
      "[W 2025-04-13 21:26:11,106] Trial 37 failed with value None.\n",
      "{'args': {'dataset': 'mnist', 'model_dir': 'saved_models/', 'model_name': 'mnist_ucc_drn', 'num_instances': 32, 'ucc_start': 1, 'ucc_end': 4, 'batch_size': 20, 'num_samples_per_class': 5, 'num_workers': 4, 'learning_rate': 0.04718057038708172, 'num_bins': 10, 'num_features': 10, 'train_num_steps': 100000, 'val_num_steps': 200, 'save_interval': 1000, 'seed': 22}, 'model': {'num_channels': 1, 'input_shape': [28, 28, 1], 'kde_model': {'num_bins': 10, 'sigma': 0.1}, 'encoder': {'conv_input_channel': 1, 'conv_output_channel': 16, 'block1_output_channel': 321, 'block1_num_layer': 1, 'block2_output_channel': 64, 'block2_num_layer': 1, 'block3_output_channel': 128, 'block3_num_layer': 1, 'flatten_size': 6272, 'num_features': 10}, 'decoder': 'None', 'drn': {'num_bins': 10, 'hidden_q': 10, 'num_layers': 2, 'num_nodes': 9, 'output_bins': 4, 'output_nodes': 3}, 'ucc_classifier': {'dropout_rate': 0.0, 'num_classes': 4}, 'loss': {'alpha': 1}}, 'experiments': {'num_channels': 1, 'input_shape': [28, 28, 1], 'kde_model': {'num_bins': 11, 'sigma': 0.1}, 'encoder': {'conv_input_channel': 1, 'conv_output_channel': 16, 'block1_output_channel': 321, 'block1_num_layer': 1, 'block2_output_channel': 64, 'block2_num_layer': 1, 'block3_output_channel': 128, 'block3_num_layer': 1, 'flatten_size': 6272, 'num_features': 10}, 'decoder': 'None', 'drn': {'num_bins': 11, 'hidden_q': 100, 'num_layers': 1, 'num_nodes': 10, 'output_bins': 4, 'output_nodes': 3}, 'ucc_classifier': {'dropout_rate': 0.0, 'num_classes': 4}, 'loss': {'alpha': 1}}}\n",
      "(10, 10)\n",
      "(10, 10)\n",
      "(4, 10)\n",
      "x_train shape: torch.Size([50000, 1, 28, 28])\n",
      "50000 train samples\n",
      "10000 val samples\n",
      "x_train shape: torch.Size([50000, 1, 28, 28])\n",
      "50000 train samples\n",
      "10000 val samples\n",
      "{'args': {'dataset': 'mnist', 'model_dir': 'saved_models/', 'model_name': 'mnist_ucc_drn', 'num_instances': 32, 'ucc_start': 1, 'ucc_end': 4, 'batch_size': 20, 'num_samples_per_class': 5, 'num_workers': 4, 'learning_rate': 0.04718057038708172, 'num_bins': 10, 'num_features': 10, 'train_num_steps': 100000, 'val_num_steps': 200, 'save_interval': 1000, 'seed': 22}, 'model': {'num_channels': 1, 'input_shape': [28, 28, 1], 'kde_model': {'num_bins': 10, 'sigma': 0.1}, 'encoder': {'conv_input_channel': 1, 'conv_output_channel': 16, 'block1_output_channel': 321, 'block1_num_layer': 1, 'block2_output_channel': 64, 'block2_num_layer': 1, 'block3_output_channel': 128, 'block3_num_layer': 1, 'flatten_size': 6272, 'num_features': 10}, 'decoder': 'None', 'drn': {'num_bins': 10, 'hidden_q': 10, 'num_layers': 2, 'num_nodes': 9, 'output_bins': 4, 'output_nodes': 3}, 'ucc_classifier': {'dropout_rate': 0.0, 'num_classes': 4}, 'loss': {'alpha': 1}}, 'experiments': {'num_channels': 1, 'input_shape': [28, 28, 1], 'kde_model': {'num_bins': 11, 'sigma': 0.1}, 'encoder': {'conv_input_channel': 1, 'conv_output_channel': 16, 'block1_output_channel': 321, 'block1_num_layer': 1, 'block2_output_channel': 64, 'block2_num_layer': 1, 'block3_output_channel': 128, 'block3_num_layer': 1, 'flatten_size': 6272, 'num_features': 10}, 'decoder': 'None', 'drn': {'num_bins': 11, 'hidden_q': 100, 'num_layers': 1, 'num_nodes': 10, 'output_bins': 4, 'output_nodes': 3}, 'ucc_classifier': {'dropout_rate': 0.0, 'num_classes': 4}, 'loss': {'alpha': 1}}}\n"
     ]
    },
    {
     "name": "stderr",
     "output_type": "stream",
     "text": [
      "2025/04/13 21:30:21 WARNING mlflow.utils.requirements_utils: Found torch version (2.5.1+cu124) contains a local version label (+cu124). MLflow logged a pip requirement for this package as 'torch==2.5.1' without the local version label to make it installable from PyPI. To specify pip requirements containing local version labels, please use `conda_env` or `pip_requirements`.\n"
     ]
    },
    {
     "name": "stdout",
     "output_type": "stream",
     "text": [
      "step: 1000, eval loss: 2.4897525310516357, eval acc: 0.25\n"
     ]
    },
    {
     "name": "stderr",
     "output_type": "stream",
     "text": [
      "2025/04/13 21:30:28 WARNING mlflow.utils.requirements_utils: Found torch version (2.5.1+cu124) contains a local version label (+cu124). MLflow logged a pip requirement for this package as 'torch==2.5.1' without the local version label to make it installable from PyPI. To specify pip requirements containing local version labels, please use `conda_env` or `pip_requirements`.\n",
      "2025/04/13 21:30:28 WARNING mlflow.models.model: Model logged without a signature and input example. Please set `input_example` parameter when logging the model to auto infer the model signature.\n",
      "\n"
     ]
    },
    {
     "name": "stdout",
     "output_type": "stream",
     "text": [
      "step: 2000, eval loss: 2.486147165298462, eval acc: 0.25\n"
     ]
    },
    {
     "name": "stderr",
     "output_type": "stream",
     "text": [
      "  2%|▏         | 2001/100000 [08:12<68:21:18,  2.51s/it]\u001b[A"
     ]
    },
    {
     "name": "stdout",
     "output_type": "stream",
     "text": [
      "step: 3000, eval loss: 2.4871153831481934, eval acc: 0.25\n"
     ]
    },
    {
     "name": "stderr",
     "output_type": "stream",
     "text": [
      "  3%|▎         | 2999/100000 [12:04<6:30:31,  4.14it/s]\n",
      " 39%|███▉      | 39/100 [8:05:15<12:25:47, 733.56s/it]"
     ]
    },
    {
     "name": "stdout",
     "output_type": "stream",
     "text": [
      "Training finished!!!\n",
      "[W 2025-04-13 21:38:16,446] Trial 38 failed with parameters: {'lr': 0.04718057038708172} because of the following error: The value None could not be cast to float..\n",
      "[W 2025-04-13 21:38:16,449] Trial 38 failed with value None.\n",
      "{'args': {'dataset': 'mnist', 'model_dir': 'saved_models/', 'model_name': 'mnist_ucc_drn', 'num_instances': 32, 'ucc_start': 1, 'ucc_end': 4, 'batch_size': 20, 'num_samples_per_class': 5, 'num_workers': 4, 'learning_rate': 0.04337806086855247, 'num_bins': 10, 'num_features': 10, 'train_num_steps': 100000, 'val_num_steps': 200, 'save_interval': 1000, 'seed': 22}, 'model': {'num_channels': 1, 'input_shape': [28, 28, 1], 'kde_model': {'num_bins': 10, 'sigma': 0.1}, 'encoder': {'conv_input_channel': 1, 'conv_output_channel': 16, 'block1_output_channel': 321, 'block1_num_layer': 1, 'block2_output_channel': 64, 'block2_num_layer': 1, 'block3_output_channel': 128, 'block3_num_layer': 1, 'flatten_size': 6272, 'num_features': 10}, 'decoder': 'None', 'drn': {'num_bins': 10, 'hidden_q': 10, 'num_layers': 2, 'num_nodes': 9, 'output_bins': 4, 'output_nodes': 3}, 'ucc_classifier': {'dropout_rate': 0.0, 'num_classes': 4}, 'loss': {'alpha': 1}}, 'experiments': {'num_channels': 1, 'input_shape': [28, 28, 1], 'kde_model': {'num_bins': 11, 'sigma': 0.1}, 'encoder': {'conv_input_channel': 1, 'conv_output_channel': 16, 'block1_output_channel': 321, 'block1_num_layer': 1, 'block2_output_channel': 64, 'block2_num_layer': 1, 'block3_output_channel': 128, 'block3_num_layer': 1, 'flatten_size': 6272, 'num_features': 10}, 'decoder': 'None', 'drn': {'num_bins': 11, 'hidden_q': 100, 'num_layers': 1, 'num_nodes': 10, 'output_bins': 4, 'output_nodes': 3}, 'ucc_classifier': {'dropout_rate': 0.0, 'num_classes': 4}, 'loss': {'alpha': 1}}}\n",
      "(10, 10)\n",
      "(10, 10)\n",
      "(4, 10)\n",
      "x_train shape: torch.Size([50000, 1, 28, 28])\n",
      "50000 train samples\n",
      "10000 val samples\n",
      "x_train shape: torch.Size([50000, 1, 28, 28])\n",
      "50000 train samples\n",
      "10000 val samples\n",
      "{'args': {'dataset': 'mnist', 'model_dir': 'saved_models/', 'model_name': 'mnist_ucc_drn', 'num_instances': 32, 'ucc_start': 1, 'ucc_end': 4, 'batch_size': 20, 'num_samples_per_class': 5, 'num_workers': 4, 'learning_rate': 0.04337806086855247, 'num_bins': 10, 'num_features': 10, 'train_num_steps': 100000, 'val_num_steps': 200, 'save_interval': 1000, 'seed': 22}, 'model': {'num_channels': 1, 'input_shape': [28, 28, 1], 'kde_model': {'num_bins': 10, 'sigma': 0.1}, 'encoder': {'conv_input_channel': 1, 'conv_output_channel': 16, 'block1_output_channel': 321, 'block1_num_layer': 1, 'block2_output_channel': 64, 'block2_num_layer': 1, 'block3_output_channel': 128, 'block3_num_layer': 1, 'flatten_size': 6272, 'num_features': 10}, 'decoder': 'None', 'drn': {'num_bins': 10, 'hidden_q': 10, 'num_layers': 2, 'num_nodes': 9, 'output_bins': 4, 'output_nodes': 3}, 'ucc_classifier': {'dropout_rate': 0.0, 'num_classes': 4}, 'loss': {'alpha': 1}}, 'experiments': {'num_channels': 1, 'input_shape': [28, 28, 1], 'kde_model': {'num_bins': 11, 'sigma': 0.1}, 'encoder': {'conv_input_channel': 1, 'conv_output_channel': 16, 'block1_output_channel': 321, 'block1_num_layer': 1, 'block2_output_channel': 64, 'block2_num_layer': 1, 'block3_output_channel': 128, 'block3_num_layer': 1, 'flatten_size': 6272, 'num_features': 10}, 'decoder': 'None', 'drn': {'num_bins': 11, 'hidden_q': 100, 'num_layers': 1, 'num_nodes': 10, 'output_bins': 4, 'output_nodes': 3}, 'ucc_classifier': {'dropout_rate': 0.0, 'num_classes': 4}, 'loss': {'alpha': 1}}}\n"
     ]
    },
    {
     "name": "stderr",
     "output_type": "stream",
     "text": [
      "2025/04/13 21:42:20 WARNING mlflow.utils.requirements_utils: Found torch version (2.5.1+cu124) contains a local version label (+cu124). MLflow logged a pip requirement for this package as 'torch==2.5.1' without the local version label to make it installable from PyPI. To specify pip requirements containing local version labels, please use `conda_env` or `pip_requirements`.\n"
     ]
    },
    {
     "name": "stdout",
     "output_type": "stream",
     "text": [
      "step: 1000, eval loss: 2.487795352935791, eval acc: 0.25\n"
     ]
    },
    {
     "name": "stderr",
     "output_type": "stream",
     "text": [
      "2025/04/13 21:42:26 WARNING mlflow.utils.requirements_utils: Found torch version (2.5.1+cu124) contains a local version label (+cu124). MLflow logged a pip requirement for this package as 'torch==2.5.1' without the local version label to make it installable from PyPI. To specify pip requirements containing local version labels, please use `conda_env` or `pip_requirements`.\n",
      "2025/04/13 21:42:26 WARNING mlflow.models.model: Model logged without a signature and input example. Please set `input_example` parameter when logging the model to auto infer the model signature.\n"
     ]
    },
    {
     "name": "stdout",
     "output_type": "stream",
     "text": [
      "step: 2000, eval loss: 2.4851222038269043, eval acc: 0.25\n"
     ]
    },
    {
     "name": "stderr",
     "output_type": "stream",
     "text": []
    },
    {
     "name": "stdout",
     "output_type": "stream",
     "text": [
      "step: 3000, eval loss: 2.486013412475586, eval acc: 0.25\n"
     ]
    },
    {
     "name": "stderr",
     "output_type": "stream",
     "text": [
      "  3%|▎         | 2999/100000 [11:55<6:25:35,  4.19it/s]\n",
      " 40%|████      | 40/100 [8:17:11<12:08:19, 728.32s/it]"
     ]
    },
    {
     "name": "stdout",
     "output_type": "stream",
     "text": [
      "Training finished!!!\n",
      "[W 2025-04-13 21:50:12,538] Trial 39 failed with parameters: {'lr': 0.04337806086855247} because of the following error: The value None could not be cast to float..\n",
      "[W 2025-04-13 21:50:12,541] Trial 39 failed with value None.\n",
      "{'args': {'dataset': 'mnist', 'model_dir': 'saved_models/', 'model_name': 'mnist_ucc_drn', 'num_instances': 32, 'ucc_start': 1, 'ucc_end': 4, 'batch_size': 20, 'num_samples_per_class': 5, 'num_workers': 4, 'learning_rate': 0.043377064328686425, 'num_bins': 10, 'num_features': 10, 'train_num_steps': 100000, 'val_num_steps': 200, 'save_interval': 1000, 'seed': 22}, 'model': {'num_channels': 1, 'input_shape': [28, 28, 1], 'kde_model': {'num_bins': 10, 'sigma': 0.1}, 'encoder': {'conv_input_channel': 1, 'conv_output_channel': 16, 'block1_output_channel': 321, 'block1_num_layer': 1, 'block2_output_channel': 64, 'block2_num_layer': 1, 'block3_output_channel': 128, 'block3_num_layer': 1, 'flatten_size': 6272, 'num_features': 10}, 'decoder': 'None', 'drn': {'num_bins': 10, 'hidden_q': 10, 'num_layers': 2, 'num_nodes': 9, 'output_bins': 4, 'output_nodes': 3}, 'ucc_classifier': {'dropout_rate': 0.0, 'num_classes': 4}, 'loss': {'alpha': 1}}, 'experiments': {'num_channels': 1, 'input_shape': [28, 28, 1], 'kde_model': {'num_bins': 11, 'sigma': 0.1}, 'encoder': {'conv_input_channel': 1, 'conv_output_channel': 16, 'block1_output_channel': 321, 'block1_num_layer': 1, 'block2_output_channel': 64, 'block2_num_layer': 1, 'block3_output_channel': 128, 'block3_num_layer': 1, 'flatten_size': 6272, 'num_features': 10}, 'decoder': 'None', 'drn': {'num_bins': 11, 'hidden_q': 100, 'num_layers': 1, 'num_nodes': 10, 'output_bins': 4, 'output_nodes': 3}, 'ucc_classifier': {'dropout_rate': 0.0, 'num_classes': 4}, 'loss': {'alpha': 1}}}\n",
      "(10, 10)\n",
      "(10, 10)\n",
      "(4, 10)\n",
      "x_train shape: torch.Size([50000, 1, 28, 28])\n",
      "50000 train samples\n",
      "10000 val samples\n",
      "x_train shape: torch.Size([50000, 1, 28, 28])\n",
      "50000 train samples\n",
      "10000 val samples\n",
      "{'args': {'dataset': 'mnist', 'model_dir': 'saved_models/', 'model_name': 'mnist_ucc_drn', 'num_instances': 32, 'ucc_start': 1, 'ucc_end': 4, 'batch_size': 20, 'num_samples_per_class': 5, 'num_workers': 4, 'learning_rate': 0.043377064328686425, 'num_bins': 10, 'num_features': 10, 'train_num_steps': 100000, 'val_num_steps': 200, 'save_interval': 1000, 'seed': 22}, 'model': {'num_channels': 1, 'input_shape': [28, 28, 1], 'kde_model': {'num_bins': 10, 'sigma': 0.1}, 'encoder': {'conv_input_channel': 1, 'conv_output_channel': 16, 'block1_output_channel': 321, 'block1_num_layer': 1, 'block2_output_channel': 64, 'block2_num_layer': 1, 'block3_output_channel': 128, 'block3_num_layer': 1, 'flatten_size': 6272, 'num_features': 10}, 'decoder': 'None', 'drn': {'num_bins': 10, 'hidden_q': 10, 'num_layers': 2, 'num_nodes': 9, 'output_bins': 4, 'output_nodes': 3}, 'ucc_classifier': {'dropout_rate': 0.0, 'num_classes': 4}, 'loss': {'alpha': 1}}, 'experiments': {'num_channels': 1, 'input_shape': [28, 28, 1], 'kde_model': {'num_bins': 11, 'sigma': 0.1}, 'encoder': {'conv_input_channel': 1, 'conv_output_channel': 16, 'block1_output_channel': 321, 'block1_num_layer': 1, 'block2_output_channel': 64, 'block2_num_layer': 1, 'block3_output_channel': 128, 'block3_num_layer': 1, 'flatten_size': 6272, 'num_features': 10}, 'decoder': 'None', 'drn': {'num_bins': 11, 'hidden_q': 100, 'num_layers': 1, 'num_nodes': 10, 'output_bins': 4, 'output_nodes': 3}, 'ucc_classifier': {'dropout_rate': 0.0, 'num_classes': 4}, 'loss': {'alpha': 1}}}\n"
     ]
    },
    {
     "name": "stderr",
     "output_type": "stream",
     "text": [
      "2025/04/13 21:54:15 WARNING mlflow.utils.requirements_utils: Found torch version (2.5.1+cu124) contains a local version label (+cu124). MLflow logged a pip requirement for this package as 'torch==2.5.1' without the local version label to make it installable from PyPI. To specify pip requirements containing local version labels, please use `conda_env` or `pip_requirements`.\n"
     ]
    },
    {
     "name": "stdout",
     "output_type": "stream",
     "text": [
      "step: 1000, eval loss: 2.4900777339935303, eval acc: 0.25\n"
     ]
    },
    {
     "name": "stderr",
     "output_type": "stream",
     "text": [
      "2025/04/13 21:54:20 WARNING mlflow.utils.requirements_utils: Found torch version (2.5.1+cu124) contains a local version label (+cu124). MLflow logged a pip requirement for this package as 'torch==2.5.1' without the local version label to make it installable from PyPI. To specify pip requirements containing local version labels, please use `conda_env` or `pip_requirements`.\n",
      "2025/04/13 21:54:20 WARNING mlflow.models.model: Model logged without a signature and input example. Please set `input_example` parameter when logging the model to auto infer the model signature.\n"
     ]
    },
    {
     "name": "stdout",
     "output_type": "stream",
     "text": [
      "step: 2000, eval loss: 2.4861631393432617, eval acc: 0.25\n"
     ]
    },
    {
     "name": "stderr",
     "output_type": "stream",
     "text": []
    },
    {
     "name": "stdout",
     "output_type": "stream",
     "text": [
      "step: 3000, eval loss: 2.484971046447754, eval acc: 0.25\n"
     ]
    },
    {
     "name": "stderr",
     "output_type": "stream",
     "text": [
      "  3%|▎         | 2999/100000 [12:09<6:33:04,  4.11it/s]\n",
      " 41%|████      | 41/100 [8:29:21<11:56:40, 728.82s/it]"
     ]
    },
    {
     "name": "stdout",
     "output_type": "stream",
     "text": [
      "Training finished!!!\n",
      "[W 2025-04-13 22:02:22,538] Trial 40 failed with parameters: {'lr': 0.043377064328686425} because of the following error: The value None could not be cast to float..\n",
      "[W 2025-04-13 22:02:22,541] Trial 40 failed with value None.\n",
      "{'args': {'dataset': 'mnist', 'model_dir': 'saved_models/', 'model_name': 'mnist_ucc_drn', 'num_instances': 32, 'ucc_start': 1, 'ucc_end': 4, 'batch_size': 20, 'num_samples_per_class': 5, 'num_workers': 4, 'learning_rate': 0.025623013450860332, 'num_bins': 10, 'num_features': 10, 'train_num_steps': 100000, 'val_num_steps': 200, 'save_interval': 1000, 'seed': 22}, 'model': {'num_channels': 1, 'input_shape': [28, 28, 1], 'kde_model': {'num_bins': 10, 'sigma': 0.1}, 'encoder': {'conv_input_channel': 1, 'conv_output_channel': 16, 'block1_output_channel': 321, 'block1_num_layer': 1, 'block2_output_channel': 64, 'block2_num_layer': 1, 'block3_output_channel': 128, 'block3_num_layer': 1, 'flatten_size': 6272, 'num_features': 10}, 'decoder': 'None', 'drn': {'num_bins': 10, 'hidden_q': 10, 'num_layers': 2, 'num_nodes': 9, 'output_bins': 4, 'output_nodes': 3}, 'ucc_classifier': {'dropout_rate': 0.0, 'num_classes': 4}, 'loss': {'alpha': 1}}, 'experiments': {'num_channels': 1, 'input_shape': [28, 28, 1], 'kde_model': {'num_bins': 11, 'sigma': 0.1}, 'encoder': {'conv_input_channel': 1, 'conv_output_channel': 16, 'block1_output_channel': 321, 'block1_num_layer': 1, 'block2_output_channel': 64, 'block2_num_layer': 1, 'block3_output_channel': 128, 'block3_num_layer': 1, 'flatten_size': 6272, 'num_features': 10}, 'decoder': 'None', 'drn': {'num_bins': 11, 'hidden_q': 100, 'num_layers': 1, 'num_nodes': 10, 'output_bins': 4, 'output_nodes': 3}, 'ucc_classifier': {'dropout_rate': 0.0, 'num_classes': 4}, 'loss': {'alpha': 1}}}\n",
      "(10, 10)\n",
      "(10, 10)\n",
      "(4, 10)\n",
      "x_train shape: torch.Size([50000, 1, 28, 28])\n",
      "50000 train samples\n",
      "10000 val samples\n",
      "x_train shape: torch.Size([50000, 1, 28, 28])\n",
      "50000 train samples\n",
      "10000 val samples\n",
      "{'args': {'dataset': 'mnist', 'model_dir': 'saved_models/', 'model_name': 'mnist_ucc_drn', 'num_instances': 32, 'ucc_start': 1, 'ucc_end': 4, 'batch_size': 20, 'num_samples_per_class': 5, 'num_workers': 4, 'learning_rate': 0.025623013450860332, 'num_bins': 10, 'num_features': 10, 'train_num_steps': 100000, 'val_num_steps': 200, 'save_interval': 1000, 'seed': 22}, 'model': {'num_channels': 1, 'input_shape': [28, 28, 1], 'kde_model': {'num_bins': 10, 'sigma': 0.1}, 'encoder': {'conv_input_channel': 1, 'conv_output_channel': 16, 'block1_output_channel': 321, 'block1_num_layer': 1, 'block2_output_channel': 64, 'block2_num_layer': 1, 'block3_output_channel': 128, 'block3_num_layer': 1, 'flatten_size': 6272, 'num_features': 10}, 'decoder': 'None', 'drn': {'num_bins': 10, 'hidden_q': 10, 'num_layers': 2, 'num_nodes': 9, 'output_bins': 4, 'output_nodes': 3}, 'ucc_classifier': {'dropout_rate': 0.0, 'num_classes': 4}, 'loss': {'alpha': 1}}, 'experiments': {'num_channels': 1, 'input_shape': [28, 28, 1], 'kde_model': {'num_bins': 11, 'sigma': 0.1}, 'encoder': {'conv_input_channel': 1, 'conv_output_channel': 16, 'block1_output_channel': 321, 'block1_num_layer': 1, 'block2_output_channel': 64, 'block2_num_layer': 1, 'block3_output_channel': 128, 'block3_num_layer': 1, 'flatten_size': 6272, 'num_features': 10}, 'decoder': 'None', 'drn': {'num_bins': 11, 'hidden_q': 100, 'num_layers': 1, 'num_nodes': 10, 'output_bins': 4, 'output_nodes': 3}, 'ucc_classifier': {'dropout_rate': 0.0, 'num_classes': 4}, 'loss': {'alpha': 1}}}\n"
     ]
    },
    {
     "name": "stderr",
     "output_type": "stream",
     "text": [
      "2025/04/13 22:06:33 WARNING mlflow.utils.requirements_utils: Found torch version (2.5.1+cu124) contains a local version label (+cu124). MLflow logged a pip requirement for this package as 'torch==2.5.1' without the local version label to make it installable from PyPI. To specify pip requirements containing local version labels, please use `conda_env` or `pip_requirements`.\n"
     ]
    },
    {
     "name": "stdout",
     "output_type": "stream",
     "text": [
      "step: 1000, eval loss: 2.4871513843536377, eval acc: 0.25\n"
     ]
    },
    {
     "name": "stderr",
     "output_type": "stream",
     "text": [
      "2025/04/13 22:06:45 WARNING mlflow.utils.requirements_utils: Found torch version (2.5.1+cu124) contains a local version label (+cu124). MLflow logged a pip requirement for this package as 'torch==2.5.1' without the local version label to make it installable from PyPI. To specify pip requirements containing local version labels, please use `conda_env` or `pip_requirements`.\n",
      "2025/04/13 22:06:45 WARNING mlflow.models.model: Model logged without a signature and input example. Please set `input_example` parameter when logging the model to auto infer the model signature.\n"
     ]
    },
    {
     "name": "stdout",
     "output_type": "stream",
     "text": [
      "step: 2000, eval loss: 2.485407829284668, eval acc: 0.25\n"
     ]
    },
    {
     "name": "stderr",
     "output_type": "stream",
     "text": []
    },
    {
     "name": "stdout",
     "output_type": "stream",
     "text": [
      "step: 3000, eval loss: 2.487239360809326, eval acc: 0.25\n"
     ]
    },
    {
     "name": "stderr",
     "output_type": "stream",
     "text": [
      "  3%|▎         | 2999/100000 [12:13<6:35:25,  4.09it/s]\n",
      " 42%|████▏     | 42/100 [8:41:36<11:46:09, 730.51s/it]"
     ]
    },
    {
     "name": "stdout",
     "output_type": "stream",
     "text": [
      "Training finished!!!\n",
      "[W 2025-04-13 22:14:36,973] Trial 41 failed with parameters: {'lr': 0.025623013450860332} because of the following error: The value None could not be cast to float..\n",
      "[W 2025-04-13 22:14:36,975] Trial 41 failed with value None.\n",
      "{'args': {'dataset': 'mnist', 'model_dir': 'saved_models/', 'model_name': 'mnist_ucc_drn', 'num_instances': 32, 'ucc_start': 1, 'ucc_end': 4, 'batch_size': 20, 'num_samples_per_class': 5, 'num_workers': 4, 'learning_rate': 0.06898988622754942, 'num_bins': 10, 'num_features': 10, 'train_num_steps': 100000, 'val_num_steps': 200, 'save_interval': 1000, 'seed': 22}, 'model': {'num_channels': 1, 'input_shape': [28, 28, 1], 'kde_model': {'num_bins': 10, 'sigma': 0.1}, 'encoder': {'conv_input_channel': 1, 'conv_output_channel': 16, 'block1_output_channel': 321, 'block1_num_layer': 1, 'block2_output_channel': 64, 'block2_num_layer': 1, 'block3_output_channel': 128, 'block3_num_layer': 1, 'flatten_size': 6272, 'num_features': 10}, 'decoder': 'None', 'drn': {'num_bins': 10, 'hidden_q': 10, 'num_layers': 2, 'num_nodes': 9, 'output_bins': 4, 'output_nodes': 3}, 'ucc_classifier': {'dropout_rate': 0.0, 'num_classes': 4}, 'loss': {'alpha': 1}}, 'experiments': {'num_channels': 1, 'input_shape': [28, 28, 1], 'kde_model': {'num_bins': 11, 'sigma': 0.1}, 'encoder': {'conv_input_channel': 1, 'conv_output_channel': 16, 'block1_output_channel': 321, 'block1_num_layer': 1, 'block2_output_channel': 64, 'block2_num_layer': 1, 'block3_output_channel': 128, 'block3_num_layer': 1, 'flatten_size': 6272, 'num_features': 10}, 'decoder': 'None', 'drn': {'num_bins': 11, 'hidden_q': 100, 'num_layers': 1, 'num_nodes': 10, 'output_bins': 4, 'output_nodes': 3}, 'ucc_classifier': {'dropout_rate': 0.0, 'num_classes': 4}, 'loss': {'alpha': 1}}}\n",
      "(10, 10)\n",
      "(10, 10)\n",
      "(4, 10)\n",
      "x_train shape: torch.Size([50000, 1, 28, 28])\n",
      "50000 train samples\n",
      "10000 val samples\n",
      "x_train shape: torch.Size([50000, 1, 28, 28])\n",
      "50000 train samples\n",
      "10000 val samples\n",
      "{'args': {'dataset': 'mnist', 'model_dir': 'saved_models/', 'model_name': 'mnist_ucc_drn', 'num_instances': 32, 'ucc_start': 1, 'ucc_end': 4, 'batch_size': 20, 'num_samples_per_class': 5, 'num_workers': 4, 'learning_rate': 0.06898988622754942, 'num_bins': 10, 'num_features': 10, 'train_num_steps': 100000, 'val_num_steps': 200, 'save_interval': 1000, 'seed': 22}, 'model': {'num_channels': 1, 'input_shape': [28, 28, 1], 'kde_model': {'num_bins': 10, 'sigma': 0.1}, 'encoder': {'conv_input_channel': 1, 'conv_output_channel': 16, 'block1_output_channel': 321, 'block1_num_layer': 1, 'block2_output_channel': 64, 'block2_num_layer': 1, 'block3_output_channel': 128, 'block3_num_layer': 1, 'flatten_size': 6272, 'num_features': 10}, 'decoder': 'None', 'drn': {'num_bins': 10, 'hidden_q': 10, 'num_layers': 2, 'num_nodes': 9, 'output_bins': 4, 'output_nodes': 3}, 'ucc_classifier': {'dropout_rate': 0.0, 'num_classes': 4}, 'loss': {'alpha': 1}}, 'experiments': {'num_channels': 1, 'input_shape': [28, 28, 1], 'kde_model': {'num_bins': 11, 'sigma': 0.1}, 'encoder': {'conv_input_channel': 1, 'conv_output_channel': 16, 'block1_output_channel': 321, 'block1_num_layer': 1, 'block2_output_channel': 64, 'block2_num_layer': 1, 'block3_output_channel': 128, 'block3_num_layer': 1, 'flatten_size': 6272, 'num_features': 10}, 'decoder': 'None', 'drn': {'num_bins': 11, 'hidden_q': 100, 'num_layers': 1, 'num_nodes': 10, 'output_bins': 4, 'output_nodes': 3}, 'ucc_classifier': {'dropout_rate': 0.0, 'num_classes': 4}, 'loss': {'alpha': 1}}}\n"
     ]
    },
    {
     "name": "stderr",
     "output_type": "stream",
     "text": [
      "2025/04/13 22:18:41 WARNING mlflow.utils.requirements_utils: Found torch version (2.5.1+cu124) contains a local version label (+cu124). MLflow logged a pip requirement for this package as 'torch==2.5.1' without the local version label to make it installable from PyPI. To specify pip requirements containing local version labels, please use `conda_env` or `pip_requirements`.\n"
     ]
    },
    {
     "name": "stdout",
     "output_type": "stream",
     "text": [
      "step: 1000, eval loss: 2.4861273765563965, eval acc: 0.25\n"
     ]
    },
    {
     "name": "stderr",
     "output_type": "stream",
     "text": [
      "2025/04/13 22:18:46 WARNING mlflow.utils.requirements_utils: Found torch version (2.5.1+cu124) contains a local version label (+cu124). MLflow logged a pip requirement for this package as 'torch==2.5.1' without the local version label to make it installable from PyPI. To specify pip requirements containing local version labels, please use `conda_env` or `pip_requirements`.\n",
      "2025/04/13 22:18:46 WARNING mlflow.models.model: Model logged without a signature and input example. Please set `input_example` parameter when logging the model to auto infer the model signature.\n"
     ]
    },
    {
     "name": "stdout",
     "output_type": "stream",
     "text": [
      "step: 2000, eval loss: 2.490623712539673, eval acc: 0.25\n"
     ]
    },
    {
     "name": "stderr",
     "output_type": "stream",
     "text": []
    },
    {
     "name": "stdout",
     "output_type": "stream",
     "text": [
      "step: 3000, eval loss: 2.4856374263763428, eval acc: 0.25\n"
     ]
    },
    {
     "name": "stderr",
     "output_type": "stream",
     "text": [
      "  3%|▎         | 2999/100000 [12:05<6:30:59,  4.13it/s]\n",
      " 43%|████▎     | 43/100 [8:53:42<11:32:44, 729.20s/it]"
     ]
    },
    {
     "name": "stdout",
     "output_type": "stream",
     "text": [
      "Training finished!!!\n",
      "[W 2025-04-13 22:26:43,122] Trial 42 failed with parameters: {'lr': 0.06898988622754942} because of the following error: The value None could not be cast to float..\n",
      "[W 2025-04-13 22:26:43,125] Trial 42 failed with value None.\n",
      "{'args': {'dataset': 'mnist', 'model_dir': 'saved_models/', 'model_name': 'mnist_ucc_drn', 'num_instances': 32, 'ucc_start': 1, 'ucc_end': 4, 'batch_size': 20, 'num_samples_per_class': 5, 'num_workers': 4, 'learning_rate': 0.03901772957736874, 'num_bins': 10, 'num_features': 10, 'train_num_steps': 100000, 'val_num_steps': 200, 'save_interval': 1000, 'seed': 22}, 'model': {'num_channels': 1, 'input_shape': [28, 28, 1], 'kde_model': {'num_bins': 10, 'sigma': 0.1}, 'encoder': {'conv_input_channel': 1, 'conv_output_channel': 16, 'block1_output_channel': 321, 'block1_num_layer': 1, 'block2_output_channel': 64, 'block2_num_layer': 1, 'block3_output_channel': 128, 'block3_num_layer': 1, 'flatten_size': 6272, 'num_features': 10}, 'decoder': 'None', 'drn': {'num_bins': 10, 'hidden_q': 10, 'num_layers': 2, 'num_nodes': 9, 'output_bins': 4, 'output_nodes': 3}, 'ucc_classifier': {'dropout_rate': 0.0, 'num_classes': 4}, 'loss': {'alpha': 1}}, 'experiments': {'num_channels': 1, 'input_shape': [28, 28, 1], 'kde_model': {'num_bins': 11, 'sigma': 0.1}, 'encoder': {'conv_input_channel': 1, 'conv_output_channel': 16, 'block1_output_channel': 321, 'block1_num_layer': 1, 'block2_output_channel': 64, 'block2_num_layer': 1, 'block3_output_channel': 128, 'block3_num_layer': 1, 'flatten_size': 6272, 'num_features': 10}, 'decoder': 'None', 'drn': {'num_bins': 11, 'hidden_q': 100, 'num_layers': 1, 'num_nodes': 10, 'output_bins': 4, 'output_nodes': 3}, 'ucc_classifier': {'dropout_rate': 0.0, 'num_classes': 4}, 'loss': {'alpha': 1}}}\n",
      "(10, 10)\n",
      "(10, 10)\n",
      "(4, 10)\n",
      "x_train shape: torch.Size([50000, 1, 28, 28])\n",
      "50000 train samples\n",
      "10000 val samples\n",
      "x_train shape: torch.Size([50000, 1, 28, 28])\n",
      "50000 train samples\n",
      "10000 val samples\n",
      "{'args': {'dataset': 'mnist', 'model_dir': 'saved_models/', 'model_name': 'mnist_ucc_drn', 'num_instances': 32, 'ucc_start': 1, 'ucc_end': 4, 'batch_size': 20, 'num_samples_per_class': 5, 'num_workers': 4, 'learning_rate': 0.03901772957736874, 'num_bins': 10, 'num_features': 10, 'train_num_steps': 100000, 'val_num_steps': 200, 'save_interval': 1000, 'seed': 22}, 'model': {'num_channels': 1, 'input_shape': [28, 28, 1], 'kde_model': {'num_bins': 10, 'sigma': 0.1}, 'encoder': {'conv_input_channel': 1, 'conv_output_channel': 16, 'block1_output_channel': 321, 'block1_num_layer': 1, 'block2_output_channel': 64, 'block2_num_layer': 1, 'block3_output_channel': 128, 'block3_num_layer': 1, 'flatten_size': 6272, 'num_features': 10}, 'decoder': 'None', 'drn': {'num_bins': 10, 'hidden_q': 10, 'num_layers': 2, 'num_nodes': 9, 'output_bins': 4, 'output_nodes': 3}, 'ucc_classifier': {'dropout_rate': 0.0, 'num_classes': 4}, 'loss': {'alpha': 1}}, 'experiments': {'num_channels': 1, 'input_shape': [28, 28, 1], 'kde_model': {'num_bins': 11, 'sigma': 0.1}, 'encoder': {'conv_input_channel': 1, 'conv_output_channel': 16, 'block1_output_channel': 321, 'block1_num_layer': 1, 'block2_output_channel': 64, 'block2_num_layer': 1, 'block3_output_channel': 128, 'block3_num_layer': 1, 'flatten_size': 6272, 'num_features': 10}, 'decoder': 'None', 'drn': {'num_bins': 11, 'hidden_q': 100, 'num_layers': 1, 'num_nodes': 10, 'output_bins': 4, 'output_nodes': 3}, 'ucc_classifier': {'dropout_rate': 0.0, 'num_classes': 4}, 'loss': {'alpha': 1}}}\n"
     ]
    },
    {
     "name": "stderr",
     "output_type": "stream",
     "text": [
      "2025/04/13 22:31:10 WARNING mlflow.utils.requirements_utils: Found torch version (2.5.1+cu124) contains a local version label (+cu124). MLflow logged a pip requirement for this package as 'torch==2.5.1' without the local version label to make it installable from PyPI. To specify pip requirements containing local version labels, please use `conda_env` or `pip_requirements`.\n"
     ]
    },
    {
     "name": "stdout",
     "output_type": "stream",
     "text": [
      "step: 1000, eval loss: 2.491302013397217, eval acc: 0.25\n"
     ]
    },
    {
     "name": "stderr",
     "output_type": "stream",
     "text": [
      "2025/04/13 22:31:16 WARNING mlflow.utils.requirements_utils: Found torch version (2.5.1+cu124) contains a local version label (+cu124). MLflow logged a pip requirement for this package as 'torch==2.5.1' without the local version label to make it installable from PyPI. To specify pip requirements containing local version labels, please use `conda_env` or `pip_requirements`.\n",
      "2025/04/13 22:31:16 WARNING mlflow.models.model: Model logged without a signature and input example. Please set `input_example` parameter when logging the model to auto infer the model signature.\n"
     ]
    },
    {
     "name": "stdout",
     "output_type": "stream",
     "text": [
      "step: 2000, eval loss: 2.484947681427002, eval acc: 0.25\n"
     ]
    },
    {
     "name": "stderr",
     "output_type": "stream",
     "text": []
    },
    {
     "name": "stdout",
     "output_type": "stream",
     "text": [
      "step: 3000, eval loss: 2.486772060394287, eval acc: 0.25\n"
     ]
    },
    {
     "name": "stderr",
     "output_type": "stream",
     "text": [
      "  3%|▎         | 2999/100000 [13:30<7:17:02,  3.70it/s]\n",
      " 44%|████▍     | 44/100 [9:07:14<11:43:41, 753.95s/it]"
     ]
    },
    {
     "name": "stdout",
     "output_type": "stream",
     "text": [
      "Training finished!!!\n",
      "[W 2025-04-13 22:40:14,822] Trial 43 failed with parameters: {'lr': 0.03901772957736874} because of the following error: The value None could not be cast to float..\n",
      "[W 2025-04-13 22:40:14,828] Trial 43 failed with value None.\n",
      "{'args': {'dataset': 'mnist', 'model_dir': 'saved_models/', 'model_name': 'mnist_ucc_drn', 'num_instances': 32, 'ucc_start': 1, 'ucc_end': 4, 'batch_size': 20, 'num_samples_per_class': 5, 'num_workers': 4, 'learning_rate': 0.0423088754984207, 'num_bins': 10, 'num_features': 10, 'train_num_steps': 100000, 'val_num_steps': 200, 'save_interval': 1000, 'seed': 22}, 'model': {'num_channels': 1, 'input_shape': [28, 28, 1], 'kde_model': {'num_bins': 10, 'sigma': 0.1}, 'encoder': {'conv_input_channel': 1, 'conv_output_channel': 16, 'block1_output_channel': 321, 'block1_num_layer': 1, 'block2_output_channel': 64, 'block2_num_layer': 1, 'block3_output_channel': 128, 'block3_num_layer': 1, 'flatten_size': 6272, 'num_features': 10}, 'decoder': 'None', 'drn': {'num_bins': 10, 'hidden_q': 10, 'num_layers': 2, 'num_nodes': 9, 'output_bins': 4, 'output_nodes': 3}, 'ucc_classifier': {'dropout_rate': 0.0, 'num_classes': 4}, 'loss': {'alpha': 1}}, 'experiments': {'num_channels': 1, 'input_shape': [28, 28, 1], 'kde_model': {'num_bins': 11, 'sigma': 0.1}, 'encoder': {'conv_input_channel': 1, 'conv_output_channel': 16, 'block1_output_channel': 321, 'block1_num_layer': 1, 'block2_output_channel': 64, 'block2_num_layer': 1, 'block3_output_channel': 128, 'block3_num_layer': 1, 'flatten_size': 6272, 'num_features': 10}, 'decoder': 'None', 'drn': {'num_bins': 11, 'hidden_q': 100, 'num_layers': 1, 'num_nodes': 10, 'output_bins': 4, 'output_nodes': 3}, 'ucc_classifier': {'dropout_rate': 0.0, 'num_classes': 4}, 'loss': {'alpha': 1}}}\n",
      "(10, 10)\n",
      "(10, 10)\n",
      "(4, 10)\n",
      "x_train shape: torch.Size([50000, 1, 28, 28])\n",
      "50000 train samples\n",
      "10000 val samples\n",
      "x_train shape: torch.Size([50000, 1, 28, 28])\n",
      "50000 train samples\n",
      "10000 val samples\n",
      "{'args': {'dataset': 'mnist', 'model_dir': 'saved_models/', 'model_name': 'mnist_ucc_drn', 'num_instances': 32, 'ucc_start': 1, 'ucc_end': 4, 'batch_size': 20, 'num_samples_per_class': 5, 'num_workers': 4, 'learning_rate': 0.0423088754984207, 'num_bins': 10, 'num_features': 10, 'train_num_steps': 100000, 'val_num_steps': 200, 'save_interval': 1000, 'seed': 22}, 'model': {'num_channels': 1, 'input_shape': [28, 28, 1], 'kde_model': {'num_bins': 10, 'sigma': 0.1}, 'encoder': {'conv_input_channel': 1, 'conv_output_channel': 16, 'block1_output_channel': 321, 'block1_num_layer': 1, 'block2_output_channel': 64, 'block2_num_layer': 1, 'block3_output_channel': 128, 'block3_num_layer': 1, 'flatten_size': 6272, 'num_features': 10}, 'decoder': 'None', 'drn': {'num_bins': 10, 'hidden_q': 10, 'num_layers': 2, 'num_nodes': 9, 'output_bins': 4, 'output_nodes': 3}, 'ucc_classifier': {'dropout_rate': 0.0, 'num_classes': 4}, 'loss': {'alpha': 1}}, 'experiments': {'num_channels': 1, 'input_shape': [28, 28, 1], 'kde_model': {'num_bins': 11, 'sigma': 0.1}, 'encoder': {'conv_input_channel': 1, 'conv_output_channel': 16, 'block1_output_channel': 321, 'block1_num_layer': 1, 'block2_output_channel': 64, 'block2_num_layer': 1, 'block3_output_channel': 128, 'block3_num_layer': 1, 'flatten_size': 6272, 'num_features': 10}, 'decoder': 'None', 'drn': {'num_bins': 11, 'hidden_q': 100, 'num_layers': 1, 'num_nodes': 10, 'output_bins': 4, 'output_nodes': 3}, 'ucc_classifier': {'dropout_rate': 0.0, 'num_classes': 4}, 'loss': {'alpha': 1}}}\n"
     ]
    },
    {
     "name": "stderr",
     "output_type": "stream",
     "text": []
    },
    {
     "name": "stdout",
     "output_type": "stream",
     "text": [
      "step: 1000, eval loss: 2.4851455688476562, eval acc: 0.0\n"
     ]
    },
    {
     "name": "stderr",
     "output_type": "stream",
     "text": [
      "2025/04/13 22:49:19 WARNING mlflow.utils.requirements_utils: Found torch version (2.5.1+cu124) contains a local version label (+cu124). MLflow logged a pip requirement for this package as 'torch==2.5.1' without the local version label to make it installable from PyPI. To specify pip requirements containing local version labels, please use `conda_env` or `pip_requirements`.\n"
     ]
    },
    {
     "name": "stdout",
     "output_type": "stream",
     "text": [
      "step: 2000, eval loss: 2.484933376312256, eval acc: 0.25\n"
     ]
    },
    {
     "name": "stderr",
     "output_type": "stream",
     "text": [
      "2025/04/13 22:49:25 WARNING mlflow.utils.requirements_utils: Found torch version (2.5.1+cu124) contains a local version label (+cu124). MLflow logged a pip requirement for this package as 'torch==2.5.1' without the local version label to make it installable from PyPI. To specify pip requirements containing local version labels, please use `conda_env` or `pip_requirements`.\n",
      "2025/04/13 22:49:25 WARNING mlflow.models.model: Model logged without a signature and input example. Please set `input_example` parameter when logging the model to auto infer the model signature.\n"
     ]
    },
    {
     "name": "stdout",
     "output_type": "stream",
     "text": [
      "step: 3000, eval loss: 2.4855477809906006, eval acc: 0.25\n"
     ]
    },
    {
     "name": "stderr",
     "output_type": "stream",
     "text": []
    },
    {
     "name": "stdout",
     "output_type": "stream",
     "text": [
      "step: 4000, eval loss: 2.487091302871704, eval acc: 0.25\n"
     ]
    },
    {
     "name": "stderr",
     "output_type": "stream",
     "text": [
      "  4%|▍         | 3999/100000 [18:03<7:13:41,  3.69it/s]\n",
      " 45%|████▌     | 45/100 [9:25:19<13:02:09, 853.27s/it]"
     ]
    },
    {
     "name": "stdout",
     "output_type": "stream",
     "text": [
      "Training finished!!!\n",
      "[W 2025-04-13 22:58:19,845] Trial 44 failed with parameters: {'lr': 0.0423088754984207} because of the following error: The value None could not be cast to float..\n",
      "[W 2025-04-13 22:58:19,849] Trial 44 failed with value None.\n",
      "{'args': {'dataset': 'mnist', 'model_dir': 'saved_models/', 'model_name': 'mnist_ucc_drn', 'num_instances': 32, 'ucc_start': 1, 'ucc_end': 4, 'batch_size': 20, 'num_samples_per_class': 5, 'num_workers': 4, 'learning_rate': 0.029806577775513796, 'num_bins': 10, 'num_features': 10, 'train_num_steps': 100000, 'val_num_steps': 200, 'save_interval': 1000, 'seed': 22}, 'model': {'num_channels': 1, 'input_shape': [28, 28, 1], 'kde_model': {'num_bins': 10, 'sigma': 0.1}, 'encoder': {'conv_input_channel': 1, 'conv_output_channel': 16, 'block1_output_channel': 321, 'block1_num_layer': 1, 'block2_output_channel': 64, 'block2_num_layer': 1, 'block3_output_channel': 128, 'block3_num_layer': 1, 'flatten_size': 6272, 'num_features': 10}, 'decoder': 'None', 'drn': {'num_bins': 10, 'hidden_q': 10, 'num_layers': 2, 'num_nodes': 9, 'output_bins': 4, 'output_nodes': 3}, 'ucc_classifier': {'dropout_rate': 0.0, 'num_classes': 4}, 'loss': {'alpha': 1}}, 'experiments': {'num_channels': 1, 'input_shape': [28, 28, 1], 'kde_model': {'num_bins': 11, 'sigma': 0.1}, 'encoder': {'conv_input_channel': 1, 'conv_output_channel': 16, 'block1_output_channel': 321, 'block1_num_layer': 1, 'block2_output_channel': 64, 'block2_num_layer': 1, 'block3_output_channel': 128, 'block3_num_layer': 1, 'flatten_size': 6272, 'num_features': 10}, 'decoder': 'None', 'drn': {'num_bins': 11, 'hidden_q': 100, 'num_layers': 1, 'num_nodes': 10, 'output_bins': 4, 'output_nodes': 3}, 'ucc_classifier': {'dropout_rate': 0.0, 'num_classes': 4}, 'loss': {'alpha': 1}}}\n",
      "(10, 10)\n",
      "(10, 10)\n",
      "(4, 10)\n",
      "x_train shape: torch.Size([50000, 1, 28, 28])\n",
      "50000 train samples\n",
      "10000 val samples\n",
      "x_train shape: torch.Size([50000, 1, 28, 28])\n",
      "50000 train samples\n",
      "10000 val samples\n",
      "{'args': {'dataset': 'mnist', 'model_dir': 'saved_models/', 'model_name': 'mnist_ucc_drn', 'num_instances': 32, 'ucc_start': 1, 'ucc_end': 4, 'batch_size': 20, 'num_samples_per_class': 5, 'num_workers': 4, 'learning_rate': 0.029806577775513796, 'num_bins': 10, 'num_features': 10, 'train_num_steps': 100000, 'val_num_steps': 200, 'save_interval': 1000, 'seed': 22}, 'model': {'num_channels': 1, 'input_shape': [28, 28, 1], 'kde_model': {'num_bins': 10, 'sigma': 0.1}, 'encoder': {'conv_input_channel': 1, 'conv_output_channel': 16, 'block1_output_channel': 321, 'block1_num_layer': 1, 'block2_output_channel': 64, 'block2_num_layer': 1, 'block3_output_channel': 128, 'block3_num_layer': 1, 'flatten_size': 6272, 'num_features': 10}, 'decoder': 'None', 'drn': {'num_bins': 10, 'hidden_q': 10, 'num_layers': 2, 'num_nodes': 9, 'output_bins': 4, 'output_nodes': 3}, 'ucc_classifier': {'dropout_rate': 0.0, 'num_classes': 4}, 'loss': {'alpha': 1}}, 'experiments': {'num_channels': 1, 'input_shape': [28, 28, 1], 'kde_model': {'num_bins': 11, 'sigma': 0.1}, 'encoder': {'conv_input_channel': 1, 'conv_output_channel': 16, 'block1_output_channel': 321, 'block1_num_layer': 1, 'block2_output_channel': 64, 'block2_num_layer': 1, 'block3_output_channel': 128, 'block3_num_layer': 1, 'flatten_size': 6272, 'num_features': 10}, 'decoder': 'None', 'drn': {'num_bins': 11, 'hidden_q': 100, 'num_layers': 1, 'num_nodes': 10, 'output_bins': 4, 'output_nodes': 3}, 'ucc_classifier': {'dropout_rate': 0.0, 'num_classes': 4}, 'loss': {'alpha': 1}}}\n"
     ]
    },
    {
     "name": "stderr",
     "output_type": "stream",
     "text": [
      "2025/04/13 23:02:43 WARNING mlflow.utils.requirements_utils: Found torch version (2.5.1+cu124) contains a local version label (+cu124). MLflow logged a pip requirement for this package as 'torch==2.5.1' without the local version label to make it installable from PyPI. To specify pip requirements containing local version labels, please use `conda_env` or `pip_requirements`.\n"
     ]
    },
    {
     "name": "stdout",
     "output_type": "stream",
     "text": [
      "step: 1000, eval loss: 2.4904022216796875, eval acc: 0.25\n"
     ]
    },
    {
     "name": "stderr",
     "output_type": "stream",
     "text": [
      "2025/04/13 23:02:48 WARNING mlflow.utils.requirements_utils: Found torch version (2.5.1+cu124) contains a local version label (+cu124). MLflow logged a pip requirement for this package as 'torch==2.5.1' without the local version label to make it installable from PyPI. To specify pip requirements containing local version labels, please use `conda_env` or `pip_requirements`.\n",
      "2025/04/13 23:02:48 WARNING mlflow.models.model: Model logged without a signature and input example. Please set `input_example` parameter when logging the model to auto infer the model signature.\n"
     ]
    },
    {
     "name": "stdout",
     "output_type": "stream",
     "text": [
      "step: 2000, eval loss: 2.4859275817871094, eval acc: 0.25\n"
     ]
    },
    {
     "name": "stderr",
     "output_type": "stream",
     "text": []
    },
    {
     "name": "stdout",
     "output_type": "stream",
     "text": [
      "step: 3000, eval loss: 2.485239267349243, eval acc: 0.25\n"
     ]
    },
    {
     "name": "stderr",
     "output_type": "stream",
     "text": [
      "  3%|▎         | 2999/100000 [13:08<7:04:51,  3.81it/s]\n",
      " 46%|████▌     | 46/100 [9:38:28<12:30:37, 834.02s/it]"
     ]
    },
    {
     "name": "stdout",
     "output_type": "stream",
     "text": [
      "Training finished!!!\n",
      "[W 2025-04-13 23:11:28,939] Trial 45 failed with parameters: {'lr': 0.029806577775513796} because of the following error: The value None could not be cast to float..\n",
      "[W 2025-04-13 23:11:28,943] Trial 45 failed with value None.\n",
      "{'args': {'dataset': 'mnist', 'model_dir': 'saved_models/', 'model_name': 'mnist_ucc_drn', 'num_instances': 32, 'ucc_start': 1, 'ucc_end': 4, 'batch_size': 20, 'num_samples_per_class': 5, 'num_workers': 4, 'learning_rate': 0.024857099629295505, 'num_bins': 10, 'num_features': 10, 'train_num_steps': 100000, 'val_num_steps': 200, 'save_interval': 1000, 'seed': 22}, 'model': {'num_channels': 1, 'input_shape': [28, 28, 1], 'kde_model': {'num_bins': 10, 'sigma': 0.1}, 'encoder': {'conv_input_channel': 1, 'conv_output_channel': 16, 'block1_output_channel': 321, 'block1_num_layer': 1, 'block2_output_channel': 64, 'block2_num_layer': 1, 'block3_output_channel': 128, 'block3_num_layer': 1, 'flatten_size': 6272, 'num_features': 10}, 'decoder': 'None', 'drn': {'num_bins': 10, 'hidden_q': 10, 'num_layers': 2, 'num_nodes': 9, 'output_bins': 4, 'output_nodes': 3}, 'ucc_classifier': {'dropout_rate': 0.0, 'num_classes': 4}, 'loss': {'alpha': 1}}, 'experiments': {'num_channels': 1, 'input_shape': [28, 28, 1], 'kde_model': {'num_bins': 11, 'sigma': 0.1}, 'encoder': {'conv_input_channel': 1, 'conv_output_channel': 16, 'block1_output_channel': 321, 'block1_num_layer': 1, 'block2_output_channel': 64, 'block2_num_layer': 1, 'block3_output_channel': 128, 'block3_num_layer': 1, 'flatten_size': 6272, 'num_features': 10}, 'decoder': 'None', 'drn': {'num_bins': 11, 'hidden_q': 100, 'num_layers': 1, 'num_nodes': 10, 'output_bins': 4, 'output_nodes': 3}, 'ucc_classifier': {'dropout_rate': 0.0, 'num_classes': 4}, 'loss': {'alpha': 1}}}\n",
      "(10, 10)\n",
      "(10, 10)\n",
      "(4, 10)\n",
      "x_train shape: torch.Size([50000, 1, 28, 28])\n",
      "50000 train samples\n",
      "10000 val samples\n",
      "x_train shape: torch.Size([50000, 1, 28, 28])\n",
      "50000 train samples\n",
      "10000 val samples\n",
      "{'args': {'dataset': 'mnist', 'model_dir': 'saved_models/', 'model_name': 'mnist_ucc_drn', 'num_instances': 32, 'ucc_start': 1, 'ucc_end': 4, 'batch_size': 20, 'num_samples_per_class': 5, 'num_workers': 4, 'learning_rate': 0.024857099629295505, 'num_bins': 10, 'num_features': 10, 'train_num_steps': 100000, 'val_num_steps': 200, 'save_interval': 1000, 'seed': 22}, 'model': {'num_channels': 1, 'input_shape': [28, 28, 1], 'kde_model': {'num_bins': 10, 'sigma': 0.1}, 'encoder': {'conv_input_channel': 1, 'conv_output_channel': 16, 'block1_output_channel': 321, 'block1_num_layer': 1, 'block2_output_channel': 64, 'block2_num_layer': 1, 'block3_output_channel': 128, 'block3_num_layer': 1, 'flatten_size': 6272, 'num_features': 10}, 'decoder': 'None', 'drn': {'num_bins': 10, 'hidden_q': 10, 'num_layers': 2, 'num_nodes': 9, 'output_bins': 4, 'output_nodes': 3}, 'ucc_classifier': {'dropout_rate': 0.0, 'num_classes': 4}, 'loss': {'alpha': 1}}, 'experiments': {'num_channels': 1, 'input_shape': [28, 28, 1], 'kde_model': {'num_bins': 11, 'sigma': 0.1}, 'encoder': {'conv_input_channel': 1, 'conv_output_channel': 16, 'block1_output_channel': 321, 'block1_num_layer': 1, 'block2_output_channel': 64, 'block2_num_layer': 1, 'block3_output_channel': 128, 'block3_num_layer': 1, 'flatten_size': 6272, 'num_features': 10}, 'decoder': 'None', 'drn': {'num_bins': 11, 'hidden_q': 100, 'num_layers': 1, 'num_nodes': 10, 'output_bins': 4, 'output_nodes': 3}, 'ucc_classifier': {'dropout_rate': 0.0, 'num_classes': 4}, 'loss': {'alpha': 1}}}\n"
     ]
    },
    {
     "name": "stderr",
     "output_type": "stream",
     "text": [
      "2025/04/13 23:15:56 WARNING mlflow.utils.requirements_utils: Found torch version (2.5.1+cu124) contains a local version label (+cu124). MLflow logged a pip requirement for this package as 'torch==2.5.1' without the local version label to make it installable from PyPI. To specify pip requirements containing local version labels, please use `conda_env` or `pip_requirements`.\n"
     ]
    },
    {
     "name": "stdout",
     "output_type": "stream",
     "text": [
      "step: 1000, eval loss: 2.487488269805908, eval acc: 0.25\n"
     ]
    },
    {
     "name": "stderr",
     "output_type": "stream",
     "text": [
      "2025/04/13 23:16:01 WARNING mlflow.utils.requirements_utils: Found torch version (2.5.1+cu124) contains a local version label (+cu124). MLflow logged a pip requirement for this package as 'torch==2.5.1' without the local version label to make it installable from PyPI. To specify pip requirements containing local version labels, please use `conda_env` or `pip_requirements`.\n",
      "2025/04/13 23:16:01 WARNING mlflow.models.model: Model logged without a signature and input example. Please set `input_example` parameter when logging the model to auto infer the model signature.\n"
     ]
    },
    {
     "name": "stdout",
     "output_type": "stream",
     "text": [
      "step: 2000, eval loss: 2.485883951187134, eval acc: 0.25\n"
     ]
    },
    {
     "name": "stderr",
     "output_type": "stream",
     "text": []
    },
    {
     "name": "stdout",
     "output_type": "stream",
     "text": [
      "step: 3000, eval loss: 2.485340118408203, eval acc: 0.25\n"
     ]
    },
    {
     "name": "stderr",
     "output_type": "stream",
     "text": [
      "  3%|▎         | 2999/100000 [13:09<7:05:28,  3.80it/s]\n",
      " 47%|████▋     | 47/100 [9:51:38<12:05:06, 820.88s/it]"
     ]
    },
    {
     "name": "stdout",
     "output_type": "stream",
     "text": [
      "Training finished!!!\n",
      "[W 2025-04-13 23:24:39,173] Trial 46 failed with parameters: {'lr': 0.024857099629295505} because of the following error: The value None could not be cast to float..\n",
      "[W 2025-04-13 23:24:39,176] Trial 46 failed with value None.\n",
      "{'args': {'dataset': 'mnist', 'model_dir': 'saved_models/', 'model_name': 'mnist_ucc_drn', 'num_instances': 32, 'ucc_start': 1, 'ucc_end': 4, 'batch_size': 20, 'num_samples_per_class': 5, 'num_workers': 4, 'learning_rate': 0.025066895742878997, 'num_bins': 10, 'num_features': 10, 'train_num_steps': 100000, 'val_num_steps': 200, 'save_interval': 1000, 'seed': 22}, 'model': {'num_channels': 1, 'input_shape': [28, 28, 1], 'kde_model': {'num_bins': 10, 'sigma': 0.1}, 'encoder': {'conv_input_channel': 1, 'conv_output_channel': 16, 'block1_output_channel': 321, 'block1_num_layer': 1, 'block2_output_channel': 64, 'block2_num_layer': 1, 'block3_output_channel': 128, 'block3_num_layer': 1, 'flatten_size': 6272, 'num_features': 10}, 'decoder': 'None', 'drn': {'num_bins': 10, 'hidden_q': 10, 'num_layers': 2, 'num_nodes': 9, 'output_bins': 4, 'output_nodes': 3}, 'ucc_classifier': {'dropout_rate': 0.0, 'num_classes': 4}, 'loss': {'alpha': 1}}, 'experiments': {'num_channels': 1, 'input_shape': [28, 28, 1], 'kde_model': {'num_bins': 11, 'sigma': 0.1}, 'encoder': {'conv_input_channel': 1, 'conv_output_channel': 16, 'block1_output_channel': 321, 'block1_num_layer': 1, 'block2_output_channel': 64, 'block2_num_layer': 1, 'block3_output_channel': 128, 'block3_num_layer': 1, 'flatten_size': 6272, 'num_features': 10}, 'decoder': 'None', 'drn': {'num_bins': 11, 'hidden_q': 100, 'num_layers': 1, 'num_nodes': 10, 'output_bins': 4, 'output_nodes': 3}, 'ucc_classifier': {'dropout_rate': 0.0, 'num_classes': 4}, 'loss': {'alpha': 1}}}\n",
      "(10, 10)\n",
      "(10, 10)\n",
      "(4, 10)\n",
      "x_train shape: torch.Size([50000, 1, 28, 28])\n",
      "50000 train samples\n",
      "10000 val samples\n",
      "x_train shape: torch.Size([50000, 1, 28, 28])\n",
      "50000 train samples\n",
      "10000 val samples\n",
      "{'args': {'dataset': 'mnist', 'model_dir': 'saved_models/', 'model_name': 'mnist_ucc_drn', 'num_instances': 32, 'ucc_start': 1, 'ucc_end': 4, 'batch_size': 20, 'num_samples_per_class': 5, 'num_workers': 4, 'learning_rate': 0.025066895742878997, 'num_bins': 10, 'num_features': 10, 'train_num_steps': 100000, 'val_num_steps': 200, 'save_interval': 1000, 'seed': 22}, 'model': {'num_channels': 1, 'input_shape': [28, 28, 1], 'kde_model': {'num_bins': 10, 'sigma': 0.1}, 'encoder': {'conv_input_channel': 1, 'conv_output_channel': 16, 'block1_output_channel': 321, 'block1_num_layer': 1, 'block2_output_channel': 64, 'block2_num_layer': 1, 'block3_output_channel': 128, 'block3_num_layer': 1, 'flatten_size': 6272, 'num_features': 10}, 'decoder': 'None', 'drn': {'num_bins': 10, 'hidden_q': 10, 'num_layers': 2, 'num_nodes': 9, 'output_bins': 4, 'output_nodes': 3}, 'ucc_classifier': {'dropout_rate': 0.0, 'num_classes': 4}, 'loss': {'alpha': 1}}, 'experiments': {'num_channels': 1, 'input_shape': [28, 28, 1], 'kde_model': {'num_bins': 11, 'sigma': 0.1}, 'encoder': {'conv_input_channel': 1, 'conv_output_channel': 16, 'block1_output_channel': 321, 'block1_num_layer': 1, 'block2_output_channel': 64, 'block2_num_layer': 1, 'block3_output_channel': 128, 'block3_num_layer': 1, 'flatten_size': 6272, 'num_features': 10}, 'decoder': 'None', 'drn': {'num_bins': 11, 'hidden_q': 100, 'num_layers': 1, 'num_nodes': 10, 'output_bins': 4, 'output_nodes': 3}, 'ucc_classifier': {'dropout_rate': 0.0, 'num_classes': 4}, 'loss': {'alpha': 1}}}\n"
     ]
    },
    {
     "name": "stderr",
     "output_type": "stream",
     "text": [
      "2025/04/13 23:29:08 WARNING mlflow.utils.requirements_utils: Found torch version (2.5.1+cu124) contains a local version label (+cu124). MLflow logged a pip requirement for this package as 'torch==2.5.1' without the local version label to make it installable from PyPI. To specify pip requirements containing local version labels, please use `conda_env` or `pip_requirements`.\n"
     ]
    },
    {
     "name": "stdout",
     "output_type": "stream",
     "text": [
      "step: 1000, eval loss: 2.4863533973693848, eval acc: 0.25\n"
     ]
    },
    {
     "name": "stderr",
     "output_type": "stream",
     "text": [
      "2025/04/13 23:29:14 WARNING mlflow.utils.requirements_utils: Found torch version (2.5.1+cu124) contains a local version label (+cu124). MLflow logged a pip requirement for this package as 'torch==2.5.1' without the local version label to make it installable from PyPI. To specify pip requirements containing local version labels, please use `conda_env` or `pip_requirements`.\n",
      "2025/04/13 23:29:14 WARNING mlflow.models.model: Model logged without a signature and input example. Please set `input_example` parameter when logging the model to auto infer the model signature.\n"
     ]
    },
    {
     "name": "stdout",
     "output_type": "stream",
     "text": [
      "step: 2000, eval loss: 2.4852843284606934, eval acc: 0.25\n"
     ]
    },
    {
     "name": "stderr",
     "output_type": "stream",
     "text": []
    },
    {
     "name": "stdout",
     "output_type": "stream",
     "text": [
      "step: 3000, eval loss: 2.48549485206604, eval acc: 0.25\n"
     ]
    },
    {
     "name": "stderr",
     "output_type": "stream",
     "text": [
      "  3%|▎         | 2999/100000 [13:27<7:15:13,  3.71it/s]\n",
      " 48%|████▊     | 48/100 [10:05:06<11:48:08, 817.09s/it]"
     ]
    },
    {
     "name": "stdout",
     "output_type": "stream",
     "text": [
      "Training finished!!!\n",
      "[W 2025-04-13 23:38:07,407] Trial 47 failed with parameters: {'lr': 0.025066895742878997} because of the following error: The value None could not be cast to float..\n",
      "[W 2025-04-13 23:38:07,412] Trial 47 failed with value None.\n",
      "{'args': {'dataset': 'mnist', 'model_dir': 'saved_models/', 'model_name': 'mnist_ucc_drn', 'num_instances': 32, 'ucc_start': 1, 'ucc_end': 4, 'batch_size': 20, 'num_samples_per_class': 5, 'num_workers': 4, 'learning_rate': 0.06112780670307056, 'num_bins': 10, 'num_features': 10, 'train_num_steps': 100000, 'val_num_steps': 200, 'save_interval': 1000, 'seed': 22}, 'model': {'num_channels': 1, 'input_shape': [28, 28, 1], 'kde_model': {'num_bins': 10, 'sigma': 0.1}, 'encoder': {'conv_input_channel': 1, 'conv_output_channel': 16, 'block1_output_channel': 321, 'block1_num_layer': 1, 'block2_output_channel': 64, 'block2_num_layer': 1, 'block3_output_channel': 128, 'block3_num_layer': 1, 'flatten_size': 6272, 'num_features': 10}, 'decoder': 'None', 'drn': {'num_bins': 10, 'hidden_q': 10, 'num_layers': 2, 'num_nodes': 9, 'output_bins': 4, 'output_nodes': 3}, 'ucc_classifier': {'dropout_rate': 0.0, 'num_classes': 4}, 'loss': {'alpha': 1}}, 'experiments': {'num_channels': 1, 'input_shape': [28, 28, 1], 'kde_model': {'num_bins': 11, 'sigma': 0.1}, 'encoder': {'conv_input_channel': 1, 'conv_output_channel': 16, 'block1_output_channel': 321, 'block1_num_layer': 1, 'block2_output_channel': 64, 'block2_num_layer': 1, 'block3_output_channel': 128, 'block3_num_layer': 1, 'flatten_size': 6272, 'num_features': 10}, 'decoder': 'None', 'drn': {'num_bins': 11, 'hidden_q': 100, 'num_layers': 1, 'num_nodes': 10, 'output_bins': 4, 'output_nodes': 3}, 'ucc_classifier': {'dropout_rate': 0.0, 'num_classes': 4}, 'loss': {'alpha': 1}}}\n",
      "(10, 10)\n",
      "(10, 10)\n",
      "(4, 10)\n",
      "x_train shape: torch.Size([50000, 1, 28, 28])\n",
      "50000 train samples\n",
      "10000 val samples\n",
      "x_train shape: torch.Size([50000, 1, 28, 28])\n",
      "50000 train samples\n",
      "10000 val samples\n",
      "{'args': {'dataset': 'mnist', 'model_dir': 'saved_models/', 'model_name': 'mnist_ucc_drn', 'num_instances': 32, 'ucc_start': 1, 'ucc_end': 4, 'batch_size': 20, 'num_samples_per_class': 5, 'num_workers': 4, 'learning_rate': 0.06112780670307056, 'num_bins': 10, 'num_features': 10, 'train_num_steps': 100000, 'val_num_steps': 200, 'save_interval': 1000, 'seed': 22}, 'model': {'num_channels': 1, 'input_shape': [28, 28, 1], 'kde_model': {'num_bins': 10, 'sigma': 0.1}, 'encoder': {'conv_input_channel': 1, 'conv_output_channel': 16, 'block1_output_channel': 321, 'block1_num_layer': 1, 'block2_output_channel': 64, 'block2_num_layer': 1, 'block3_output_channel': 128, 'block3_num_layer': 1, 'flatten_size': 6272, 'num_features': 10}, 'decoder': 'None', 'drn': {'num_bins': 10, 'hidden_q': 10, 'num_layers': 2, 'num_nodes': 9, 'output_bins': 4, 'output_nodes': 3}, 'ucc_classifier': {'dropout_rate': 0.0, 'num_classes': 4}, 'loss': {'alpha': 1}}, 'experiments': {'num_channels': 1, 'input_shape': [28, 28, 1], 'kde_model': {'num_bins': 11, 'sigma': 0.1}, 'encoder': {'conv_input_channel': 1, 'conv_output_channel': 16, 'block1_output_channel': 321, 'block1_num_layer': 1, 'block2_output_channel': 64, 'block2_num_layer': 1, 'block3_output_channel': 128, 'block3_num_layer': 1, 'flatten_size': 6272, 'num_features': 10}, 'decoder': 'None', 'drn': {'num_bins': 11, 'hidden_q': 100, 'num_layers': 1, 'num_nodes': 10, 'output_bins': 4, 'output_nodes': 3}, 'ucc_classifier': {'dropout_rate': 0.0, 'num_classes': 4}, 'loss': {'alpha': 1}}}\n"
     ]
    },
    {
     "name": "stderr",
     "output_type": "stream",
     "text": [
      "2025/04/13 23:42:44 WARNING mlflow.utils.requirements_utils: Found torch version (2.5.1+cu124) contains a local version label (+cu124). MLflow logged a pip requirement for this package as 'torch==2.5.1' without the local version label to make it installable from PyPI. To specify pip requirements containing local version labels, please use `conda_env` or `pip_requirements`.\n"
     ]
    },
    {
     "name": "stdout",
     "output_type": "stream",
     "text": [
      "step: 1000, eval loss: 2.508624792098999, eval acc: 0.25\n"
     ]
    },
    {
     "name": "stderr",
     "output_type": "stream",
     "text": [
      "2025/04/13 23:42:49 WARNING mlflow.utils.requirements_utils: Found torch version (2.5.1+cu124) contains a local version label (+cu124). MLflow logged a pip requirement for this package as 'torch==2.5.1' without the local version label to make it installable from PyPI. To specify pip requirements containing local version labels, please use `conda_env` or `pip_requirements`.\n",
      "2025/04/13 23:42:49 WARNING mlflow.models.model: Model logged without a signature and input example. Please set `input_example` parameter when logging the model to auto infer the model signature.\n"
     ]
    },
    {
     "name": "stdout",
     "output_type": "stream",
     "text": [
      "step: 2000, eval loss: 2.485015392303467, eval acc: 0.25\n"
     ]
    },
    {
     "name": "stderr",
     "output_type": "stream",
     "text": []
    },
    {
     "name": "stdout",
     "output_type": "stream",
     "text": [
      "step: 3000, eval loss: 2.4868366718292236, eval acc: 0.25\n"
     ]
    },
    {
     "name": "stderr",
     "output_type": "stream",
     "text": [
      "  3%|▎         | 2999/100000 [13:35<7:19:36,  3.68it/s]\n",
      " 49%|████▉     | 49/100 [10:18:43<11:34:23, 816.93s/it]"
     ]
    },
    {
     "name": "stdout",
     "output_type": "stream",
     "text": [
      "Training finished!!!\n",
      "[W 2025-04-13 23:51:43,975] Trial 48 failed with parameters: {'lr': 0.06112780670307056} because of the following error: The value None could not be cast to float..\n",
      "[W 2025-04-13 23:51:43,979] Trial 48 failed with value None.\n",
      "{'args': {'dataset': 'mnist', 'model_dir': 'saved_models/', 'model_name': 'mnist_ucc_drn', 'num_instances': 32, 'ucc_start': 1, 'ucc_end': 4, 'batch_size': 20, 'num_samples_per_class': 5, 'num_workers': 4, 'learning_rate': 0.024169027656353502, 'num_bins': 10, 'num_features': 10, 'train_num_steps': 100000, 'val_num_steps': 200, 'save_interval': 1000, 'seed': 22}, 'model': {'num_channels': 1, 'input_shape': [28, 28, 1], 'kde_model': {'num_bins': 10, 'sigma': 0.1}, 'encoder': {'conv_input_channel': 1, 'conv_output_channel': 16, 'block1_output_channel': 321, 'block1_num_layer': 1, 'block2_output_channel': 64, 'block2_num_layer': 1, 'block3_output_channel': 128, 'block3_num_layer': 1, 'flatten_size': 6272, 'num_features': 10}, 'decoder': 'None', 'drn': {'num_bins': 10, 'hidden_q': 10, 'num_layers': 2, 'num_nodes': 9, 'output_bins': 4, 'output_nodes': 3}, 'ucc_classifier': {'dropout_rate': 0.0, 'num_classes': 4}, 'loss': {'alpha': 1}}, 'experiments': {'num_channels': 1, 'input_shape': [28, 28, 1], 'kde_model': {'num_bins': 11, 'sigma': 0.1}, 'encoder': {'conv_input_channel': 1, 'conv_output_channel': 16, 'block1_output_channel': 321, 'block1_num_layer': 1, 'block2_output_channel': 64, 'block2_num_layer': 1, 'block3_output_channel': 128, 'block3_num_layer': 1, 'flatten_size': 6272, 'num_features': 10}, 'decoder': 'None', 'drn': {'num_bins': 11, 'hidden_q': 100, 'num_layers': 1, 'num_nodes': 10, 'output_bins': 4, 'output_nodes': 3}, 'ucc_classifier': {'dropout_rate': 0.0, 'num_classes': 4}, 'loss': {'alpha': 1}}}\n",
      "(10, 10)\n",
      "(10, 10)\n",
      "(4, 10)\n",
      "x_train shape: torch.Size([50000, 1, 28, 28])\n",
      "50000 train samples\n",
      "10000 val samples\n",
      "x_train shape: torch.Size([50000, 1, 28, 28])\n",
      "50000 train samples\n",
      "10000 val samples\n",
      "{'args': {'dataset': 'mnist', 'model_dir': 'saved_models/', 'model_name': 'mnist_ucc_drn', 'num_instances': 32, 'ucc_start': 1, 'ucc_end': 4, 'batch_size': 20, 'num_samples_per_class': 5, 'num_workers': 4, 'learning_rate': 0.024169027656353502, 'num_bins': 10, 'num_features': 10, 'train_num_steps': 100000, 'val_num_steps': 200, 'save_interval': 1000, 'seed': 22}, 'model': {'num_channels': 1, 'input_shape': [28, 28, 1], 'kde_model': {'num_bins': 10, 'sigma': 0.1}, 'encoder': {'conv_input_channel': 1, 'conv_output_channel': 16, 'block1_output_channel': 321, 'block1_num_layer': 1, 'block2_output_channel': 64, 'block2_num_layer': 1, 'block3_output_channel': 128, 'block3_num_layer': 1, 'flatten_size': 6272, 'num_features': 10}, 'decoder': 'None', 'drn': {'num_bins': 10, 'hidden_q': 10, 'num_layers': 2, 'num_nodes': 9, 'output_bins': 4, 'output_nodes': 3}, 'ucc_classifier': {'dropout_rate': 0.0, 'num_classes': 4}, 'loss': {'alpha': 1}}, 'experiments': {'num_channels': 1, 'input_shape': [28, 28, 1], 'kde_model': {'num_bins': 11, 'sigma': 0.1}, 'encoder': {'conv_input_channel': 1, 'conv_output_channel': 16, 'block1_output_channel': 321, 'block1_num_layer': 1, 'block2_output_channel': 64, 'block2_num_layer': 1, 'block3_output_channel': 128, 'block3_num_layer': 1, 'flatten_size': 6272, 'num_features': 10}, 'decoder': 'None', 'drn': {'num_bins': 11, 'hidden_q': 100, 'num_layers': 1, 'num_nodes': 10, 'output_bins': 4, 'output_nodes': 3}, 'ucc_classifier': {'dropout_rate': 0.0, 'num_classes': 4}, 'loss': {'alpha': 1}}}\n"
     ]
    },
    {
     "name": "stderr",
     "output_type": "stream",
     "text": [
      "2025/04/13 23:56:18 WARNING mlflow.utils.requirements_utils: Found torch version (2.5.1+cu124) contains a local version label (+cu124). MLflow logged a pip requirement for this package as 'torch==2.5.1' without the local version label to make it installable from PyPI. To specify pip requirements containing local version labels, please use `conda_env` or `pip_requirements`.\n"
     ]
    },
    {
     "name": "stdout",
     "output_type": "stream",
     "text": [
      "step: 1000, eval loss: 2.4855029582977295, eval acc: 0.25\n"
     ]
    },
    {
     "name": "stderr",
     "output_type": "stream",
     "text": [
      "2025/04/13 23:56:24 WARNING mlflow.utils.requirements_utils: Found torch version (2.5.1+cu124) contains a local version label (+cu124). MLflow logged a pip requirement for this package as 'torch==2.5.1' without the local version label to make it installable from PyPI. To specify pip requirements containing local version labels, please use `conda_env` or `pip_requirements`.\n",
      "2025/04/13 23:56:24 WARNING mlflow.models.model: Model logged without a signature and input example. Please set `input_example` parameter when logging the model to auto infer the model signature.\n"
     ]
    },
    {
     "name": "stdout",
     "output_type": "stream",
     "text": [
      "step: 2000, eval loss: 2.4853668212890625, eval acc: 0.25\n"
     ]
    },
    {
     "name": "stderr",
     "output_type": "stream",
     "text": []
    },
    {
     "name": "stdout",
     "output_type": "stream",
     "text": [
      "step: 3000, eval loss: 2.485241413116455, eval acc: 0.25\n"
     ]
    },
    {
     "name": "stderr",
     "output_type": "stream",
     "text": [
      "  3%|▎         | 2999/100000 [13:29<7:16:11,  3.71it/s]\n",
      " 50%|█████     | 50/100 [10:32:13<11:19:05, 814.92s/it]"
     ]
    },
    {
     "name": "stdout",
     "output_type": "stream",
     "text": [
      "Training finished!!!\n",
      "[W 2025-04-14 00:05:14,195] Trial 49 failed with parameters: {'lr': 0.024169027656353502} because of the following error: The value None could not be cast to float..\n",
      "[W 2025-04-14 00:05:14,199] Trial 49 failed with value None.\n",
      "{'args': {'dataset': 'mnist', 'model_dir': 'saved_models/', 'model_name': 'mnist_ucc_drn', 'num_instances': 32, 'ucc_start': 1, 'ucc_end': 4, 'batch_size': 20, 'num_samples_per_class': 5, 'num_workers': 4, 'learning_rate': 0.010857313723037816, 'num_bins': 10, 'num_features': 10, 'train_num_steps': 100000, 'val_num_steps': 200, 'save_interval': 1000, 'seed': 22}, 'model': {'num_channels': 1, 'input_shape': [28, 28, 1], 'kde_model': {'num_bins': 10, 'sigma': 0.1}, 'encoder': {'conv_input_channel': 1, 'conv_output_channel': 16, 'block1_output_channel': 321, 'block1_num_layer': 1, 'block2_output_channel': 64, 'block2_num_layer': 1, 'block3_output_channel': 128, 'block3_num_layer': 1, 'flatten_size': 6272, 'num_features': 10}, 'decoder': 'None', 'drn': {'num_bins': 10, 'hidden_q': 10, 'num_layers': 2, 'num_nodes': 9, 'output_bins': 4, 'output_nodes': 3}, 'ucc_classifier': {'dropout_rate': 0.0, 'num_classes': 4}, 'loss': {'alpha': 1}}, 'experiments': {'num_channels': 1, 'input_shape': [28, 28, 1], 'kde_model': {'num_bins': 11, 'sigma': 0.1}, 'encoder': {'conv_input_channel': 1, 'conv_output_channel': 16, 'block1_output_channel': 321, 'block1_num_layer': 1, 'block2_output_channel': 64, 'block2_num_layer': 1, 'block3_output_channel': 128, 'block3_num_layer': 1, 'flatten_size': 6272, 'num_features': 10}, 'decoder': 'None', 'drn': {'num_bins': 11, 'hidden_q': 100, 'num_layers': 1, 'num_nodes': 10, 'output_bins': 4, 'output_nodes': 3}, 'ucc_classifier': {'dropout_rate': 0.0, 'num_classes': 4}, 'loss': {'alpha': 1}}}\n",
      "(10, 10)\n",
      "(10, 10)\n",
      "(4, 10)\n",
      "x_train shape: torch.Size([50000, 1, 28, 28])\n",
      "50000 train samples\n",
      "10000 val samples\n",
      "x_train shape: torch.Size([50000, 1, 28, 28])\n",
      "50000 train samples\n",
      "10000 val samples\n",
      "{'args': {'dataset': 'mnist', 'model_dir': 'saved_models/', 'model_name': 'mnist_ucc_drn', 'num_instances': 32, 'ucc_start': 1, 'ucc_end': 4, 'batch_size': 20, 'num_samples_per_class': 5, 'num_workers': 4, 'learning_rate': 0.010857313723037816, 'num_bins': 10, 'num_features': 10, 'train_num_steps': 100000, 'val_num_steps': 200, 'save_interval': 1000, 'seed': 22}, 'model': {'num_channels': 1, 'input_shape': [28, 28, 1], 'kde_model': {'num_bins': 10, 'sigma': 0.1}, 'encoder': {'conv_input_channel': 1, 'conv_output_channel': 16, 'block1_output_channel': 321, 'block1_num_layer': 1, 'block2_output_channel': 64, 'block2_num_layer': 1, 'block3_output_channel': 128, 'block3_num_layer': 1, 'flatten_size': 6272, 'num_features': 10}, 'decoder': 'None', 'drn': {'num_bins': 10, 'hidden_q': 10, 'num_layers': 2, 'num_nodes': 9, 'output_bins': 4, 'output_nodes': 3}, 'ucc_classifier': {'dropout_rate': 0.0, 'num_classes': 4}, 'loss': {'alpha': 1}}, 'experiments': {'num_channels': 1, 'input_shape': [28, 28, 1], 'kde_model': {'num_bins': 11, 'sigma': 0.1}, 'encoder': {'conv_input_channel': 1, 'conv_output_channel': 16, 'block1_output_channel': 321, 'block1_num_layer': 1, 'block2_output_channel': 64, 'block2_num_layer': 1, 'block3_output_channel': 128, 'block3_num_layer': 1, 'flatten_size': 6272, 'num_features': 10}, 'decoder': 'None', 'drn': {'num_bins': 11, 'hidden_q': 100, 'num_layers': 1, 'num_nodes': 10, 'output_bins': 4, 'output_nodes': 3}, 'ucc_classifier': {'dropout_rate': 0.0, 'num_classes': 4}, 'loss': {'alpha': 1}}}\n"
     ]
    },
    {
     "name": "stderr",
     "output_type": "stream",
     "text": [
      "2025/04/14 00:09:42 WARNING mlflow.utils.requirements_utils: Found torch version (2.5.1+cu124) contains a local version label (+cu124). MLflow logged a pip requirement for this package as 'torch==2.5.1' without the local version label to make it installable from PyPI. To specify pip requirements containing local version labels, please use `conda_env` or `pip_requirements`.\n"
     ]
    },
    {
     "name": "stdout",
     "output_type": "stream",
     "text": [
      "step: 1000, eval loss: 2.486729145050049, eval acc: 0.25\n"
     ]
    },
    {
     "name": "stderr",
     "output_type": "stream",
     "text": [
      "2025/04/14 00:09:47 WARNING mlflow.utils.requirements_utils: Found torch version (2.5.1+cu124) contains a local version label (+cu124). MLflow logged a pip requirement for this package as 'torch==2.5.1' without the local version label to make it installable from PyPI. To specify pip requirements containing local version labels, please use `conda_env` or `pip_requirements`.\n",
      "2025/04/14 00:09:47 WARNING mlflow.models.model: Model logged without a signature and input example. Please set `input_example` parameter when logging the model to auto infer the model signature.\n"
     ]
    },
    {
     "name": "stdout",
     "output_type": "stream",
     "text": [
      "step: 2000, eval loss: 2.4853038787841797, eval acc: 0.25\n"
     ]
    },
    {
     "name": "stderr",
     "output_type": "stream",
     "text": []
    },
    {
     "name": "stdout",
     "output_type": "stream",
     "text": [
      "step: 3000, eval loss: 2.4885706901550293, eval acc: 0.25\n"
     ]
    },
    {
     "name": "stderr",
     "output_type": "stream",
     "text": [
      "  3%|▎         | 2999/100000 [13:13<7:07:29,  3.78it/s]\n",
      " 51%|█████     | 51/100 [10:45:27<11:00:22, 808.63s/it]"
     ]
    },
    {
     "name": "stdout",
     "output_type": "stream",
     "text": [
      "Training finished!!!\n",
      "[W 2025-04-14 00:18:28,136] Trial 50 failed with parameters: {'lr': 0.010857313723037816} because of the following error: The value None could not be cast to float..\n",
      "[W 2025-04-14 00:18:28,139] Trial 50 failed with value None.\n",
      "{'args': {'dataset': 'mnist', 'model_dir': 'saved_models/', 'model_name': 'mnist_ucc_drn', 'num_instances': 32, 'ucc_start': 1, 'ucc_end': 4, 'batch_size': 20, 'num_samples_per_class': 5, 'num_workers': 4, 'learning_rate': 0.024829195251803642, 'num_bins': 10, 'num_features': 10, 'train_num_steps': 100000, 'val_num_steps': 200, 'save_interval': 1000, 'seed': 22}, 'model': {'num_channels': 1, 'input_shape': [28, 28, 1], 'kde_model': {'num_bins': 10, 'sigma': 0.1}, 'encoder': {'conv_input_channel': 1, 'conv_output_channel': 16, 'block1_output_channel': 321, 'block1_num_layer': 1, 'block2_output_channel': 64, 'block2_num_layer': 1, 'block3_output_channel': 128, 'block3_num_layer': 1, 'flatten_size': 6272, 'num_features': 10}, 'decoder': 'None', 'drn': {'num_bins': 10, 'hidden_q': 10, 'num_layers': 2, 'num_nodes': 9, 'output_bins': 4, 'output_nodes': 3}, 'ucc_classifier': {'dropout_rate': 0.0, 'num_classes': 4}, 'loss': {'alpha': 1}}, 'experiments': {'num_channels': 1, 'input_shape': [28, 28, 1], 'kde_model': {'num_bins': 11, 'sigma': 0.1}, 'encoder': {'conv_input_channel': 1, 'conv_output_channel': 16, 'block1_output_channel': 321, 'block1_num_layer': 1, 'block2_output_channel': 64, 'block2_num_layer': 1, 'block3_output_channel': 128, 'block3_num_layer': 1, 'flatten_size': 6272, 'num_features': 10}, 'decoder': 'None', 'drn': {'num_bins': 11, 'hidden_q': 100, 'num_layers': 1, 'num_nodes': 10, 'output_bins': 4, 'output_nodes': 3}, 'ucc_classifier': {'dropout_rate': 0.0, 'num_classes': 4}, 'loss': {'alpha': 1}}}\n",
      "(10, 10)\n",
      "(10, 10)\n",
      "(4, 10)\n",
      "x_train shape: torch.Size([50000, 1, 28, 28])\n",
      "50000 train samples\n",
      "10000 val samples\n",
      "x_train shape: torch.Size([50000, 1, 28, 28])\n",
      "50000 train samples\n",
      "10000 val samples\n",
      "{'args': {'dataset': 'mnist', 'model_dir': 'saved_models/', 'model_name': 'mnist_ucc_drn', 'num_instances': 32, 'ucc_start': 1, 'ucc_end': 4, 'batch_size': 20, 'num_samples_per_class': 5, 'num_workers': 4, 'learning_rate': 0.024829195251803642, 'num_bins': 10, 'num_features': 10, 'train_num_steps': 100000, 'val_num_steps': 200, 'save_interval': 1000, 'seed': 22}, 'model': {'num_channels': 1, 'input_shape': [28, 28, 1], 'kde_model': {'num_bins': 10, 'sigma': 0.1}, 'encoder': {'conv_input_channel': 1, 'conv_output_channel': 16, 'block1_output_channel': 321, 'block1_num_layer': 1, 'block2_output_channel': 64, 'block2_num_layer': 1, 'block3_output_channel': 128, 'block3_num_layer': 1, 'flatten_size': 6272, 'num_features': 10}, 'decoder': 'None', 'drn': {'num_bins': 10, 'hidden_q': 10, 'num_layers': 2, 'num_nodes': 9, 'output_bins': 4, 'output_nodes': 3}, 'ucc_classifier': {'dropout_rate': 0.0, 'num_classes': 4}, 'loss': {'alpha': 1}}, 'experiments': {'num_channels': 1, 'input_shape': [28, 28, 1], 'kde_model': {'num_bins': 11, 'sigma': 0.1}, 'encoder': {'conv_input_channel': 1, 'conv_output_channel': 16, 'block1_output_channel': 321, 'block1_num_layer': 1, 'block2_output_channel': 64, 'block2_num_layer': 1, 'block3_output_channel': 128, 'block3_num_layer': 1, 'flatten_size': 6272, 'num_features': 10}, 'decoder': 'None', 'drn': {'num_bins': 11, 'hidden_q': 100, 'num_layers': 1, 'num_nodes': 10, 'output_bins': 4, 'output_nodes': 3}, 'ucc_classifier': {'dropout_rate': 0.0, 'num_classes': 4}, 'loss': {'alpha': 1}}}\n"
     ]
    },
    {
     "name": "stderr",
     "output_type": "stream",
     "text": [
      "2025/04/14 00:22:55 WARNING mlflow.utils.requirements_utils: Found torch version (2.5.1+cu124) contains a local version label (+cu124). MLflow logged a pip requirement for this package as 'torch==2.5.1' without the local version label to make it installable from PyPI. To specify pip requirements containing local version labels, please use `conda_env` or `pip_requirements`.\n"
     ]
    },
    {
     "name": "stdout",
     "output_type": "stream",
     "text": [
      "step: 1000, eval loss: 2.491814374923706, eval acc: 0.25\n"
     ]
    },
    {
     "name": "stderr",
     "output_type": "stream",
     "text": [
      "2025/04/14 00:23:01 WARNING mlflow.utils.requirements_utils: Found torch version (2.5.1+cu124) contains a local version label (+cu124). MLflow logged a pip requirement for this package as 'torch==2.5.1' without the local version label to make it installable from PyPI. To specify pip requirements containing local version labels, please use `conda_env` or `pip_requirements`.\n",
      "2025/04/14 00:23:01 WARNING mlflow.models.model: Model logged without a signature and input example. Please set `input_example` parameter when logging the model to auto infer the model signature.\n"
     ]
    },
    {
     "name": "stdout",
     "output_type": "stream",
     "text": [
      "step: 2000, eval loss: 2.486246347427368, eval acc: 0.25\n"
     ]
    },
    {
     "name": "stderr",
     "output_type": "stream",
     "text": []
    },
    {
     "name": "stdout",
     "output_type": "stream",
     "text": [
      "step: 3000, eval loss: 2.4851326942443848, eval acc: 0.25\n"
     ]
    },
    {
     "name": "stderr",
     "output_type": "stream",
     "text": [
      "  3%|▎         | 2999/100000 [13:13<7:07:40,  3.78it/s]\n",
      " 52%|█████▏    | 52/100 [10:58:41<10:43:25, 804.28s/it]"
     ]
    },
    {
     "name": "stdout",
     "output_type": "stream",
     "text": [
      "Training finished!!!\n",
      "[W 2025-04-14 00:31:42,284] Trial 51 failed with parameters: {'lr': 0.024829195251803642} because of the following error: The value None could not be cast to float..\n",
      "[W 2025-04-14 00:31:42,288] Trial 51 failed with value None.\n",
      "{'args': {'dataset': 'mnist', 'model_dir': 'saved_models/', 'model_name': 'mnist_ucc_drn', 'num_instances': 32, 'ucc_start': 1, 'ucc_end': 4, 'batch_size': 20, 'num_samples_per_class': 5, 'num_workers': 4, 'learning_rate': 0.014365017109617736, 'num_bins': 10, 'num_features': 10, 'train_num_steps': 100000, 'val_num_steps': 200, 'save_interval': 1000, 'seed': 22}, 'model': {'num_channels': 1, 'input_shape': [28, 28, 1], 'kde_model': {'num_bins': 10, 'sigma': 0.1}, 'encoder': {'conv_input_channel': 1, 'conv_output_channel': 16, 'block1_output_channel': 321, 'block1_num_layer': 1, 'block2_output_channel': 64, 'block2_num_layer': 1, 'block3_output_channel': 128, 'block3_num_layer': 1, 'flatten_size': 6272, 'num_features': 10}, 'decoder': 'None', 'drn': {'num_bins': 10, 'hidden_q': 10, 'num_layers': 2, 'num_nodes': 9, 'output_bins': 4, 'output_nodes': 3}, 'ucc_classifier': {'dropout_rate': 0.0, 'num_classes': 4}, 'loss': {'alpha': 1}}, 'experiments': {'num_channels': 1, 'input_shape': [28, 28, 1], 'kde_model': {'num_bins': 11, 'sigma': 0.1}, 'encoder': {'conv_input_channel': 1, 'conv_output_channel': 16, 'block1_output_channel': 321, 'block1_num_layer': 1, 'block2_output_channel': 64, 'block2_num_layer': 1, 'block3_output_channel': 128, 'block3_num_layer': 1, 'flatten_size': 6272, 'num_features': 10}, 'decoder': 'None', 'drn': {'num_bins': 11, 'hidden_q': 100, 'num_layers': 1, 'num_nodes': 10, 'output_bins': 4, 'output_nodes': 3}, 'ucc_classifier': {'dropout_rate': 0.0, 'num_classes': 4}, 'loss': {'alpha': 1}}}\n",
      "(10, 10)\n",
      "(10, 10)\n",
      "(4, 10)\n",
      "x_train shape: torch.Size([50000, 1, 28, 28])\n",
      "50000 train samples\n",
      "10000 val samples\n",
      "x_train shape: torch.Size([50000, 1, 28, 28])\n",
      "50000 train samples\n",
      "10000 val samples\n",
      "{'args': {'dataset': 'mnist', 'model_dir': 'saved_models/', 'model_name': 'mnist_ucc_drn', 'num_instances': 32, 'ucc_start': 1, 'ucc_end': 4, 'batch_size': 20, 'num_samples_per_class': 5, 'num_workers': 4, 'learning_rate': 0.014365017109617736, 'num_bins': 10, 'num_features': 10, 'train_num_steps': 100000, 'val_num_steps': 200, 'save_interval': 1000, 'seed': 22}, 'model': {'num_channels': 1, 'input_shape': [28, 28, 1], 'kde_model': {'num_bins': 10, 'sigma': 0.1}, 'encoder': {'conv_input_channel': 1, 'conv_output_channel': 16, 'block1_output_channel': 321, 'block1_num_layer': 1, 'block2_output_channel': 64, 'block2_num_layer': 1, 'block3_output_channel': 128, 'block3_num_layer': 1, 'flatten_size': 6272, 'num_features': 10}, 'decoder': 'None', 'drn': {'num_bins': 10, 'hidden_q': 10, 'num_layers': 2, 'num_nodes': 9, 'output_bins': 4, 'output_nodes': 3}, 'ucc_classifier': {'dropout_rate': 0.0, 'num_classes': 4}, 'loss': {'alpha': 1}}, 'experiments': {'num_channels': 1, 'input_shape': [28, 28, 1], 'kde_model': {'num_bins': 11, 'sigma': 0.1}, 'encoder': {'conv_input_channel': 1, 'conv_output_channel': 16, 'block1_output_channel': 321, 'block1_num_layer': 1, 'block2_output_channel': 64, 'block2_num_layer': 1, 'block3_output_channel': 128, 'block3_num_layer': 1, 'flatten_size': 6272, 'num_features': 10}, 'decoder': 'None', 'drn': {'num_bins': 11, 'hidden_q': 100, 'num_layers': 1, 'num_nodes': 10, 'output_bins': 4, 'output_nodes': 3}, 'ucc_classifier': {'dropout_rate': 0.0, 'num_classes': 4}, 'loss': {'alpha': 1}}}\n"
     ]
    },
    {
     "name": "stderr",
     "output_type": "stream",
     "text": [
      "2025/04/14 00:36:16 WARNING mlflow.utils.requirements_utils: Found torch version (2.5.1+cu124) contains a local version label (+cu124). MLflow logged a pip requirement for this package as 'torch==2.5.1' without the local version label to make it installable from PyPI. To specify pip requirements containing local version labels, please use `conda_env` or `pip_requirements`.\n"
     ]
    },
    {
     "name": "stdout",
     "output_type": "stream",
     "text": [
      "step: 1000, eval loss: 2.485999584197998, eval acc: 0.25\n"
     ]
    },
    {
     "name": "stderr",
     "output_type": "stream",
     "text": [
      "2025/04/14 00:36:22 WARNING mlflow.utils.requirements_utils: Found torch version (2.5.1+cu124) contains a local version label (+cu124). MLflow logged a pip requirement for this package as 'torch==2.5.1' without the local version label to make it installable from PyPI. To specify pip requirements containing local version labels, please use `conda_env` or `pip_requirements`.\n",
      "2025/04/14 00:36:22 WARNING mlflow.models.model: Model logged without a signature and input example. Please set `input_example` parameter when logging the model to auto infer the model signature.\n"
     ]
    },
    {
     "name": "stdout",
     "output_type": "stream",
     "text": [
      "step: 2000, eval loss: 2.4873385429382324, eval acc: 0.25\n"
     ]
    },
    {
     "name": "stderr",
     "output_type": "stream",
     "text": []
    },
    {
     "name": "stdout",
     "output_type": "stream",
     "text": [
      "step: 3000, eval loss: 2.4853312969207764, eval acc: 0.25\n"
     ]
    },
    {
     "name": "stderr",
     "output_type": "stream",
     "text": [
      "  3%|▎         | 2999/100000 [13:32<7:18:11,  3.69it/s]\n",
      " 53%|█████▎    | 53/100 [11:12:15<10:32:15, 807.13s/it]"
     ]
    },
    {
     "name": "stdout",
     "output_type": "stream",
     "text": [
      "Training finished!!!\n",
      "[W 2025-04-14 00:45:16,076] Trial 52 failed with parameters: {'lr': 0.014365017109617736} because of the following error: The value None could not be cast to float..\n",
      "[W 2025-04-14 00:45:16,080] Trial 52 failed with value None.\n",
      "{'args': {'dataset': 'mnist', 'model_dir': 'saved_models/', 'model_name': 'mnist_ucc_drn', 'num_instances': 32, 'ucc_start': 1, 'ucc_end': 4, 'batch_size': 20, 'num_samples_per_class': 5, 'num_workers': 4, 'learning_rate': 0.03784718627197689, 'num_bins': 10, 'num_features': 10, 'train_num_steps': 100000, 'val_num_steps': 200, 'save_interval': 1000, 'seed': 22}, 'model': {'num_channels': 1, 'input_shape': [28, 28, 1], 'kde_model': {'num_bins': 10, 'sigma': 0.1}, 'encoder': {'conv_input_channel': 1, 'conv_output_channel': 16, 'block1_output_channel': 321, 'block1_num_layer': 1, 'block2_output_channel': 64, 'block2_num_layer': 1, 'block3_output_channel': 128, 'block3_num_layer': 1, 'flatten_size': 6272, 'num_features': 10}, 'decoder': 'None', 'drn': {'num_bins': 10, 'hidden_q': 10, 'num_layers': 2, 'num_nodes': 9, 'output_bins': 4, 'output_nodes': 3}, 'ucc_classifier': {'dropout_rate': 0.0, 'num_classes': 4}, 'loss': {'alpha': 1}}, 'experiments': {'num_channels': 1, 'input_shape': [28, 28, 1], 'kde_model': {'num_bins': 11, 'sigma': 0.1}, 'encoder': {'conv_input_channel': 1, 'conv_output_channel': 16, 'block1_output_channel': 321, 'block1_num_layer': 1, 'block2_output_channel': 64, 'block2_num_layer': 1, 'block3_output_channel': 128, 'block3_num_layer': 1, 'flatten_size': 6272, 'num_features': 10}, 'decoder': 'None', 'drn': {'num_bins': 11, 'hidden_q': 100, 'num_layers': 1, 'num_nodes': 10, 'output_bins': 4, 'output_nodes': 3}, 'ucc_classifier': {'dropout_rate': 0.0, 'num_classes': 4}, 'loss': {'alpha': 1}}}\n",
      "(10, 10)\n",
      "(10, 10)\n",
      "(4, 10)\n",
      "x_train shape: torch.Size([50000, 1, 28, 28])\n",
      "50000 train samples\n",
      "10000 val samples\n",
      "x_train shape: torch.Size([50000, 1, 28, 28])\n",
      "50000 train samples\n",
      "10000 val samples\n",
      "{'args': {'dataset': 'mnist', 'model_dir': 'saved_models/', 'model_name': 'mnist_ucc_drn', 'num_instances': 32, 'ucc_start': 1, 'ucc_end': 4, 'batch_size': 20, 'num_samples_per_class': 5, 'num_workers': 4, 'learning_rate': 0.03784718627197689, 'num_bins': 10, 'num_features': 10, 'train_num_steps': 100000, 'val_num_steps': 200, 'save_interval': 1000, 'seed': 22}, 'model': {'num_channels': 1, 'input_shape': [28, 28, 1], 'kde_model': {'num_bins': 10, 'sigma': 0.1}, 'encoder': {'conv_input_channel': 1, 'conv_output_channel': 16, 'block1_output_channel': 321, 'block1_num_layer': 1, 'block2_output_channel': 64, 'block2_num_layer': 1, 'block3_output_channel': 128, 'block3_num_layer': 1, 'flatten_size': 6272, 'num_features': 10}, 'decoder': 'None', 'drn': {'num_bins': 10, 'hidden_q': 10, 'num_layers': 2, 'num_nodes': 9, 'output_bins': 4, 'output_nodes': 3}, 'ucc_classifier': {'dropout_rate': 0.0, 'num_classes': 4}, 'loss': {'alpha': 1}}, 'experiments': {'num_channels': 1, 'input_shape': [28, 28, 1], 'kde_model': {'num_bins': 11, 'sigma': 0.1}, 'encoder': {'conv_input_channel': 1, 'conv_output_channel': 16, 'block1_output_channel': 321, 'block1_num_layer': 1, 'block2_output_channel': 64, 'block2_num_layer': 1, 'block3_output_channel': 128, 'block3_num_layer': 1, 'flatten_size': 6272, 'num_features': 10}, 'decoder': 'None', 'drn': {'num_bins': 11, 'hidden_q': 100, 'num_layers': 1, 'num_nodes': 10, 'output_bins': 4, 'output_nodes': 3}, 'ucc_classifier': {'dropout_rate': 0.0, 'num_classes': 4}, 'loss': {'alpha': 1}}}\n"
     ]
    },
    {
     "name": "stderr",
     "output_type": "stream",
     "text": [
      "2025/04/14 00:49:58 WARNING mlflow.utils.requirements_utils: Found torch version (2.5.1+cu124) contains a local version label (+cu124). MLflow logged a pip requirement for this package as 'torch==2.5.1' without the local version label to make it installable from PyPI. To specify pip requirements containing local version labels, please use `conda_env` or `pip_requirements`.\n"
     ]
    },
    {
     "name": "stdout",
     "output_type": "stream",
     "text": [
      "step: 1000, eval loss: 2.4850425720214844, eval acc: 0.25\n"
     ]
    },
    {
     "name": "stderr",
     "output_type": "stream",
     "text": [
      "2025/04/14 00:50:04 WARNING mlflow.utils.requirements_utils: Found torch version (2.5.1+cu124) contains a local version label (+cu124). MLflow logged a pip requirement for this package as 'torch==2.5.1' without the local version label to make it installable from PyPI. To specify pip requirements containing local version labels, please use `conda_env` or `pip_requirements`.\n",
      "2025/04/14 00:50:04 WARNING mlflow.models.model: Model logged without a signature and input example. Please set `input_example` parameter when logging the model to auto infer the model signature.\n",
      "  2%|▏         | 1544/100000 [07:07<7:33:59,  3.61it/s]\n",
      " 53%|█████▎    | 53/100 [11:19:23<10:02:28, 769.13s/it]\n"
     ]
    },
    {
     "name": "stdout",
     "output_type": "stream",
     "text": [
      "[W 2025-04-14 00:52:24,278] Trial 53 failed with parameters: {'lr': 0.03784718627197689} because of the following error: KeyboardInterrupt().\n",
      "Traceback (most recent call last):\n",
      "  File \"d:\\UCC-DRN-Pytorch\\.venv\\lib\\site-packages\\optuna\\study\\_optimize.py\", line 197, in _run_trial\n",
      "    value_or_values = func(trial)\n",
      "  File \"C:\\Users\\progu\\AppData\\Local\\Temp\\ipykernel_8028\\1636271767.py\", line 64, in objective\n",
      "    best_acc = train(args, model, optimizer, None,\n",
      "  File \"C:\\Users\\progu\\AppData\\Local\\Temp\\ipykernel_8028\\2971318722.py\", line 125, in train\n",
      "    ucc_logits = model(batch_samples, batch_labels)\n",
      "  File \"d:\\UCC-DRN-Pytorch\\.venv\\lib\\site-packages\\torch\\nn\\modules\\module.py\", line 1736, in _wrapped_call_impl\n",
      "    return self._call_impl(*args, **kwargs)\n",
      "  File \"d:\\UCC-DRN-Pytorch\\.venv\\lib\\site-packages\\torch\\nn\\modules\\module.py\", line 1747, in _call_impl\n",
      "    return forward_call(*args, **kwargs)\n",
      "  File \"d:\\UCC-DRN-Pytorch\\mnist\\model.py\", line 213, in forward\n",
      "    feature_distribution = self.kde(feature_, self.num_nodes, self.sigma)\n",
      "  File \"d:\\UCC-DRN-Pytorch\\mnist\\model.py\", line 185, in kde\n",
      "    one_feature = data[:, :, i : i + 1].repeat(1, 1, num_nodes)\n",
      "  File \"d:\\UCC-DRN-Pytorch\\.venv\\lib\\site-packages\\torch\\fx\\traceback.py\", line 72, in format_stack\n",
      "    return traceback.format_list(traceback.extract_stack()[:-1])\n",
      "  File \"C:\\Users\\progu\\.conda\\envs\\python39\\lib\\traceback.py\", line 211, in extract_stack\n",
      "    stack = StackSummary.extract(walk_stack(f), limit=limit)\n",
      "  File \"C:\\Users\\progu\\.conda\\envs\\python39\\lib\\traceback.py\", line 362, in extract\n",
      "    linecache.checkcache(filename)\n",
      "  File \"C:\\Users\\progu\\.conda\\envs\\python39\\lib\\linecache.py\", line 72, in checkcache\n",
      "    stat = os.stat(fullname)\n",
      "KeyboardInterrupt\n",
      "[W 2025-04-14 00:52:24,309] Trial 53 failed with value None.\n"
     ]
    },
    {
     "ename": "KeyboardInterrupt",
     "evalue": "",
     "output_type": "error",
     "traceback": [
      "\u001b[1;31m---------------------------------------------------------------------------\u001b[0m",
      "\u001b[1;31mKeyboardInterrupt\u001b[0m                         Traceback (most recent call last)",
      "Cell \u001b[1;32mIn[3], line 81\u001b[0m\n\u001b[0;32m     73\u001b[0m mlflow\u001b[38;5;241m.\u001b[39mset_experiment(experiment_id\u001b[38;5;241m=\u001b[39mexperiment_id)\n\u001b[0;32m     75\u001b[0m study \u001b[38;5;241m=\u001b[39m parse_experiment_runs_to_optuna_study(\n\u001b[0;32m     76\u001b[0m     experiment_name\u001b[38;5;241m=\u001b[39mrun_name,\n\u001b[0;32m     77\u001b[0m     study_name\u001b[38;5;241m=\u001b[39mrun_name,\n\u001b[0;32m     78\u001b[0m     cfg_name\u001b[38;5;241m=\u001b[39m\u001b[38;5;124m\"\u001b[39m\u001b[38;5;124mtrain_drn_hybrid_exp\u001b[39m\u001b[38;5;124m\"\u001b[39m,\n\u001b[0;32m     79\u001b[0m     params_file\u001b[38;5;241m=\u001b[39m\u001b[38;5;124m\"\u001b[39m\u001b[38;5;124mparams-bin.json\u001b[39m\u001b[38;5;124m\"\u001b[39m\n\u001b[0;32m     80\u001b[0m )\n\u001b[1;32m---> 81\u001b[0m \u001b[43mstudy\u001b[49m\u001b[38;5;241;43m.\u001b[39;49m\u001b[43moptimize\u001b[49m\u001b[43m(\u001b[49m\u001b[43mfunc\u001b[49m\u001b[38;5;241;43m=\u001b[39;49m\u001b[43mobjective\u001b[49m\u001b[43m,\u001b[49m\u001b[43m \u001b[49m\u001b[43mn_trials\u001b[49m\u001b[38;5;241;43m=\u001b[39;49m\u001b[38;5;241;43m100\u001b[39;49m\u001b[43m,\u001b[49m\u001b[43m \u001b[49m\u001b[43mshow_progress_bar\u001b[49m\u001b[38;5;241;43m=\u001b[39;49m\u001b[38;5;28;43;01mTrue\u001b[39;49;00m\u001b[43m)\u001b[49m\n",
      "File \u001b[1;32md:\\UCC-DRN-Pytorch\\.venv\\lib\\site-packages\\optuna\\study\\study.py:475\u001b[0m, in \u001b[0;36mStudy.optimize\u001b[1;34m(self, func, n_trials, timeout, n_jobs, catch, callbacks, gc_after_trial, show_progress_bar)\u001b[0m\n\u001b[0;32m    373\u001b[0m \u001b[38;5;28;01mdef\u001b[39;00m\u001b[38;5;250m \u001b[39m\u001b[38;5;21moptimize\u001b[39m(\n\u001b[0;32m    374\u001b[0m     \u001b[38;5;28mself\u001b[39m,\n\u001b[0;32m    375\u001b[0m     func: ObjectiveFuncType,\n\u001b[1;32m   (...)\u001b[0m\n\u001b[0;32m    382\u001b[0m     show_progress_bar: \u001b[38;5;28mbool\u001b[39m \u001b[38;5;241m=\u001b[39m \u001b[38;5;28;01mFalse\u001b[39;00m,\n\u001b[0;32m    383\u001b[0m ) \u001b[38;5;241m-\u001b[39m\u001b[38;5;241m>\u001b[39m \u001b[38;5;28;01mNone\u001b[39;00m:\n\u001b[0;32m    384\u001b[0m \u001b[38;5;250m    \u001b[39m\u001b[38;5;124;03m\"\"\"Optimize an objective function.\u001b[39;00m\n\u001b[0;32m    385\u001b[0m \n\u001b[0;32m    386\u001b[0m \u001b[38;5;124;03m    Optimization is done by choosing a suitable set of hyperparameter values from a given\u001b[39;00m\n\u001b[1;32m   (...)\u001b[0m\n\u001b[0;32m    473\u001b[0m \u001b[38;5;124;03m            If nested invocation of this method occurs.\u001b[39;00m\n\u001b[0;32m    474\u001b[0m \u001b[38;5;124;03m    \"\"\"\u001b[39;00m\n\u001b[1;32m--> 475\u001b[0m     \u001b[43m_optimize\u001b[49m\u001b[43m(\u001b[49m\n\u001b[0;32m    476\u001b[0m \u001b[43m        \u001b[49m\u001b[43mstudy\u001b[49m\u001b[38;5;241;43m=\u001b[39;49m\u001b[38;5;28;43mself\u001b[39;49m\u001b[43m,\u001b[49m\n\u001b[0;32m    477\u001b[0m \u001b[43m        \u001b[49m\u001b[43mfunc\u001b[49m\u001b[38;5;241;43m=\u001b[39;49m\u001b[43mfunc\u001b[49m\u001b[43m,\u001b[49m\n\u001b[0;32m    478\u001b[0m \u001b[43m        \u001b[49m\u001b[43mn_trials\u001b[49m\u001b[38;5;241;43m=\u001b[39;49m\u001b[43mn_trials\u001b[49m\u001b[43m,\u001b[49m\n\u001b[0;32m    479\u001b[0m \u001b[43m        \u001b[49m\u001b[43mtimeout\u001b[49m\u001b[38;5;241;43m=\u001b[39;49m\u001b[43mtimeout\u001b[49m\u001b[43m,\u001b[49m\n\u001b[0;32m    480\u001b[0m \u001b[43m        \u001b[49m\u001b[43mn_jobs\u001b[49m\u001b[38;5;241;43m=\u001b[39;49m\u001b[43mn_jobs\u001b[49m\u001b[43m,\u001b[49m\n\u001b[0;32m    481\u001b[0m \u001b[43m        \u001b[49m\u001b[43mcatch\u001b[49m\u001b[38;5;241;43m=\u001b[39;49m\u001b[38;5;28;43mtuple\u001b[39;49m\u001b[43m(\u001b[49m\u001b[43mcatch\u001b[49m\u001b[43m)\u001b[49m\u001b[43m \u001b[49m\u001b[38;5;28;43;01mif\u001b[39;49;00m\u001b[43m \u001b[49m\u001b[38;5;28;43misinstance\u001b[39;49m\u001b[43m(\u001b[49m\u001b[43mcatch\u001b[49m\u001b[43m,\u001b[49m\u001b[43m \u001b[49m\u001b[43mIterable\u001b[49m\u001b[43m)\u001b[49m\u001b[43m \u001b[49m\u001b[38;5;28;43;01melse\u001b[39;49;00m\u001b[43m \u001b[49m\u001b[43m(\u001b[49m\u001b[43mcatch\u001b[49m\u001b[43m,\u001b[49m\u001b[43m)\u001b[49m\u001b[43m,\u001b[49m\n\u001b[0;32m    482\u001b[0m \u001b[43m        \u001b[49m\u001b[43mcallbacks\u001b[49m\u001b[38;5;241;43m=\u001b[39;49m\u001b[43mcallbacks\u001b[49m\u001b[43m,\u001b[49m\n\u001b[0;32m    483\u001b[0m \u001b[43m        \u001b[49m\u001b[43mgc_after_trial\u001b[49m\u001b[38;5;241;43m=\u001b[39;49m\u001b[43mgc_after_trial\u001b[49m\u001b[43m,\u001b[49m\n\u001b[0;32m    484\u001b[0m \u001b[43m        \u001b[49m\u001b[43mshow_progress_bar\u001b[49m\u001b[38;5;241;43m=\u001b[39;49m\u001b[43mshow_progress_bar\u001b[49m\u001b[43m,\u001b[49m\n\u001b[0;32m    485\u001b[0m \u001b[43m    \u001b[49m\u001b[43m)\u001b[49m\n",
      "File \u001b[1;32md:\\UCC-DRN-Pytorch\\.venv\\lib\\site-packages\\optuna\\study\\_optimize.py:63\u001b[0m, in \u001b[0;36m_optimize\u001b[1;34m(study, func, n_trials, timeout, n_jobs, catch, callbacks, gc_after_trial, show_progress_bar)\u001b[0m\n\u001b[0;32m     61\u001b[0m \u001b[38;5;28;01mtry\u001b[39;00m:\n\u001b[0;32m     62\u001b[0m     \u001b[38;5;28;01mif\u001b[39;00m n_jobs \u001b[38;5;241m==\u001b[39m \u001b[38;5;241m1\u001b[39m:\n\u001b[1;32m---> 63\u001b[0m         \u001b[43m_optimize_sequential\u001b[49m\u001b[43m(\u001b[49m\n\u001b[0;32m     64\u001b[0m \u001b[43m            \u001b[49m\u001b[43mstudy\u001b[49m\u001b[43m,\u001b[49m\n\u001b[0;32m     65\u001b[0m \u001b[43m            \u001b[49m\u001b[43mfunc\u001b[49m\u001b[43m,\u001b[49m\n\u001b[0;32m     66\u001b[0m \u001b[43m            \u001b[49m\u001b[43mn_trials\u001b[49m\u001b[43m,\u001b[49m\n\u001b[0;32m     67\u001b[0m \u001b[43m            \u001b[49m\u001b[43mtimeout\u001b[49m\u001b[43m,\u001b[49m\n\u001b[0;32m     68\u001b[0m \u001b[43m            \u001b[49m\u001b[43mcatch\u001b[49m\u001b[43m,\u001b[49m\n\u001b[0;32m     69\u001b[0m \u001b[43m            \u001b[49m\u001b[43mcallbacks\u001b[49m\u001b[43m,\u001b[49m\n\u001b[0;32m     70\u001b[0m \u001b[43m            \u001b[49m\u001b[43mgc_after_trial\u001b[49m\u001b[43m,\u001b[49m\n\u001b[0;32m     71\u001b[0m \u001b[43m            \u001b[49m\u001b[43mreseed_sampler_rng\u001b[49m\u001b[38;5;241;43m=\u001b[39;49m\u001b[38;5;28;43;01mFalse\u001b[39;49;00m\u001b[43m,\u001b[49m\n\u001b[0;32m     72\u001b[0m \u001b[43m            \u001b[49m\u001b[43mtime_start\u001b[49m\u001b[38;5;241;43m=\u001b[39;49m\u001b[38;5;28;43;01mNone\u001b[39;49;00m\u001b[43m,\u001b[49m\n\u001b[0;32m     73\u001b[0m \u001b[43m            \u001b[49m\u001b[43mprogress_bar\u001b[49m\u001b[38;5;241;43m=\u001b[39;49m\u001b[43mprogress_bar\u001b[49m\u001b[43m,\u001b[49m\n\u001b[0;32m     74\u001b[0m \u001b[43m        \u001b[49m\u001b[43m)\u001b[49m\n\u001b[0;32m     75\u001b[0m     \u001b[38;5;28;01melse\u001b[39;00m:\n\u001b[0;32m     76\u001b[0m         \u001b[38;5;28;01mif\u001b[39;00m n_jobs \u001b[38;5;241m==\u001b[39m \u001b[38;5;241m-\u001b[39m\u001b[38;5;241m1\u001b[39m:\n",
      "File \u001b[1;32md:\\UCC-DRN-Pytorch\\.venv\\lib\\site-packages\\optuna\\study\\_optimize.py:160\u001b[0m, in \u001b[0;36m_optimize_sequential\u001b[1;34m(study, func, n_trials, timeout, catch, callbacks, gc_after_trial, reseed_sampler_rng, time_start, progress_bar)\u001b[0m\n\u001b[0;32m    157\u001b[0m         \u001b[38;5;28;01mbreak\u001b[39;00m\n\u001b[0;32m    159\u001b[0m \u001b[38;5;28;01mtry\u001b[39;00m:\n\u001b[1;32m--> 160\u001b[0m     frozen_trial \u001b[38;5;241m=\u001b[39m \u001b[43m_run_trial\u001b[49m\u001b[43m(\u001b[49m\u001b[43mstudy\u001b[49m\u001b[43m,\u001b[49m\u001b[43m \u001b[49m\u001b[43mfunc\u001b[49m\u001b[43m,\u001b[49m\u001b[43m \u001b[49m\u001b[43mcatch\u001b[49m\u001b[43m)\u001b[49m\n\u001b[0;32m    161\u001b[0m \u001b[38;5;28;01mfinally\u001b[39;00m:\n\u001b[0;32m    162\u001b[0m     \u001b[38;5;66;03m# The following line mitigates memory problems that can be occurred in some\u001b[39;00m\n\u001b[0;32m    163\u001b[0m     \u001b[38;5;66;03m# environments (e.g., services that use computing containers such as GitHub Actions).\u001b[39;00m\n\u001b[0;32m    164\u001b[0m     \u001b[38;5;66;03m# Please refer to the following PR for further details:\u001b[39;00m\n\u001b[0;32m    165\u001b[0m     \u001b[38;5;66;03m# https://github.com/optuna/optuna/pull/325.\u001b[39;00m\n\u001b[0;32m    166\u001b[0m     \u001b[38;5;28;01mif\u001b[39;00m gc_after_trial:\n",
      "File \u001b[1;32md:\\UCC-DRN-Pytorch\\.venv\\lib\\site-packages\\optuna\\study\\_optimize.py:248\u001b[0m, in \u001b[0;36m_run_trial\u001b[1;34m(study, func, catch)\u001b[0m\n\u001b[0;32m    241\u001b[0m         \u001b[38;5;28;01massert\u001b[39;00m \u001b[38;5;28;01mFalse\u001b[39;00m, \u001b[38;5;124m\"\u001b[39m\u001b[38;5;124mShould not reach.\u001b[39m\u001b[38;5;124m\"\u001b[39m\n\u001b[0;32m    243\u001b[0m \u001b[38;5;28;01mif\u001b[39;00m (\n\u001b[0;32m    244\u001b[0m     frozen_trial\u001b[38;5;241m.\u001b[39mstate \u001b[38;5;241m==\u001b[39m TrialState\u001b[38;5;241m.\u001b[39mFAIL\n\u001b[0;32m    245\u001b[0m     \u001b[38;5;129;01mand\u001b[39;00m func_err \u001b[38;5;129;01mis\u001b[39;00m \u001b[38;5;129;01mnot\u001b[39;00m \u001b[38;5;28;01mNone\u001b[39;00m\n\u001b[0;32m    246\u001b[0m     \u001b[38;5;129;01mand\u001b[39;00m \u001b[38;5;129;01mnot\u001b[39;00m \u001b[38;5;28misinstance\u001b[39m(func_err, catch)\n\u001b[0;32m    247\u001b[0m ):\n\u001b[1;32m--> 248\u001b[0m     \u001b[38;5;28;01mraise\u001b[39;00m func_err\n\u001b[0;32m    249\u001b[0m \u001b[38;5;28;01mreturn\u001b[39;00m frozen_trial\n",
      "File \u001b[1;32md:\\UCC-DRN-Pytorch\\.venv\\lib\\site-packages\\optuna\\study\\_optimize.py:197\u001b[0m, in \u001b[0;36m_run_trial\u001b[1;34m(study, func, catch)\u001b[0m\n\u001b[0;32m    195\u001b[0m \u001b[38;5;28;01mwith\u001b[39;00m get_heartbeat_thread(trial\u001b[38;5;241m.\u001b[39m_trial_id, study\u001b[38;5;241m.\u001b[39m_storage):\n\u001b[0;32m    196\u001b[0m     \u001b[38;5;28;01mtry\u001b[39;00m:\n\u001b[1;32m--> 197\u001b[0m         value_or_values \u001b[38;5;241m=\u001b[39m \u001b[43mfunc\u001b[49m\u001b[43m(\u001b[49m\u001b[43mtrial\u001b[49m\u001b[43m)\u001b[49m\n\u001b[0;32m    198\u001b[0m     \u001b[38;5;28;01mexcept\u001b[39;00m exceptions\u001b[38;5;241m.\u001b[39mTrialPruned \u001b[38;5;28;01mas\u001b[39;00m e:\n\u001b[0;32m    199\u001b[0m         \u001b[38;5;66;03m# TODO(mamu): Handle multi-objective cases.\u001b[39;00m\n\u001b[0;32m    200\u001b[0m         state \u001b[38;5;241m=\u001b[39m TrialState\u001b[38;5;241m.\u001b[39mPRUNED\n",
      "Cell \u001b[1;32mIn[3], line 64\u001b[0m, in \u001b[0;36mobjective\u001b[1;34m(trial)\u001b[0m\n\u001b[0;32m     62\u001b[0m train_loader, val_loader \u001b[38;5;241m=\u001b[39m init_dataloader(args)\n\u001b[0;32m     63\u001b[0m \u001b[38;5;28mprint\u001b[39m(cfg)\n\u001b[1;32m---> 64\u001b[0m best_acc \u001b[38;5;241m=\u001b[39m \u001b[43mtrain\u001b[49m\u001b[43m(\u001b[49m\u001b[43margs\u001b[49m\u001b[43m,\u001b[49m\u001b[43m \u001b[49m\u001b[43mmodel\u001b[49m\u001b[43m,\u001b[49m\u001b[43m \u001b[49m\u001b[43moptimizer\u001b[49m\u001b[43m,\u001b[49m\u001b[43m \u001b[49m\u001b[38;5;28;43;01mNone\u001b[39;49;00m\u001b[43m,\u001b[49m\n\u001b[0;32m     65\u001b[0m \u001b[43m                    \u001b[49m\u001b[43mtrain_loader\u001b[49m\u001b[43m,\u001b[49m\u001b[43m \u001b[49m\u001b[43mval_loader\u001b[49m\u001b[43m,\u001b[49m\u001b[43m \u001b[49m\u001b[43mdevice\u001b[49m\u001b[43m)\u001b[49m\n",
      "Cell \u001b[1;32mIn[2], line 125\u001b[0m, in \u001b[0;36mtrain\u001b[1;34m(args, model, optimizer, lr_scheduler, train_loader, val_loader, device)\u001b[0m\n\u001b[0;32m    122\u001b[0m optimizer\u001b[38;5;241m.\u001b[39mzero_grad()\n\u001b[0;32m    124\u001b[0m \u001b[38;5;28;01mif\u001b[39;00m model\u001b[38;5;241m.\u001b[39malpha \u001b[38;5;241m==\u001b[39m \u001b[38;5;241m1\u001b[39m:\n\u001b[1;32m--> 125\u001b[0m     ucc_logits \u001b[38;5;241m=\u001b[39m \u001b[43mmodel\u001b[49m\u001b[43m(\u001b[49m\u001b[43mbatch_samples\u001b[49m\u001b[43m,\u001b[49m\u001b[43m \u001b[49m\u001b[43mbatch_labels\u001b[49m\u001b[43m)\u001b[49m\n\u001b[0;32m    126\u001b[0m     loss: torch\u001b[38;5;241m.\u001b[39mTensor \u001b[38;5;241m=\u001b[39m model\u001b[38;5;241m.\u001b[39mcompute_loss(\n\u001b[0;32m    127\u001b[0m         labels\u001b[38;5;241m=\u001b[39mbatch_labels,\n\u001b[0;32m    128\u001b[0m         output\u001b[38;5;241m=\u001b[39mucc_logits\n\u001b[0;32m    129\u001b[0m     )\n\u001b[0;32m    130\u001b[0m \u001b[38;5;28;01melse\u001b[39;00m:\n",
      "File \u001b[1;32md:\\UCC-DRN-Pytorch\\.venv\\lib\\site-packages\\torch\\nn\\modules\\module.py:1736\u001b[0m, in \u001b[0;36mModule._wrapped_call_impl\u001b[1;34m(self, *args, **kwargs)\u001b[0m\n\u001b[0;32m   1734\u001b[0m     \u001b[38;5;28;01mreturn\u001b[39;00m \u001b[38;5;28mself\u001b[39m\u001b[38;5;241m.\u001b[39m_compiled_call_impl(\u001b[38;5;241m*\u001b[39margs, \u001b[38;5;241m*\u001b[39m\u001b[38;5;241m*\u001b[39mkwargs)  \u001b[38;5;66;03m# type: ignore[misc]\u001b[39;00m\n\u001b[0;32m   1735\u001b[0m \u001b[38;5;28;01melse\u001b[39;00m:\n\u001b[1;32m-> 1736\u001b[0m     \u001b[38;5;28;01mreturn\u001b[39;00m \u001b[38;5;28mself\u001b[39m\u001b[38;5;241m.\u001b[39m_call_impl(\u001b[38;5;241m*\u001b[39margs, \u001b[38;5;241m*\u001b[39m\u001b[38;5;241m*\u001b[39mkwargs)\n",
      "File \u001b[1;32md:\\UCC-DRN-Pytorch\\.venv\\lib\\site-packages\\torch\\nn\\modules\\module.py:1747\u001b[0m, in \u001b[0;36mModule._call_impl\u001b[1;34m(self, *args, **kwargs)\u001b[0m\n\u001b[0;32m   1742\u001b[0m \u001b[38;5;66;03m# If we don't have any hooks, we want to skip the rest of the logic in\u001b[39;00m\n\u001b[0;32m   1743\u001b[0m \u001b[38;5;66;03m# this function, and just call forward.\u001b[39;00m\n\u001b[0;32m   1744\u001b[0m \u001b[38;5;28;01mif\u001b[39;00m \u001b[38;5;129;01mnot\u001b[39;00m (\u001b[38;5;28mself\u001b[39m\u001b[38;5;241m.\u001b[39m_backward_hooks \u001b[38;5;129;01mor\u001b[39;00m \u001b[38;5;28mself\u001b[39m\u001b[38;5;241m.\u001b[39m_backward_pre_hooks \u001b[38;5;129;01mor\u001b[39;00m \u001b[38;5;28mself\u001b[39m\u001b[38;5;241m.\u001b[39m_forward_hooks \u001b[38;5;129;01mor\u001b[39;00m \u001b[38;5;28mself\u001b[39m\u001b[38;5;241m.\u001b[39m_forward_pre_hooks\n\u001b[0;32m   1745\u001b[0m         \u001b[38;5;129;01mor\u001b[39;00m _global_backward_pre_hooks \u001b[38;5;129;01mor\u001b[39;00m _global_backward_hooks\n\u001b[0;32m   1746\u001b[0m         \u001b[38;5;129;01mor\u001b[39;00m _global_forward_hooks \u001b[38;5;129;01mor\u001b[39;00m _global_forward_pre_hooks):\n\u001b[1;32m-> 1747\u001b[0m     \u001b[38;5;28;01mreturn\u001b[39;00m forward_call(\u001b[38;5;241m*\u001b[39margs, \u001b[38;5;241m*\u001b[39m\u001b[38;5;241m*\u001b[39mkwargs)\n\u001b[0;32m   1749\u001b[0m result \u001b[38;5;241m=\u001b[39m \u001b[38;5;28;01mNone\u001b[39;00m\n\u001b[0;32m   1750\u001b[0m called_always_called_hooks \u001b[38;5;241m=\u001b[39m \u001b[38;5;28mset\u001b[39m()\n",
      "File \u001b[1;32md:\\UCC-DRN-Pytorch\\mnist\\model.py:213\u001b[0m, in \u001b[0;36mUCCModel.forward\u001b[1;34m(self, x, label)\u001b[0m\n\u001b[0;32m    210\u001b[0m feature_ \u001b[38;5;241m=\u001b[39m feature\u001b[38;5;241m.\u001b[39mview(batch_size, num_instances, feature\u001b[38;5;241m.\u001b[39mshape[\u001b[38;5;241m-\u001b[39m\u001b[38;5;241m1\u001b[39m])\n\u001b[0;32m    211\u001b[0m \u001b[38;5;66;03m# use kernel density estimation to estimate the distribution of the features\u001b[39;00m\n\u001b[0;32m    212\u001b[0m \u001b[38;5;66;03m# output of kde is concatenated features distribution\u001b[39;00m\n\u001b[1;32m--> 213\u001b[0m feature_distribution \u001b[38;5;241m=\u001b[39m \u001b[38;5;28;43mself\u001b[39;49m\u001b[38;5;241;43m.\u001b[39;49m\u001b[43mkde\u001b[49m\u001b[43m(\u001b[49m\u001b[43mfeature_\u001b[49m\u001b[43m,\u001b[49m\u001b[43m \u001b[49m\u001b[38;5;28;43mself\u001b[39;49m\u001b[38;5;241;43m.\u001b[39;49m\u001b[43mnum_nodes\u001b[49m\u001b[43m,\u001b[49m\u001b[43m \u001b[49m\u001b[38;5;28;43mself\u001b[39;49m\u001b[38;5;241;43m.\u001b[39;49m\u001b[43msigma\u001b[49m\u001b[43m)\u001b[49m\n\u001b[0;32m    215\u001b[0m out \u001b[38;5;241m=\u001b[39m \u001b[38;5;28mself\u001b[39m\u001b[38;5;241m.\u001b[39mucc_classifier(feature_distribution)\n\u001b[0;32m    216\u001b[0m \u001b[38;5;28;01mif\u001b[39;00m \u001b[38;5;28mself\u001b[39m\u001b[38;5;241m.\u001b[39mdecoder:\n",
      "File \u001b[1;32md:\\UCC-DRN-Pytorch\\mnist\\model.py:185\u001b[0m, in \u001b[0;36mUCCModel.kde\u001b[1;34m(self, data, num_nodes, sigma)\u001b[0m\n\u001b[0;32m    183\u001b[0m out_list \u001b[38;5;241m=\u001b[39m []\n\u001b[0;32m    184\u001b[0m \u001b[38;5;28;01mfor\u001b[39;00m i \u001b[38;5;129;01min\u001b[39;00m \u001b[38;5;28mrange\u001b[39m(num_features):\n\u001b[1;32m--> 185\u001b[0m     one_feature \u001b[38;5;241m=\u001b[39m \u001b[43mdata\u001b[49m\u001b[43m[\u001b[49m\u001b[43m:\u001b[49m\u001b[43m,\u001b[49m\u001b[43m \u001b[49m\u001b[43m:\u001b[49m\u001b[43m,\u001b[49m\u001b[43m \u001b[49m\u001b[43mi\u001b[49m\u001b[43m \u001b[49m\u001b[43m:\u001b[49m\u001b[43m \u001b[49m\u001b[43mi\u001b[49m\u001b[43m \u001b[49m\u001b[38;5;241;43m+\u001b[39;49m\u001b[43m \u001b[49m\u001b[38;5;241;43m1\u001b[39;49m\u001b[43m]\u001b[49m\u001b[38;5;241m.\u001b[39mrepeat(\u001b[38;5;241m1\u001b[39m, \u001b[38;5;241m1\u001b[39m, num_nodes)\n\u001b[0;32m    186\u001b[0m     k_diff_2 \u001b[38;5;241m=\u001b[39m (k_sample_points \u001b[38;5;241m-\u001b[39m one_feature) \u001b[38;5;241m*\u001b[39m\u001b[38;5;241m*\u001b[39m \u001b[38;5;241m2\u001b[39m\n\u001b[0;32m    187\u001b[0m     k_result \u001b[38;5;241m=\u001b[39m k_alpha \u001b[38;5;241m*\u001b[39m torch\u001b[38;5;241m.\u001b[39mexp(k_beta \u001b[38;5;241m*\u001b[39m k_diff_2)\n",
      "File \u001b[1;32md:\\UCC-DRN-Pytorch\\.venv\\lib\\site-packages\\torch\\fx\\traceback.py:72\u001b[0m, in \u001b[0;36mformat_stack\u001b[1;34m()\u001b[0m\n\u001b[0;32m     69\u001b[0m     \u001b[38;5;28;01mreturn\u001b[39;00m [current_meta\u001b[38;5;241m.\u001b[39mget(\u001b[38;5;124m\"\u001b[39m\u001b[38;5;124mstack_trace\u001b[39m\u001b[38;5;124m\"\u001b[39m, \u001b[38;5;124m\"\u001b[39m\u001b[38;5;124m\"\u001b[39m)]\n\u001b[0;32m     70\u001b[0m \u001b[38;5;28;01melse\u001b[39;00m:\n\u001b[0;32m     71\u001b[0m     \u001b[38;5;66;03m# fallback to traceback.format_stack()\u001b[39;00m\n\u001b[1;32m---> 72\u001b[0m     \u001b[38;5;28;01mreturn\u001b[39;00m traceback\u001b[38;5;241m.\u001b[39mformat_list(\u001b[43mtraceback\u001b[49m\u001b[38;5;241;43m.\u001b[39;49m\u001b[43mextract_stack\u001b[49m\u001b[43m(\u001b[49m\u001b[43m)\u001b[49m[:\u001b[38;5;241m-\u001b[39m\u001b[38;5;241m1\u001b[39m])\n",
      "File \u001b[1;32m~\\.conda\\envs\\python39\\lib\\traceback.py:211\u001b[0m, in \u001b[0;36mextract_stack\u001b[1;34m(f, limit)\u001b[0m\n\u001b[0;32m    209\u001b[0m \u001b[38;5;28;01mif\u001b[39;00m f \u001b[38;5;129;01mis\u001b[39;00m \u001b[38;5;28;01mNone\u001b[39;00m:\n\u001b[0;32m    210\u001b[0m     f \u001b[38;5;241m=\u001b[39m sys\u001b[38;5;241m.\u001b[39m_getframe()\u001b[38;5;241m.\u001b[39mf_back\n\u001b[1;32m--> 211\u001b[0m stack \u001b[38;5;241m=\u001b[39m \u001b[43mStackSummary\u001b[49m\u001b[38;5;241;43m.\u001b[39;49m\u001b[43mextract\u001b[49m\u001b[43m(\u001b[49m\u001b[43mwalk_stack\u001b[49m\u001b[43m(\u001b[49m\u001b[43mf\u001b[49m\u001b[43m)\u001b[49m\u001b[43m,\u001b[49m\u001b[43m \u001b[49m\u001b[43mlimit\u001b[49m\u001b[38;5;241;43m=\u001b[39;49m\u001b[43mlimit\u001b[49m\u001b[43m)\u001b[49m\n\u001b[0;32m    212\u001b[0m stack\u001b[38;5;241m.\u001b[39mreverse()\n\u001b[0;32m    213\u001b[0m \u001b[38;5;28;01mreturn\u001b[39;00m stack\n",
      "File \u001b[1;32m~\\.conda\\envs\\python39\\lib\\traceback.py:362\u001b[0m, in \u001b[0;36mStackSummary.extract\u001b[1;34m(klass, frame_gen, limit, lookup_lines, capture_locals)\u001b[0m\n\u001b[0;32m    359\u001b[0m     result\u001b[38;5;241m.\u001b[39mappend(FrameSummary(\n\u001b[0;32m    360\u001b[0m         filename, lineno, name, lookup_line\u001b[38;5;241m=\u001b[39m\u001b[38;5;28;01mFalse\u001b[39;00m, \u001b[38;5;28mlocals\u001b[39m\u001b[38;5;241m=\u001b[39mf_locals))\n\u001b[0;32m    361\u001b[0m \u001b[38;5;28;01mfor\u001b[39;00m filename \u001b[38;5;129;01min\u001b[39;00m fnames:\n\u001b[1;32m--> 362\u001b[0m     \u001b[43mlinecache\u001b[49m\u001b[38;5;241;43m.\u001b[39;49m\u001b[43mcheckcache\u001b[49m\u001b[43m(\u001b[49m\u001b[43mfilename\u001b[49m\u001b[43m)\u001b[49m\n\u001b[0;32m    363\u001b[0m \u001b[38;5;66;03m# If immediate lookup was desired, trigger lookups now.\u001b[39;00m\n\u001b[0;32m    364\u001b[0m \u001b[38;5;28;01mif\u001b[39;00m lookup_lines:\n",
      "File \u001b[1;32m~\\.conda\\envs\\python39\\lib\\linecache.py:72\u001b[0m, in \u001b[0;36mcheckcache\u001b[1;34m(filename)\u001b[0m\n\u001b[0;32m     70\u001b[0m     \u001b[38;5;28;01mcontinue\u001b[39;00m   \u001b[38;5;66;03m# no-op for files loaded via a __loader__\u001b[39;00m\n\u001b[0;32m     71\u001b[0m \u001b[38;5;28;01mtry\u001b[39;00m:\n\u001b[1;32m---> 72\u001b[0m     stat \u001b[38;5;241m=\u001b[39m \u001b[43mos\u001b[49m\u001b[38;5;241;43m.\u001b[39;49m\u001b[43mstat\u001b[49m\u001b[43m(\u001b[49m\u001b[43mfullname\u001b[49m\u001b[43m)\u001b[49m\n\u001b[0;32m     73\u001b[0m \u001b[38;5;28;01mexcept\u001b[39;00m \u001b[38;5;167;01mOSError\u001b[39;00m:\n\u001b[0;32m     74\u001b[0m     cache\u001b[38;5;241m.\u001b[39mpop(filename, \u001b[38;5;28;01mNone\u001b[39;00m)\n",
      "\u001b[1;31mKeyboardInterrupt\u001b[0m: "
     ]
    }
   ],
   "source": [
    "def objective(trial: optuna.Trial):\n",
    "    with mlflow.start_run(nested=True):\n",
    "        # cfg = OmegaConf.load(\"../configs/train_drn.yaml\")\n",
    "        with initialize(version_base=None, config_path=\"../configs\"):\n",
    "            cfg = compose(config_name=\"train_drn_hybrid_exp\")\n",
    "        # with open(\"params.json\", \"r\") as file:\n",
    "        #     params_config = json.loads(file.read())\n",
    "        cfg.model = cfg.experiments\n",
    "        defaults = {\n",
    "            \"num_bins\": {\n",
    "                \"type\": \"int\",\n",
    "                \"value\": 10,\n",
    "                \"range\": [1,100],\n",
    "                \"aliases\": [\n",
    "                    \"model.drn.num_bins\",\n",
    "                    \"args.num_bins\",\n",
    "                    \"model.kde_model.num_bins\"\n",
    "                ]\n",
    "            },\n",
    "            \"lr\": {\n",
    "                \"type\": \"float\",\n",
    "                # \"value\": 0.085,\n",
    "                \"range\": [0.008, 0.08],\n",
    "                \"aliases\": [\"args.learning_rate\"]\n",
    "            },\n",
    "            \"hidden_q\": {\n",
    "                \"type\": \"int\",\n",
    "                \"value\": 10,\n",
    "                \"range\": [4, 100],\n",
    "                \"aliases\": [\"model.drn.hidden_q\"]\n",
    "            },\n",
    "            \"num_layers\": {\n",
    "                \"type\": \"int\",\n",
    "                \"value\": 2,\n",
    "                \"range\": [1, 10],\n",
    "                \"aliases\": [\"model.drn.num_layers\"]\n",
    "            },\n",
    "            \"num_nodes\": {\n",
    "                \"type\": \"int\",\n",
    "                \"value\": 9,\n",
    "                \"range\": [1, 10],\n",
    "                \"aliases\": [\"model.drn.num_nodes\"]\n",
    "            }\n",
    "        }\n",
    "        for key, value in defaults.items():\n",
    "            if \"value\" in value:\n",
    "                v = value[\"value\"]\n",
    "            else:\n",
    "                if value[\"type\"]==\"int\":\n",
    "                    v = trial.suggest_int(key, value[\"range\"][0], value[\"range\"][1])\n",
    "                else:\n",
    "                    v = trial.suggest_float(key, value[\"range\"][0], value[\"range\"][1])\n",
    "            for a in value[\"aliases\"]:\n",
    "                exec(f\"cfg.{a} = {v}\")\n",
    "\n",
    "        print(cfg)\n",
    "        mlflow.log_dict(dict(OmegaConf.to_object(cfg)), \"config.yaml\")\n",
    "\n",
    "        args = cfg.args\n",
    "        device = torch.device(\"cuda\" if torch.cuda.is_available() else \"mps\")\n",
    "        model, optimizer = init_model_and_optimizer(args, cfg, device)\n",
    "        train_loader, val_loader = init_dataloader(args)\n",
    "        print(cfg)\n",
    "        best_acc = train(args, model, optimizer, None,\n",
    "                            train_loader, val_loader, device)\n",
    "\n",
    "\n",
    "\n",
    "\n",
    "mlflow.set_tracking_uri(\"mlruns\")\n",
    "run_name = \"ucc-drn-hybrid\"\n",
    "experiment_id = get_or_create_experiment(experiment_name=run_name)\n",
    "mlflow.set_experiment(experiment_id=experiment_id)\n",
    "\n",
    "study = parse_experiment_runs_to_optuna_study(\n",
    "    experiment_name=run_name,\n",
    "    study_name=run_name,\n",
    "    cfg_name=\"train_drn_hybrid_exp\",\n",
    "    params_file=\"params-bin.json\"\n",
    ")\n",
    "study.optimize(func=objective, n_trials=100, show_progress_bar=True)\n"
   ]
  },
  {
   "cell_type": "code",
   "execution_count": null,
   "id": "ea879147",
   "metadata": {},
   "outputs": [],
   "source": []
  }
 ],
 "metadata": {
  "kernelspec": {
   "display_name": ".venv",
   "language": "python",
   "name": "python3"
  },
  "language_info": {
   "codemirror_mode": {
    "name": "ipython",
    "version": 3
   },
   "file_extension": ".py",
   "mimetype": "text/x-python",
   "name": "python",
   "nbconvert_exporter": "python",
   "pygments_lexer": "ipython3",
   "version": "3.9.18"
  }
 },
 "nbformat": 4,
 "nbformat_minor": 5
}
