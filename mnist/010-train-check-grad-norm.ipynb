{
 "cells": [
  {
   "cell_type": "code",
   "execution_count": 1,
   "id": "ed0c4943",
   "metadata": {},
   "outputs": [
    {
     "name": "stdout",
     "output_type": "stream",
     "text": [
      "Training finished!!!\n",
      "{'num_bins': 11, 'hidden_q': 100, 'num_layers': 2, 'num_nodes': 9, 'init_method': 'uniform', 'init_upper_bound': 0.49999999999999967, 'init_lower_bound': 0.09999999999999976, 'output_bins': 4}\n",
      "x_train shape: torch.Size([50000, 1, 28, 28])\n",
      "50000 train samples\n",
      "10000 val samples\n",
      "tensor(0.3105)\n",
      "tensor(0.1325)\n",
      "10000 test samples\n",
      "x_train shape: torch.Size([50000, 1, 28, 28])\n",
      "50000 train samples\n",
      "10000 val samples\n",
      "tensor(0.3105)\n",
      "tensor(0.1325)\n",
      "10000 test samples\n"
     ]
    },
    {
     "name": "stderr",
     "output_type": "stream",
     "text": [
      "2025/08/22 10:43:40 WARNING mlflow.models.model: Model logged without a signature and input example. Please set `input_example` parameter when logging the model to auto infer the model signature.\n"
     ]
    },
    {
     "name": "stdout",
     "output_type": "stream",
     "text": [
      "Step 10: {'train_ucc_loss': np.float64(1.39029), 'train_ucc_acc': np.float64(0.1)}\n",
      "Step 20: {'train_ucc_loss': np.float64(1.38217), 'train_ucc_acc': np.float64(0.4)}\n",
      "Step 30: {'train_ucc_loss': np.float64(1.38511), 'train_ucc_acc': np.float64(0.3)}\n",
      "Step 40: {'train_ucc_loss': np.float64(1.39059), 'train_ucc_acc': np.float64(0.15)}\n",
      "Training finished!!!\n",
      "{'num_bins': 11, 'hidden_q': 100, 'num_layers': 2, 'num_nodes': 9, 'init_method': 'uniform', 'init_upper_bound': 0.5999999999999996, 'init_lower_bound': 0.09999999999999976, 'output_bins': 4}\n",
      "x_train shape: torch.Size([50000, 1, 28, 28])\n",
      "50000 train samples\n",
      "10000 val samples\n",
      "tensor(0.3105)\n",
      "tensor(0.1325)\n",
      "10000 test samples\n",
      "x_train shape: torch.Size([50000, 1, 28, 28])\n",
      "50000 train samples\n",
      "10000 val samples\n",
      "tensor(0.3105)\n",
      "tensor(0.1325)\n",
      "10000 test samples\n"
     ]
    },
    {
     "name": "stderr",
     "output_type": "stream",
     "text": [
      "2025/08/22 10:44:11 WARNING mlflow.models.model: Model logged without a signature and input example. Please set `input_example` parameter when logging the model to auto infer the model signature.\n"
     ]
    },
    {
     "name": "stdout",
     "output_type": "stream",
     "text": [
      "Step 10: {'train_ucc_loss': np.float64(1.38549), 'train_ucc_acc': np.float64(0.25)}\n",
      "Step 20: {'train_ucc_loss': np.float64(1.39736), 'train_ucc_acc': np.float64(0.15)}\n",
      "Step 30: {'train_ucc_loss': np.float64(1.38285), 'train_ucc_acc': np.float64(0.25)}\n",
      "Step 40: {'train_ucc_loss': np.float64(1.3919), 'train_ucc_acc': np.float64(0.2)}\n",
      "Training finished!!!\n",
      "{'num_bins': 11, 'hidden_q': 100, 'num_layers': 2, 'num_nodes': 9, 'init_method': 'uniform', 'init_upper_bound': 0.6999999999999996, 'init_lower_bound': 0.09999999999999976, 'output_bins': 4}\n",
      "x_train shape: torch.Size([50000, 1, 28, 28])\n",
      "50000 train samples\n",
      "10000 val samples\n",
      "tensor(0.3105)\n",
      "tensor(0.1325)\n",
      "10000 test samples\n",
      "x_train shape: torch.Size([50000, 1, 28, 28])\n",
      "50000 train samples\n",
      "10000 val samples\n",
      "tensor(0.3105)\n",
      "tensor(0.1325)\n",
      "10000 test samples\n"
     ]
    },
    {
     "name": "stderr",
     "output_type": "stream",
     "text": [
      "2025/08/22 10:44:41 WARNING mlflow.models.model: Model logged without a signature and input example. Please set `input_example` parameter when logging the model to auto infer the model signature.\n"
     ]
    },
    {
     "name": "stdout",
     "output_type": "stream",
     "text": [
      "Training finished!!!\n",
      "{'num_bins': 11, 'hidden_q': 100, 'num_layers': 2, 'num_nodes': 9, 'init_method': 'uniform', 'init_upper_bound': 0.7999999999999996, 'init_lower_bound': 0.09999999999999976, 'output_bins': 4}\n",
      "x_train shape: torch.Size([50000, 1, 28, 28])\n",
      "50000 train samples\n",
      "10000 val samples\n",
      "tensor(0.3105)\n",
      "tensor(0.1325)\n",
      "10000 test samples\n",
      "x_train shape: torch.Size([50000, 1, 28, 28])\n",
      "50000 train samples\n",
      "10000 val samples\n",
      "tensor(0.3105)\n",
      "tensor(0.1325)\n",
      "10000 test samples\n"
     ]
    },
    {
     "name": "stderr",
     "output_type": "stream",
     "text": [
      "2025/08/22 10:44:51 WARNING mlflow.models.model: Model logged without a signature and input example. Please set `input_example` parameter when logging the model to auto infer the model signature.\n"
     ]
    },
    {
     "name": "stdout",
     "output_type": "stream",
     "text": [
      "Training finished!!!\n",
      "{'num_bins': 11, 'hidden_q': 100, 'num_layers': 2, 'num_nodes': 9, 'init_method': 'uniform', 'init_upper_bound': 0.8999999999999996, 'init_lower_bound': 0.09999999999999976, 'output_bins': 4}\n",
      "x_train shape: torch.Size([50000, 1, 28, 28])\n",
      "50000 train samples\n",
      "10000 val samples\n",
      "tensor(0.3105)\n",
      "tensor(0.1325)\n",
      "10000 test samples\n",
      "x_train shape: torch.Size([50000, 1, 28, 28])\n",
      "50000 train samples\n",
      "10000 val samples\n",
      "tensor(0.3105)\n",
      "tensor(0.1325)\n",
      "10000 test samples\n"
     ]
    },
    {
     "name": "stderr",
     "output_type": "stream",
     "text": [
      "2025/08/22 10:45:04 WARNING mlflow.models.model: Model logged without a signature and input example. Please set `input_example` parameter when logging the model to auto infer the model signature.\n"
     ]
    },
    {
     "name": "stdout",
     "output_type": "stream",
     "text": [
      "Step 10: {'train_ucc_loss': np.float64(1.36539), 'train_ucc_acc': np.float64(0.35)}\n",
      "Step 20: {'train_ucc_loss': np.float64(1.38113), 'train_ucc_acc': np.float64(0.05)}\n",
      "Step 30: {'train_ucc_loss': np.float64(1.37363), 'train_ucc_acc': np.float64(0.35)}\n",
      "Step 40: {'train_ucc_loss': np.float64(1.40217), 'train_ucc_acc': np.float64(0.0)}\n",
      "Training finished!!!\n",
      "{'num_bins': 11, 'hidden_q': 100, 'num_layers': 2, 'num_nodes': 9, 'init_method': 'uniform', 'init_upper_bound': 0.2999999999999997, 'init_lower_bound': 0.19999999999999973, 'output_bins': 4}\n",
      "x_train shape: torch.Size([50000, 1, 28, 28])\n",
      "50000 train samples\n",
      "10000 val samples\n",
      "tensor(0.3105)\n",
      "tensor(0.1325)\n",
      "10000 test samples\n",
      "x_train shape: torch.Size([50000, 1, 28, 28])\n",
      "50000 train samples\n",
      "10000 val samples\n",
      "tensor(0.3105)\n",
      "tensor(0.1325)\n",
      "10000 test samples\n"
     ]
    },
    {
     "name": "stderr",
     "output_type": "stream",
     "text": [
      "2025/08/22 10:45:36 WARNING mlflow.models.model: Model logged without a signature and input example. Please set `input_example` parameter when logging the model to auto infer the model signature.\n"
     ]
    },
    {
     "name": "stdout",
     "output_type": "stream",
     "text": [
      "Training finished!!!\n",
      "{'num_bins': 11, 'hidden_q': 100, 'num_layers': 2, 'num_nodes': 9, 'init_method': 'uniform', 'init_upper_bound': 0.3999999999999997, 'init_lower_bound': 0.19999999999999973, 'output_bins': 4}\n",
      "x_train shape: torch.Size([50000, 1, 28, 28])\n",
      "50000 train samples\n",
      "10000 val samples\n",
      "tensor(0.3105)\n",
      "tensor(0.1325)\n",
      "10000 test samples\n",
      "x_train shape: torch.Size([50000, 1, 28, 28])\n",
      "50000 train samples\n",
      "10000 val samples\n",
      "tensor(0.3105)\n",
      "tensor(0.1325)\n",
      "10000 test samples\n"
     ]
    },
    {
     "name": "stderr",
     "output_type": "stream",
     "text": [
      "2025/08/22 10:45:47 WARNING mlflow.models.model: Model logged without a signature and input example. Please set `input_example` parameter when logging the model to auto infer the model signature.\n"
     ]
    },
    {
     "name": "stdout",
     "output_type": "stream",
     "text": [
      "Training finished!!!\n",
      "{'num_bins': 11, 'hidden_q': 100, 'num_layers': 2, 'num_nodes': 9, 'init_method': 'uniform', 'init_upper_bound': 0.49999999999999967, 'init_lower_bound': 0.19999999999999973, 'output_bins': 4}\n",
      "x_train shape: torch.Size([50000, 1, 28, 28])\n",
      "50000 train samples\n",
      "10000 val samples\n",
      "tensor(0.3105)\n",
      "tensor(0.1325)\n",
      "10000 test samples\n",
      "x_train shape: torch.Size([50000, 1, 28, 28])\n",
      "50000 train samples\n",
      "10000 val samples\n",
      "tensor(0.3105)\n",
      "tensor(0.1325)\n",
      "10000 test samples\n"
     ]
    },
    {
     "name": "stderr",
     "output_type": "stream",
     "text": [
      "2025/08/22 10:45:58 WARNING mlflow.models.model: Model logged without a signature and input example. Please set `input_example` parameter when logging the model to auto infer the model signature.\n"
     ]
    },
    {
     "name": "stdout",
     "output_type": "stream",
     "text": [
      "Training finished!!!\n",
      "{'num_bins': 11, 'hidden_q': 100, 'num_layers': 2, 'num_nodes': 9, 'init_method': 'uniform', 'init_upper_bound': 0.5999999999999996, 'init_lower_bound': 0.19999999999999973, 'output_bins': 4}\n",
      "x_train shape: torch.Size([50000, 1, 28, 28])\n",
      "50000 train samples\n",
      "10000 val samples\n",
      "tensor(0.3105)\n",
      "tensor(0.1325)\n",
      "10000 test samples\n",
      "x_train shape: torch.Size([50000, 1, 28, 28])\n",
      "50000 train samples\n",
      "10000 val samples\n",
      "tensor(0.3105)\n",
      "tensor(0.1325)\n",
      "10000 test samples\n"
     ]
    },
    {
     "name": "stderr",
     "output_type": "stream",
     "text": [
      "2025/08/22 10:46:08 WARNING mlflow.models.model: Model logged without a signature and input example. Please set `input_example` parameter when logging the model to auto infer the model signature.\n"
     ]
    },
    {
     "name": "stdout",
     "output_type": "stream",
     "text": [
      "Training finished!!!\n",
      "{'num_bins': 11, 'hidden_q': 100, 'num_layers': 2, 'num_nodes': 9, 'init_method': 'uniform', 'init_upper_bound': 0.6999999999999996, 'init_lower_bound': 0.19999999999999973, 'output_bins': 4}\n",
      "x_train shape: torch.Size([50000, 1, 28, 28])\n",
      "50000 train samples\n",
      "10000 val samples\n",
      "tensor(0.3105)\n",
      "tensor(0.1325)\n",
      "10000 test samples\n",
      "x_train shape: torch.Size([50000, 1, 28, 28])\n",
      "50000 train samples\n",
      "10000 val samples\n",
      "tensor(0.3105)\n",
      "tensor(0.1325)\n",
      "10000 test samples\n"
     ]
    },
    {
     "name": "stderr",
     "output_type": "stream",
     "text": [
      "2025/08/22 10:46:20 WARNING mlflow.models.model: Model logged without a signature and input example. Please set `input_example` parameter when logging the model to auto infer the model signature.\n"
     ]
    },
    {
     "name": "stdout",
     "output_type": "stream",
     "text": [
      "Training finished!!!\n",
      "{'num_bins': 11, 'hidden_q': 100, 'num_layers': 2, 'num_nodes': 9, 'init_method': 'uniform', 'init_upper_bound': 0.7999999999999996, 'init_lower_bound': 0.19999999999999973, 'output_bins': 4}\n",
      "x_train shape: torch.Size([50000, 1, 28, 28])\n",
      "50000 train samples\n",
      "10000 val samples\n",
      "tensor(0.3105)\n",
      "tensor(0.1325)\n",
      "10000 test samples\n",
      "x_train shape: torch.Size([50000, 1, 28, 28])\n",
      "50000 train samples\n",
      "10000 val samples\n",
      "tensor(0.3105)\n",
      "tensor(0.1325)\n",
      "10000 test samples\n"
     ]
    },
    {
     "name": "stderr",
     "output_type": "stream",
     "text": [
      "2025/08/22 10:46:30 WARNING mlflow.models.model: Model logged without a signature and input example. Please set `input_example` parameter when logging the model to auto infer the model signature.\n"
     ]
    },
    {
     "name": "stdout",
     "output_type": "stream",
     "text": [
      "Step 10: {'train_ucc_loss': np.float64(1.37802), 'train_ucc_acc': np.float64(0.3)}\n",
      "Step 20: {'train_ucc_loss': np.float64(1.38648), 'train_ucc_acc': np.float64(0.35)}\n",
      "Step 30: {'train_ucc_loss': np.float64(1.39213), 'train_ucc_acc': np.float64(0.15)}\n",
      "Step 40: {'train_ucc_loss': np.float64(1.39005), 'train_ucc_acc': np.float64(0.2)}\n",
      "Training finished!!!\n",
      "{'num_bins': 11, 'hidden_q': 100, 'num_layers': 2, 'num_nodes': 9, 'init_method': 'uniform', 'init_upper_bound': 0.8999999999999996, 'init_lower_bound': 0.19999999999999973, 'output_bins': 4}\n",
      "x_train shape: torch.Size([50000, 1, 28, 28])\n",
      "50000 train samples\n",
      "10000 val samples\n",
      "tensor(0.3105)\n",
      "tensor(0.1325)\n",
      "10000 test samples\n",
      "x_train shape: torch.Size([50000, 1, 28, 28])\n",
      "50000 train samples\n",
      "10000 val samples\n",
      "tensor(0.3105)\n",
      "tensor(0.1325)\n",
      "10000 test samples\n"
     ]
    },
    {
     "name": "stderr",
     "output_type": "stream",
     "text": [
      "2025/08/22 10:46:59 WARNING mlflow.models.model: Model logged without a signature and input example. Please set `input_example` parameter when logging the model to auto infer the model signature.\n"
     ]
    },
    {
     "name": "stdout",
     "output_type": "stream",
     "text": [
      "Training finished!!!\n",
      "{'num_bins': 11, 'hidden_q': 100, 'num_layers': 2, 'num_nodes': 9, 'init_method': 'uniform', 'init_upper_bound': 0.3999999999999997, 'init_lower_bound': 0.2999999999999997, 'output_bins': 4}\n",
      "x_train shape: torch.Size([50000, 1, 28, 28])\n",
      "50000 train samples\n",
      "10000 val samples\n",
      "tensor(0.3105)\n",
      "tensor(0.1325)\n",
      "10000 test samples\n",
      "x_train shape: torch.Size([50000, 1, 28, 28])\n",
      "50000 train samples\n",
      "10000 val samples\n",
      "tensor(0.3105)\n",
      "tensor(0.1325)\n",
      "10000 test samples\n"
     ]
    },
    {
     "name": "stderr",
     "output_type": "stream",
     "text": [
      "2025/08/22 10:47:12 WARNING mlflow.models.model: Model logged without a signature and input example. Please set `input_example` parameter when logging the model to auto infer the model signature.\n"
     ]
    },
    {
     "name": "stdout",
     "output_type": "stream",
     "text": [
      "Step 10: {'train_ucc_loss': np.float64(1.3982), 'train_ucc_acc': np.float64(0.1)}\n",
      "Step 20: {'train_ucc_loss': np.float64(1.3959), 'train_ucc_acc': np.float64(0.15)}\n",
      "Step 30: {'train_ucc_loss': np.float64(1.39305), 'train_ucc_acc': np.float64(0.2)}\n",
      "Step 40: {'train_ucc_loss': np.float64(1.37764), 'train_ucc_acc': np.float64(0.35)}\n",
      "Training finished!!!\n",
      "{'num_bins': 11, 'hidden_q': 100, 'num_layers': 2, 'num_nodes': 9, 'init_method': 'uniform', 'init_upper_bound': 0.49999999999999967, 'init_lower_bound': 0.2999999999999997, 'output_bins': 4}\n",
      "x_train shape: torch.Size([50000, 1, 28, 28])\n",
      "50000 train samples\n",
      "10000 val samples\n",
      "tensor(0.3105)\n",
      "tensor(0.1325)\n",
      "10000 test samples\n",
      "x_train shape: torch.Size([50000, 1, 28, 28])\n",
      "50000 train samples\n",
      "10000 val samples\n",
      "tensor(0.3105)\n",
      "tensor(0.1325)\n",
      "10000 test samples\n"
     ]
    },
    {
     "name": "stderr",
     "output_type": "stream",
     "text": [
      "2025/08/22 10:47:42 WARNING mlflow.models.model: Model logged without a signature and input example. Please set `input_example` parameter when logging the model to auto infer the model signature.\n"
     ]
    },
    {
     "name": "stdout",
     "output_type": "stream",
     "text": [
      "Step 10: {'train_ucc_loss': np.float64(1.40694), 'train_ucc_acc': np.float64(0.25)}\n",
      "Training finished!!!\n",
      "{'num_bins': 11, 'hidden_q': 100, 'num_layers': 2, 'num_nodes': 9, 'init_method': 'uniform', 'init_upper_bound': 0.5999999999999996, 'init_lower_bound': 0.2999999999999997, 'output_bins': 4}\n",
      "x_train shape: torch.Size([50000, 1, 28, 28])\n",
      "50000 train samples\n",
      "10000 val samples\n",
      "tensor(0.3105)\n",
      "tensor(0.1325)\n",
      "10000 test samples\n",
      "x_train shape: torch.Size([50000, 1, 28, 28])\n",
      "50000 train samples\n",
      "10000 val samples\n",
      "tensor(0.3105)\n",
      "tensor(0.1325)\n",
      "10000 test samples\n"
     ]
    },
    {
     "name": "stderr",
     "output_type": "stream",
     "text": [
      "2025/08/22 10:47:58 WARNING mlflow.models.model: Model logged without a signature and input example. Please set `input_example` parameter when logging the model to auto infer the model signature.\n"
     ]
    },
    {
     "name": "stdout",
     "output_type": "stream",
     "text": [
      "Training finished!!!\n",
      "{'num_bins': 11, 'hidden_q': 100, 'num_layers': 2, 'num_nodes': 9, 'init_method': 'uniform', 'init_upper_bound': 0.6999999999999996, 'init_lower_bound': 0.2999999999999997, 'output_bins': 4}\n",
      "x_train shape: torch.Size([50000, 1, 28, 28])\n",
      "50000 train samples\n",
      "10000 val samples\n",
      "tensor(0.3105)\n",
      "tensor(0.1325)\n",
      "10000 test samples\n",
      "x_train shape: torch.Size([50000, 1, 28, 28])\n",
      "50000 train samples\n",
      "10000 val samples\n",
      "tensor(0.3105)\n",
      "tensor(0.1325)\n",
      "10000 test samples\n"
     ]
    },
    {
     "name": "stderr",
     "output_type": "stream",
     "text": [
      "2025/08/22 10:48:10 WARNING mlflow.models.model: Model logged without a signature and input example. Please set `input_example` parameter when logging the model to auto infer the model signature.\n"
     ]
    },
    {
     "name": "stdout",
     "output_type": "stream",
     "text": [
      "Training finished!!!\n",
      "{'num_bins': 11, 'hidden_q': 100, 'num_layers': 2, 'num_nodes': 9, 'init_method': 'uniform', 'init_upper_bound': 0.7999999999999996, 'init_lower_bound': 0.2999999999999997, 'output_bins': 4}\n",
      "x_train shape: torch.Size([50000, 1, 28, 28])\n",
      "50000 train samples\n",
      "10000 val samples\n",
      "tensor(0.3105)\n",
      "tensor(0.1325)\n",
      "10000 test samples\n",
      "x_train shape: torch.Size([50000, 1, 28, 28])\n",
      "50000 train samples\n",
      "10000 val samples\n",
      "tensor(0.3105)\n",
      "tensor(0.1325)\n",
      "10000 test samples\n"
     ]
    },
    {
     "name": "stderr",
     "output_type": "stream",
     "text": [
      "2025/08/22 10:48:21 WARNING mlflow.models.model: Model logged without a signature and input example. Please set `input_example` parameter when logging the model to auto infer the model signature.\n"
     ]
    },
    {
     "name": "stdout",
     "output_type": "stream",
     "text": [
      "Training finished!!!\n",
      "{'num_bins': 11, 'hidden_q': 100, 'num_layers': 2, 'num_nodes': 9, 'init_method': 'uniform', 'init_upper_bound': 0.8999999999999996, 'init_lower_bound': 0.2999999999999997, 'output_bins': 4}\n",
      "x_train shape: torch.Size([50000, 1, 28, 28])\n",
      "50000 train samples\n",
      "10000 val samples\n",
      "tensor(0.3105)\n",
      "tensor(0.1325)\n",
      "10000 test samples\n",
      "x_train shape: torch.Size([50000, 1, 28, 28])\n",
      "50000 train samples\n",
      "10000 val samples\n",
      "tensor(0.3105)\n",
      "tensor(0.1325)\n",
      "10000 test samples\n"
     ]
    },
    {
     "name": "stderr",
     "output_type": "stream",
     "text": [
      "2025/08/22 10:48:31 WARNING mlflow.models.model: Model logged without a signature and input example. Please set `input_example` parameter when logging the model to auto infer the model signature.\n"
     ]
    },
    {
     "name": "stdout",
     "output_type": "stream",
     "text": [
      "Step 10: {'train_ucc_loss': np.float64(1.38137), 'train_ucc_acc': np.float64(0.3)}\n",
      "Training finished!!!\n",
      "{'num_bins': 11, 'hidden_q': 100, 'num_layers': 2, 'num_nodes': 9, 'init_method': 'uniform', 'init_upper_bound': 0.49999999999999967, 'init_lower_bound': 0.3999999999999997, 'output_bins': 4}\n",
      "x_train shape: torch.Size([50000, 1, 28, 28])\n",
      "50000 train samples\n",
      "10000 val samples\n",
      "tensor(0.3105)\n",
      "tensor(0.1325)\n",
      "10000 test samples\n",
      "x_train shape: torch.Size([50000, 1, 28, 28])\n",
      "50000 train samples\n",
      "10000 val samples\n",
      "tensor(0.3105)\n",
      "tensor(0.1325)\n",
      "10000 test samples\n"
     ]
    },
    {
     "name": "stderr",
     "output_type": "stream",
     "text": [
      "2025/08/22 10:48:46 WARNING mlflow.models.model: Model logged without a signature and input example. Please set `input_example` parameter when logging the model to auto infer the model signature.\n"
     ]
    },
    {
     "name": "stdout",
     "output_type": "stream",
     "text": [
      "Training finished!!!\n",
      "{'num_bins': 11, 'hidden_q': 100, 'num_layers': 2, 'num_nodes': 9, 'init_method': 'uniform', 'init_upper_bound': 0.5999999999999996, 'init_lower_bound': 0.3999999999999997, 'output_bins': 4}\n",
      "x_train shape: torch.Size([50000, 1, 28, 28])\n",
      "50000 train samples\n",
      "10000 val samples\n",
      "tensor(0.3105)\n",
      "tensor(0.1325)\n",
      "10000 test samples\n",
      "x_train shape: torch.Size([50000, 1, 28, 28])\n",
      "50000 train samples\n",
      "10000 val samples\n",
      "tensor(0.3105)\n",
      "tensor(0.1325)\n",
      "10000 test samples\n"
     ]
    },
    {
     "name": "stderr",
     "output_type": "stream",
     "text": [
      "2025/08/22 10:48:57 WARNING mlflow.models.model: Model logged without a signature and input example. Please set `input_example` parameter when logging the model to auto infer the model signature.\n"
     ]
    },
    {
     "name": "stdout",
     "output_type": "stream",
     "text": [
      "Training finished!!!\n",
      "{'num_bins': 11, 'hidden_q': 100, 'num_layers': 2, 'num_nodes': 9, 'init_method': 'uniform', 'init_upper_bound': 0.6999999999999996, 'init_lower_bound': 0.3999999999999997, 'output_bins': 4}\n",
      "x_train shape: torch.Size([50000, 1, 28, 28])\n",
      "50000 train samples\n",
      "10000 val samples\n",
      "tensor(0.3105)\n",
      "tensor(0.1325)\n",
      "10000 test samples\n",
      "x_train shape: torch.Size([50000, 1, 28, 28])\n",
      "50000 train samples\n",
      "10000 val samples\n",
      "tensor(0.3105)\n",
      "tensor(0.1325)\n",
      "10000 test samples\n"
     ]
    },
    {
     "name": "stderr",
     "output_type": "stream",
     "text": [
      "2025/08/22 10:49:09 WARNING mlflow.models.model: Model logged without a signature and input example. Please set `input_example` parameter when logging the model to auto infer the model signature.\n"
     ]
    },
    {
     "name": "stdout",
     "output_type": "stream",
     "text": [
      "Training finished!!!\n",
      "{'num_bins': 11, 'hidden_q': 100, 'num_layers': 2, 'num_nodes': 9, 'init_method': 'uniform', 'init_upper_bound': 0.7999999999999996, 'init_lower_bound': 0.3999999999999997, 'output_bins': 4}\n",
      "x_train shape: torch.Size([50000, 1, 28, 28])\n",
      "50000 train samples\n",
      "10000 val samples\n",
      "tensor(0.3105)\n",
      "tensor(0.1325)\n",
      "10000 test samples\n",
      "x_train shape: torch.Size([50000, 1, 28, 28])\n",
      "50000 train samples\n",
      "10000 val samples\n",
      "tensor(0.3105)\n",
      "tensor(0.1325)\n",
      "10000 test samples\n"
     ]
    },
    {
     "name": "stderr",
     "output_type": "stream",
     "text": [
      "2025/08/22 10:49:20 WARNING mlflow.models.model: Model logged without a signature and input example. Please set `input_example` parameter when logging the model to auto infer the model signature.\n"
     ]
    },
    {
     "name": "stdout",
     "output_type": "stream",
     "text": [
      "Training finished!!!\n",
      "{'num_bins': 11, 'hidden_q': 100, 'num_layers': 2, 'num_nodes': 9, 'init_method': 'uniform', 'init_upper_bound': 0.8999999999999996, 'init_lower_bound': 0.3999999999999997, 'output_bins': 4}\n",
      "x_train shape: torch.Size([50000, 1, 28, 28])\n",
      "50000 train samples\n",
      "10000 val samples\n",
      "tensor(0.3105)\n",
      "tensor(0.1325)\n",
      "10000 test samples\n",
      "x_train shape: torch.Size([50000, 1, 28, 28])\n",
      "50000 train samples\n",
      "10000 val samples\n",
      "tensor(0.3105)\n",
      "tensor(0.1325)\n",
      "10000 test samples\n"
     ]
    },
    {
     "name": "stderr",
     "output_type": "stream",
     "text": [
      "2025/08/22 10:49:32 WARNING mlflow.models.model: Model logged without a signature and input example. Please set `input_example` parameter when logging the model to auto infer the model signature.\n"
     ]
    },
    {
     "name": "stdout",
     "output_type": "stream",
     "text": [
      "Step 10: {'train_ucc_loss': np.float64(1.39586), 'train_ucc_acc': np.float64(0.15)}\n",
      "Step 20: {'train_ucc_loss': np.float64(1.39144), 'train_ucc_acc': np.float64(0.2)}\n",
      "Training finished!!!\n",
      "{'num_bins': 11, 'hidden_q': 100, 'num_layers': 2, 'num_nodes': 9, 'init_method': 'uniform', 'init_upper_bound': 0.5999999999999996, 'init_lower_bound': 0.49999999999999967, 'output_bins': 4}\n",
      "x_train shape: torch.Size([50000, 1, 28, 28])\n",
      "50000 train samples\n",
      "10000 val samples\n",
      "tensor(0.3105)\n",
      "tensor(0.1325)\n",
      "10000 test samples\n",
      "x_train shape: torch.Size([50000, 1, 28, 28])\n",
      "50000 train samples\n",
      "10000 val samples\n",
      "tensor(0.3105)\n",
      "tensor(0.1325)\n",
      "10000 test samples\n"
     ]
    },
    {
     "name": "stderr",
     "output_type": "stream",
     "text": [
      "2025/08/22 10:49:51 WARNING mlflow.models.model: Model logged without a signature and input example. Please set `input_example` parameter when logging the model to auto infer the model signature.\n"
     ]
    },
    {
     "name": "stdout",
     "output_type": "stream",
     "text": [
      "Step 10: {'train_ucc_loss': np.float64(1.37776), 'train_ucc_acc': np.float64(0.45)}\n",
      "Training finished!!!\n",
      "{'num_bins': 11, 'hidden_q': 100, 'num_layers': 2, 'num_nodes': 9, 'init_method': 'uniform', 'init_upper_bound': 0.6999999999999996, 'init_lower_bound': 0.49999999999999967, 'output_bins': 4}\n",
      "x_train shape: torch.Size([50000, 1, 28, 28])\n",
      "50000 train samples\n",
      "10000 val samples\n",
      "tensor(0.3105)\n",
      "tensor(0.1325)\n",
      "10000 test samples\n",
      "x_train shape: torch.Size([50000, 1, 28, 28])\n",
      "50000 train samples\n",
      "10000 val samples\n",
      "tensor(0.3105)\n",
      "tensor(0.1325)\n",
      "10000 test samples\n"
     ]
    },
    {
     "name": "stderr",
     "output_type": "stream",
     "text": [
      "2025/08/22 10:50:05 WARNING mlflow.models.model: Model logged without a signature and input example. Please set `input_example` parameter when logging the model to auto infer the model signature.\n"
     ]
    },
    {
     "name": "stdout",
     "output_type": "stream",
     "text": [
      "Training finished!!!\n",
      "{'num_bins': 11, 'hidden_q': 100, 'num_layers': 2, 'num_nodes': 9, 'init_method': 'uniform', 'init_upper_bound': 0.7999999999999996, 'init_lower_bound': 0.49999999999999967, 'output_bins': 4}\n",
      "x_train shape: torch.Size([50000, 1, 28, 28])\n",
      "50000 train samples\n",
      "10000 val samples\n",
      "tensor(0.3105)\n",
      "tensor(0.1325)\n",
      "10000 test samples\n",
      "x_train shape: torch.Size([50000, 1, 28, 28])\n",
      "50000 train samples\n",
      "10000 val samples\n",
      "tensor(0.3105)\n",
      "tensor(0.1325)\n",
      "10000 test samples\n"
     ]
    },
    {
     "name": "stderr",
     "output_type": "stream",
     "text": [
      "2025/08/22 10:50:15 WARNING mlflow.models.model: Model logged without a signature and input example. Please set `input_example` parameter when logging the model to auto infer the model signature.\n"
     ]
    },
    {
     "name": "stdout",
     "output_type": "stream",
     "text": [
      "Step 10: {'train_ucc_loss': np.float64(1.38936), 'train_ucc_acc': np.float64(0.15)}\n",
      "Step 20: {'train_ucc_loss': np.float64(1.38513), 'train_ucc_acc': np.float64(0.25)}\n",
      "Step 30: {'train_ucc_loss': np.float64(1.38623), 'train_ucc_acc': np.float64(0.25)}\n",
      "Step 40: {'train_ucc_loss': np.float64(1.38413), 'train_ucc_acc': np.float64(0.3)}\n",
      "Step 50: {'train_ucc_loss': np.float64(1.38451), 'train_ucc_acc': np.float64(0.35)}\n",
      "Step 60: {'train_ucc_loss': np.float64(1.38662), 'train_ucc_acc': np.float64(0.2)}\n",
      "Step 70: {'train_ucc_loss': np.float64(1.3871), 'train_ucc_acc': np.float64(0.2)}\n",
      "Step 80: {'train_ucc_loss': np.float64(1.38512), 'train_ucc_acc': np.float64(0.3)}\n",
      "Training finished!!!\n",
      "{'num_bins': 11, 'hidden_q': 100, 'num_layers': 2, 'num_nodes': 9, 'init_method': 'uniform', 'init_upper_bound': 0.8999999999999996, 'init_lower_bound': 0.49999999999999967, 'output_bins': 4}\n",
      "x_train shape: torch.Size([50000, 1, 28, 28])\n",
      "50000 train samples\n",
      "10000 val samples\n",
      "tensor(0.3105)\n",
      "tensor(0.1325)\n",
      "10000 test samples\n",
      "x_train shape: torch.Size([50000, 1, 28, 28])\n",
      "50000 train samples\n",
      "10000 val samples\n",
      "tensor(0.3105)\n",
      "tensor(0.1325)\n",
      "10000 test samples\n"
     ]
    },
    {
     "name": "stderr",
     "output_type": "stream",
     "text": [
      "2025/08/22 10:50:59 WARNING mlflow.models.model: Model logged without a signature and input example. Please set `input_example` parameter when logging the model to auto infer the model signature.\n"
     ]
    },
    {
     "name": "stdout",
     "output_type": "stream",
     "text": [
      "Step 10: {'train_ucc_loss': np.float64(1.38953), 'train_ucc_acc': np.float64(0.25)}\n",
      "Training finished!!!\n",
      "{'num_bins': 11, 'hidden_q': 100, 'num_layers': 2, 'num_nodes': 9, 'init_method': 'uniform', 'init_upper_bound': 0.6999999999999996, 'init_lower_bound': 0.5999999999999996, 'output_bins': 4}\n",
      "x_train shape: torch.Size([50000, 1, 28, 28])\n",
      "50000 train samples\n",
      "10000 val samples\n",
      "tensor(0.3105)\n",
      "tensor(0.1325)\n",
      "10000 test samples\n",
      "x_train shape: torch.Size([50000, 1, 28, 28])\n",
      "50000 train samples\n",
      "10000 val samples\n",
      "tensor(0.3105)\n",
      "tensor(0.1325)\n",
      "10000 test samples\n"
     ]
    },
    {
     "name": "stderr",
     "output_type": "stream",
     "text": [
      "2025/08/22 10:51:16 WARNING mlflow.models.model: Model logged without a signature and input example. Please set `input_example` parameter when logging the model to auto infer the model signature.\n"
     ]
    },
    {
     "name": "stdout",
     "output_type": "stream",
     "text": [
      "Training finished!!!\n",
      "{'num_bins': 11, 'hidden_q': 100, 'num_layers': 2, 'num_nodes': 9, 'init_method': 'uniform', 'init_upper_bound': 0.7999999999999996, 'init_lower_bound': 0.5999999999999996, 'output_bins': 4}\n",
      "x_train shape: torch.Size([50000, 1, 28, 28])\n",
      "50000 train samples\n",
      "10000 val samples\n",
      "tensor(0.3105)\n",
      "tensor(0.1325)\n",
      "10000 test samples\n",
      "x_train shape: torch.Size([50000, 1, 28, 28])\n",
      "50000 train samples\n",
      "10000 val samples\n",
      "tensor(0.3105)\n",
      "tensor(0.1325)\n",
      "10000 test samples\n"
     ]
    },
    {
     "name": "stderr",
     "output_type": "stream",
     "text": [
      "2025/08/22 10:51:28 WARNING mlflow.models.model: Model logged without a signature and input example. Please set `input_example` parameter when logging the model to auto infer the model signature.\n"
     ]
    },
    {
     "name": "stdout",
     "output_type": "stream",
     "text": [
      "Step 10: {'train_ucc_loss': np.float64(1.37864), 'train_ucc_acc': np.float64(0.35)}\n",
      "Step 20: {'train_ucc_loss': np.float64(1.40424), 'train_ucc_acc': np.float64(0.15)}\n",
      "Step 30: {'train_ucc_loss': np.float64(1.39559), 'train_ucc_acc': np.float64(0.15)}\n",
      "Step 40: {'train_ucc_loss': np.float64(1.36867), 'train_ucc_acc': np.float64(0.6)}\n",
      "Step 50: {'train_ucc_loss': np.float64(1.38817), 'train_ucc_acc': np.float64(0.25)}\n",
      "Step 60: {'train_ucc_loss': np.float64(1.35897), 'train_ucc_acc': np.float64(0.45)}\n",
      "Step 70: {'train_ucc_loss': np.float64(1.37394), 'train_ucc_acc': np.float64(0.3)}\n",
      "Step 80: {'train_ucc_loss': np.float64(1.36747), 'train_ucc_acc': np.float64(0.45)}\n",
      "Step 90: {'train_ucc_loss': np.float64(1.36904), 'train_ucc_acc': np.float64(0.25)}\n",
      "Step 100: {'train_ucc_loss': np.float64(1.38406), 'train_ucc_acc': np.float64(0.3)}\n",
      "Step 110: {'train_ucc_loss': np.float64(1.40584), 'train_ucc_acc': np.float64(0.1)}\n",
      "Step 120: {'train_ucc_loss': np.float64(1.42046), 'train_ucc_acc': np.float64(0.05)}\n",
      "Step 130: {'train_ucc_loss': np.float64(1.36302), 'train_ucc_acc': np.float64(0.35)}\n",
      "Step 140: {'train_ucc_loss': np.float64(1.39682), 'train_ucc_acc': np.float64(0.3)}\n",
      "Step 150: {'train_ucc_loss': np.float64(1.40099), 'train_ucc_acc': np.float64(0.2)}\n",
      "Step 160: {'train_ucc_loss': np.float64(1.39064), 'train_ucc_acc': np.float64(0.15)}\n",
      "Step 170: {'train_ucc_loss': np.float64(1.3905), 'train_ucc_acc': np.float64(0.25)}\n",
      "Step 180: {'train_ucc_loss': np.float64(1.40488), 'train_ucc_acc': np.float64(0.3)}\n",
      "Step 190: {'train_ucc_loss': np.float64(1.3695), 'train_ucc_acc': np.float64(0.3)}\n",
      "Training finished!!!\n",
      "{'num_bins': 11, 'hidden_q': 100, 'num_layers': 2, 'num_nodes': 9, 'init_method': 'uniform', 'init_upper_bound': 0.8999999999999996, 'init_lower_bound': 0.5999999999999996, 'output_bins': 4}\n",
      "x_train shape: torch.Size([50000, 1, 28, 28])\n",
      "50000 train samples\n",
      "10000 val samples\n",
      "tensor(0.3105)\n",
      "tensor(0.1325)\n",
      "10000 test samples\n",
      "x_train shape: torch.Size([50000, 1, 28, 28])\n",
      "50000 train samples\n",
      "10000 val samples\n",
      "tensor(0.3105)\n",
      "tensor(0.1325)\n",
      "10000 test samples\n"
     ]
    },
    {
     "name": "stderr",
     "output_type": "stream",
     "text": [
      "2025/08/22 10:52:52 WARNING mlflow.models.model: Model logged without a signature and input example. Please set `input_example` parameter when logging the model to auto infer the model signature.\n"
     ]
    },
    {
     "name": "stdout",
     "output_type": "stream",
     "text": [
      "Training finished!!!\n",
      "{'num_bins': 11, 'hidden_q': 100, 'num_layers': 2, 'num_nodes': 9, 'init_method': 'uniform', 'init_upper_bound': 0.7999999999999996, 'init_lower_bound': 0.6999999999999996, 'output_bins': 4}\n",
      "x_train shape: torch.Size([50000, 1, 28, 28])\n",
      "50000 train samples\n",
      "10000 val samples\n",
      "tensor(0.3105)\n",
      "tensor(0.1325)\n",
      "10000 test samples\n",
      "x_train shape: torch.Size([50000, 1, 28, 28])\n",
      "50000 train samples\n",
      "10000 val samples\n",
      "tensor(0.3105)\n",
      "tensor(0.1325)\n",
      "10000 test samples\n"
     ]
    },
    {
     "name": "stderr",
     "output_type": "stream",
     "text": [
      "2025/08/22 10:53:04 WARNING mlflow.models.model: Model logged without a signature and input example. Please set `input_example` parameter when logging the model to auto infer the model signature.\n"
     ]
    },
    {
     "name": "stdout",
     "output_type": "stream",
     "text": [
      "Training finished!!!\n",
      "{'num_bins': 11, 'hidden_q': 100, 'num_layers': 2, 'num_nodes': 9, 'init_method': 'uniform', 'init_upper_bound': 0.8999999999999996, 'init_lower_bound': 0.6999999999999996, 'output_bins': 4}\n",
      "x_train shape: torch.Size([50000, 1, 28, 28])\n",
      "50000 train samples\n",
      "10000 val samples\n",
      "tensor(0.3105)\n",
      "tensor(0.1325)\n",
      "10000 test samples\n",
      "x_train shape: torch.Size([50000, 1, 28, 28])\n",
      "50000 train samples\n",
      "10000 val samples\n",
      "tensor(0.3105)\n",
      "tensor(0.1325)\n",
      "10000 test samples\n"
     ]
    },
    {
     "name": "stderr",
     "output_type": "stream",
     "text": [
      "2025/08/22 10:53:14 WARNING mlflow.models.model: Model logged without a signature and input example. Please set `input_example` parameter when logging the model to auto infer the model signature.\n"
     ]
    },
    {
     "name": "stdout",
     "output_type": "stream",
     "text": [
      "Training finished!!!\n",
      "{'num_bins': 11, 'hidden_q': 100, 'num_layers': 2, 'num_nodes': 9, 'init_method': 'uniform', 'init_upper_bound': 0.8999999999999996, 'init_lower_bound': 0.7999999999999996, 'output_bins': 4}\n",
      "x_train shape: torch.Size([50000, 1, 28, 28])\n",
      "50000 train samples\n",
      "10000 val samples\n",
      "tensor(0.3105)\n",
      "tensor(0.1325)\n",
      "10000 test samples\n",
      "x_train shape: torch.Size([50000, 1, 28, 28])\n",
      "50000 train samples\n",
      "10000 val samples\n",
      "tensor(0.3105)\n",
      "tensor(0.1325)\n",
      "10000 test samples\n"
     ]
    },
    {
     "name": "stderr",
     "output_type": "stream",
     "text": [
      "2025/08/22 10:53:25 WARNING mlflow.models.model: Model logged without a signature and input example. Please set `input_example` parameter when logging the model to auto infer the model signature.\n"
     ]
    },
    {
     "name": "stdout",
     "output_type": "stream",
     "text": [
      "Step 10: {'train_ucc_loss': np.float64(1.38491), 'train_ucc_acc': np.float64(0.3)}\n",
      "Step 20: {'train_ucc_loss': np.float64(1.38945), 'train_ucc_acc': np.float64(0.2)}\n",
      "Training finished!!!\n"
     ]
    }
   ],
   "source": [
    "import mlflow\n",
    "import numpy as np\n",
    "import torch\n",
    "import torch.nn.functional as F\n",
    "from torch.utils.data import DataLoader\n",
    "\n",
    "from model import UCCDRNModel\n",
    "from dataset import MnistDataset\n",
    "from hydra import initialize, compose\n",
    "from utils import get_or_create_experiment\n",
    "from omegaconf import OmegaConf\n",
    "torch.autograd.set_detect_anomaly(True)\n",
    "\n",
    "x = np.arange(-1.0, 1.0, 0.1)\n",
    "\n",
    "def KL_div(y, y_hat):\n",
    "    y = torch.clamp(y, 1e-15, 1.0)\n",
    "    y_hat = torch.clamp(y_hat, 1e-15, 1.0)\n",
    "    return torch.sum(y * torch.log(y/y_hat), dim=1)\n",
    "\n",
    "\n",
    "def Ldjs(P, Q):\n",
    "    M = (P+Q)/2.0\n",
    "    l = 0.5*KL_div(P, M)+0.5*KL_div(Q, M)\n",
    "    return torch.mean(l)/torch.log(torch.tensor(2.0))\n",
    "\n",
    "\n",
    "# set random seed\n",
    "def set_random_seed(seed):\n",
    "    torch.manual_seed(seed)\n",
    "    torch.cuda.manual_seed(seed)\n",
    "    np.random.seed(seed)\n",
    "    torch.backends.cudnn.deterministic = True\n",
    "\n",
    "\n",
    "def init_model_and_optimizer(args, model_cfg, device):\n",
    "    model = UCCDRNModel(model_cfg).to(device)\n",
    "    optimizer = torch.optim.Adam(model.parameters(), lr=args.learning_rate)\n",
    "    return model, optimizer\n",
    "\n",
    "\n",
    "def init_dataloader(args):\n",
    "    train_dataset_len = args.train_num_steps * args.batch_size\n",
    "    train_dataset = MnistDataset(\n",
    "        mode=\"train\",\n",
    "        num_instances=args.num_instances,\n",
    "        num_samples_per_class=args.num_samples_per_class,\n",
    "        digit_arr=list(range(args.ucc_end-args.ucc_start+1)),\n",
    "        ucc_start=args.ucc_start,\n",
    "        ucc_end=args.ucc_end,\n",
    "        length=train_dataset_len,\n",
    "    )\n",
    "    val_dataset_len = args.val_num_steps * args.batch_size\n",
    "    val_dataset = MnistDataset(\n",
    "        mode=\"val\",\n",
    "        num_instances=args.num_instances,\n",
    "        num_samples_per_class=args.num_samples_per_class,\n",
    "        digit_arr=list(range(args.ucc_end-args.ucc_start+1)),\n",
    "        ucc_start=args.ucc_start,\n",
    "        ucc_end=args.ucc_end,\n",
    "        length=val_dataset_len,\n",
    "    )\n",
    "    train_loader = DataLoader(\n",
    "        train_dataset,\n",
    "        batch_size=args.batch_size,\n",
    "        num_workers=args.num_workers,\n",
    "        shuffle=True,\n",
    "    )\n",
    "    val_loader = DataLoader(\n",
    "        val_dataset,\n",
    "        batch_size=args.batch_size,\n",
    "        num_workers=args.num_workers,\n",
    "        shuffle=False,\n",
    "    )\n",
    "    return train_loader, val_loader\n",
    "\n",
    "\n",
    "def evaluate(model, val_loader, lr_scheduler, device):\n",
    "    model.eval()\n",
    "    val_jsd_loss_list = []\n",
    "    val_ae_loss_list = []\n",
    "    val_ucc_loss_list = []\n",
    "    val_acc_list = []\n",
    "    with torch.no_grad():\n",
    "        for batch_samples, batch_labels in val_loader:\n",
    "            batch_samples = batch_samples.to(device)\n",
    "            batch_labels = batch_labels.to(device)\n",
    "            batch_labels_one_hot = F.one_hot(batch_labels, num_classes=model.num_classes)\n",
    "\n",
    "            ucc_logits, reconstruction = model(\n",
    "                batch_samples, return_reconstruction=True)\n",
    "\n",
    "            # jsd_loss = Ldjs(ucc_logits, batch_labels_one_hot)\n",
    "            # val_jsd_loss_list.append(jsd_loss.item())\n",
    "\n",
    "            ucc_loss = F.cross_entropy(ucc_logits, batch_labels)\n",
    "            val_ucc_loss_list.append(ucc_loss.item())\n",
    "\n",
    "            # ae_loss = F.mse_loss(batch_samples, reconstruction)\n",
    "            # val_ae_loss_list.append(ae_loss.item())\n",
    "\n",
    "            # acculate accuracy\n",
    "            # _, batch_labels = torch.max(batch_labels, dim=1)\n",
    "\n",
    "            _, ucc_predicts = torch.max(ucc_logits, dim=1)\n",
    "            acc = torch.sum(\n",
    "                ucc_predicts == batch_labels).item() / len(batch_labels)\n",
    "            val_acc_list.append(acc)\n",
    "    return {\n",
    "        # \"eval_ucc_djs_loss\": np.round(np.mean(val_jsd_loss_list), 5),\n",
    "        # \"eval_ae_loss\": np.round(np.mean(val_ae_loss_list), 5),\n",
    "        \"eval_ucc_loss\": np.round(np.mean(val_ucc_loss_list), 5),\n",
    "        \"eval_ucc_acc\": np.round(np.mean(val_acc_list), 5)\n",
    "    }\n",
    "\n",
    "\n",
    "def train(args, model, optimizer, lr_scheduler, train_loader, val_loader, device):\n",
    "    model.train()\n",
    "    step = 0\n",
    "    best_eval_acc = 0\n",
    "    best_eval_loss = 2\n",
    "    for batch_samples, batch_labels in train_loader:\n",
    "        batch_samples = batch_samples.to(device)\n",
    "        batch_labels = batch_labels.to(device)\n",
    "        batch_labels_one_hot = F.one_hot(batch_labels, 4)\n",
    "        optimizer.zero_grad()\n",
    "        ucc_logits = model(batch_samples, return_reconstruction=False)\n",
    "        ucc_loss = F.cross_entropy(ucc_logits, batch_labels)\n",
    "        # ae_loss = F.mse_loss(batch_samples, reconstruction)\n",
    "        # djs_loss = Ldjs(ucc_logits, batch_labels_one_hot)\n",
    "        # ucc_loss, ae_loss, loss = model.compute_loss(batch_samples, batch_labels, ucc_logits, reconstruction, return_losses=True)\n",
    "        # loss = (1-model.alpha)*ae_loss+model.alpha*ucc_loss\n",
    "        \n",
    "        ucc_loss.backward()\n",
    "        optimizer.step()\n",
    "        step += 1\n",
    "\n",
    "        if step % 10 == 0:\n",
    "            with torch.no_grad():\n",
    "                metric_dict = {}\n",
    "                grad_log = {name: torch.mean(param.grad).cpu().item(\n",
    "                ) for name, param in model.named_parameters() if isinstance(param.grad, torch.Tensor)}\n",
    "                encoder_grad_log = [grad for name, grad in grad_log.items() if \"encoder\" in name and \"weight\" in name]\n",
    "                if max(encoder_grad_log)<1e-9:\n",
    "                    break\n",
    "                mlflow.log_metrics(grad_log, step=step)\n",
    "                # metric_dict[\"train_ae_loss\"] = np.round(ae_loss.detach().item(), 5)\n",
    "                _, pred = torch.max(ucc_logits, dim=1)\n",
    "                accuracy = torch.sum(pred.flatten() == batch_labels.flatten())/len(batch_labels)\n",
    "                metric_dict[\"train_ucc_loss\"] = np.round(ucc_loss.detach().item(), 5)\n",
    "                metric_dict[\"train_ucc_acc\"] = np.round(float(accuracy), 5)\n",
    "                # metric_dict[\"loss\"] = np.round(float(loss), 5)\n",
    "            mlflow.log_metrics(metric_dict, step=step)\n",
    "            print(f\"Step {step}:\", metric_dict)\n",
    "            # switch to train mode\n",
    "        if step % args.save_interval == 0:\n",
    "            eval_metric_dict = evaluate(\n",
    "                model,\n",
    "                val_loader,\n",
    "                lr_scheduler,\n",
    "                device)\n",
    "            print(f\"Step {step}:\" + \",\".join([f\"{key}: {value}\"for key, value in eval_metric_dict.items()]))\n",
    "            mlflow.log_metrics(eval_metric_dict, step=step)\n",
    "            # early stop\n",
    "            eval_acc = eval_metric_dict[\"eval_ucc_acc\"]\n",
    "            eval_loss = eval_metric_dict[\"eval_ae_loss\"]\n",
    "            if eval_acc > best_eval_acc or eval_loss <best_eval_loss:\n",
    "                if eval_loss <best_eval_loss:\n",
    "                    best_eval_loss = eval_loss\n",
    "                    \n",
    "                if eval_acc > best_eval_acc:\n",
    "                    best_eval_acc = eval_acc\n",
    "                mlflow.log_metric(\"best_eval_acc\", best_eval_acc, step=step)\n",
    "                mlflow.log_metric(\"best_eval_loss\", best_eval_loss, step=step)\n",
    "                mlflow.pytorch.log_model(\n",
    "                    model,\n",
    "                    \"best_model\"\n",
    "                )\n",
    "                torch.save(optimizer, \"best_optimizer.pth\")\n",
    "                mlflow.log_artifact(\n",
    "                    \"best_optimizer.pth\",\n",
    "                    \"best_optimizer.pth\"\n",
    "                )\n",
    "            if step == 5000:\n",
    "                break\n",
    "        model.train()\n",
    "        \n",
    "    print(\"Training finished!!!\")\n",
    "\n",
    "\n",
    "mlflow.set_tracking_uri(\"mlruns\")\n",
    "run_name = \"ucc-check-init-no-decoder\"\n",
    "experiment_id = get_or_create_experiment(experiment_name=run_name)\n",
    "mlflow.set_experiment(experiment_id=experiment_id)\n",
    "cfg_name = \"train_drn\"\n",
    "with initialize(version_base=None, config_path=\"../configs\"):\n",
    "    cfg = compose(config_name=cfg_name)\n",
    "for lower_bound in x:\n",
    "    for upper_bound in x:\n",
    "        if lower_bound >= upper_bound:\n",
    "            continue\n",
    "        with mlflow.start_run(nested=True):\n",
    "            mlflow.log_dict(dict(OmegaConf.to_object(cfg)), \"config.yaml\")\n",
    "            args = cfg.args\n",
    "            cfg.model.drn.init_method = \"uniform\"\n",
    "            cfg.model.drn.init_lower_bound = float(lower_bound)\n",
    "            cfg.model.drn.init_upper_bound = float(upper_bound)\n",
    "            cfg.model.loss.alpha = 1\n",
    "            print(cfg.model.drn)\n",
    "            device = torch.device(\"cuda\" if torch.cuda.is_available() else \"mps\")\n",
    "            model, optimizer = init_model_and_optimizer(args, cfg, device)\n",
    "            train_loader, val_loader = init_dataloader(args)\n",
    "            mlflow.pytorch.log_model(model, \"init_model\")\n",
    "            best_acc = train(args, model, optimizer, None,\n",
    "                            train_loader, val_loader, device)\n"
   ]
  }
 ],
 "metadata": {
  "kernelspec": {
   "display_name": ".venv (3.12.2)",
   "language": "python",
   "name": "python3"
  },
  "language_info": {
   "codemirror_mode": {
    "name": "ipython",
    "version": 3
   },
   "file_extension": ".py",
   "mimetype": "text/x-python",
   "name": "python",
   "nbconvert_exporter": "python",
   "pygments_lexer": "ipython3",
   "version": "3.12.2"
  }
 },
 "nbformat": 4,
 "nbformat_minor": 5
}
