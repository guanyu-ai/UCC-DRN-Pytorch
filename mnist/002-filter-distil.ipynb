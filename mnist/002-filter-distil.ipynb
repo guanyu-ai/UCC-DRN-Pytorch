{
 "cells": [
  {
   "cell_type": "code",
   "execution_count": 1,
   "metadata": {},
   "outputs": [],
   "source": [
    "import mlflow\n",
    "from utils import get_or_create_experiment\n",
    "\n",
    "name = \"ucc-drn-distil\"\n",
    "id = get_or_create_experiment(name)\n",
    "runs = mlflow.search_runs(experiment_ids=[id], output_format=\"list\")\n",
    "run_dict = runs[0].to_dictionary()"
   ]
  },
  {
   "cell_type": "code",
   "execution_count": 3,
   "metadata": {},
   "outputs": [
    {
     "data": {
      "text/plain": [
       "{'info': {'artifact_uri': 'file:///D:/UCC-DRN-Pytorch/mnist/mlruns/380446538050732248/313d1bb3d6f446a2ab697d5f41c4c580/artifacts',\n",
       "  'end_time': 1741185524741,\n",
       "  'experiment_id': '380446538050732248',\n",
       "  'lifecycle_stage': 'active',\n",
       "  'run_id': '313d1bb3d6f446a2ab697d5f41c4c580',\n",
       "  'run_name': 'brawny-bass-550',\n",
       "  'run_uuid': '313d1bb3d6f446a2ab697d5f41c4c580',\n",
       "  'start_time': 1741184857968,\n",
       "  'status': 'FAILED',\n",
       "  'user_id': 'guanyu'},\n",
       " 'data': {'metrics': {'eval_ucc_acc': 0.66125,\n",
       "   'eval_ucc_loss': 0.8382442593574524,\n",
       "   'total_loss': 0.8076022267341614,\n",
       "   'train_distilation_loss': 0.05767541006207466,\n",
       "   'train_ucc_acc': 0.6500000357627869,\n",
       "   'train_ucc_loss': 1.0575778484344482},\n",
       "  'params': {'hidden_q': '16',\n",
       "   'lr': '0.09165019656675866',\n",
       "   'num_bins': '17',\n",
       "   'num_layers': '1',\n",
       "   'num_nodes': '6'},\n",
       "  'tags': {'mlflow.log-model.history': '[{\"run_id\": \"313d1bb3d6f446a2ab697d5f41c4c580\", \"artifact_path\": \"best_model.pth\", \"utc_time_created\": \"2025-03-05 14:28:57.248725\", \"model_uuid\": \"e360705116fd4fe19c3fee85adc10984\", \"flavors\": {\"pytorch\": {\"model_data\": \"data\", \"pytorch_version\": \"2.6.0+cu118\", \"code\": null}, \"python_function\": {\"pickle_module_name\": \"mlflow.pytorch.pickle_module\", \"loader_module\": \"mlflow.pytorch\", \"python_version\": \"3.11.5\", \"data\": \"data\", \"env\": {\"conda\": \"conda.yaml\", \"virtualenv\": \"python_env.yaml\"}}}}, {\"run_id\": \"313d1bb3d6f446a2ab697d5f41c4c580\", \"artifact_path\": \"best_model.pth\", \"utc_time_created\": \"2025-03-05 14:30:04.486076\", \"model_uuid\": \"5fdb00bb7fec4c6f8401bf824463610e\", \"flavors\": {\"pytorch\": {\"model_data\": \"data\", \"pytorch_version\": \"2.6.0+cu118\", \"code\": null}, \"python_function\": {\"pickle_module_name\": \"mlflow.pytorch.pickle_module\", \"loader_module\": \"mlflow.pytorch\", \"python_version\": \"3.11.5\", \"data\": \"data\", \"env\": {\"conda\": \"conda.yaml\", \"virtualenv\": \"python_env.yaml\"}}}}, {\"run_id\": \"313d1bb3d6f446a2ab697d5f41c4c580\", \"artifact_path\": \"best_model.pth\", \"utc_time_created\": \"2025-03-05 14:31:12.404451\", \"model_uuid\": \"4e1b8e1c84da435c9b319dd4cac90e49\", \"flavors\": {\"pytorch\": {\"model_data\": \"data\", \"pytorch_version\": \"2.6.0+cu118\", \"code\": null}, \"python_function\": {\"pickle_module_name\": \"mlflow.pytorch.pickle_module\", \"loader_module\": \"mlflow.pytorch\", \"python_version\": \"3.11.5\", \"data\": \"data\", \"env\": {\"conda\": \"conda.yaml\", \"virtualenv\": \"python_env.yaml\"}}}}, {\"run_id\": \"313d1bb3d6f446a2ab697d5f41c4c580\", \"artifact_path\": \"best_model.pth\", \"utc_time_created\": \"2025-03-05 14:36:04.599790\", \"model_uuid\": \"1bb61baf1d8f43d7ab93b4cd9f7aa2ab\", \"flavors\": {\"pytorch\": {\"model_data\": \"data\", \"pytorch_version\": \"2.6.0+cu118\", \"code\": null}, \"python_function\": {\"pickle_module_name\": \"mlflow.pytorch.pickle_module\", \"loader_module\": \"mlflow.pytorch\", \"python_version\": \"3.11.5\", \"data\": \"data\", \"env\": {\"conda\": \"conda.yaml\", \"virtualenv\": \"python_env.yaml\"}}}}, {\"run_id\": \"313d1bb3d6f446a2ab697d5f41c4c580\", \"artifact_path\": \"best_model.pth\", \"utc_time_created\": \"2025-03-05 14:37:19.349994\", \"model_uuid\": \"b6089b1524514858ac4185230af6b38b\", \"flavors\": {\"pytorch\": {\"model_data\": \"data\", \"pytorch_version\": \"2.6.0+cu118\", \"code\": null}, \"python_function\": {\"pickle_module_name\": \"mlflow.pytorch.pickle_module\", \"loader_module\": \"mlflow.pytorch\", \"python_version\": \"3.11.5\", \"data\": \"data\", \"env\": {\"conda\": \"conda.yaml\", \"virtualenv\": \"python_env.yaml\"}}}}, {\"run_id\": \"313d1bb3d6f446a2ab697d5f41c4c580\", \"artifact_path\": \"best_model.pth\", \"utc_time_created\": \"2025-03-05 14:38:32.684621\", \"model_uuid\": \"ad8653686aaa417aba509a1d60ba3ce2\", \"flavors\": {\"pytorch\": {\"model_data\": \"data\", \"pytorch_version\": \"2.6.0+cu118\", \"code\": null}, \"python_function\": {\"pickle_module_name\": \"mlflow.pytorch.pickle_module\", \"loader_module\": \"mlflow.pytorch\", \"python_version\": \"3.11.5\", \"data\": \"data\", \"env\": {\"conda\": \"conda.yaml\", \"virtualenv\": \"python_env.yaml\"}}}}]',\n",
       "   'mlflow.runName': 'brawny-bass-550',\n",
       "   'mlflow.source.git.commit': '8e08619b27da277966831a200de755d2adc6ea6b',\n",
       "   'mlflow.source.name': '.\\\\train_distil.py',\n",
       "   'mlflow.source.type': 'LOCAL',\n",
       "   'mlflow.user': 'guanyu'}},\n",
       " 'inputs': {'dataset_inputs': []}}"
      ]
     },
     "execution_count": 3,
     "metadata": {},
     "output_type": "execute_result"
    }
   ],
   "source": [
    "run_dict"
   ]
  },
  {
   "cell_type": "code",
   "execution_count": 10,
   "metadata": {},
   "outputs": [],
   "source": [
    "# filter out those most successful ones. best_eval_acc>0.99\n",
    "threshold = 0.99\n",
    "succesful_runs = []\n",
    "\n",
    "for run in runs:\n",
    "    run_dict = run.to_dictionary()\n",
    "    eval_ucc_acc = run_dict[\"data\"][\"metrics\"][\"eval_ucc_acc\"]\n",
    "    if eval_ucc_acc>0.99:\n",
    "        succesful_runs.append(run_dict)"
   ]
  },
  {
   "cell_type": "code",
   "execution_count": 11,
   "metadata": {},
   "outputs": [
    {
     "data": {
      "text/plain": [
       "14"
      ]
     },
     "execution_count": 11,
     "metadata": {},
     "output_type": "execute_result"
    }
   ],
   "source": [
    "len(succesful_runs)"
   ]
  },
  {
   "cell_type": "code",
   "execution_count": 12,
   "metadata": {},
   "outputs": [
    {
     "data": {
      "text/plain": [
       "'d:\\\\UCC-DRN-Pytorch\\\\mnist'"
      ]
     },
     "execution_count": 12,
     "metadata": {},
     "output_type": "execute_result"
    }
   ],
   "source": [
    "import os\n",
    "\n",
    "os.getcwd()"
   ]
  },
  {
   "cell_type": "code",
   "execution_count": 13,
   "metadata": {},
   "outputs": [],
   "source": [
    "import json\n",
    "\n",
    "with open(\"filtered/ucc-drn-filtered.json\", \"w\") as file:\n",
    "    file.write(json.dumps(succesful_runs))"
   ]
  },
  {
   "cell_type": "code",
   "execution_count": null,
   "metadata": {},
   "outputs": [],
   "source": []
  }
 ],
 "metadata": {
  "kernelspec": {
   "display_name": ".venv",
   "language": "python",
   "name": "python3"
  },
  "language_info": {
   "codemirror_mode": {
    "name": "ipython",
    "version": 3
   },
   "file_extension": ".py",
   "mimetype": "text/x-python",
   "name": "python",
   "nbconvert_exporter": "python",
   "pygments_lexer": "ipython3",
   "version": "3.9.18"
  }
 },
 "nbformat": 4,
 "nbformat_minor": 2
}
